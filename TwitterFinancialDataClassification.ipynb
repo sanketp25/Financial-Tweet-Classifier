{
  "cells": [
    {
      "cell_type": "markdown",
      "metadata": {
        "id": "LGrdkS_CHNUE"
      },
      "source": [
        "# **Multi-class classification of Twitter Financial News using NLP**"
      ]
    },
    {
      "cell_type": "markdown",
      "metadata": {
        "id": "5N5JMcafWzUt"
      },
      "source": [
        "## **Importing Data and getting the required libraries**\n",
        "\n",
        "---\n",
        "\n"
      ]
    },
    {
      "cell_type": "code",
      "execution_count": null,
      "metadata": {
        "id": "N_eUuaWlgvt7"
      },
      "outputs": [],
      "source": [
        "import pickle"
      ]
    },
    {
      "cell_type": "code",
      "execution_count": null,
      "metadata": {
        "colab": {
          "base_uri": "https://localhost:8080/"
        },
        "id": "pEtPqOMJW2HL",
        "outputId": "c7e1275b-d7a5-4cba-b020-007d6774fba4"
      },
      "outputs": [
        {
          "name": "stdout",
          "output_type": "stream",
          "text": [
            "Looking in indexes: https://pypi.org/simple, https://us-python.pkg.dev/colab-wheels/public/simple/\n",
            "Requirement already satisfied: nltk in /usr/local/lib/python3.9/dist-packages (3.7)\n",
            "Requirement already satisfied: regex>=2021.8.3 in /usr/local/lib/python3.9/dist-packages (from nltk) (2022.6.2)\n",
            "Requirement already satisfied: click in /usr/local/lib/python3.9/dist-packages (from nltk) (8.1.3)\n",
            "Requirement already satisfied: joblib in /usr/local/lib/python3.9/dist-packages (from nltk) (1.1.1)\n",
            "Requirement already satisfied: tqdm in /usr/local/lib/python3.9/dist-packages (from nltk) (4.65.0)\n"
          ]
        }
      ],
      "source": [
        "!pip install nltk"
      ]
    },
    {
      "cell_type": "code",
      "execution_count": null,
      "metadata": {
        "id": "sL6dLB9Qd4Tq"
      },
      "outputs": [],
      "source": [
        "!pip install -q kaggle"
      ]
    },
    {
      "cell_type": "code",
      "execution_count": null,
      "metadata": {
        "colab": {
          "base_uri": "https://localhost:8080/",
          "height": 90
        },
        "id": "y2t7nWYzeWVd",
        "outputId": "aae83aab-0c5c-473f-fca7-6428048254dc"
      },
      "outputs": [
        {
          "data": {
            "text/html": [
              "\n",
              "     <input type=\"file\" id=\"files-68d9b34b-f105-4b04-a0e8-f499f1075d66\" name=\"files[]\" multiple disabled\n",
              "        style=\"border:none\" />\n",
              "     <output id=\"result-68d9b34b-f105-4b04-a0e8-f499f1075d66\">\n",
              "      Upload widget is only available when the cell has been executed in the\n",
              "      current browser session. Please rerun this cell to enable.\n",
              "      </output>\n",
              "      <script>// Copyright 2017 Google LLC\n",
              "//\n",
              "// Licensed under the Apache License, Version 2.0 (the \"License\");\n",
              "// you may not use this file except in compliance with the License.\n",
              "// You may obtain a copy of the License at\n",
              "//\n",
              "//      http://www.apache.org/licenses/LICENSE-2.0\n",
              "//\n",
              "// Unless required by applicable law or agreed to in writing, software\n",
              "// distributed under the License is distributed on an \"AS IS\" BASIS,\n",
              "// WITHOUT WARRANTIES OR CONDITIONS OF ANY KIND, either express or implied.\n",
              "// See the License for the specific language governing permissions and\n",
              "// limitations under the License.\n",
              "\n",
              "/**\n",
              " * @fileoverview Helpers for google.colab Python module.\n",
              " */\n",
              "(function(scope) {\n",
              "function span(text, styleAttributes = {}) {\n",
              "  const element = document.createElement('span');\n",
              "  element.textContent = text;\n",
              "  for (const key of Object.keys(styleAttributes)) {\n",
              "    element.style[key] = styleAttributes[key];\n",
              "  }\n",
              "  return element;\n",
              "}\n",
              "\n",
              "// Max number of bytes which will be uploaded at a time.\n",
              "const MAX_PAYLOAD_SIZE = 100 * 1024;\n",
              "\n",
              "function _uploadFiles(inputId, outputId) {\n",
              "  const steps = uploadFilesStep(inputId, outputId);\n",
              "  const outputElement = document.getElementById(outputId);\n",
              "  // Cache steps on the outputElement to make it available for the next call\n",
              "  // to uploadFilesContinue from Python.\n",
              "  outputElement.steps = steps;\n",
              "\n",
              "  return _uploadFilesContinue(outputId);\n",
              "}\n",
              "\n",
              "// This is roughly an async generator (not supported in the browser yet),\n",
              "// where there are multiple asynchronous steps and the Python side is going\n",
              "// to poll for completion of each step.\n",
              "// This uses a Promise to block the python side on completion of each step,\n",
              "// then passes the result of the previous step as the input to the next step.\n",
              "function _uploadFilesContinue(outputId) {\n",
              "  const outputElement = document.getElementById(outputId);\n",
              "  const steps = outputElement.steps;\n",
              "\n",
              "  const next = steps.next(outputElement.lastPromiseValue);\n",
              "  return Promise.resolve(next.value.promise).then((value) => {\n",
              "    // Cache the last promise value to make it available to the next\n",
              "    // step of the generator.\n",
              "    outputElement.lastPromiseValue = value;\n",
              "    return next.value.response;\n",
              "  });\n",
              "}\n",
              "\n",
              "/**\n",
              " * Generator function which is called between each async step of the upload\n",
              " * process.\n",
              " * @param {string} inputId Element ID of the input file picker element.\n",
              " * @param {string} outputId Element ID of the output display.\n",
              " * @return {!Iterable<!Object>} Iterable of next steps.\n",
              " */\n",
              "function* uploadFilesStep(inputId, outputId) {\n",
              "  const inputElement = document.getElementById(inputId);\n",
              "  inputElement.disabled = false;\n",
              "\n",
              "  const outputElement = document.getElementById(outputId);\n",
              "  outputElement.innerHTML = '';\n",
              "\n",
              "  const pickedPromise = new Promise((resolve) => {\n",
              "    inputElement.addEventListener('change', (e) => {\n",
              "      resolve(e.target.files);\n",
              "    });\n",
              "  });\n",
              "\n",
              "  const cancel = document.createElement('button');\n",
              "  inputElement.parentElement.appendChild(cancel);\n",
              "  cancel.textContent = 'Cancel upload';\n",
              "  const cancelPromise = new Promise((resolve) => {\n",
              "    cancel.onclick = () => {\n",
              "      resolve(null);\n",
              "    };\n",
              "  });\n",
              "\n",
              "  // Wait for the user to pick the files.\n",
              "  const files = yield {\n",
              "    promise: Promise.race([pickedPromise, cancelPromise]),\n",
              "    response: {\n",
              "      action: 'starting',\n",
              "    }\n",
              "  };\n",
              "\n",
              "  cancel.remove();\n",
              "\n",
              "  // Disable the input element since further picks are not allowed.\n",
              "  inputElement.disabled = true;\n",
              "\n",
              "  if (!files) {\n",
              "    return {\n",
              "      response: {\n",
              "        action: 'complete',\n",
              "      }\n",
              "    };\n",
              "  }\n",
              "\n",
              "  for (const file of files) {\n",
              "    const li = document.createElement('li');\n",
              "    li.append(span(file.name, {fontWeight: 'bold'}));\n",
              "    li.append(span(\n",
              "        `(${file.type || 'n/a'}) - ${file.size} bytes, ` +\n",
              "        `last modified: ${\n",
              "            file.lastModifiedDate ? file.lastModifiedDate.toLocaleDateString() :\n",
              "                                    'n/a'} - `));\n",
              "    const percent = span('0% done');\n",
              "    li.appendChild(percent);\n",
              "\n",
              "    outputElement.appendChild(li);\n",
              "\n",
              "    const fileDataPromise = new Promise((resolve) => {\n",
              "      const reader = new FileReader();\n",
              "      reader.onload = (e) => {\n",
              "        resolve(e.target.result);\n",
              "      };\n",
              "      reader.readAsArrayBuffer(file);\n",
              "    });\n",
              "    // Wait for the data to be ready.\n",
              "    let fileData = yield {\n",
              "      promise: fileDataPromise,\n",
              "      response: {\n",
              "        action: 'continue',\n",
              "      }\n",
              "    };\n",
              "\n",
              "    // Use a chunked sending to avoid message size limits. See b/62115660.\n",
              "    let position = 0;\n",
              "    do {\n",
              "      const length = Math.min(fileData.byteLength - position, MAX_PAYLOAD_SIZE);\n",
              "      const chunk = new Uint8Array(fileData, position, length);\n",
              "      position += length;\n",
              "\n",
              "      const base64 = btoa(String.fromCharCode.apply(null, chunk));\n",
              "      yield {\n",
              "        response: {\n",
              "          action: 'append',\n",
              "          file: file.name,\n",
              "          data: base64,\n",
              "        },\n",
              "      };\n",
              "\n",
              "      let percentDone = fileData.byteLength === 0 ?\n",
              "          100 :\n",
              "          Math.round((position / fileData.byteLength) * 100);\n",
              "      percent.textContent = `${percentDone}% done`;\n",
              "\n",
              "    } while (position < fileData.byteLength);\n",
              "  }\n",
              "\n",
              "  // All done.\n",
              "  yield {\n",
              "    response: {\n",
              "      action: 'complete',\n",
              "    }\n",
              "  };\n",
              "}\n",
              "\n",
              "scope.google = scope.google || {};\n",
              "scope.google.colab = scope.google.colab || {};\n",
              "scope.google.colab._files = {\n",
              "  _uploadFiles,\n",
              "  _uploadFilesContinue,\n",
              "};\n",
              "})(self);\n",
              "</script> "
            ],
            "text/plain": [
              "<IPython.core.display.HTML object>"
            ]
          },
          "metadata": {},
          "output_type": "display_data"
        },
        {
          "name": "stdout",
          "output_type": "stream",
          "text": [
            "Saving kaggle.json to kaggle.json\n"
          ]
        },
        {
          "data": {
            "text/plain": [
              "{'kaggle.json': b'{\"username\":\"varungujarathi\",\"key\":\"47dfc01c3b87798e4fe5d7180345820f\"}'}"
            ]
          },
          "execution_count": 4,
          "metadata": {},
          "output_type": "execute_result"
        }
      ],
      "source": [
        "from google.colab import files\n",
        "files.upload()#upload json file from kaggle"
      ]
    },
    {
      "cell_type": "code",
      "execution_count": null,
      "metadata": {
        "id": "PPkMqmfleffy"
      },
      "outputs": [],
      "source": [
        "! mkdir ~/.kaggle"
      ]
    },
    {
      "cell_type": "code",
      "execution_count": null,
      "metadata": {
        "id": "NF9XwWa0e9zi"
      },
      "outputs": [],
      "source": [
        "! cp kaggle.json ~/.kaggle/"
      ]
    },
    {
      "cell_type": "code",
      "execution_count": null,
      "metadata": {
        "id": "TAxzZVFqe_7g"
      },
      "outputs": [],
      "source": [
        "! chmod 600 ~/.kaggle/kaggle.json"
      ]
    },
    {
      "cell_type": "code",
      "execution_count": null,
      "metadata": {
        "colab": {
          "base_uri": "https://localhost:8080/"
        },
        "id": "Sf3bBbiTj4R9",
        "outputId": "03163e06-aaa7-4703-e3fe-88aa4f8f58f7"
      },
      "outputs": [
        {
          "name": "stdout",
          "output_type": "stream",
          "text": [
            "Downloading twitter-financial-news.zip to /content\n",
            " 93% 1.00M/1.08M [00:00<00:00, 1.51MB/s]\n",
            "100% 1.08M/1.08M [00:00<00:00, 1.61MB/s]\n"
          ]
        }
      ],
      "source": [
        "!kaggle datasets download -d sulphatet/twitter-financial-news"
      ]
    },
    {
      "cell_type": "code",
      "execution_count": null,
      "metadata": {
        "colab": {
          "base_uri": "https://localhost:8080/"
        },
        "id": "exkH537mj_zy",
        "outputId": "4f8359fc-3936-47e5-d8d4-ab77028cdccd"
      },
      "outputs": [
        {
          "name": "stdout",
          "output_type": "stream",
          "text": [
            "Archive:  /content/twitter-financial-news.zip\n",
            "  inflating: train/train_data.csv    \n",
            "  inflating: train/valid_data.csv    \n"
          ]
        }
      ],
      "source": [
        "!mkdir train\n",
        "!unzip /content/twitter-financial-news.zip -d train"
      ]
    },
    {
      "cell_type": "code",
      "execution_count": null,
      "metadata": {
        "id": "mvyV6uWZkUxu"
      },
      "outputs": [],
      "source": [
        "import pandas as pd\n",
        "import numpy as np"
      ]
    },
    {
      "cell_type": "code",
      "execution_count": null,
      "metadata": {
        "colab": {
          "base_uri": "https://localhost:8080/",
          "height": 206
        },
        "id": "HumtnV97kpY-",
        "outputId": "ccd25b4c-a19d-4ce7-dab6-23ee572bf1bf"
      },
      "outputs": [
        {
          "data": {
            "text/html": [
              "\n",
              "  <div id=\"df-976919de-7cd3-42d1-9556-df9cce576438\">\n",
              "    <div class=\"colab-df-container\">\n",
              "      <div>\n",
              "<style scoped>\n",
              "    .dataframe tbody tr th:only-of-type {\n",
              "        vertical-align: middle;\n",
              "    }\n",
              "\n",
              "    .dataframe tbody tr th {\n",
              "        vertical-align: top;\n",
              "    }\n",
              "\n",
              "    .dataframe thead th {\n",
              "        text-align: right;\n",
              "    }\n",
              "</style>\n",
              "<table border=\"1\" class=\"dataframe\">\n",
              "  <thead>\n",
              "    <tr style=\"text-align: right;\">\n",
              "      <th></th>\n",
              "      <th>text</th>\n",
              "      <th>label</th>\n",
              "    </tr>\n",
              "  </thead>\n",
              "  <tbody>\n",
              "    <tr>\n",
              "      <th>0</th>\n",
              "      <td>Here are Thursday's biggest analyst calls: App...</td>\n",
              "      <td>0</td>\n",
              "    </tr>\n",
              "    <tr>\n",
              "      <th>1</th>\n",
              "      <td>Buy Las Vegas Sands as travel to Singapore bui...</td>\n",
              "      <td>0</td>\n",
              "    </tr>\n",
              "    <tr>\n",
              "      <th>2</th>\n",
              "      <td>Piper Sandler downgrades DocuSign to sell, cit...</td>\n",
              "      <td>0</td>\n",
              "    </tr>\n",
              "    <tr>\n",
              "      <th>3</th>\n",
              "      <td>Analysts react to Tesla's latest earnings, bre...</td>\n",
              "      <td>0</td>\n",
              "    </tr>\n",
              "    <tr>\n",
              "      <th>4</th>\n",
              "      <td>Netflix and its peers are set for a ‘return to...</td>\n",
              "      <td>0</td>\n",
              "    </tr>\n",
              "  </tbody>\n",
              "</table>\n",
              "</div>\n",
              "      <button class=\"colab-df-convert\" onclick=\"convertToInteractive('df-976919de-7cd3-42d1-9556-df9cce576438')\"\n",
              "              title=\"Convert this dataframe to an interactive table.\"\n",
              "              style=\"display:none;\">\n",
              "        \n",
              "  <svg xmlns=\"http://www.w3.org/2000/svg\" height=\"24px\"viewBox=\"0 0 24 24\"\n",
              "       width=\"24px\">\n",
              "    <path d=\"M0 0h24v24H0V0z\" fill=\"none\"/>\n",
              "    <path d=\"M18.56 5.44l.94 2.06.94-2.06 2.06-.94-2.06-.94-.94-2.06-.94 2.06-2.06.94zm-11 1L8.5 8.5l.94-2.06 2.06-.94-2.06-.94L8.5 2.5l-.94 2.06-2.06.94zm10 10l.94 2.06.94-2.06 2.06-.94-2.06-.94-.94-2.06-.94 2.06-2.06.94z\"/><path d=\"M17.41 7.96l-1.37-1.37c-.4-.4-.92-.59-1.43-.59-.52 0-1.04.2-1.43.59L10.3 9.45l-7.72 7.72c-.78.78-.78 2.05 0 2.83L4 21.41c.39.39.9.59 1.41.59.51 0 1.02-.2 1.41-.59l7.78-7.78 2.81-2.81c.8-.78.8-2.07 0-2.86zM5.41 20L4 18.59l7.72-7.72 1.47 1.35L5.41 20z\"/>\n",
              "  </svg>\n",
              "      </button>\n",
              "      \n",
              "  <style>\n",
              "    .colab-df-container {\n",
              "      display:flex;\n",
              "      flex-wrap:wrap;\n",
              "      gap: 12px;\n",
              "    }\n",
              "\n",
              "    .colab-df-convert {\n",
              "      background-color: #E8F0FE;\n",
              "      border: none;\n",
              "      border-radius: 50%;\n",
              "      cursor: pointer;\n",
              "      display: none;\n",
              "      fill: #1967D2;\n",
              "      height: 32px;\n",
              "      padding: 0 0 0 0;\n",
              "      width: 32px;\n",
              "    }\n",
              "\n",
              "    .colab-df-convert:hover {\n",
              "      background-color: #E2EBFA;\n",
              "      box-shadow: 0px 1px 2px rgba(60, 64, 67, 0.3), 0px 1px 3px 1px rgba(60, 64, 67, 0.15);\n",
              "      fill: #174EA6;\n",
              "    }\n",
              "\n",
              "    [theme=dark] .colab-df-convert {\n",
              "      background-color: #3B4455;\n",
              "      fill: #D2E3FC;\n",
              "    }\n",
              "\n",
              "    [theme=dark] .colab-df-convert:hover {\n",
              "      background-color: #434B5C;\n",
              "      box-shadow: 0px 1px 3px 1px rgba(0, 0, 0, 0.15);\n",
              "      filter: drop-shadow(0px 1px 2px rgba(0, 0, 0, 0.3));\n",
              "      fill: #FFFFFF;\n",
              "    }\n",
              "  </style>\n",
              "\n",
              "      <script>\n",
              "        const buttonEl =\n",
              "          document.querySelector('#df-976919de-7cd3-42d1-9556-df9cce576438 button.colab-df-convert');\n",
              "        buttonEl.style.display =\n",
              "          google.colab.kernel.accessAllowed ? 'block' : 'none';\n",
              "\n",
              "        async function convertToInteractive(key) {\n",
              "          const element = document.querySelector('#df-976919de-7cd3-42d1-9556-df9cce576438');\n",
              "          const dataTable =\n",
              "            await google.colab.kernel.invokeFunction('convertToInteractive',\n",
              "                                                     [key], {});\n",
              "          if (!dataTable) return;\n",
              "\n",
              "          const docLinkHtml = 'Like what you see? Visit the ' +\n",
              "            '<a target=\"_blank\" href=https://colab.research.google.com/notebooks/data_table.ipynb>data table notebook</a>'\n",
              "            + ' to learn more about interactive tables.';\n",
              "          element.innerHTML = '';\n",
              "          dataTable['output_type'] = 'display_data';\n",
              "          await google.colab.output.renderOutput(dataTable, element);\n",
              "          const docLink = document.createElement('div');\n",
              "          docLink.innerHTML = docLinkHtml;\n",
              "          element.appendChild(docLink);\n",
              "        }\n",
              "      </script>\n",
              "    </div>\n",
              "  </div>\n",
              "  "
            ],
            "text/plain": [
              "                                                text  label\n",
              "0  Here are Thursday's biggest analyst calls: App...      0\n",
              "1  Buy Las Vegas Sands as travel to Singapore bui...      0\n",
              "2  Piper Sandler downgrades DocuSign to sell, cit...      0\n",
              "3  Analysts react to Tesla's latest earnings, bre...      0\n",
              "4  Netflix and its peers are set for a ‘return to...      0"
            ]
          },
          "execution_count": 11,
          "metadata": {},
          "output_type": "execute_result"
        }
      ],
      "source": [
        "df = pd.read_csv(\"/content/train/train_data.csv\")\n",
        "df.head()"
      ]
    },
    {
      "cell_type": "markdown",
      "metadata": {
        "id": "HkXXd9IWjE65"
      },
      "source": [
        "![image.png](data:image/png;base64,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)"
      ]
    },
    {
      "cell_type": "code",
      "execution_count": null,
      "metadata": {
        "colab": {
          "base_uri": "https://localhost:8080/"
        },
        "id": "GkzsZk07k3kF",
        "outputId": "4f34c684-735b-402a-d58f-f736e304cef5"
      },
      "outputs": [
        {
          "data": {
            "text/plain": [
              "(16990, 2)"
            ]
          },
          "execution_count": 12,
          "metadata": {},
          "output_type": "execute_result"
        }
      ],
      "source": [
        "df.shape"
      ]
    },
    {
      "cell_type": "code",
      "execution_count": null,
      "metadata": {
        "colab": {
          "base_uri": "https://localhost:8080/"
        },
        "id": "dcN6iU8xkxz1",
        "outputId": "34f03fbd-7fb1-4a60-d494-e53f84873881"
      },
      "outputs": [
        {
          "name": "stdout",
          "output_type": "stream",
          "text": [
            "<class 'pandas.core.frame.DataFrame'>\n",
            "RangeIndex: 16990 entries, 0 to 16989\n",
            "Data columns (total 2 columns):\n",
            " #   Column  Non-Null Count  Dtype \n",
            "---  ------  --------------  ----- \n",
            " 0   text    16990 non-null  object\n",
            " 1   label   16990 non-null  int64 \n",
            "dtypes: int64(1), object(1)\n",
            "memory usage: 265.6+ KB\n"
          ]
        }
      ],
      "source": [
        "df.info() #Get information about the columns in the dataset"
      ]
    },
    {
      "cell_type": "code",
      "execution_count": null,
      "metadata": {
        "colab": {
          "base_uri": "https://localhost:8080/"
        },
        "id": "CiEAmNY2rhzI",
        "outputId": "d9d14357-04a3-41f6-b43f-e512c8e4f311"
      },
      "outputs": [
        {
          "data": {
            "text/plain": [
              "text     0\n",
              "label    0\n",
              "dtype: int64"
            ]
          },
          "execution_count": 14,
          "metadata": {},
          "output_type": "execute_result"
        }
      ],
      "source": [
        "df.isnull().sum() #check for missing values"
      ]
    },
    {
      "cell_type": "code",
      "execution_count": null,
      "metadata": {
        "colab": {
          "base_uri": "https://localhost:8080/"
        },
        "id": "qCgER9URtVqR",
        "outputId": "bcd1de50-a2fb-4bf1-c4aa-9ea875b1035a"
      },
      "outputs": [
        {
          "data": {
            "text/plain": [
              "text     0\n",
              "label    0\n",
              "dtype: int64"
            ]
          },
          "execution_count": 15,
          "metadata": {},
          "output_type": "execute_result"
        }
      ],
      "source": [
        "df.isna().sum()"
      ]
    },
    {
      "cell_type": "code",
      "execution_count": null,
      "metadata": {
        "colab": {
          "base_uri": "https://localhost:8080/",
          "height": 300
        },
        "id": "MyFuOQDBrpYd",
        "outputId": "0d021ed5-c0eb-49d9-b036-b26830b0abd5"
      },
      "outputs": [
        {
          "data": {
            "text/html": [
              "\n",
              "  <div id=\"df-2794c3e5-25b8-444d-b8ea-be4750f6c844\">\n",
              "    <div class=\"colab-df-container\">\n",
              "      <div>\n",
              "<style scoped>\n",
              "    .dataframe tbody tr th:only-of-type {\n",
              "        vertical-align: middle;\n",
              "    }\n",
              "\n",
              "    .dataframe tbody tr th {\n",
              "        vertical-align: top;\n",
              "    }\n",
              "\n",
              "    .dataframe thead th {\n",
              "        text-align: right;\n",
              "    }\n",
              "</style>\n",
              "<table border=\"1\" class=\"dataframe\">\n",
              "  <thead>\n",
              "    <tr style=\"text-align: right;\">\n",
              "      <th></th>\n",
              "      <th>label</th>\n",
              "    </tr>\n",
              "  </thead>\n",
              "  <tbody>\n",
              "    <tr>\n",
              "      <th>count</th>\n",
              "      <td>16990.000000</td>\n",
              "    </tr>\n",
              "    <tr>\n",
              "      <th>mean</th>\n",
              "      <td>9.547616</td>\n",
              "    </tr>\n",
              "    <tr>\n",
              "      <th>std</th>\n",
              "      <td>6.401000</td>\n",
              "    </tr>\n",
              "    <tr>\n",
              "      <th>min</th>\n",
              "      <td>0.000000</td>\n",
              "    </tr>\n",
              "    <tr>\n",
              "      <th>25%</th>\n",
              "      <td>2.000000</td>\n",
              "    </tr>\n",
              "    <tr>\n",
              "      <th>50%</th>\n",
              "      <td>9.000000</td>\n",
              "    </tr>\n",
              "    <tr>\n",
              "      <th>75%</th>\n",
              "      <td>16.000000</td>\n",
              "    </tr>\n",
              "    <tr>\n",
              "      <th>max</th>\n",
              "      <td>19.000000</td>\n",
              "    </tr>\n",
              "  </tbody>\n",
              "</table>\n",
              "</div>\n",
              "      <button class=\"colab-df-convert\" onclick=\"convertToInteractive('df-2794c3e5-25b8-444d-b8ea-be4750f6c844')\"\n",
              "              title=\"Convert this dataframe to an interactive table.\"\n",
              "              style=\"display:none;\">\n",
              "        \n",
              "  <svg xmlns=\"http://www.w3.org/2000/svg\" height=\"24px\"viewBox=\"0 0 24 24\"\n",
              "       width=\"24px\">\n",
              "    <path d=\"M0 0h24v24H0V0z\" fill=\"none\"/>\n",
              "    <path d=\"M18.56 5.44l.94 2.06.94-2.06 2.06-.94-2.06-.94-.94-2.06-.94 2.06-2.06.94zm-11 1L8.5 8.5l.94-2.06 2.06-.94-2.06-.94L8.5 2.5l-.94 2.06-2.06.94zm10 10l.94 2.06.94-2.06 2.06-.94-2.06-.94-.94-2.06-.94 2.06-2.06.94z\"/><path d=\"M17.41 7.96l-1.37-1.37c-.4-.4-.92-.59-1.43-.59-.52 0-1.04.2-1.43.59L10.3 9.45l-7.72 7.72c-.78.78-.78 2.05 0 2.83L4 21.41c.39.39.9.59 1.41.59.51 0 1.02-.2 1.41-.59l7.78-7.78 2.81-2.81c.8-.78.8-2.07 0-2.86zM5.41 20L4 18.59l7.72-7.72 1.47 1.35L5.41 20z\"/>\n",
              "  </svg>\n",
              "      </button>\n",
              "      \n",
              "  <style>\n",
              "    .colab-df-container {\n",
              "      display:flex;\n",
              "      flex-wrap:wrap;\n",
              "      gap: 12px;\n",
              "    }\n",
              "\n",
              "    .colab-df-convert {\n",
              "      background-color: #E8F0FE;\n",
              "      border: none;\n",
              "      border-radius: 50%;\n",
              "      cursor: pointer;\n",
              "      display: none;\n",
              "      fill: #1967D2;\n",
              "      height: 32px;\n",
              "      padding: 0 0 0 0;\n",
              "      width: 32px;\n",
              "    }\n",
              "\n",
              "    .colab-df-convert:hover {\n",
              "      background-color: #E2EBFA;\n",
              "      box-shadow: 0px 1px 2px rgba(60, 64, 67, 0.3), 0px 1px 3px 1px rgba(60, 64, 67, 0.15);\n",
              "      fill: #174EA6;\n",
              "    }\n",
              "\n",
              "    [theme=dark] .colab-df-convert {\n",
              "      background-color: #3B4455;\n",
              "      fill: #D2E3FC;\n",
              "    }\n",
              "\n",
              "    [theme=dark] .colab-df-convert:hover {\n",
              "      background-color: #434B5C;\n",
              "      box-shadow: 0px 1px 3px 1px rgba(0, 0, 0, 0.15);\n",
              "      filter: drop-shadow(0px 1px 2px rgba(0, 0, 0, 0.3));\n",
              "      fill: #FFFFFF;\n",
              "    }\n",
              "  </style>\n",
              "\n",
              "      <script>\n",
              "        const buttonEl =\n",
              "          document.querySelector('#df-2794c3e5-25b8-444d-b8ea-be4750f6c844 button.colab-df-convert');\n",
              "        buttonEl.style.display =\n",
              "          google.colab.kernel.accessAllowed ? 'block' : 'none';\n",
              "\n",
              "        async function convertToInteractive(key) {\n",
              "          const element = document.querySelector('#df-2794c3e5-25b8-444d-b8ea-be4750f6c844');\n",
              "          const dataTable =\n",
              "            await google.colab.kernel.invokeFunction('convertToInteractive',\n",
              "                                                     [key], {});\n",
              "          if (!dataTable) return;\n",
              "\n",
              "          const docLinkHtml = 'Like what you see? Visit the ' +\n",
              "            '<a target=\"_blank\" href=https://colab.research.google.com/notebooks/data_table.ipynb>data table notebook</a>'\n",
              "            + ' to learn more about interactive tables.';\n",
              "          element.innerHTML = '';\n",
              "          dataTable['output_type'] = 'display_data';\n",
              "          await google.colab.output.renderOutput(dataTable, element);\n",
              "          const docLink = document.createElement('div');\n",
              "          docLink.innerHTML = docLinkHtml;\n",
              "          element.appendChild(docLink);\n",
              "        }\n",
              "      </script>\n",
              "    </div>\n",
              "  </div>\n",
              "  "
            ],
            "text/plain": [
              "              label\n",
              "count  16990.000000\n",
              "mean       9.547616\n",
              "std        6.401000\n",
              "min        0.000000\n",
              "25%        2.000000\n",
              "50%        9.000000\n",
              "75%       16.000000\n",
              "max       19.000000"
            ]
          },
          "execution_count": 16,
          "metadata": {},
          "output_type": "execute_result"
        }
      ],
      "source": [
        "df.describe()"
      ]
    },
    {
      "cell_type": "code",
      "execution_count": null,
      "metadata": {
        "colab": {
          "base_uri": "https://localhost:8080/"
        },
        "id": "JN2i6C7ZtjRv",
        "outputId": "4a215746-4b58-4b93-cb04-d61d7ef5cde8"
      },
      "outputs": [
        {
          "data": {
            "text/plain": [
              "0"
            ]
          },
          "execution_count": 17,
          "metadata": {},
          "output_type": "execute_result"
        }
      ],
      "source": [
        "#checking for duplicates\n",
        "df.duplicated().sum()"
      ]
    },
    {
      "cell_type": "code",
      "execution_count": null,
      "metadata": {
        "colab": {
          "base_uri": "https://localhost:8080/",
          "height": 394
        },
        "id": "hGmpuRMbB-wl",
        "outputId": "0c840396-2d79-4e20-8a75-83f5ef5e345a"
      },
      "outputs": [
        {
          "data": {
            "image/png": "[encoded data removed]",
            "text/plain": [
              "<Figure size 864x432 with 1 Axes>"
            ]
          },
          "metadata": {},
          "output_type": "display_data"
        }
      ],
      "source": [
        "#check the distribution of target\n",
        "%matplotlib inline\n",
        "\n",
        "%matplotlib inline\n",
        "\n",
        "import matplotlib.pyplot as plt\n",
        "import plotly.express as px\n",
        "import seaborn as sns\n",
        "\n",
        "plt.figure(figsize=(12,6))\n",
        "sns.set()\n",
        "ax=sns.countplot(data=df, x='label')\n",
        "ax.bar_label(ax.containers[0])\n",
        "plt.show(ax)"
      ]
    },
    {
      "cell_type": "code",
      "execution_count": null,
      "metadata": {
        "id": "kShbP4sMsUt4"
      },
      "outputs": [],
      "source": [
        "import numpy as np\n",
        "import pandas as pd\n",
        "from os import path\n",
        "from PIL import Image\n",
        "from wordcloud import WordCloud, ImageColorGenerator\n",
        "import matplotlib.pyplot as plt"
      ]
    },
    {
      "cell_type": "markdown",
      "metadata": {
        "id": "2P_hemiuuAcx"
      },
      "source": [
        "**Wordcloud for the first tweet:**"
      ]
    },
    {
      "cell_type": "code",
      "execution_count": null,
      "metadata": {
        "colab": {
          "base_uri": "https://localhost:8080/",
          "height": 198
        },
        "id": "WeHiOAGksWZ5",
        "outputId": "dc97b488-6129-444e-b6db-857b376d3ea2"
      },
      "outputs": [
        {
          "data": {
            "image/png": "[encoded data removed]",
            "text/plain": [
              "<Figure size 432x288 with 1 Axes>"
            ]
          },
          "metadata": {},
          "output_type": "display_data"
        }
      ],
      "source": [
        "text = df.text[0]\n",
        "\n",
        "wordcloud = WordCloud().generate(text)\n",
        "\n",
        "# Display the generated image:\n",
        "plt.imshow(wordcloud, interpolation='bilinear')\n",
        "plt.axis(\"off\")\n",
        "plt.show()"
      ]
    },
    {
      "cell_type": "code",
      "execution_count": null,
      "metadata": {
        "colab": {
          "base_uri": "https://localhost:8080/"
        },
        "id": "lQLgdZE1uFkA",
        "outputId": "4fedd934-dd56-494c-f194-3c09d1ff95be"
      },
      "outputs": [
        {
          "name": "stdout",
          "output_type": "stream",
          "text": [
            "There are 2321089 words in the combination of all tweets in the dataset.\n"
          ]
        }
      ],
      "source": [
        "text = \" \".join(txt for txt in df.text)\n",
        "print (\"There are {} words in the combination of all tweets in the dataset.\".format(len(text)))"
      ]
    },
    {
      "cell_type": "markdown",
      "metadata": {
        "id": "-KtFuUViTKiv"
      },
      "source": [
        "## **Data cleaning and preprocessing**\n",
        "\n",
        "---\n",
        "\n"
      ]
    },
    {
      "cell_type": "code",
      "execution_count": null,
      "metadata": {
        "colab": {
          "base_uri": "https://localhost:8080/"
        },
        "id": "bXdKqMCovAvR",
        "outputId": "954bd501-e816-49fb-c07e-2b431d735a05"
      },
      "outputs": [
        {
          "name": "stderr",
          "output_type": "stream",
          "text": [
            "[nltk_data] Downloading package punkt to /root/nltk_data...\n",
            "[nltk_data]   Unzipping tokenizers/punkt.zip.\n",
            "[nltk_data] Downloading package stopwords to /root/nltk_data...\n",
            "[nltk_data]   Unzipping corpora/stopwords.zip.\n",
            "[nltk_data] Downloading package wordnet to /root/nltk_data...\n",
            "[nltk_data] Downloading package omw-1.4 to /root/nltk_data...\n"
          ]
        }
      ],
      "source": [
        "import nltk\n",
        "nltk.download('punkt')\n",
        "nltk.download('stopwords')\n",
        "from nltk.corpus import stopwords\n",
        "from nltk.tokenize import word_tokenize\n",
        "#from nltk.stem import PorterStemmer\n",
        "from nltk.corpus import stopwords\n",
        "nltk.download('wordnet')\n",
        "nltk.download('omw-1.4')\n",
        "from nltk.stem import WordNetLemmatizer\n",
        "lemmatizer = WordNetLemmatizer()\n",
        "import re\n",
        "import string\n",
        "import plotly.express as px\n",
        "from collections import Counter\n",
        "stopword=set(stopwords.words('english'))"
      ]
    },
    {
      "cell_type": "code",
      "execution_count": null,
      "metadata": {
        "colab": {
          "base_uri": "https://localhost:8080/",
          "height": 206
        },
        "id": "avd95d1gPUvk",
        "outputId": "d9f18569-e26c-4361-b161-ad856b29493f"
      },
      "outputs": [
        {
          "data": {
            "text/html": [
              "\n",
              "  <div id=\"df-3a06a40d-80e2-4505-9ebf-6db80af79c78\">\n",
              "    <div class=\"colab-df-container\">\n",
              "      <div>\n",
              "<style scoped>\n",
              "    .dataframe tbody tr th:only-of-type {\n",
              "        vertical-align: middle;\n",
              "    }\n",
              "\n",
              "    .dataframe tbody tr th {\n",
              "        vertical-align: top;\n",
              "    }\n",
              "\n",
              "    .dataframe thead th {\n",
              "        text-align: right;\n",
              "    }\n",
              "</style>\n",
              "<table border=\"1\" class=\"dataframe\">\n",
              "  <thead>\n",
              "    <tr style=\"text-align: right;\">\n",
              "      <th></th>\n",
              "      <th>text</th>\n",
              "      <th>label</th>\n",
              "    </tr>\n",
              "  </thead>\n",
              "  <tbody>\n",
              "    <tr>\n",
              "      <th>0</th>\n",
              "      <td>thursday biggest analyst call apple amazon tes...</td>\n",
              "      <td>0</td>\n",
              "    </tr>\n",
              "    <tr>\n",
              "      <th>1</th>\n",
              "      <td>buy la vega sand travel singapore build well f...</td>\n",
              "      <td>0</td>\n",
              "    </tr>\n",
              "    <tr>\n",
              "      <th>2</th>\n",
              "      <td>piper sandler downgrade docusign sell citing e...</td>\n",
              "      <td>0</td>\n",
              "    </tr>\n",
              "    <tr>\n",
              "      <th>3</th>\n",
              "      <td>analyst react tesla latest earnings break what...</td>\n",
              "      <td>0</td>\n",
              "    </tr>\n",
              "    <tr>\n",
              "      <th>4</th>\n",
              "      <td>netflix peer set ‘return growth’ analyst say g...</td>\n",
              "      <td>0</td>\n",
              "    </tr>\n",
              "  </tbody>\n",
              "</table>\n",
              "</div>\n",
              "      <button class=\"colab-df-convert\" onclick=\"convertToInteractive('df-3a06a40d-80e2-4505-9ebf-6db80af79c78')\"\n",
              "              title=\"Convert this dataframe to an interactive table.\"\n",
              "              style=\"display:none;\">\n",
              "        \n",
              "  <svg xmlns=\"http://www.w3.org/2000/svg\" height=\"24px\"viewBox=\"0 0 24 24\"\n",
              "       width=\"24px\">\n",
              "    <path d=\"M0 0h24v24H0V0z\" fill=\"none\"/>\n",
              "    <path d=\"M18.56 5.44l.94 2.06.94-2.06 2.06-.94-2.06-.94-.94-2.06-.94 2.06-2.06.94zm-11 1L8.5 8.5l.94-2.06 2.06-.94-2.06-.94L8.5 2.5l-.94 2.06-2.06.94zm10 10l.94 2.06.94-2.06 2.06-.94-2.06-.94-.94-2.06-.94 2.06-2.06.94z\"/><path d=\"M17.41 7.96l-1.37-1.37c-.4-.4-.92-.59-1.43-.59-.52 0-1.04.2-1.43.59L10.3 9.45l-7.72 7.72c-.78.78-.78 2.05 0 2.83L4 21.41c.39.39.9.59 1.41.59.51 0 1.02-.2 1.41-.59l7.78-7.78 2.81-2.81c.8-.78.8-2.07 0-2.86zM5.41 20L4 18.59l7.72-7.72 1.47 1.35L5.41 20z\"/>\n",
              "  </svg>\n",
              "      </button>\n",
              "      \n",
              "  <style>\n",
              "    .colab-df-container {\n",
              "      display:flex;\n",
              "      flex-wrap:wrap;\n",
              "      gap: 12px;\n",
              "    }\n",
              "\n",
              "    .colab-df-convert {\n",
              "      background-color: #E8F0FE;\n",
              "      border: none;\n",
              "      border-radius: 50%;\n",
              "      cursor: pointer;\n",
              "      display: none;\n",
              "      fill: #1967D2;\n",
              "      height: 32px;\n",
              "      padding: 0 0 0 0;\n",
              "      width: 32px;\n",
              "    }\n",
              "\n",
              "    .colab-df-convert:hover {\n",
              "      background-color: #E2EBFA;\n",
              "      box-shadow: 0px 1px 2px rgba(60, 64, 67, 0.3), 0px 1px 3px 1px rgba(60, 64, 67, 0.15);\n",
              "      fill: #174EA6;\n",
              "    }\n",
              "\n",
              "    [theme=dark] .colab-df-convert {\n",
              "      background-color: #3B4455;\n",
              "      fill: #D2E3FC;\n",
              "    }\n",
              "\n",
              "    [theme=dark] .colab-df-convert:hover {\n",
              "      background-color: #434B5C;\n",
              "      box-shadow: 0px 1px 3px 1px rgba(0, 0, 0, 0.15);\n",
              "      filter: drop-shadow(0px 1px 2px rgba(0, 0, 0, 0.3));\n",
              "      fill: #FFFFFF;\n",
              "    }\n",
              "  </style>\n",
              "\n",
              "      <script>\n",
              "        const buttonEl =\n",
              "          document.querySelector('#df-3a06a40d-80e2-4505-9ebf-6db80af79c78 button.colab-df-convert');\n",
              "        buttonEl.style.display =\n",
              "          google.colab.kernel.accessAllowed ? 'block' : 'none';\n",
              "\n",
              "        async function convertToInteractive(key) {\n",
              "          const element = document.querySelector('#df-3a06a40d-80e2-4505-9ebf-6db80af79c78');\n",
              "          const dataTable =\n",
              "            await google.colab.kernel.invokeFunction('convertToInteractive',\n",
              "                                                     [key], {});\n",
              "          if (!dataTable) return;\n",
              "\n",
              "          const docLinkHtml = 'Like what you see? Visit the ' +\n",
              "            '<a target=\"_blank\" href=https://colab.research.google.com/notebooks/data_table.ipynb>data table notebook</a>'\n",
              "            + ' to learn more about interactive tables.';\n",
              "          element.innerHTML = '';\n",
              "          dataTable['output_type'] = 'display_data';\n",
              "          await google.colab.output.renderOutput(dataTable, element);\n",
              "          const docLink = document.createElement('div');\n",
              "          docLink.innerHTML = docLinkHtml;\n",
              "          element.appendChild(docLink);\n",
              "        }\n",
              "      </script>\n",
              "    </div>\n",
              "  </div>\n",
              "  "
            ],
            "text/plain": [
              "                                                text  label\n",
              "0  thursday biggest analyst call apple amazon tes...      0\n",
              "1  buy la vega sand travel singapore build well f...      0\n",
              "2  piper sandler downgrade docusign sell citing e...      0\n",
              "3  analyst react tesla latest earnings break what...      0\n",
              "4  netflix peer set ‘return growth’ analyst say g...      0"
            ]
          },
          "execution_count": 23,
          "metadata": {},
          "output_type": "execute_result"
        }
      ],
      "source": [
        "def clean(text):\n",
        "            text = str(text).lower()\n",
        "            text = re.sub('\\[.*?\\]', '', text)\n",
        "            text = re.sub('https?://\\S+|www\\.\\S+', '', text)\n",
        "            text = re.sub('<.*?>+', '', text)\n",
        "            text = re.sub('[%s]' % re.escape(string.punctuation), '', text)\n",
        "            text = re.sub('\\n', '', text)\n",
        "            text = re.sub('\\w*\\d\\w*', '', text)\n",
        "            text = [word for word in text.split(' ') if word not in stopword]\n",
        "            text=\" \".join(text)\n",
        "            # text = [stemmer.stem(word) for word in text.split(' ')]\n",
        "            text = [lemmatizer.lemmatize(word) for word in text.split(' ')]\n",
        "            text=\" \".join(text)\n",
        "            return text\n",
        "df[\"text\"] = df[\"text\"].apply(clean)\n",
        "df.head()"
      ]
    },
    {
      "cell_type": "code",
      "execution_count": null,
      "metadata": {
        "colab": {
          "base_uri": "https://localhost:8080/"
        },
        "id": "ek0jts10vmfb",
        "outputId": "8b30488c-1ba5-43b1-8d5f-eb71c37611ac"
      },
      "outputs": [
        {
          "name": "stdout",
          "output_type": "stream",
          "text": [
            "1461631 words remain after cleaning the dataset\n"
          ]
        }
      ],
      "source": [
        "text = \" \".join(txt for txt in df.text)\n",
        "print (\"{} words remain after cleaning the dataset\".format(len(text)))"
      ]
    },
    {
      "cell_type": "markdown",
      "metadata": {
        "id": "r6x1QgMIwOD4"
      },
      "source": [
        "Lets look at the common words for all the labels in the dataset."
      ]
    },
    {
      "cell_type": "code",
      "execution_count": null,
      "metadata": {
        "colab": {
          "base_uri": "https://localhost:8080/",
          "height": 1000
        },
        "id": "XjF2uaMHwVVR",
        "outputId": "e0eeebfb-1ecb-43aa-84be-99561fd11d72"
      },
      "outputs": [
        {
          "name": "stderr",
          "output_type": "stream",
          "text": [
            "<ipython-input-25-ec3bb4c6d183>:3: SettingWithCopyWarning: \n",
            "A value is trying to be set on a copy of a slice from a DataFrame.\n",
            "Try using .loc[row_indexer,col_indexer] = value instead\n",
            "\n",
            "See the caveats in the documentation: https://pandas.pydata.org/pandas-docs/stable/user_guide/indexing.html#returning-a-view-versus-a-copy\n",
            "  label0['lab'] = label0['text'].apply(lambda x:str(x).split())\n"
          ]
        },
        {
          "data": {
            "text/html": [
              "<html>\n",
              "<head><meta charset=\"utf-8\" /></head>\n",
              "<body>\n",
              "    <div>            <script src=\"https://cdnjs.cloudflare.com/ajax/libs/mathjax/2.7.5/MathJax.js?config=TeX-AMS-MML_SVG\"></script><script type=\"text/javascript\">if (window.MathJax) {MathJax.Hub.Config({SVG: {font: \"STIX-Web\"}});}</script>                <script type=\"text/javascript\">window.PlotlyConfig = {MathJaxConfig: 'local'};</script>\n",
              "        <script src=\"https://cdn.plot.ly/plotly-2.8.3.min.js\"></script>                <div id=\"9fbf42e3-ceef-4295-b911-2da988278808\" class=\"plotly-graph-div\" style=\"height:525px; width:100%;\"></div>            <script type=\"text/javascript\">                                    window.PLOTLYENV=window.PLOTLYENV || {};                                    if (document.getElementById(\"9fbf42e3-ceef-4295-b911-2da988278808\")) {                    Plotly.newPlot(                        \"9fbf42e3-ceef-4295-b911-2da988278808\",                        [{\"alignmentgroup\":\"True\",\"hovertemplate\":\"Common_words=%{y}<br>count=%{x}<extra></extra>\",\"legendgroup\":\"analyst\",\"marker\":{\"color\":\"#636efa\",\"pattern\":{\"shape\":\"\"}},\"name\":\"analyst\",\"offsetgroup\":\"analyst\",\"orientation\":\"h\",\"showlegend\":true,\"textposition\":\"auto\",\"x\":[47],\"xaxis\":\"x\",\"y\":[\"analyst\"],\"yaxis\":\"y\",\"type\":\"bar\"},{\"alignmentgroup\":\"True\",\"hovertemplate\":\"Common_words=%{y}<br>count=%{x}<extra></extra>\",\"legendgroup\":\"say\",\"marker\":{\"color\":\"#EF553B\",\"pattern\":{\"shape\":\"\"}},\"name\":\"say\",\"offsetgroup\":\"say\",\"orientation\":\"h\",\"showlegend\":true,\"textposition\":\"auto\",\"x\":[41],\"xaxis\":\"x\",\"y\":[\"say\"],\"yaxis\":\"y\",\"type\":\"bar\"},{\"alignmentgroup\":\"True\",\"hovertemplate\":\"Common_words=%{y}<br>count=%{x}<extra></extra>\",\"legendgroup\":\"downgrade\",\"marker\":{\"color\":\"#00cc96\",\"pattern\":{\"shape\":\"\"}},\"name\":\"downgrade\",\"offsetgroup\":\"downgrade\",\"orientation\":\"h\",\"showlegend\":true,\"textposition\":\"auto\",\"x\":[33],\"xaxis\":\"x\",\"y\":[\"downgrade\"],\"yaxis\":\"y\",\"type\":\"bar\"},{\"alignmentgroup\":\"True\",\"hovertemplate\":\"Common_words=%{y}<br>count=%{x}<extra></extra>\",\"legendgroup\":\"stock\",\"marker\":{\"color\":\"#ab63fa\",\"pattern\":{\"shape\":\"\"}},\"name\":\"stock\",\"offsetgroup\":\"stock\",\"orientation\":\"h\",\"showlegend\":true,\"textposition\":\"auto\",\"x\":[32],\"xaxis\":\"x\",\"y\":[\"stock\"],\"yaxis\":\"y\",\"type\":\"bar\"},{\"alignmentgroup\":\"True\",\"hovertemplate\":\"Common_words=%{y}<br>count=%{x}<extra></extra>\",\"legendgroup\":\"cut\",\"marker\":{\"color\":\"#FFA15A\",\"pattern\":{\"shape\":\"\"}},\"name\":\"cut\",\"offsetgroup\":\"cut\",\"orientation\":\"h\",\"showlegend\":true,\"textposition\":\"auto\",\"x\":[30],\"xaxis\":\"x\",\"y\":[\"cut\"],\"yaxis\":\"y\",\"type\":\"bar\"},{\"alignmentgroup\":\"True\",\"hovertemplate\":\"Common_words=%{y}<br>count=%{x}<extra></extra>\",\"legendgroup\":\"buy\",\"marker\":{\"color\":\"#19d3f3\",\"pattern\":{\"shape\":\"\"}},\"name\":\"buy\",\"offsetgroup\":\"buy\",\"orientation\":\"h\",\"showlegend\":true,\"textposition\":\"auto\",\"x\":[28],\"xaxis\":\"x\",\"y\":[\"buy\"],\"yaxis\":\"y\",\"type\":\"bar\"},{\"alignmentgroup\":\"True\",\"hovertemplate\":\"Common_words=%{y}<br>count=%{x}<extra></extra>\",\"legendgroup\":\"rating\",\"marker\":{\"color\":\"#FF6692\",\"pattern\":{\"shape\":\"\"}},\"name\":\"rating\",\"offsetgroup\":\"rating\",\"orientation\":\"h\",\"showlegend\":true,\"textposition\":\"auto\",\"x\":[28],\"xaxis\":\"x\",\"y\":[\"rating\"],\"yaxis\":\"y\",\"type\":\"bar\"},{\"alignmentgroup\":\"True\",\"hovertemplate\":\"Common_words=%{y}<br>count=%{x}<extra></extra>\",\"legendgroup\":\"morgan\",\"marker\":{\"color\":\"#B6E880\",\"pattern\":{\"shape\":\"\"}},\"name\":\"morgan\",\"offsetgroup\":\"morgan\",\"orientation\":\"h\",\"showlegend\":true,\"textposition\":\"auto\",\"x\":[23],\"xaxis\":\"x\",\"y\":[\"morgan\"],\"yaxis\":\"y\",\"type\":\"bar\"},{\"alignmentgroup\":\"True\",\"hovertemplate\":\"Common_words=%{y}<br>count=%{x}<extra></extra>\",\"legendgroup\":\"price\",\"marker\":{\"color\":\"#FF97FF\",\"pattern\":{\"shape\":\"\"}},\"name\":\"price\",\"offsetgroup\":\"price\",\"orientation\":\"h\",\"showlegend\":true,\"textposition\":\"auto\",\"x\":[23],\"xaxis\":\"x\",\"y\":[\"price\"],\"yaxis\":\"y\",\"type\":\"bar\"},{\"alignmentgroup\":\"True\",\"hovertemplate\":\"Common_words=%{y}<br>count=%{x}<extra></extra>\",\"legendgroup\":\"target\",\"marker\":{\"color\":\"#FECB52\",\"pattern\":{\"shape\":\"\"}},\"name\":\"target\",\"offsetgroup\":\"target\",\"orientation\":\"h\",\"showlegend\":true,\"textposition\":\"auto\",\"x\":[23],\"xaxis\":\"x\",\"y\":[\"target\"],\"yaxis\":\"y\",\"type\":\"bar\"}],                        {\"template\":{\"data\":{\"bar\":[{\"error_x\":{\"color\":\"#2a3f5f\"},\"error_y\":{\"color\":\"#2a3f5f\"},\"marker\":{\"line\":{\"color\":\"#E5ECF6\",\"width\":0.5},\"pattern\":{\"fillmode\":\"overlay\",\"size\":10,\"solidity\":0.2}},\"type\":\"bar\"}],\"barpolar\":[{\"marker\":{\"line\":{\"color\":\"#E5ECF6\",\"width\":0.5},\"pattern\":{\"fillmode\":\"overlay\",\"size\":10,\"solidity\":0.2}},\"type\":\"barpolar\"}],\"carpet\":[{\"aaxis\":{\"endlinecolor\":\"#2a3f5f\",\"gridcolor\":\"white\",\"linecolor\":\"white\",\"minorgridcolor\":\"white\",\"startlinecolor\":\"#2a3f5f\"},\"baxis\":{\"endlinecolor\":\"#2a3f5f\",\"gridcolor\":\"white\",\"linecolor\":\"white\",\"minorgridcolor\":\"white\",\"startlinecolor\":\"#2a3f5f\"},\"type\":\"carpet\"}],\"choropleth\":[{\"colorbar\":{\"outlinewidth\":0,\"ticks\":\"\"},\"type\":\"choropleth\"}],\"contour\":[{\"colorbar\":{\"outlinewidth\":0,\"ticks\":\"\"},\"colorscale\":[[0.0,\"#0d0887\"],[0.1111111111111111,\"#46039f\"],[0.2222222222222222,\"#7201a8\"],[0.3333333333333333,\"#9c179e\"],[0.4444444444444444,\"#bd3786\"],[0.5555555555555556,\"#d8576b\"],[0.6666666666666666,\"#ed7953\"],[0.7777777777777778,\"#fb9f3a\"],[0.8888888888888888,\"#fdca26\"],[1.0,\"#f0f921\"]],\"type\":\"contour\"}],\"contourcarpet\":[{\"colorbar\":{\"outlinewidth\":0,\"ticks\":\"\"},\"type\":\"contourcarpet\"}],\"heatmap\":[{\"colorbar\":{\"outlinewidth\":0,\"ticks\":\"\"},\"colorscale\":[[0.0,\"#0d0887\"],[0.1111111111111111,\"#46039f\"],[0.2222222222222222,\"#7201a8\"],[0.3333333333333333,\"#9c179e\"],[0.4444444444444444,\"#bd3786\"],[0.5555555555555556,\"#d8576b\"],[0.6666666666666666,\"#ed7953\"],[0.7777777777777778,\"#fb9f3a\"],[0.8888888888888888,\"#fdca26\"],[1.0,\"#f0f921\"]],\"type\":\"heatmap\"}],\"heatmapgl\":[{\"colorbar\":{\"outlinewidth\":0,\"ticks\":\"\"},\"colorscale\":[[0.0,\"#0d0887\"],[0.1111111111111111,\"#46039f\"],[0.2222222222222222,\"#7201a8\"],[0.3333333333333333,\"#9c179e\"],[0.4444444444444444,\"#bd3786\"],[0.5555555555555556,\"#d8576b\"],[0.6666666666666666,\"#ed7953\"],[0.7777777777777778,\"#fb9f3a\"],[0.8888888888888888,\"#fdca26\"],[1.0,\"#f0f921\"]],\"type\":\"heatmapgl\"}],\"histogram\":[{\"marker\":{\"pattern\":{\"fillmode\":\"overlay\",\"size\":10,\"solidity\":0.2}},\"type\":\"histogram\"}],\"histogram2d\":[{\"colorbar\":{\"outlinewidth\":0,\"ticks\":\"\"},\"colorscale\":[[0.0,\"#0d0887\"],[0.1111111111111111,\"#46039f\"],[0.2222222222222222,\"#7201a8\"],[0.3333333333333333,\"#9c179e\"],[0.4444444444444444,\"#bd3786\"],[0.5555555555555556,\"#d8576b\"],[0.6666666666666666,\"#ed7953\"],[0.7777777777777778,\"#fb9f3a\"],[0.8888888888888888,\"#fdca26\"],[1.0,\"#f0f921\"]],\"type\":\"histogram2d\"}],\"histogram2dcontour\":[{\"colorbar\":{\"outlinewidth\":0,\"ticks\":\"\"},\"colorscale\":[[0.0,\"#0d0887\"],[0.1111111111111111,\"#46039f\"],[0.2222222222222222,\"#7201a8\"],[0.3333333333333333,\"#9c179e\"],[0.4444444444444444,\"#bd3786\"],[0.5555555555555556,\"#d8576b\"],[0.6666666666666666,\"#ed7953\"],[0.7777777777777778,\"#fb9f3a\"],[0.8888888888888888,\"#fdca26\"],[1.0,\"#f0f921\"]],\"type\":\"histogram2dcontour\"}],\"mesh3d\":[{\"colorbar\":{\"outlinewidth\":0,\"ticks\":\"\"},\"type\":\"mesh3d\"}],\"parcoords\":[{\"line\":{\"colorbar\":{\"outlinewidth\":0,\"ticks\":\"\"}},\"type\":\"parcoords\"}],\"pie\":[{\"automargin\":true,\"type\":\"pie\"}],\"scatter\":[{\"marker\":{\"colorbar\":{\"outlinewidth\":0,\"ticks\":\"\"}},\"type\":\"scatter\"}],\"scatter3d\":[{\"line\":{\"colorbar\":{\"outlinewidth\":0,\"ticks\":\"\"}},\"marker\":{\"colorbar\":{\"outlinewidth\":0,\"ticks\":\"\"}},\"type\":\"scatter3d\"}],\"scattercarpet\":[{\"marker\":{\"colorbar\":{\"outlinewidth\":0,\"ticks\":\"\"}},\"type\":\"scattercarpet\"}],\"scattergeo\":[{\"marker\":{\"colorbar\":{\"outlinewidth\":0,\"ticks\":\"\"}},\"type\":\"scattergeo\"}],\"scattergl\":[{\"marker\":{\"colorbar\":{\"outlinewidth\":0,\"ticks\":\"\"}},\"type\":\"scattergl\"}],\"scattermapbox\":[{\"marker\":{\"colorbar\":{\"outlinewidth\":0,\"ticks\":\"\"}},\"type\":\"scattermapbox\"}],\"scatterpolar\":[{\"marker\":{\"colorbar\":{\"outlinewidth\":0,\"ticks\":\"\"}},\"type\":\"scatterpolar\"}],\"scatterpolargl\":[{\"marker\":{\"colorbar\":{\"outlinewidth\":0,\"ticks\":\"\"}},\"type\":\"scatterpolargl\"}],\"scatterternary\":[{\"marker\":{\"colorbar\":{\"outlinewidth\":0,\"ticks\":\"\"}},\"type\":\"scatterternary\"}],\"surface\":[{\"colorbar\":{\"outlinewidth\":0,\"ticks\":\"\"},\"colorscale\":[[0.0,\"#0d0887\"],[0.1111111111111111,\"#46039f\"],[0.2222222222222222,\"#7201a8\"],[0.3333333333333333,\"#9c179e\"],[0.4444444444444444,\"#bd3786\"],[0.5555555555555556,\"#d8576b\"],[0.6666666666666666,\"#ed7953\"],[0.7777777777777778,\"#fb9f3a\"],[0.8888888888888888,\"#fdca26\"],[1.0,\"#f0f921\"]],\"type\":\"surface\"}],\"table\":[{\"cells\":{\"fill\":{\"color\":\"#EBF0F8\"},\"line\":{\"color\":\"white\"}},\"header\":{\"fill\":{\"color\":\"#C8D4E3\"},\"line\":{\"color\":\"white\"}},\"type\":\"table\"}]},\"layout\":{\"annotationdefaults\":{\"arrowcolor\":\"#2a3f5f\",\"arrowhead\":0,\"arrowwidth\":1},\"autotypenumbers\":\"strict\",\"coloraxis\":{\"colorbar\":{\"outlinewidth\":0,\"ticks\":\"\"}},\"colorscale\":{\"diverging\":[[0,\"#8e0152\"],[0.1,\"#c51b7d\"],[0.2,\"#de77ae\"],[0.3,\"#f1b6da\"],[0.4,\"#fde0ef\"],[0.5,\"#f7f7f7\"],[0.6,\"#e6f5d0\"],[0.7,\"#b8e186\"],[0.8,\"#7fbc41\"],[0.9,\"#4d9221\"],[1,\"#276419\"]],\"sequential\":[[0.0,\"#0d0887\"],[0.1111111111111111,\"#46039f\"],[0.2222222222222222,\"#7201a8\"],[0.3333333333333333,\"#9c179e\"],[0.4444444444444444,\"#bd3786\"],[0.5555555555555556,\"#d8576b\"],[0.6666666666666666,\"#ed7953\"],[0.7777777777777778,\"#fb9f3a\"],[0.8888888888888888,\"#fdca26\"],[1.0,\"#f0f921\"]],\"sequentialminus\":[[0.0,\"#0d0887\"],[0.1111111111111111,\"#46039f\"],[0.2222222222222222,\"#7201a8\"],[0.3333333333333333,\"#9c179e\"],[0.4444444444444444,\"#bd3786\"],[0.5555555555555556,\"#d8576b\"],[0.6666666666666666,\"#ed7953\"],[0.7777777777777778,\"#fb9f3a\"],[0.8888888888888888,\"#fdca26\"],[1.0,\"#f0f921\"]]},\"colorway\":[\"#636efa\",\"#EF553B\",\"#00cc96\",\"#ab63fa\",\"#FFA15A\",\"#19d3f3\",\"#FF6692\",\"#B6E880\",\"#FF97FF\",\"#FECB52\"],\"font\":{\"color\":\"#2a3f5f\"},\"geo\":{\"bgcolor\":\"white\",\"lakecolor\":\"white\",\"landcolor\":\"#E5ECF6\",\"showlakes\":true,\"showland\":true,\"subunitcolor\":\"white\"},\"hoverlabel\":{\"align\":\"left\"},\"hovermode\":\"closest\",\"mapbox\":{\"style\":\"light\"},\"paper_bgcolor\":\"white\",\"plot_bgcolor\":\"#E5ECF6\",\"polar\":{\"angularaxis\":{\"gridcolor\":\"white\",\"linecolor\":\"white\",\"ticks\":\"\"},\"bgcolor\":\"#E5ECF6\",\"radialaxis\":{\"gridcolor\":\"white\",\"linecolor\":\"white\",\"ticks\":\"\"}},\"scene\":{\"xaxis\":{\"backgroundcolor\":\"#E5ECF6\",\"gridcolor\":\"white\",\"gridwidth\":2,\"linecolor\":\"white\",\"showbackground\":true,\"ticks\":\"\",\"zerolinecolor\":\"white\"},\"yaxis\":{\"backgroundcolor\":\"#E5ECF6\",\"gridcolor\":\"white\",\"gridwidth\":2,\"linecolor\":\"white\",\"showbackground\":true,\"ticks\":\"\",\"zerolinecolor\":\"white\"},\"zaxis\":{\"backgroundcolor\":\"#E5ECF6\",\"gridcolor\":\"white\",\"gridwidth\":2,\"linecolor\":\"white\",\"showbackground\":true,\"ticks\":\"\",\"zerolinecolor\":\"white\"}},\"shapedefaults\":{\"line\":{\"color\":\"#2a3f5f\"}},\"ternary\":{\"aaxis\":{\"gridcolor\":\"white\",\"linecolor\":\"white\",\"ticks\":\"\"},\"baxis\":{\"gridcolor\":\"white\",\"linecolor\":\"white\",\"ticks\":\"\"},\"bgcolor\":\"#E5ECF6\",\"caxis\":{\"gridcolor\":\"white\",\"linecolor\":\"white\",\"ticks\":\"\"}},\"title\":{\"x\":0.05},\"xaxis\":{\"automargin\":true,\"gridcolor\":\"white\",\"linecolor\":\"white\",\"ticks\":\"\",\"title\":{\"standoff\":15},\"zerolinecolor\":\"white\",\"zerolinewidth\":2},\"yaxis\":{\"automargin\":true,\"gridcolor\":\"white\",\"linecolor\":\"white\",\"ticks\":\"\",\"title\":{\"standoff\":15},\"zerolinecolor\":\"white\",\"zerolinewidth\":2}}},\"xaxis\":{\"anchor\":\"y\",\"domain\":[0.0,1.0],\"title\":{\"text\":\"count\"}},\"yaxis\":{\"anchor\":\"x\",\"domain\":[0.0,1.0],\"title\":{\"text\":\"Common_words\"},\"categoryorder\":\"array\",\"categoryarray\":[\"target\",\"price\",\"morgan\",\"rating\",\"buy\",\"cut\",\"stock\",\"downgrade\",\"say\",\"analyst\"]},\"legend\":{\"title\":{\"text\":\"Common_words\"},\"tracegroupgap\":0},\"title\":{\"text\":\"Common Words in Label0\"},\"barmode\":\"relative\"},                        {\"responsive\": true}                    ).then(function(){\n",
              "                            \n",
              "var gd = document.getElementById('9fbf42e3-ceef-4295-b911-2da988278808');\n",
              "var x = new MutationObserver(function (mutations, observer) {{\n",
              "        var display = window.getComputedStyle(gd).display;\n",
              "        if (!display || display === 'none') {{\n",
              "            console.log([gd, 'removed!']);\n",
              "            Plotly.purge(gd);\n",
              "            observer.disconnect();\n",
              "        }}\n",
              "}});\n",
              "\n",
              "// Listen for the removal of the full notebook cells\n",
              "var notebookContainer = gd.closest('#notebook-container');\n",
              "if (notebookContainer) {{\n",
              "    x.observe(notebookContainer, {childList: true});\n",
              "}}\n",
              "\n",
              "// Listen for the clearing of the current output cell\n",
              "var outputEl = gd.closest('.output');\n",
              "if (outputEl) {{\n",
              "    x.observe(outputEl, {childList: true});\n",
              "}}\n",
              "\n",
              "                        })                };                            </script>        </div>\n",
              "</body>\n",
              "</html>"
            ]
          },
          "metadata": {},
          "output_type": "display_data"
        },
        {
          "name": "stderr",
          "output_type": "stream",
          "text": [
            "<ipython-input-25-ec3bb4c6d183>:3: SettingWithCopyWarning:\n",
            "\n",
            "\n",
            "A value is trying to be set on a copy of a slice from a DataFrame.\n",
            "Try using .loc[row_indexer,col_indexer] = value instead\n",
            "\n",
            "See the caveats in the documentation: https://pandas.pydata.org/pandas-docs/stable/user_guide/indexing.html#returning-a-view-versus-a-copy\n",
            "\n"
          ]
        },
        {
          "data": {
            "text/html": [
              "<html>\n",
              "<head><meta charset=\"utf-8\" /></head>\n",
              "<body>\n",
              "    <div>            <script src=\"https://cdnjs.cloudflare.com/ajax/libs/mathjax/2.7.5/MathJax.js?config=TeX-AMS-MML_SVG\"></script><script type=\"text/javascript\">if (window.MathJax) {MathJax.Hub.Config({SVG: {font: \"STIX-Web\"}});}</script>                <script type=\"text/javascript\">window.PlotlyConfig = {MathJaxConfig: 'local'};</script>\n",
              "        <script src=\"https://cdn.plot.ly/plotly-2.8.3.min.js\"></script>                <div id=\"f2d2552d-4bc9-4e90-b3a7-e254fedc2fa9\" class=\"plotly-graph-div\" style=\"height:525px; width:100%;\"></div>            <script type=\"text/javascript\">                                    window.PLOTLYENV=window.PLOTLYENV || {};                                    if (document.getElementById(\"f2d2552d-4bc9-4e90-b3a7-e254fedc2fa9\")) {                    Plotly.newPlot(                        \"f2d2552d-4bc9-4e90-b3a7-e254fedc2fa9\",                        [{\"alignmentgroup\":\"True\",\"hovertemplate\":\"Common_words=%{y}<br>count=%{x}<extra></extra>\",\"legendgroup\":\"rate\",\"marker\":{\"color\":\"#636efa\",\"pattern\":{\"shape\":\"\"}},\"name\":\"rate\",\"offsetgroup\":\"rate\",\"orientation\":\"h\",\"showlegend\":true,\"textposition\":\"auto\",\"x\":[368],\"xaxis\":\"x\",\"y\":[\"rate\"],\"yaxis\":\"y\",\"type\":\"bar\"},{\"alignmentgroup\":\"True\",\"hovertemplate\":\"Common_words=%{y}<br>count=%{x}<extra></extra>\",\"legendgroup\":\"bank\",\"marker\":{\"color\":\"#EF553B\",\"pattern\":{\"shape\":\"\"}},\"name\":\"bank\",\"offsetgroup\":\"bank\",\"orientation\":\"h\",\"showlegend\":true,\"textposition\":\"auto\",\"x\":[279],\"xaxis\":\"x\",\"y\":[\"bank\"],\"yaxis\":\"y\",\"type\":\"bar\"},{\"alignmentgroup\":\"True\",\"hovertemplate\":\"Common_words=%{y}<br>count=%{x}<extra></extra>\",\"legendgroup\":\"inflation\",\"marker\":{\"color\":\"#00cc96\",\"pattern\":{\"shape\":\"\"}},\"name\":\"inflation\",\"offsetgroup\":\"inflation\",\"orientation\":\"h\",\"showlegend\":true,\"textposition\":\"auto\",\"x\":[227],\"xaxis\":\"x\",\"y\":[\"inflation\"],\"yaxis\":\"y\",\"type\":\"bar\"},{\"alignmentgroup\":\"True\",\"hovertemplate\":\"Common_words=%{y}<br>count=%{x}<extra></extra>\",\"legendgroup\":\"fed\",\"marker\":{\"color\":\"#ab63fa\",\"pattern\":{\"shape\":\"\"}},\"name\":\"fed\",\"offsetgroup\":\"fed\",\"orientation\":\"h\",\"showlegend\":true,\"textposition\":\"auto\",\"x\":[215],\"xaxis\":\"x\",\"y\":[\"fed\"],\"yaxis\":\"y\",\"type\":\"bar\"},{\"alignmentgroup\":\"True\",\"hovertemplate\":\"Common_words=%{y}<br>count=%{x}<extra></extra>\",\"legendgroup\":\"central\",\"marker\":{\"color\":\"#FFA15A\",\"pattern\":{\"shape\":\"\"}},\"name\":\"central\",\"offsetgroup\":\"central\",\"orientation\":\"h\",\"showlegend\":true,\"textposition\":\"auto\",\"x\":[191],\"xaxis\":\"x\",\"y\":[\"central\"],\"yaxis\":\"y\",\"type\":\"bar\"},{\"alignmentgroup\":\"True\",\"hovertemplate\":\"Common_words=%{y}<br>count=%{x}<extra></extra>\",\"legendgroup\":\"hike\",\"marker\":{\"color\":\"#19d3f3\",\"pattern\":{\"shape\":\"\"}},\"name\":\"hike\",\"offsetgroup\":\"hike\",\"orientation\":\"h\",\"showlegend\":true,\"textposition\":\"auto\",\"x\":[151],\"xaxis\":\"x\",\"y\":[\"hike\"],\"yaxis\":\"y\",\"type\":\"bar\"},{\"alignmentgroup\":\"True\",\"hovertemplate\":\"Common_words=%{y}<br>count=%{x}<extra></extra>\",\"legendgroup\":\"interest\",\"marker\":{\"color\":\"#FF6692\",\"pattern\":{\"shape\":\"\"}},\"name\":\"interest\",\"offsetgroup\":\"interest\",\"orientation\":\"h\",\"showlegend\":true,\"textposition\":\"auto\",\"x\":[132],\"xaxis\":\"x\",\"y\":[\"interest\"],\"yaxis\":\"y\",\"type\":\"bar\"},{\"alignmentgroup\":\"True\",\"hovertemplate\":\"Common_words=%{y}<br>count=%{x}<extra></extra>\",\"legendgroup\":\"say\",\"marker\":{\"color\":\"#B6E880\",\"pattern\":{\"shape\":\"\"}},\"name\":\"say\",\"offsetgroup\":\"say\",\"orientation\":\"h\",\"showlegend\":true,\"textposition\":\"auto\",\"x\":[126],\"xaxis\":\"x\",\"y\":[\"say\"],\"yaxis\":\"y\",\"type\":\"bar\"},{\"alignmentgroup\":\"True\",\"hovertemplate\":\"Common_words=%{y}<br>count=%{x}<extra></extra>\",\"legendgroup\":\"ecb\",\"marker\":{\"color\":\"#FF97FF\",\"pattern\":{\"shape\":\"\"}},\"name\":\"ecb\",\"offsetgroup\":\"ecb\",\"orientation\":\"h\",\"showlegend\":true,\"textposition\":\"auto\",\"x\":[98],\"xaxis\":\"x\",\"y\":[\"ecb\"],\"yaxis\":\"y\",\"type\":\"bar\"},{\"alignmentgroup\":\"True\",\"hovertemplate\":\"Common_words=%{y}<br>count=%{x}<extra></extra>\",\"legendgroup\":\"policy\",\"marker\":{\"color\":\"#FECB52\",\"pattern\":{\"shape\":\"\"}},\"name\":\"policy\",\"offsetgroup\":\"policy\",\"orientation\":\"h\",\"showlegend\":true,\"textposition\":\"auto\",\"x\":[91],\"xaxis\":\"x\",\"y\":[\"policy\"],\"yaxis\":\"y\",\"type\":\"bar\"}],                        {\"template\":{\"data\":{\"bar\":[{\"error_x\":{\"color\":\"#2a3f5f\"},\"error_y\":{\"color\":\"#2a3f5f\"},\"marker\":{\"line\":{\"color\":\"#E5ECF6\",\"width\":0.5},\"pattern\":{\"fillmode\":\"overlay\",\"size\":10,\"solidity\":0.2}},\"type\":\"bar\"}],\"barpolar\":[{\"marker\":{\"line\":{\"color\":\"#E5ECF6\",\"width\":0.5},\"pattern\":{\"fillmode\":\"overlay\",\"size\":10,\"solidity\":0.2}},\"type\":\"barpolar\"}],\"carpet\":[{\"aaxis\":{\"endlinecolor\":\"#2a3f5f\",\"gridcolor\":\"white\",\"linecolor\":\"white\",\"minorgridcolor\":\"white\",\"startlinecolor\":\"#2a3f5f\"},\"baxis\":{\"endlinecolor\":\"#2a3f5f\",\"gridcolor\":\"white\",\"linecolor\":\"white\",\"minorgridcolor\":\"white\",\"startlinecolor\":\"#2a3f5f\"},\"type\":\"carpet\"}],\"choropleth\":[{\"colorbar\":{\"outlinewidth\":0,\"ticks\":\"\"},\"type\":\"choropleth\"}],\"contour\":[{\"colorbar\":{\"outlinewidth\":0,\"ticks\":\"\"},\"colorscale\":[[0.0,\"#0d0887\"],[0.1111111111111111,\"#46039f\"],[0.2222222222222222,\"#7201a8\"],[0.3333333333333333,\"#9c179e\"],[0.4444444444444444,\"#bd3786\"],[0.5555555555555556,\"#d8576b\"],[0.6666666666666666,\"#ed7953\"],[0.7777777777777778,\"#fb9f3a\"],[0.8888888888888888,\"#fdca26\"],[1.0,\"#f0f921\"]],\"type\":\"contour\"}],\"contourcarpet\":[{\"colorbar\":{\"outlinewidth\":0,\"ticks\":\"\"},\"type\":\"contourcarpet\"}],\"heatmap\":[{\"colorbar\":{\"outlinewidth\":0,\"ticks\":\"\"},\"colorscale\":[[0.0,\"#0d0887\"],[0.1111111111111111,\"#46039f\"],[0.2222222222222222,\"#7201a8\"],[0.3333333333333333,\"#9c179e\"],[0.4444444444444444,\"#bd3786\"],[0.5555555555555556,\"#d8576b\"],[0.6666666666666666,\"#ed7953\"],[0.7777777777777778,\"#fb9f3a\"],[0.8888888888888888,\"#fdca26\"],[1.0,\"#f0f921\"]],\"type\":\"heatmap\"}],\"heatmapgl\":[{\"colorbar\":{\"outlinewidth\":0,\"ticks\":\"\"},\"colorscale\":[[0.0,\"#0d0887\"],[0.1111111111111111,\"#46039f\"],[0.2222222222222222,\"#7201a8\"],[0.3333333333333333,\"#9c179e\"],[0.4444444444444444,\"#bd3786\"],[0.5555555555555556,\"#d8576b\"],[0.6666666666666666,\"#ed7953\"],[0.7777777777777778,\"#fb9f3a\"],[0.8888888888888888,\"#fdca26\"],[1.0,\"#f0f921\"]],\"type\":\"heatmapgl\"}],\"histogram\":[{\"marker\":{\"pattern\":{\"fillmode\":\"overlay\",\"size\":10,\"solidity\":0.2}},\"type\":\"histogram\"}],\"histogram2d\":[{\"colorbar\":{\"outlinewidth\":0,\"ticks\":\"\"},\"colorscale\":[[0.0,\"#0d0887\"],[0.1111111111111111,\"#46039f\"],[0.2222222222222222,\"#7201a8\"],[0.3333333333333333,\"#9c179e\"],[0.4444444444444444,\"#bd3786\"],[0.5555555555555556,\"#d8576b\"],[0.6666666666666666,\"#ed7953\"],[0.7777777777777778,\"#fb9f3a\"],[0.8888888888888888,\"#fdca26\"],[1.0,\"#f0f921\"]],\"type\":\"histogram2d\"}],\"histogram2dcontour\":[{\"colorbar\":{\"outlinewidth\":0,\"ticks\":\"\"},\"colorscale\":[[0.0,\"#0d0887\"],[0.1111111111111111,\"#46039f\"],[0.2222222222222222,\"#7201a8\"],[0.3333333333333333,\"#9c179e\"],[0.4444444444444444,\"#bd3786\"],[0.5555555555555556,\"#d8576b\"],[0.6666666666666666,\"#ed7953\"],[0.7777777777777778,\"#fb9f3a\"],[0.8888888888888888,\"#fdca26\"],[1.0,\"#f0f921\"]],\"type\":\"histogram2dcontour\"}],\"mesh3d\":[{\"colorbar\":{\"outlinewidth\":0,\"ticks\":\"\"},\"type\":\"mesh3d\"}],\"parcoords\":[{\"line\":{\"colorbar\":{\"outlinewidth\":0,\"ticks\":\"\"}},\"type\":\"parcoords\"}],\"pie\":[{\"automargin\":true,\"type\":\"pie\"}],\"scatter\":[{\"marker\":{\"colorbar\":{\"outlinewidth\":0,\"ticks\":\"\"}},\"type\":\"scatter\"}],\"scatter3d\":[{\"line\":{\"colorbar\":{\"outlinewidth\":0,\"ticks\":\"\"}},\"marker\":{\"colorbar\":{\"outlinewidth\":0,\"ticks\":\"\"}},\"type\":\"scatter3d\"}],\"scattercarpet\":[{\"marker\":{\"colorbar\":{\"outlinewidth\":0,\"ticks\":\"\"}},\"type\":\"scattercarpet\"}],\"scattergeo\":[{\"marker\":{\"colorbar\":{\"outlinewidth\":0,\"ticks\":\"\"}},\"type\":\"scattergeo\"}],\"scattergl\":[{\"marker\":{\"colorbar\":{\"outlinewidth\":0,\"ticks\":\"\"}},\"type\":\"scattergl\"}],\"scattermapbox\":[{\"marker\":{\"colorbar\":{\"outlinewidth\":0,\"ticks\":\"\"}},\"type\":\"scattermapbox\"}],\"scatterpolar\":[{\"marker\":{\"colorbar\":{\"outlinewidth\":0,\"ticks\":\"\"}},\"type\":\"scatterpolar\"}],\"scatterpolargl\":[{\"marker\":{\"colorbar\":{\"outlinewidth\":0,\"ticks\":\"\"}},\"type\":\"scatterpolargl\"}],\"scatterternary\":[{\"marker\":{\"colorbar\":{\"outlinewidth\":0,\"ticks\":\"\"}},\"type\":\"scatterternary\"}],\"surface\":[{\"colorbar\":{\"outlinewidth\":0,\"ticks\":\"\"},\"colorscale\":[[0.0,\"#0d0887\"],[0.1111111111111111,\"#46039f\"],[0.2222222222222222,\"#7201a8\"],[0.3333333333333333,\"#9c179e\"],[0.4444444444444444,\"#bd3786\"],[0.5555555555555556,\"#d8576b\"],[0.6666666666666666,\"#ed7953\"],[0.7777777777777778,\"#fb9f3a\"],[0.8888888888888888,\"#fdca26\"],[1.0,\"#f0f921\"]],\"type\":\"surface\"}],\"table\":[{\"cells\":{\"fill\":{\"color\":\"#EBF0F8\"},\"line\":{\"color\":\"white\"}},\"header\":{\"fill\":{\"color\":\"#C8D4E3\"},\"line\":{\"color\":\"white\"}},\"type\":\"table\"}]},\"layout\":{\"annotationdefaults\":{\"arrowcolor\":\"#2a3f5f\",\"arrowhead\":0,\"arrowwidth\":1},\"autotypenumbers\":\"strict\",\"coloraxis\":{\"colorbar\":{\"outlinewidth\":0,\"ticks\":\"\"}},\"colorscale\":{\"diverging\":[[0,\"#8e0152\"],[0.1,\"#c51b7d\"],[0.2,\"#de77ae\"],[0.3,\"#f1b6da\"],[0.4,\"#fde0ef\"],[0.5,\"#f7f7f7\"],[0.6,\"#e6f5d0\"],[0.7,\"#b8e186\"],[0.8,\"#7fbc41\"],[0.9,\"#4d9221\"],[1,\"#276419\"]],\"sequential\":[[0.0,\"#0d0887\"],[0.1111111111111111,\"#46039f\"],[0.2222222222222222,\"#7201a8\"],[0.3333333333333333,\"#9c179e\"],[0.4444444444444444,\"#bd3786\"],[0.5555555555555556,\"#d8576b\"],[0.6666666666666666,\"#ed7953\"],[0.7777777777777778,\"#fb9f3a\"],[0.8888888888888888,\"#fdca26\"],[1.0,\"#f0f921\"]],\"sequentialminus\":[[0.0,\"#0d0887\"],[0.1111111111111111,\"#46039f\"],[0.2222222222222222,\"#7201a8\"],[0.3333333333333333,\"#9c179e\"],[0.4444444444444444,\"#bd3786\"],[0.5555555555555556,\"#d8576b\"],[0.6666666666666666,\"#ed7953\"],[0.7777777777777778,\"#fb9f3a\"],[0.8888888888888888,\"#fdca26\"],[1.0,\"#f0f921\"]]},\"colorway\":[\"#636efa\",\"#EF553B\",\"#00cc96\",\"#ab63fa\",\"#FFA15A\",\"#19d3f3\",\"#FF6692\",\"#B6E880\",\"#FF97FF\",\"#FECB52\"],\"font\":{\"color\":\"#2a3f5f\"},\"geo\":{\"bgcolor\":\"white\",\"lakecolor\":\"white\",\"landcolor\":\"#E5ECF6\",\"showlakes\":true,\"showland\":true,\"subunitcolor\":\"white\"},\"hoverlabel\":{\"align\":\"left\"},\"hovermode\":\"closest\",\"mapbox\":{\"style\":\"light\"},\"paper_bgcolor\":\"white\",\"plot_bgcolor\":\"#E5ECF6\",\"polar\":{\"angularaxis\":{\"gridcolor\":\"white\",\"linecolor\":\"white\",\"ticks\":\"\"},\"bgcolor\":\"#E5ECF6\",\"radialaxis\":{\"gridcolor\":\"white\",\"linecolor\":\"white\",\"ticks\":\"\"}},\"scene\":{\"xaxis\":{\"backgroundcolor\":\"#E5ECF6\",\"gridcolor\":\"white\",\"gridwidth\":2,\"linecolor\":\"white\",\"showbackground\":true,\"ticks\":\"\",\"zerolinecolor\":\"white\"},\"yaxis\":{\"backgroundcolor\":\"#E5ECF6\",\"gridcolor\":\"white\",\"gridwidth\":2,\"linecolor\":\"white\",\"showbackground\":true,\"ticks\":\"\",\"zerolinecolor\":\"white\"},\"zaxis\":{\"backgroundcolor\":\"#E5ECF6\",\"gridcolor\":\"white\",\"gridwidth\":2,\"linecolor\":\"white\",\"showbackground\":true,\"ticks\":\"\",\"zerolinecolor\":\"white\"}},\"shapedefaults\":{\"line\":{\"color\":\"#2a3f5f\"}},\"ternary\":{\"aaxis\":{\"gridcolor\":\"white\",\"linecolor\":\"white\",\"ticks\":\"\"},\"baxis\":{\"gridcolor\":\"white\",\"linecolor\":\"white\",\"ticks\":\"\"},\"bgcolor\":\"#E5ECF6\",\"caxis\":{\"gridcolor\":\"white\",\"linecolor\":\"white\",\"ticks\":\"\"}},\"title\":{\"x\":0.05},\"xaxis\":{\"automargin\":true,\"gridcolor\":\"white\",\"linecolor\":\"white\",\"ticks\":\"\",\"title\":{\"standoff\":15},\"zerolinecolor\":\"white\",\"zerolinewidth\":2},\"yaxis\":{\"automargin\":true,\"gridcolor\":\"white\",\"linecolor\":\"white\",\"ticks\":\"\",\"title\":{\"standoff\":15},\"zerolinecolor\":\"white\",\"zerolinewidth\":2}}},\"xaxis\":{\"anchor\":\"y\",\"domain\":[0.0,1.0],\"title\":{\"text\":\"count\"}},\"yaxis\":{\"anchor\":\"x\",\"domain\":[0.0,1.0],\"title\":{\"text\":\"Common_words\"},\"categoryorder\":\"array\",\"categoryarray\":[\"policy\",\"ecb\",\"say\",\"interest\",\"hike\",\"central\",\"fed\",\"inflation\",\"bank\",\"rate\"]},\"legend\":{\"title\":{\"text\":\"Common_words\"},\"tracegroupgap\":0},\"title\":{\"text\":\"Common Words in Label1\"},\"barmode\":\"relative\"},                        {\"responsive\": true}                    ).then(function(){\n",
              "                            \n",
              "var gd = document.getElementById('f2d2552d-4bc9-4e90-b3a7-e254fedc2fa9');\n",
              "var x = new MutationObserver(function (mutations, observer) {{\n",
              "        var display = window.getComputedStyle(gd).display;\n",
              "        if (!display || display === 'none') {{\n",
              "            console.log([gd, 'removed!']);\n",
              "            Plotly.purge(gd);\n",
              "            observer.disconnect();\n",
              "        }}\n",
              "}});\n",
              "\n",
              "// Listen for the removal of the full notebook cells\n",
              "var notebookContainer = gd.closest('#notebook-container');\n",
              "if (notebookContainer) {{\n",
              "    x.observe(notebookContainer, {childList: true});\n",
              "}}\n",
              "\n",
              "// Listen for the clearing of the current output cell\n",
              "var outputEl = gd.closest('.output');\n",
              "if (outputEl) {{\n",
              "    x.observe(outputEl, {childList: true});\n",
              "}}\n",
              "\n",
              "                        })                };                            </script>        </div>\n",
              "</body>\n",
              "</html>"
            ]
          },
          "metadata": {},
          "output_type": "display_data"
        },
        {
          "name": "stderr",
          "output_type": "stream",
          "text": [
            "<ipython-input-25-ec3bb4c6d183>:3: SettingWithCopyWarning:\n",
            "\n",
            "\n",
            "A value is trying to be set on a copy of a slice from a DataFrame.\n",
            "Try using .loc[row_indexer,col_indexer] = value instead\n",
            "\n",
            "See the caveats in the documentation: https://pandas.pydata.org/pandas-docs/stable/user_guide/indexing.html#returning-a-view-versus-a-copy\n",
            "\n"
          ]
        },
        {
          "data": {
            "text/html": [
              "<html>\n",
              "<head><meta charset=\"utf-8\" /></head>\n",
              "<body>\n",
              "    <div>            <script src=\"https://cdnjs.cloudflare.com/ajax/libs/mathjax/2.7.5/MathJax.js?config=TeX-AMS-MML_SVG\"></script><script type=\"text/javascript\">if (window.MathJax) {MathJax.Hub.Config({SVG: {font: \"STIX-Web\"}});}</script>                <script type=\"text/javascript\">window.PlotlyConfig = {MathJaxConfig: 'local'};</script>\n",
              "        <script src=\"https://cdn.plot.ly/plotly-2.8.3.min.js\"></script>                <div id=\"cfcd3717-393f-4e30-9959-9b983aa97144\" class=\"plotly-graph-div\" style=\"height:525px; width:100%;\"></div>            <script type=\"text/javascript\">                                    window.PLOTLYENV=window.PLOTLYENV || {};                                    if (document.getElementById(\"cfcd3717-393f-4e30-9959-9b983aa97144\")) {                    Plotly.newPlot(                        \"cfcd3717-393f-4e30-9959-9b983aa97144\",                        [{\"alignmentgroup\":\"True\",\"hovertemplate\":\"Common_words=%{y}<br>count=%{x}<extra></extra>\",\"legendgroup\":\"new\",\"marker\":{\"color\":\"#636efa\",\"pattern\":{\"shape\":\"\"}},\"name\":\"new\",\"offsetgroup\":\"new\",\"orientation\":\"h\",\"showlegend\":true,\"textposition\":\"auto\",\"x\":[409],\"xaxis\":\"x\",\"y\":[\"new\"],\"yaxis\":\"y\",\"type\":\"bar\"},{\"alignmentgroup\":\"True\",\"hovertemplate\":\"Common_words=%{y}<br>count=%{x}<extra></extra>\",\"legendgroup\":\"announces\",\"marker\":{\"color\":\"#EF553B\",\"pattern\":{\"shape\":\"\"}},\"name\":\"announces\",\"offsetgroup\":\"announces\",\"orientation\":\"h\",\"showlegend\":true,\"textposition\":\"auto\",\"x\":[283],\"xaxis\":\"x\",\"y\":[\"announces\"],\"yaxis\":\"y\",\"type\":\"bar\"},{\"alignmentgroup\":\"True\",\"hovertemplate\":\"Common_words=%{y}<br>count=%{x}<extra></extra>\",\"legendgroup\":\"launch\",\"marker\":{\"color\":\"#00cc96\",\"pattern\":{\"shape\":\"\"}},\"name\":\"launch\",\"offsetgroup\":\"launch\",\"orientation\":\"h\",\"showlegend\":true,\"textposition\":\"auto\",\"x\":[195],\"xaxis\":\"x\",\"y\":[\"launch\"],\"yaxis\":\"y\",\"type\":\"bar\"},{\"alignmentgroup\":\"True\",\"hovertemplate\":\"Common_words=%{y}<br>count=%{x}<extra></extra>\",\"legendgroup\":\"company\",\"marker\":{\"color\":\"#ab63fa\",\"pattern\":{\"shape\":\"\"}},\"name\":\"company\",\"offsetgroup\":\"company\",\"orientation\":\"h\",\"showlegend\":true,\"textposition\":\"auto\",\"x\":[157],\"xaxis\":\"x\",\"y\":[\"company\"],\"yaxis\":\"y\",\"type\":\"bar\"},{\"alignmentgroup\":\"True\",\"hovertemplate\":\"Common_words=%{y}<br>count=%{x}<extra></extra>\",\"legendgroup\":\"uk\",\"marker\":{\"color\":\"#FFA15A\",\"pattern\":{\"shape\":\"\"}},\"name\":\"uk\",\"offsetgroup\":\"uk\",\"orientation\":\"h\",\"showlegend\":true,\"textposition\":\"auto\",\"x\":[153],\"xaxis\":\"x\",\"y\":[\"uk\"],\"yaxis\":\"y\",\"type\":\"bar\"},{\"alignmentgroup\":\"True\",\"hovertemplate\":\"Common_words=%{y}<br>count=%{x}<extra></extra>\",\"legendgroup\":\"partner\",\"marker\":{\"color\":\"#19d3f3\",\"pattern\":{\"shape\":\"\"}},\"name\":\"partner\",\"offsetgroup\":\"partner\",\"orientation\":\"h\",\"showlegend\":true,\"textposition\":\"auto\",\"x\":[150],\"xaxis\":\"x\",\"y\":[\"partner\"],\"yaxis\":\"y\",\"type\":\"bar\"},{\"alignmentgroup\":\"True\",\"hovertemplate\":\"Common_words=%{y}<br>count=%{x}<extra></extra>\",\"legendgroup\":\"business\",\"marker\":{\"color\":\"#FF6692\",\"pattern\":{\"shape\":\"\"}},\"name\":\"business\",\"offsetgroup\":\"business\",\"orientation\":\"h\",\"showlegend\":true,\"textposition\":\"auto\",\"x\":[147],\"xaxis\":\"x\",\"y\":[\"business\"],\"yaxis\":\"y\",\"type\":\"bar\"},{\"alignmentgroup\":\"True\",\"hovertemplate\":\"Common_words=%{y}<br>count=%{x}<extra></extra>\",\"legendgroup\":\"u\",\"marker\":{\"color\":\"#B6E880\",\"pattern\":{\"shape\":\"\"}},\"name\":\"u\",\"offsetgroup\":\"u\",\"orientation\":\"h\",\"showlegend\":true,\"textposition\":\"auto\",\"x\":[146],\"xaxis\":\"x\",\"y\":[\"u\"],\"yaxis\":\"y\",\"type\":\"bar\"},{\"alignmentgroup\":\"True\",\"hovertemplate\":\"Common_words=%{y}<br>count=%{x}<extra></extra>\",\"legendgroup\":\"technology\",\"marker\":{\"color\":\"#FF97FF\",\"pattern\":{\"shape\":\"\"}},\"name\":\"technology\",\"offsetgroup\":\"technology\",\"orientation\":\"h\",\"showlegend\":true,\"textposition\":\"auto\",\"x\":[137],\"xaxis\":\"x\",\"y\":[\"technology\"],\"yaxis\":\"y\",\"type\":\"bar\"},{\"alignmentgroup\":\"True\",\"hovertemplate\":\"Common_words=%{y}<br>count=%{x}<extra></extra>\",\"legendgroup\":\"market\",\"marker\":{\"color\":\"#FECB52\",\"pattern\":{\"shape\":\"\"}},\"name\":\"market\",\"offsetgroup\":\"market\",\"orientation\":\"h\",\"showlegend\":true,\"textposition\":\"auto\",\"x\":[134],\"xaxis\":\"x\",\"y\":[\"market\"],\"yaxis\":\"y\",\"type\":\"bar\"}],                        {\"template\":{\"data\":{\"bar\":[{\"error_x\":{\"color\":\"#2a3f5f\"},\"error_y\":{\"color\":\"#2a3f5f\"},\"marker\":{\"line\":{\"color\":\"#E5ECF6\",\"width\":0.5},\"pattern\":{\"fillmode\":\"overlay\",\"size\":10,\"solidity\":0.2}},\"type\":\"bar\"}],\"barpolar\":[{\"marker\":{\"line\":{\"color\":\"#E5ECF6\",\"width\":0.5},\"pattern\":{\"fillmode\":\"overlay\",\"size\":10,\"solidity\":0.2}},\"type\":\"barpolar\"}],\"carpet\":[{\"aaxis\":{\"endlinecolor\":\"#2a3f5f\",\"gridcolor\":\"white\",\"linecolor\":\"white\",\"minorgridcolor\":\"white\",\"startlinecolor\":\"#2a3f5f\"},\"baxis\":{\"endlinecolor\":\"#2a3f5f\",\"gridcolor\":\"white\",\"linecolor\":\"white\",\"minorgridcolor\":\"white\",\"startlinecolor\":\"#2a3f5f\"},\"type\":\"carpet\"}],\"choropleth\":[{\"colorbar\":{\"outlinewidth\":0,\"ticks\":\"\"},\"type\":\"choropleth\"}],\"contour\":[{\"colorbar\":{\"outlinewidth\":0,\"ticks\":\"\"},\"colorscale\":[[0.0,\"#0d0887\"],[0.1111111111111111,\"#46039f\"],[0.2222222222222222,\"#7201a8\"],[0.3333333333333333,\"#9c179e\"],[0.4444444444444444,\"#bd3786\"],[0.5555555555555556,\"#d8576b\"],[0.6666666666666666,\"#ed7953\"],[0.7777777777777778,\"#fb9f3a\"],[0.8888888888888888,\"#fdca26\"],[1.0,\"#f0f921\"]],\"type\":\"contour\"}],\"contourcarpet\":[{\"colorbar\":{\"outlinewidth\":0,\"ticks\":\"\"},\"type\":\"contourcarpet\"}],\"heatmap\":[{\"colorbar\":{\"outlinewidth\":0,\"ticks\":\"\"},\"colorscale\":[[0.0,\"#0d0887\"],[0.1111111111111111,\"#46039f\"],[0.2222222222222222,\"#7201a8\"],[0.3333333333333333,\"#9c179e\"],[0.4444444444444444,\"#bd3786\"],[0.5555555555555556,\"#d8576b\"],[0.6666666666666666,\"#ed7953\"],[0.7777777777777778,\"#fb9f3a\"],[0.8888888888888888,\"#fdca26\"],[1.0,\"#f0f921\"]],\"type\":\"heatmap\"}],\"heatmapgl\":[{\"colorbar\":{\"outlinewidth\":0,\"ticks\":\"\"},\"colorscale\":[[0.0,\"#0d0887\"],[0.1111111111111111,\"#46039f\"],[0.2222222222222222,\"#7201a8\"],[0.3333333333333333,\"#9c179e\"],[0.4444444444444444,\"#bd3786\"],[0.5555555555555556,\"#d8576b\"],[0.6666666666666666,\"#ed7953\"],[0.7777777777777778,\"#fb9f3a\"],[0.8888888888888888,\"#fdca26\"],[1.0,\"#f0f921\"]],\"type\":\"heatmapgl\"}],\"histogram\":[{\"marker\":{\"pattern\":{\"fillmode\":\"overlay\",\"size\":10,\"solidity\":0.2}},\"type\":\"histogram\"}],\"histogram2d\":[{\"colorbar\":{\"outlinewidth\":0,\"ticks\":\"\"},\"colorscale\":[[0.0,\"#0d0887\"],[0.1111111111111111,\"#46039f\"],[0.2222222222222222,\"#7201a8\"],[0.3333333333333333,\"#9c179e\"],[0.4444444444444444,\"#bd3786\"],[0.5555555555555556,\"#d8576b\"],[0.6666666666666666,\"#ed7953\"],[0.7777777777777778,\"#fb9f3a\"],[0.8888888888888888,\"#fdca26\"],[1.0,\"#f0f921\"]],\"type\":\"histogram2d\"}],\"histogram2dcontour\":[{\"colorbar\":{\"outlinewidth\":0,\"ticks\":\"\"},\"colorscale\":[[0.0,\"#0d0887\"],[0.1111111111111111,\"#46039f\"],[0.2222222222222222,\"#7201a8\"],[0.3333333333333333,\"#9c179e\"],[0.4444444444444444,\"#bd3786\"],[0.5555555555555556,\"#d8576b\"],[0.6666666666666666,\"#ed7953\"],[0.7777777777777778,\"#fb9f3a\"],[0.8888888888888888,\"#fdca26\"],[1.0,\"#f0f921\"]],\"type\":\"histogram2dcontour\"}],\"mesh3d\":[{\"colorbar\":{\"outlinewidth\":0,\"ticks\":\"\"},\"type\":\"mesh3d\"}],\"parcoords\":[{\"line\":{\"colorbar\":{\"outlinewidth\":0,\"ticks\":\"\"}},\"type\":\"parcoords\"}],\"pie\":[{\"automargin\":true,\"type\":\"pie\"}],\"scatter\":[{\"marker\":{\"colorbar\":{\"outlinewidth\":0,\"ticks\":\"\"}},\"type\":\"scatter\"}],\"scatter3d\":[{\"line\":{\"colorbar\":{\"outlinewidth\":0,\"ticks\":\"\"}},\"marker\":{\"colorbar\":{\"outlinewidth\":0,\"ticks\":\"\"}},\"type\":\"scatter3d\"}],\"scattercarpet\":[{\"marker\":{\"colorbar\":{\"outlinewidth\":0,\"ticks\":\"\"}},\"type\":\"scattercarpet\"}],\"scattergeo\":[{\"marker\":{\"colorbar\":{\"outlinewidth\":0,\"ticks\":\"\"}},\"type\":\"scattergeo\"}],\"scattergl\":[{\"marker\":{\"colorbar\":{\"outlinewidth\":0,\"ticks\":\"\"}},\"type\":\"scattergl\"}],\"scattermapbox\":[{\"marker\":{\"colorbar\":{\"outlinewidth\":0,\"ticks\":\"\"}},\"type\":\"scattermapbox\"}],\"scatterpolar\":[{\"marker\":{\"colorbar\":{\"outlinewidth\":0,\"ticks\":\"\"}},\"type\":\"scatterpolar\"}],\"scatterpolargl\":[{\"marker\":{\"colorbar\":{\"outlinewidth\":0,\"ticks\":\"\"}},\"type\":\"scatterpolargl\"}],\"scatterternary\":[{\"marker\":{\"colorbar\":{\"outlinewidth\":0,\"ticks\":\"\"}},\"type\":\"scatterternary\"}],\"surface\":[{\"colorbar\":{\"outlinewidth\":0,\"ticks\":\"\"},\"colorscale\":[[0.0,\"#0d0887\"],[0.1111111111111111,\"#46039f\"],[0.2222222222222222,\"#7201a8\"],[0.3333333333333333,\"#9c179e\"],[0.4444444444444444,\"#bd3786\"],[0.5555555555555556,\"#d8576b\"],[0.6666666666666666,\"#ed7953\"],[0.7777777777777778,\"#fb9f3a\"],[0.8888888888888888,\"#fdca26\"],[1.0,\"#f0f921\"]],\"type\":\"surface\"}],\"table\":[{\"cells\":{\"fill\":{\"color\":\"#EBF0F8\"},\"line\":{\"color\":\"white\"}},\"header\":{\"fill\":{\"color\":\"#C8D4E3\"},\"line\":{\"color\":\"white\"}},\"type\":\"table\"}]},\"layout\":{\"annotationdefaults\":{\"arrowcolor\":\"#2a3f5f\",\"arrowhead\":0,\"arrowwidth\":1},\"autotypenumbers\":\"strict\",\"coloraxis\":{\"colorbar\":{\"outlinewidth\":0,\"ticks\":\"\"}},\"colorscale\":{\"diverging\":[[0,\"#8e0152\"],[0.1,\"#c51b7d\"],[0.2,\"#de77ae\"],[0.3,\"#f1b6da\"],[0.4,\"#fde0ef\"],[0.5,\"#f7f7f7\"],[0.6,\"#e6f5d0\"],[0.7,\"#b8e186\"],[0.8,\"#7fbc41\"],[0.9,\"#4d9221\"],[1,\"#276419\"]],\"sequential\":[[0.0,\"#0d0887\"],[0.1111111111111111,\"#46039f\"],[0.2222222222222222,\"#7201a8\"],[0.3333333333333333,\"#9c179e\"],[0.4444444444444444,\"#bd3786\"],[0.5555555555555556,\"#d8576b\"],[0.6666666666666666,\"#ed7953\"],[0.7777777777777778,\"#fb9f3a\"],[0.8888888888888888,\"#fdca26\"],[1.0,\"#f0f921\"]],\"sequentialminus\":[[0.0,\"#0d0887\"],[0.1111111111111111,\"#46039f\"],[0.2222222222222222,\"#7201a8\"],[0.3333333333333333,\"#9c179e\"],[0.4444444444444444,\"#bd3786\"],[0.5555555555555556,\"#d8576b\"],[0.6666666666666666,\"#ed7953\"],[0.7777777777777778,\"#fb9f3a\"],[0.8888888888888888,\"#fdca26\"],[1.0,\"#f0f921\"]]},\"colorway\":[\"#636efa\",\"#EF553B\",\"#00cc96\",\"#ab63fa\",\"#FFA15A\",\"#19d3f3\",\"#FF6692\",\"#B6E880\",\"#FF97FF\",\"#FECB52\"],\"font\":{\"color\":\"#2a3f5f\"},\"geo\":{\"bgcolor\":\"white\",\"lakecolor\":\"white\",\"landcolor\":\"#E5ECF6\",\"showlakes\":true,\"showland\":true,\"subunitcolor\":\"white\"},\"hoverlabel\":{\"align\":\"left\"},\"hovermode\":\"closest\",\"mapbox\":{\"style\":\"light\"},\"paper_bgcolor\":\"white\",\"plot_bgcolor\":\"#E5ECF6\",\"polar\":{\"angularaxis\":{\"gridcolor\":\"white\",\"linecolor\":\"white\",\"ticks\":\"\"},\"bgcolor\":\"#E5ECF6\",\"radialaxis\":{\"gridcolor\":\"white\",\"linecolor\":\"white\",\"ticks\":\"\"}},\"scene\":{\"xaxis\":{\"backgroundcolor\":\"#E5ECF6\",\"gridcolor\":\"white\",\"gridwidth\":2,\"linecolor\":\"white\",\"showbackground\":true,\"ticks\":\"\",\"zerolinecolor\":\"white\"},\"yaxis\":{\"backgroundcolor\":\"#E5ECF6\",\"gridcolor\":\"white\",\"gridwidth\":2,\"linecolor\":\"white\",\"showbackground\":true,\"ticks\":\"\",\"zerolinecolor\":\"white\"},\"zaxis\":{\"backgroundcolor\":\"#E5ECF6\",\"gridcolor\":\"white\",\"gridwidth\":2,\"linecolor\":\"white\",\"showbackground\":true,\"ticks\":\"\",\"zerolinecolor\":\"white\"}},\"shapedefaults\":{\"line\":{\"color\":\"#2a3f5f\"}},\"ternary\":{\"aaxis\":{\"gridcolor\":\"white\",\"linecolor\":\"white\",\"ticks\":\"\"},\"baxis\":{\"gridcolor\":\"white\",\"linecolor\":\"white\",\"ticks\":\"\"},\"bgcolor\":\"#E5ECF6\",\"caxis\":{\"gridcolor\":\"white\",\"linecolor\":\"white\",\"ticks\":\"\"}},\"title\":{\"x\":0.05},\"xaxis\":{\"automargin\":true,\"gridcolor\":\"white\",\"linecolor\":\"white\",\"ticks\":\"\",\"title\":{\"standoff\":15},\"zerolinecolor\":\"white\",\"zerolinewidth\":2},\"yaxis\":{\"automargin\":true,\"gridcolor\":\"white\",\"linecolor\":\"white\",\"ticks\":\"\",\"title\":{\"standoff\":15},\"zerolinecolor\":\"white\",\"zerolinewidth\":2}}},\"xaxis\":{\"anchor\":\"y\",\"domain\":[0.0,1.0],\"title\":{\"text\":\"count\"}},\"yaxis\":{\"anchor\":\"x\",\"domain\":[0.0,1.0],\"title\":{\"text\":\"Common_words\"},\"categoryorder\":\"array\",\"categoryarray\":[\"market\",\"technology\",\"u\",\"business\",\"partner\",\"uk\",\"company\",\"launch\",\"announces\",\"new\"]},\"legend\":{\"title\":{\"text\":\"Common_words\"},\"tracegroupgap\":0},\"title\":{\"text\":\"Common Words in Label2\"},\"barmode\":\"relative\"},                        {\"responsive\": true}                    ).then(function(){\n",
              "                            \n",
              "var gd = document.getElementById('cfcd3717-393f-4e30-9959-9b983aa97144');\n",
              "var x = new MutationObserver(function (mutations, observer) {{\n",
              "        var display = window.getComputedStyle(gd).display;\n",
              "        if (!display || display === 'none') {{\n",
              "            console.log([gd, 'removed!']);\n",
              "            Plotly.purge(gd);\n",
              "            observer.disconnect();\n",
              "        }}\n",
              "}});\n",
              "\n",
              "// Listen for the removal of the full notebook cells\n",
              "var notebookContainer = gd.closest('#notebook-container');\n",
              "if (notebookContainer) {{\n",
              "    x.observe(notebookContainer, {childList: true});\n",
              "}}\n",
              "\n",
              "// Listen for the clearing of the current output cell\n",
              "var outputEl = gd.closest('.output');\n",
              "if (outputEl) {{\n",
              "    x.observe(outputEl, {childList: true});\n",
              "}}\n",
              "\n",
              "                        })                };                            </script>        </div>\n",
              "</body>\n",
              "</html>"
            ]
          },
          "metadata": {},
          "output_type": "display_data"
        },
        {
          "name": "stderr",
          "output_type": "stream",
          "text": [
            "<ipython-input-25-ec3bb4c6d183>:3: SettingWithCopyWarning:\n",
            "\n",
            "\n",
            "A value is trying to be set on a copy of a slice from a DataFrame.\n",
            "Try using .loc[row_indexer,col_indexer] = value instead\n",
            "\n",
            "See the caveats in the documentation: https://pandas.pydata.org/pandas-docs/stable/user_guide/indexing.html#returning-a-view-versus-a-copy\n",
            "\n"
          ]
        },
        {
          "data": {
            "text/html": [
              "<html>\n",
              "<head><meta charset=\"utf-8\" /></head>\n",
              "<body>\n",
              "    <div>            <script src=\"https://cdnjs.cloudflare.com/ajax/libs/mathjax/2.7.5/MathJax.js?config=TeX-AMS-MML_SVG\"></script><script type=\"text/javascript\">if (window.MathJax) {MathJax.Hub.Config({SVG: {font: \"STIX-Web\"}});}</script>                <script type=\"text/javascript\">window.PlotlyConfig = {MathJaxConfig: 'local'};</script>\n",
              "        <script src=\"https://cdn.plot.ly/plotly-2.8.3.min.js\"></script>                <div id=\"97f75c9e-296a-47b5-bd59-7199a22d41fb\" class=\"plotly-graph-div\" style=\"height:525px; width:100%;\"></div>            <script type=\"text/javascript\">                                    window.PLOTLYENV=window.PLOTLYENV || {};                                    if (document.getElementById(\"97f75c9e-296a-47b5-bd59-7199a22d41fb\")) {                    Plotly.newPlot(                        \"97f75c9e-296a-47b5-bd59-7199a22d41fb\",                        [{\"alignmentgroup\":\"True\",\"hovertemplate\":\"Common_words=%{y}<br>count=%{x}<extra></extra>\",\"legendgroup\":\"bond\",\"marker\":{\"color\":\"#636efa\",\"pattern\":{\"shape\":\"\"}},\"name\":\"bond\",\"offsetgroup\":\"bond\",\"orientation\":\"h\",\"showlegend\":true,\"textposition\":\"auto\",\"x\":[117],\"xaxis\":\"x\",\"y\":[\"bond\"],\"yaxis\":\"y\",\"type\":\"bar\"},{\"alignmentgroup\":\"True\",\"hovertemplate\":\"Common_words=%{y}<br>count=%{x}<extra></extra>\",\"legendgroup\":\"debt\",\"marker\":{\"color\":\"#EF553B\",\"pattern\":{\"shape\":\"\"}},\"name\":\"debt\",\"offsetgroup\":\"debt\",\"orientation\":\"h\",\"showlegend\":true,\"textposition\":\"auto\",\"x\":[87],\"xaxis\":\"x\",\"y\":[\"debt\"],\"yaxis\":\"y\",\"type\":\"bar\"},{\"alignmentgroup\":\"True\",\"hovertemplate\":\"Common_words=%{y}<br>count=%{x}<extra></extra>\",\"legendgroup\":\"market\",\"marker\":{\"color\":\"#00cc96\",\"pattern\":{\"shape\":\"\"}},\"name\":\"market\",\"offsetgroup\":\"market\",\"orientation\":\"h\",\"showlegend\":true,\"textposition\":\"auto\",\"x\":[52],\"xaxis\":\"x\",\"y\":[\"market\"],\"yaxis\":\"y\",\"type\":\"bar\"},{\"alignmentgroup\":\"True\",\"hovertemplate\":\"Common_words=%{y}<br>count=%{x}<extra></extra>\",\"legendgroup\":\"yield\",\"marker\":{\"color\":\"#ab63fa\",\"pattern\":{\"shape\":\"\"}},\"name\":\"yield\",\"offsetgroup\":\"yield\",\"orientation\":\"h\",\"showlegend\":true,\"textposition\":\"auto\",\"x\":[50],\"xaxis\":\"x\",\"y\":[\"yield\"],\"yaxis\":\"y\",\"type\":\"bar\"},{\"alignmentgroup\":\"True\",\"hovertemplate\":\"Common_words=%{y}<br>count=%{x}<extra></extra>\",\"legendgroup\":\"treasury\",\"marker\":{\"color\":\"#FFA15A\",\"pattern\":{\"shape\":\"\"}},\"name\":\"treasury\",\"offsetgroup\":\"treasury\",\"orientation\":\"h\",\"showlegend\":true,\"textposition\":\"auto\",\"x\":[43],\"xaxis\":\"x\",\"y\":[\"treasury\"],\"yaxis\":\"y\",\"type\":\"bar\"},{\"alignmentgroup\":\"True\",\"hovertemplate\":\"Common_words=%{y}<br>count=%{x}<extra></extra>\",\"legendgroup\":\"u\",\"marker\":{\"color\":\"#19d3f3\",\"pattern\":{\"shape\":\"\"}},\"name\":\"u\",\"offsetgroup\":\"u\",\"orientation\":\"h\",\"showlegend\":true,\"textposition\":\"auto\",\"x\":[35],\"xaxis\":\"x\",\"y\":[\"u\"],\"yaxis\":\"y\",\"type\":\"bar\"},{\"alignmentgroup\":\"True\",\"hovertemplate\":\"Common_words=%{y}<br>count=%{x}<extra></extra>\",\"legendgroup\":\"investor\",\"marker\":{\"color\":\"#FF6692\",\"pattern\":{\"shape\":\"\"}},\"name\":\"investor\",\"offsetgroup\":\"investor\",\"orientation\":\"h\",\"showlegend\":true,\"textposition\":\"auto\",\"x\":[33],\"xaxis\":\"x\",\"y\":[\"investor\"],\"yaxis\":\"y\",\"type\":\"bar\"},{\"alignmentgroup\":\"True\",\"hovertemplate\":\"Common_words=%{y}<br>count=%{x}<extra></extra>\",\"legendgroup\":\"billion\",\"marker\":{\"color\":\"#B6E880\",\"pattern\":{\"shape\":\"\"}},\"name\":\"billion\",\"offsetgroup\":\"billion\",\"orientation\":\"h\",\"showlegend\":true,\"textposition\":\"auto\",\"x\":[29],\"xaxis\":\"x\",\"y\":[\"billion\"],\"yaxis\":\"y\",\"type\":\"bar\"},{\"alignmentgroup\":\"True\",\"hovertemplate\":\"Common_words=%{y}<br>count=%{x}<extra></extra>\",\"legendgroup\":\"note\",\"marker\":{\"color\":\"#FF97FF\",\"pattern\":{\"shape\":\"\"}},\"name\":\"note\",\"offsetgroup\":\"note\",\"orientation\":\"h\",\"showlegend\":true,\"textposition\":\"auto\",\"x\":[26],\"xaxis\":\"x\",\"y\":[\"note\"],\"yaxis\":\"y\",\"type\":\"bar\"},{\"alignmentgroup\":\"True\",\"hovertemplate\":\"Common_words=%{y}<br>count=%{x}<extra></extra>\",\"legendgroup\":\"credit\",\"marker\":{\"color\":\"#FECB52\",\"pattern\":{\"shape\":\"\"}},\"name\":\"credit\",\"offsetgroup\":\"credit\",\"orientation\":\"h\",\"showlegend\":true,\"textposition\":\"auto\",\"x\":[25],\"xaxis\":\"x\",\"y\":[\"credit\"],\"yaxis\":\"y\",\"type\":\"bar\"}],                        {\"template\":{\"data\":{\"bar\":[{\"error_x\":{\"color\":\"#2a3f5f\"},\"error_y\":{\"color\":\"#2a3f5f\"},\"marker\":{\"line\":{\"color\":\"#E5ECF6\",\"width\":0.5},\"pattern\":{\"fillmode\":\"overlay\",\"size\":10,\"solidity\":0.2}},\"type\":\"bar\"}],\"barpolar\":[{\"marker\":{\"line\":{\"color\":\"#E5ECF6\",\"width\":0.5},\"pattern\":{\"fillmode\":\"overlay\",\"size\":10,\"solidity\":0.2}},\"type\":\"barpolar\"}],\"carpet\":[{\"aaxis\":{\"endlinecolor\":\"#2a3f5f\",\"gridcolor\":\"white\",\"linecolor\":\"white\",\"minorgridcolor\":\"white\",\"startlinecolor\":\"#2a3f5f\"},\"baxis\":{\"endlinecolor\":\"#2a3f5f\",\"gridcolor\":\"white\",\"linecolor\":\"white\",\"minorgridcolor\":\"white\",\"startlinecolor\":\"#2a3f5f\"},\"type\":\"carpet\"}],\"choropleth\":[{\"colorbar\":{\"outlinewidth\":0,\"ticks\":\"\"},\"type\":\"choropleth\"}],\"contour\":[{\"colorbar\":{\"outlinewidth\":0,\"ticks\":\"\"},\"colorscale\":[[0.0,\"#0d0887\"],[0.1111111111111111,\"#46039f\"],[0.2222222222222222,\"#7201a8\"],[0.3333333333333333,\"#9c179e\"],[0.4444444444444444,\"#bd3786\"],[0.5555555555555556,\"#d8576b\"],[0.6666666666666666,\"#ed7953\"],[0.7777777777777778,\"#fb9f3a\"],[0.8888888888888888,\"#fdca26\"],[1.0,\"#f0f921\"]],\"type\":\"contour\"}],\"contourcarpet\":[{\"colorbar\":{\"outlinewidth\":0,\"ticks\":\"\"},\"type\":\"contourcarpet\"}],\"heatmap\":[{\"colorbar\":{\"outlinewidth\":0,\"ticks\":\"\"},\"colorscale\":[[0.0,\"#0d0887\"],[0.1111111111111111,\"#46039f\"],[0.2222222222222222,\"#7201a8\"],[0.3333333333333333,\"#9c179e\"],[0.4444444444444444,\"#bd3786\"],[0.5555555555555556,\"#d8576b\"],[0.6666666666666666,\"#ed7953\"],[0.7777777777777778,\"#fb9f3a\"],[0.8888888888888888,\"#fdca26\"],[1.0,\"#f0f921\"]],\"type\":\"heatmap\"}],\"heatmapgl\":[{\"colorbar\":{\"outlinewidth\":0,\"ticks\":\"\"},\"colorscale\":[[0.0,\"#0d0887\"],[0.1111111111111111,\"#46039f\"],[0.2222222222222222,\"#7201a8\"],[0.3333333333333333,\"#9c179e\"],[0.4444444444444444,\"#bd3786\"],[0.5555555555555556,\"#d8576b\"],[0.6666666666666666,\"#ed7953\"],[0.7777777777777778,\"#fb9f3a\"],[0.8888888888888888,\"#fdca26\"],[1.0,\"#f0f921\"]],\"type\":\"heatmapgl\"}],\"histogram\":[{\"marker\":{\"pattern\":{\"fillmode\":\"overlay\",\"size\":10,\"solidity\":0.2}},\"type\":\"histogram\"}],\"histogram2d\":[{\"colorbar\":{\"outlinewidth\":0,\"ticks\":\"\"},\"colorscale\":[[0.0,\"#0d0887\"],[0.1111111111111111,\"#46039f\"],[0.2222222222222222,\"#7201a8\"],[0.3333333333333333,\"#9c179e\"],[0.4444444444444444,\"#bd3786\"],[0.5555555555555556,\"#d8576b\"],[0.6666666666666666,\"#ed7953\"],[0.7777777777777778,\"#fb9f3a\"],[0.8888888888888888,\"#fdca26\"],[1.0,\"#f0f921\"]],\"type\":\"histogram2d\"}],\"histogram2dcontour\":[{\"colorbar\":{\"outlinewidth\":0,\"ticks\":\"\"},\"colorscale\":[[0.0,\"#0d0887\"],[0.1111111111111111,\"#46039f\"],[0.2222222222222222,\"#7201a8\"],[0.3333333333333333,\"#9c179e\"],[0.4444444444444444,\"#bd3786\"],[0.5555555555555556,\"#d8576b\"],[0.6666666666666666,\"#ed7953\"],[0.7777777777777778,\"#fb9f3a\"],[0.8888888888888888,\"#fdca26\"],[1.0,\"#f0f921\"]],\"type\":\"histogram2dcontour\"}],\"mesh3d\":[{\"colorbar\":{\"outlinewidth\":0,\"ticks\":\"\"},\"type\":\"mesh3d\"}],\"parcoords\":[{\"line\":{\"colorbar\":{\"outlinewidth\":0,\"ticks\":\"\"}},\"type\":\"parcoords\"}],\"pie\":[{\"automargin\":true,\"type\":\"pie\"}],\"scatter\":[{\"marker\":{\"colorbar\":{\"outlinewidth\":0,\"ticks\":\"\"}},\"type\":\"scatter\"}],\"scatter3d\":[{\"line\":{\"colorbar\":{\"outlinewidth\":0,\"ticks\":\"\"}},\"marker\":{\"colorbar\":{\"outlinewidth\":0,\"ticks\":\"\"}},\"type\":\"scatter3d\"}],\"scattercarpet\":[{\"marker\":{\"colorbar\":{\"outlinewidth\":0,\"ticks\":\"\"}},\"type\":\"scattercarpet\"}],\"scattergeo\":[{\"marker\":{\"colorbar\":{\"outlinewidth\":0,\"ticks\":\"\"}},\"type\":\"scattergeo\"}],\"scattergl\":[{\"marker\":{\"colorbar\":{\"outlinewidth\":0,\"ticks\":\"\"}},\"type\":\"scattergl\"}],\"scattermapbox\":[{\"marker\":{\"colorbar\":{\"outlinewidth\":0,\"ticks\":\"\"}},\"type\":\"scattermapbox\"}],\"scatterpolar\":[{\"marker\":{\"colorbar\":{\"outlinewidth\":0,\"ticks\":\"\"}},\"type\":\"scatterpolar\"}],\"scatterpolargl\":[{\"marker\":{\"colorbar\":{\"outlinewidth\":0,\"ticks\":\"\"}},\"type\":\"scatterpolargl\"}],\"scatterternary\":[{\"marker\":{\"colorbar\":{\"outlinewidth\":0,\"ticks\":\"\"}},\"type\":\"scatterternary\"}],\"surface\":[{\"colorbar\":{\"outlinewidth\":0,\"ticks\":\"\"},\"colorscale\":[[0.0,\"#0d0887\"],[0.1111111111111111,\"#46039f\"],[0.2222222222222222,\"#7201a8\"],[0.3333333333333333,\"#9c179e\"],[0.4444444444444444,\"#bd3786\"],[0.5555555555555556,\"#d8576b\"],[0.6666666666666666,\"#ed7953\"],[0.7777777777777778,\"#fb9f3a\"],[0.8888888888888888,\"#fdca26\"],[1.0,\"#f0f921\"]],\"type\":\"surface\"}],\"table\":[{\"cells\":{\"fill\":{\"color\":\"#EBF0F8\"},\"line\":{\"color\":\"white\"}},\"header\":{\"fill\":{\"color\":\"#C8D4E3\"},\"line\":{\"color\":\"white\"}},\"type\":\"table\"}]},\"layout\":{\"annotationdefaults\":{\"arrowcolor\":\"#2a3f5f\",\"arrowhead\":0,\"arrowwidth\":1},\"autotypenumbers\":\"strict\",\"coloraxis\":{\"colorbar\":{\"outlinewidth\":0,\"ticks\":\"\"}},\"colorscale\":{\"diverging\":[[0,\"#8e0152\"],[0.1,\"#c51b7d\"],[0.2,\"#de77ae\"],[0.3,\"#f1b6da\"],[0.4,\"#fde0ef\"],[0.5,\"#f7f7f7\"],[0.6,\"#e6f5d0\"],[0.7,\"#b8e186\"],[0.8,\"#7fbc41\"],[0.9,\"#4d9221\"],[1,\"#276419\"]],\"sequential\":[[0.0,\"#0d0887\"],[0.1111111111111111,\"#46039f\"],[0.2222222222222222,\"#7201a8\"],[0.3333333333333333,\"#9c179e\"],[0.4444444444444444,\"#bd3786\"],[0.5555555555555556,\"#d8576b\"],[0.6666666666666666,\"#ed7953\"],[0.7777777777777778,\"#fb9f3a\"],[0.8888888888888888,\"#fdca26\"],[1.0,\"#f0f921\"]],\"sequentialminus\":[[0.0,\"#0d0887\"],[0.1111111111111111,\"#46039f\"],[0.2222222222222222,\"#7201a8\"],[0.3333333333333333,\"#9c179e\"],[0.4444444444444444,\"#bd3786\"],[0.5555555555555556,\"#d8576b\"],[0.6666666666666666,\"#ed7953\"],[0.7777777777777778,\"#fb9f3a\"],[0.8888888888888888,\"#fdca26\"],[1.0,\"#f0f921\"]]},\"colorway\":[\"#636efa\",\"#EF553B\",\"#00cc96\",\"#ab63fa\",\"#FFA15A\",\"#19d3f3\",\"#FF6692\",\"#B6E880\",\"#FF97FF\",\"#FECB52\"],\"font\":{\"color\":\"#2a3f5f\"},\"geo\":{\"bgcolor\":\"white\",\"lakecolor\":\"white\",\"landcolor\":\"#E5ECF6\",\"showlakes\":true,\"showland\":true,\"subunitcolor\":\"white\"},\"hoverlabel\":{\"align\":\"left\"},\"hovermode\":\"closest\",\"mapbox\":{\"style\":\"light\"},\"paper_bgcolor\":\"white\",\"plot_bgcolor\":\"#E5ECF6\",\"polar\":{\"angularaxis\":{\"gridcolor\":\"white\",\"linecolor\":\"white\",\"ticks\":\"\"},\"bgcolor\":\"#E5ECF6\",\"radialaxis\":{\"gridcolor\":\"white\",\"linecolor\":\"white\",\"ticks\":\"\"}},\"scene\":{\"xaxis\":{\"backgroundcolor\":\"#E5ECF6\",\"gridcolor\":\"white\",\"gridwidth\":2,\"linecolor\":\"white\",\"showbackground\":true,\"ticks\":\"\",\"zerolinecolor\":\"white\"},\"yaxis\":{\"backgroundcolor\":\"#E5ECF6\",\"gridcolor\":\"white\",\"gridwidth\":2,\"linecolor\":\"white\",\"showbackground\":true,\"ticks\":\"\",\"zerolinecolor\":\"white\"},\"zaxis\":{\"backgroundcolor\":\"#E5ECF6\",\"gridcolor\":\"white\",\"gridwidth\":2,\"linecolor\":\"white\",\"showbackground\":true,\"ticks\":\"\",\"zerolinecolor\":\"white\"}},\"shapedefaults\":{\"line\":{\"color\":\"#2a3f5f\"}},\"ternary\":{\"aaxis\":{\"gridcolor\":\"white\",\"linecolor\":\"white\",\"ticks\":\"\"},\"baxis\":{\"gridcolor\":\"white\",\"linecolor\":\"white\",\"ticks\":\"\"},\"bgcolor\":\"#E5ECF6\",\"caxis\":{\"gridcolor\":\"white\",\"linecolor\":\"white\",\"ticks\":\"\"}},\"title\":{\"x\":0.05},\"xaxis\":{\"automargin\":true,\"gridcolor\":\"white\",\"linecolor\":\"white\",\"ticks\":\"\",\"title\":{\"standoff\":15},\"zerolinecolor\":\"white\",\"zerolinewidth\":2},\"yaxis\":{\"automargin\":true,\"gridcolor\":\"white\",\"linecolor\":\"white\",\"ticks\":\"\",\"title\":{\"standoff\":15},\"zerolinecolor\":\"white\",\"zerolinewidth\":2}}},\"xaxis\":{\"anchor\":\"y\",\"domain\":[0.0,1.0],\"title\":{\"text\":\"count\"}},\"yaxis\":{\"anchor\":\"x\",\"domain\":[0.0,1.0],\"title\":{\"text\":\"Common_words\"},\"categoryorder\":\"array\",\"categoryarray\":[\"credit\",\"note\",\"billion\",\"investor\",\"u\",\"treasury\",\"yield\",\"market\",\"debt\",\"bond\"]},\"legend\":{\"title\":{\"text\":\"Common_words\"},\"tracegroupgap\":0},\"title\":{\"text\":\"Common Words in Label3\"},\"barmode\":\"relative\"},                        {\"responsive\": true}                    ).then(function(){\n",
              "                            \n",
              "var gd = document.getElementById('97f75c9e-296a-47b5-bd59-7199a22d41fb');\n",
              "var x = new MutationObserver(function (mutations, observer) {{\n",
              "        var display = window.getComputedStyle(gd).display;\n",
              "        if (!display || display === 'none') {{\n",
              "            console.log([gd, 'removed!']);\n",
              "            Plotly.purge(gd);\n",
              "            observer.disconnect();\n",
              "        }}\n",
              "}});\n",
              "\n",
              "// Listen for the removal of the full notebook cells\n",
              "var notebookContainer = gd.closest('#notebook-container');\n",
              "if (notebookContainer) {{\n",
              "    x.observe(notebookContainer, {childList: true});\n",
              "}}\n",
              "\n",
              "// Listen for the clearing of the current output cell\n",
              "var outputEl = gd.closest('.output');\n",
              "if (outputEl) {{\n",
              "    x.observe(outputEl, {childList: true});\n",
              "}}\n",
              "\n",
              "                        })                };                            </script>        </div>\n",
              "</body>\n",
              "</html>"
            ]
          },
          "metadata": {},
          "output_type": "display_data"
        },
        {
          "name": "stderr",
          "output_type": "stream",
          "text": [
            "<ipython-input-25-ec3bb4c6d183>:3: SettingWithCopyWarning:\n",
            "\n",
            "\n",
            "A value is trying to be set on a copy of a slice from a DataFrame.\n",
            "Try using .loc[row_indexer,col_indexer] = value instead\n",
            "\n",
            "See the caveats in the documentation: https://pandas.pydata.org/pandas-docs/stable/user_guide/indexing.html#returning-a-view-versus-a-copy\n",
            "\n"
          ]
        },
        {
          "data": {
            "text/html": [
              "<html>\n",
              "<head><meta charset=\"utf-8\" /></head>\n",
              "<body>\n",
              "    <div>            <script src=\"https://cdnjs.cloudflare.com/ajax/libs/mathjax/2.7.5/MathJax.js?config=TeX-AMS-MML_SVG\"></script><script type=\"text/javascript\">if (window.MathJax) {MathJax.Hub.Config({SVG: {font: \"STIX-Web\"}});}</script>                <script type=\"text/javascript\">window.PlotlyConfig = {MathJaxConfig: 'local'};</script>\n",
              "        <script src=\"https://cdn.plot.ly/plotly-2.8.3.min.js\"></script>                <div id=\"ce03788a-4c44-43d7-ad78-a01c73140aa2\" class=\"plotly-graph-div\" style=\"height:525px; width:100%;\"></div>            <script type=\"text/javascript\">                                    window.PLOTLYENV=window.PLOTLYENV || {};                                    if (document.getElementById(\"ce03788a-4c44-43d7-ad78-a01c73140aa2\")) {                    Plotly.newPlot(                        \"ce03788a-4c44-43d7-ad78-a01c73140aa2\",                        [{\"alignmentgroup\":\"True\",\"hovertemplate\":\"Common_words=%{y}<br>count=%{x}<extra></extra>\",\"legendgroup\":\"dividend\",\"marker\":{\"color\":\"#636efa\",\"pattern\":{\"shape\":\"\"}},\"name\":\"dividend\",\"offsetgroup\":\"dividend\",\"orientation\":\"h\",\"showlegend\":true,\"textposition\":\"auto\",\"x\":[289],\"xaxis\":\"x\",\"y\":[\"dividend\"],\"yaxis\":\"y\",\"type\":\"bar\"},{\"alignmentgroup\":\"True\",\"hovertemplate\":\"Common_words=%{y}<br>count=%{x}<extra></extra>\",\"legendgroup\":\"declares\",\"marker\":{\"color\":\"#EF553B\",\"pattern\":{\"shape\":\"\"}},\"name\":\"declares\",\"offsetgroup\":\"declares\",\"orientation\":\"h\",\"showlegend\":true,\"textposition\":\"auto\",\"x\":[246],\"xaxis\":\"x\",\"y\":[\"declares\"],\"yaxis\":\"y\",\"type\":\"bar\"},{\"alignmentgroup\":\"True\",\"hovertemplate\":\"Common_words=%{y}<br>count=%{x}<extra></extra>\",\"legendgroup\":\"distribution\",\"marker\":{\"color\":\"#00cc96\",\"pattern\":{\"shape\":\"\"}},\"name\":\"distribution\",\"offsetgroup\":\"distribution\",\"orientation\":\"h\",\"showlegend\":true,\"textposition\":\"auto\",\"x\":[76],\"xaxis\":\"x\",\"y\":[\"distribution\"],\"yaxis\":\"y\",\"type\":\"bar\"},{\"alignmentgroup\":\"True\",\"hovertemplate\":\"Common_words=%{y}<br>count=%{x}<extra></extra>\",\"legendgroup\":\"quarterly\",\"marker\":{\"color\":\"#ab63fa\",\"pattern\":{\"shape\":\"\"}},\"name\":\"quarterly\",\"offsetgroup\":\"quarterly\",\"orientation\":\"h\",\"showlegend\":true,\"textposition\":\"auto\",\"x\":[59],\"xaxis\":\"x\",\"y\":[\"quarterly\"],\"yaxis\":\"y\",\"type\":\"bar\"},{\"alignmentgroup\":\"True\",\"hovertemplate\":\"Common_words=%{y}<br>count=%{x}<extra></extra>\",\"legendgroup\":\"monthly\",\"marker\":{\"color\":\"#FFA15A\",\"pattern\":{\"shape\":\"\"}},\"name\":\"monthly\",\"offsetgroup\":\"monthly\",\"orientation\":\"h\",\"showlegend\":true,\"textposition\":\"auto\",\"x\":[56],\"xaxis\":\"x\",\"y\":[\"monthly\"],\"yaxis\":\"y\",\"type\":\"bar\"},{\"alignmentgroup\":\"True\",\"hovertemplate\":\"Common_words=%{y}<br>count=%{x}<extra></extra>\",\"legendgroup\":\"share\",\"marker\":{\"color\":\"#19d3f3\",\"pattern\":{\"shape\":\"\"}},\"name\":\"share\",\"offsetgroup\":\"share\",\"orientation\":\"h\",\"showlegend\":true,\"textposition\":\"auto\",\"x\":[43],\"xaxis\":\"x\",\"y\":[\"share\"],\"yaxis\":\"y\",\"type\":\"bar\"},{\"alignmentgroup\":\"True\",\"hovertemplate\":\"Common_words=%{y}<br>count=%{x}<extra></extra>\",\"legendgroup\":\"etf\",\"marker\":{\"color\":\"#FF6692\",\"pattern\":{\"shape\":\"\"}},\"name\":\"etf\",\"offsetgroup\":\"etf\",\"orientation\":\"h\",\"showlegend\":true,\"textposition\":\"auto\",\"x\":[43],\"xaxis\":\"x\",\"y\":[\"etf\"],\"yaxis\":\"y\",\"type\":\"bar\"},{\"alignmentgroup\":\"True\",\"hovertemplate\":\"Common_words=%{y}<br>count=%{x}<extra></extra>\",\"legendgroup\":\"invesco\",\"marker\":{\"color\":\"#B6E880\",\"pattern\":{\"shape\":\"\"}},\"name\":\"invesco\",\"offsetgroup\":\"invesco\",\"orientation\":\"h\",\"showlegend\":true,\"textposition\":\"auto\",\"x\":[40],\"xaxis\":\"x\",\"y\":[\"invesco\"],\"yaxis\":\"y\",\"type\":\"bar\"},{\"alignmentgroup\":\"True\",\"hovertemplate\":\"Common_words=%{y}<br>count=%{x}<extra></extra>\",\"legendgroup\":\"trust\",\"marker\":{\"color\":\"#FF97FF\",\"pattern\":{\"shape\":\"\"}},\"name\":\"trust\",\"offsetgroup\":\"trust\",\"orientation\":\"h\",\"showlegend\":true,\"textposition\":\"auto\",\"x\":[37],\"xaxis\":\"x\",\"y\":[\"trust\"],\"yaxis\":\"y\",\"type\":\"bar\"},{\"alignmentgroup\":\"True\",\"hovertemplate\":\"Common_words=%{y}<br>count=%{x}<extra></extra>\",\"legendgroup\":\"announces\",\"marker\":{\"color\":\"#FECB52\",\"pattern\":{\"shape\":\"\"}},\"name\":\"announces\",\"offsetgroup\":\"announces\",\"orientation\":\"h\",\"showlegend\":true,\"textposition\":\"auto\",\"x\":[35],\"xaxis\":\"x\",\"y\":[\"announces\"],\"yaxis\":\"y\",\"type\":\"bar\"}],                        {\"template\":{\"data\":{\"bar\":[{\"error_x\":{\"color\":\"#2a3f5f\"},\"error_y\":{\"color\":\"#2a3f5f\"},\"marker\":{\"line\":{\"color\":\"#E5ECF6\",\"width\":0.5},\"pattern\":{\"fillmode\":\"overlay\",\"size\":10,\"solidity\":0.2}},\"type\":\"bar\"}],\"barpolar\":[{\"marker\":{\"line\":{\"color\":\"#E5ECF6\",\"width\":0.5},\"pattern\":{\"fillmode\":\"overlay\",\"size\":10,\"solidity\":0.2}},\"type\":\"barpolar\"}],\"carpet\":[{\"aaxis\":{\"endlinecolor\":\"#2a3f5f\",\"gridcolor\":\"white\",\"linecolor\":\"white\",\"minorgridcolor\":\"white\",\"startlinecolor\":\"#2a3f5f\"},\"baxis\":{\"endlinecolor\":\"#2a3f5f\",\"gridcolor\":\"white\",\"linecolor\":\"white\",\"minorgridcolor\":\"white\",\"startlinecolor\":\"#2a3f5f\"},\"type\":\"carpet\"}],\"choropleth\":[{\"colorbar\":{\"outlinewidth\":0,\"ticks\":\"\"},\"type\":\"choropleth\"}],\"contour\":[{\"colorbar\":{\"outlinewidth\":0,\"ticks\":\"\"},\"colorscale\":[[0.0,\"#0d0887\"],[0.1111111111111111,\"#46039f\"],[0.2222222222222222,\"#7201a8\"],[0.3333333333333333,\"#9c179e\"],[0.4444444444444444,\"#bd3786\"],[0.5555555555555556,\"#d8576b\"],[0.6666666666666666,\"#ed7953\"],[0.7777777777777778,\"#fb9f3a\"],[0.8888888888888888,\"#fdca26\"],[1.0,\"#f0f921\"]],\"type\":\"contour\"}],\"contourcarpet\":[{\"colorbar\":{\"outlinewidth\":0,\"ticks\":\"\"},\"type\":\"contourcarpet\"}],\"heatmap\":[{\"colorbar\":{\"outlinewidth\":0,\"ticks\":\"\"},\"colorscale\":[[0.0,\"#0d0887\"],[0.1111111111111111,\"#46039f\"],[0.2222222222222222,\"#7201a8\"],[0.3333333333333333,\"#9c179e\"],[0.4444444444444444,\"#bd3786\"],[0.5555555555555556,\"#d8576b\"],[0.6666666666666666,\"#ed7953\"],[0.7777777777777778,\"#fb9f3a\"],[0.8888888888888888,\"#fdca26\"],[1.0,\"#f0f921\"]],\"type\":\"heatmap\"}],\"heatmapgl\":[{\"colorbar\":{\"outlinewidth\":0,\"ticks\":\"\"},\"colorscale\":[[0.0,\"#0d0887\"],[0.1111111111111111,\"#46039f\"],[0.2222222222222222,\"#7201a8\"],[0.3333333333333333,\"#9c179e\"],[0.4444444444444444,\"#bd3786\"],[0.5555555555555556,\"#d8576b\"],[0.6666666666666666,\"#ed7953\"],[0.7777777777777778,\"#fb9f3a\"],[0.8888888888888888,\"#fdca26\"],[1.0,\"#f0f921\"]],\"type\":\"heatmapgl\"}],\"histogram\":[{\"marker\":{\"pattern\":{\"fillmode\":\"overlay\",\"size\":10,\"solidity\":0.2}},\"type\":\"histogram\"}],\"histogram2d\":[{\"colorbar\":{\"outlinewidth\":0,\"ticks\":\"\"},\"colorscale\":[[0.0,\"#0d0887\"],[0.1111111111111111,\"#46039f\"],[0.2222222222222222,\"#7201a8\"],[0.3333333333333333,\"#9c179e\"],[0.4444444444444444,\"#bd3786\"],[0.5555555555555556,\"#d8576b\"],[0.6666666666666666,\"#ed7953\"],[0.7777777777777778,\"#fb9f3a\"],[0.8888888888888888,\"#fdca26\"],[1.0,\"#f0f921\"]],\"type\":\"histogram2d\"}],\"histogram2dcontour\":[{\"colorbar\":{\"outlinewidth\":0,\"ticks\":\"\"},\"colorscale\":[[0.0,\"#0d0887\"],[0.1111111111111111,\"#46039f\"],[0.2222222222222222,\"#7201a8\"],[0.3333333333333333,\"#9c179e\"],[0.4444444444444444,\"#bd3786\"],[0.5555555555555556,\"#d8576b\"],[0.6666666666666666,\"#ed7953\"],[0.7777777777777778,\"#fb9f3a\"],[0.8888888888888888,\"#fdca26\"],[1.0,\"#f0f921\"]],\"type\":\"histogram2dcontour\"}],\"mesh3d\":[{\"colorbar\":{\"outlinewidth\":0,\"ticks\":\"\"},\"type\":\"mesh3d\"}],\"parcoords\":[{\"line\":{\"colorbar\":{\"outlinewidth\":0,\"ticks\":\"\"}},\"type\":\"parcoords\"}],\"pie\":[{\"automargin\":true,\"type\":\"pie\"}],\"scatter\":[{\"marker\":{\"colorbar\":{\"outlinewidth\":0,\"ticks\":\"\"}},\"type\":\"scatter\"}],\"scatter3d\":[{\"line\":{\"colorbar\":{\"outlinewidth\":0,\"ticks\":\"\"}},\"marker\":{\"colorbar\":{\"outlinewidth\":0,\"ticks\":\"\"}},\"type\":\"scatter3d\"}],\"scattercarpet\":[{\"marker\":{\"colorbar\":{\"outlinewidth\":0,\"ticks\":\"\"}},\"type\":\"scattercarpet\"}],\"scattergeo\":[{\"marker\":{\"colorbar\":{\"outlinewidth\":0,\"ticks\":\"\"}},\"type\":\"scattergeo\"}],\"scattergl\":[{\"marker\":{\"colorbar\":{\"outlinewidth\":0,\"ticks\":\"\"}},\"type\":\"scattergl\"}],\"scattermapbox\":[{\"marker\":{\"colorbar\":{\"outlinewidth\":0,\"ticks\":\"\"}},\"type\":\"scattermapbox\"}],\"scatterpolar\":[{\"marker\":{\"colorbar\":{\"outlinewidth\":0,\"ticks\":\"\"}},\"type\":\"scatterpolar\"}],\"scatterpolargl\":[{\"marker\":{\"colorbar\":{\"outlinewidth\":0,\"ticks\":\"\"}},\"type\":\"scatterpolargl\"}],\"scatterternary\":[{\"marker\":{\"colorbar\":{\"outlinewidth\":0,\"ticks\":\"\"}},\"type\":\"scatterternary\"}],\"surface\":[{\"colorbar\":{\"outlinewidth\":0,\"ticks\":\"\"},\"colorscale\":[[0.0,\"#0d0887\"],[0.1111111111111111,\"#46039f\"],[0.2222222222222222,\"#7201a8\"],[0.3333333333333333,\"#9c179e\"],[0.4444444444444444,\"#bd3786\"],[0.5555555555555556,\"#d8576b\"],[0.6666666666666666,\"#ed7953\"],[0.7777777777777778,\"#fb9f3a\"],[0.8888888888888888,\"#fdca26\"],[1.0,\"#f0f921\"]],\"type\":\"surface\"}],\"table\":[{\"cells\":{\"fill\":{\"color\":\"#EBF0F8\"},\"line\":{\"color\":\"white\"}},\"header\":{\"fill\":{\"color\":\"#C8D4E3\"},\"line\":{\"color\":\"white\"}},\"type\":\"table\"}]},\"layout\":{\"annotationdefaults\":{\"arrowcolor\":\"#2a3f5f\",\"arrowhead\":0,\"arrowwidth\":1},\"autotypenumbers\":\"strict\",\"coloraxis\":{\"colorbar\":{\"outlinewidth\":0,\"ticks\":\"\"}},\"colorscale\":{\"diverging\":[[0,\"#8e0152\"],[0.1,\"#c51b7d\"],[0.2,\"#de77ae\"],[0.3,\"#f1b6da\"],[0.4,\"#fde0ef\"],[0.5,\"#f7f7f7\"],[0.6,\"#e6f5d0\"],[0.7,\"#b8e186\"],[0.8,\"#7fbc41\"],[0.9,\"#4d9221\"],[1,\"#276419\"]],\"sequential\":[[0.0,\"#0d0887\"],[0.1111111111111111,\"#46039f\"],[0.2222222222222222,\"#7201a8\"],[0.3333333333333333,\"#9c179e\"],[0.4444444444444444,\"#bd3786\"],[0.5555555555555556,\"#d8576b\"],[0.6666666666666666,\"#ed7953\"],[0.7777777777777778,\"#fb9f3a\"],[0.8888888888888888,\"#fdca26\"],[1.0,\"#f0f921\"]],\"sequentialminus\":[[0.0,\"#0d0887\"],[0.1111111111111111,\"#46039f\"],[0.2222222222222222,\"#7201a8\"],[0.3333333333333333,\"#9c179e\"],[0.4444444444444444,\"#bd3786\"],[0.5555555555555556,\"#d8576b\"],[0.6666666666666666,\"#ed7953\"],[0.7777777777777778,\"#fb9f3a\"],[0.8888888888888888,\"#fdca26\"],[1.0,\"#f0f921\"]]},\"colorway\":[\"#636efa\",\"#EF553B\",\"#00cc96\",\"#ab63fa\",\"#FFA15A\",\"#19d3f3\",\"#FF6692\",\"#B6E880\",\"#FF97FF\",\"#FECB52\"],\"font\":{\"color\":\"#2a3f5f\"},\"geo\":{\"bgcolor\":\"white\",\"lakecolor\":\"white\",\"landcolor\":\"#E5ECF6\",\"showlakes\":true,\"showland\":true,\"subunitcolor\":\"white\"},\"hoverlabel\":{\"align\":\"left\"},\"hovermode\":\"closest\",\"mapbox\":{\"style\":\"light\"},\"paper_bgcolor\":\"white\",\"plot_bgcolor\":\"#E5ECF6\",\"polar\":{\"angularaxis\":{\"gridcolor\":\"white\",\"linecolor\":\"white\",\"ticks\":\"\"},\"bgcolor\":\"#E5ECF6\",\"radialaxis\":{\"gridcolor\":\"white\",\"linecolor\":\"white\",\"ticks\":\"\"}},\"scene\":{\"xaxis\":{\"backgroundcolor\":\"#E5ECF6\",\"gridcolor\":\"white\",\"gridwidth\":2,\"linecolor\":\"white\",\"showbackground\":true,\"ticks\":\"\",\"zerolinecolor\":\"white\"},\"yaxis\":{\"backgroundcolor\":\"#E5ECF6\",\"gridcolor\":\"white\",\"gridwidth\":2,\"linecolor\":\"white\",\"showbackground\":true,\"ticks\":\"\",\"zerolinecolor\":\"white\"},\"zaxis\":{\"backgroundcolor\":\"#E5ECF6\",\"gridcolor\":\"white\",\"gridwidth\":2,\"linecolor\":\"white\",\"showbackground\":true,\"ticks\":\"\",\"zerolinecolor\":\"white\"}},\"shapedefaults\":{\"line\":{\"color\":\"#2a3f5f\"}},\"ternary\":{\"aaxis\":{\"gridcolor\":\"white\",\"linecolor\":\"white\",\"ticks\":\"\"},\"baxis\":{\"gridcolor\":\"white\",\"linecolor\":\"white\",\"ticks\":\"\"},\"bgcolor\":\"#E5ECF6\",\"caxis\":{\"gridcolor\":\"white\",\"linecolor\":\"white\",\"ticks\":\"\"}},\"title\":{\"x\":0.05},\"xaxis\":{\"automargin\":true,\"gridcolor\":\"white\",\"linecolor\":\"white\",\"ticks\":\"\",\"title\":{\"standoff\":15},\"zerolinecolor\":\"white\",\"zerolinewidth\":2},\"yaxis\":{\"automargin\":true,\"gridcolor\":\"white\",\"linecolor\":\"white\",\"ticks\":\"\",\"title\":{\"standoff\":15},\"zerolinecolor\":\"white\",\"zerolinewidth\":2}}},\"xaxis\":{\"anchor\":\"y\",\"domain\":[0.0,1.0],\"title\":{\"text\":\"count\"}},\"yaxis\":{\"anchor\":\"x\",\"domain\":[0.0,1.0],\"title\":{\"text\":\"Common_words\"},\"categoryorder\":\"array\",\"categoryarray\":[\"announces\",\"trust\",\"invesco\",\"etf\",\"share\",\"monthly\",\"quarterly\",\"distribution\",\"declares\",\"dividend\"]},\"legend\":{\"title\":{\"text\":\"Common_words\"},\"tracegroupgap\":0},\"title\":{\"text\":\"Common Words in Label4\"},\"barmode\":\"relative\"},                        {\"responsive\": true}                    ).then(function(){\n",
              "                            \n",
              "var gd = document.getElementById('ce03788a-4c44-43d7-ad78-a01c73140aa2');\n",
              "var x = new MutationObserver(function (mutations, observer) {{\n",
              "        var display = window.getComputedStyle(gd).display;\n",
              "        if (!display || display === 'none') {{\n",
              "            console.log([gd, 'removed!']);\n",
              "            Plotly.purge(gd);\n",
              "            observer.disconnect();\n",
              "        }}\n",
              "}});\n",
              "\n",
              "// Listen for the removal of the full notebook cells\n",
              "var notebookContainer = gd.closest('#notebook-container');\n",
              "if (notebookContainer) {{\n",
              "    x.observe(notebookContainer, {childList: true});\n",
              "}}\n",
              "\n",
              "// Listen for the clearing of the current output cell\n",
              "var outputEl = gd.closest('.output');\n",
              "if (outputEl) {{\n",
              "    x.observe(outputEl, {childList: true});\n",
              "}}\n",
              "\n",
              "                        })                };                            </script>        </div>\n",
              "</body>\n",
              "</html>"
            ]
          },
          "metadata": {},
          "output_type": "display_data"
        },
        {
          "name": "stderr",
          "output_type": "stream",
          "text": [
            "<ipython-input-25-ec3bb4c6d183>:3: SettingWithCopyWarning:\n",
            "\n",
            "\n",
            "A value is trying to be set on a copy of a slice from a DataFrame.\n",
            "Try using .loc[row_indexer,col_indexer] = value instead\n",
            "\n",
            "See the caveats in the documentation: https://pandas.pydata.org/pandas-docs/stable/user_guide/indexing.html#returning-a-view-versus-a-copy\n",
            "\n"
          ]
        },
        {
          "data": {
            "text/html": [
              "<html>\n",
              "<head><meta charset=\"utf-8\" /></head>\n",
              "<body>\n",
              "    <div>            <script src=\"https://cdnjs.cloudflare.com/ajax/libs/mathjax/2.7.5/MathJax.js?config=TeX-AMS-MML_SVG\"></script><script type=\"text/javascript\">if (window.MathJax) {MathJax.Hub.Config({SVG: {font: \"STIX-Web\"}});}</script>                <script type=\"text/javascript\">window.PlotlyConfig = {MathJaxConfig: 'local'};</script>\n",
              "        <script src=\"https://cdn.plot.ly/plotly-2.8.3.min.js\"></script>                <div id=\"cf11be03-1bc2-454f-8dbb-49809268bbab\" class=\"plotly-graph-div\" style=\"height:525px; width:100%;\"></div>            <script type=\"text/javascript\">                                    window.PLOTLYENV=window.PLOTLYENV || {};                                    if (document.getElementById(\"cf11be03-1bc2-454f-8dbb-49809268bbab\")) {                    Plotly.newPlot(                        \"cf11be03-1bc2-454f-8dbb-49809268bbab\",                        [{\"alignmentgroup\":\"True\",\"hovertemplate\":\"Common_words=%{y}<br>count=%{x}<extra></extra>\",\"legendgroup\":\"earnings\",\"marker\":{\"color\":\"#636efa\",\"pattern\":{\"shape\":\"\"}},\"name\":\"earnings\",\"offsetgroup\":\"earnings\",\"orientation\":\"h\",\"showlegend\":true,\"textposition\":\"auto\",\"x\":[663],\"xaxis\":\"x\",\"y\":[\"earnings\"],\"yaxis\":\"y\",\"type\":\"bar\"},{\"alignmentgroup\":\"True\",\"hovertemplate\":\"Common_words=%{y}<br>count=%{x}<extra></extra>\",\"legendgroup\":\"result\",\"marker\":{\"color\":\"#EF553B\",\"pattern\":{\"shape\":\"\"}},\"name\":\"result\",\"offsetgroup\":\"result\",\"orientation\":\"h\",\"showlegend\":true,\"textposition\":\"auto\",\"x\":[558],\"xaxis\":\"x\",\"y\":[\"result\"],\"yaxis\":\"y\",\"type\":\"bar\"},{\"alignmentgroup\":\"True\",\"hovertemplate\":\"Common_words=%{y}<br>count=%{x}<extra></extra>\",\"legendgroup\":\"quarter\",\"marker\":{\"color\":\"#00cc96\",\"pattern\":{\"shape\":\"\"}},\"name\":\"quarter\",\"offsetgroup\":\"quarter\",\"orientation\":\"h\",\"showlegend\":true,\"textposition\":\"auto\",\"x\":[421],\"xaxis\":\"x\",\"y\":[\"quarter\"],\"yaxis\":\"y\",\"type\":\"bar\"},{\"alignmentgroup\":\"True\",\"hovertemplate\":\"Common_words=%{y}<br>count=%{x}<extra></extra>\",\"legendgroup\":\"call\",\"marker\":{\"color\":\"#ab63fa\",\"pattern\":{\"shape\":\"\"}},\"name\":\"call\",\"offsetgroup\":\"call\",\"orientation\":\"h\",\"showlegend\":true,\"textposition\":\"auto\",\"x\":[417],\"xaxis\":\"x\",\"y\":[\"call\"],\"yaxis\":\"y\",\"type\":\"bar\"},{\"alignmentgroup\":\"True\",\"hovertemplate\":\"Common_words=%{y}<br>count=%{x}<extra></extra>\",\"legendgroup\":\"second\",\"marker\":{\"color\":\"#FFA15A\",\"pattern\":{\"shape\":\"\"}},\"name\":\"second\",\"offsetgroup\":\"second\",\"orientation\":\"h\",\"showlegend\":true,\"textposition\":\"auto\",\"x\":[362],\"xaxis\":\"x\",\"y\":[\"second\"],\"yaxis\":\"y\",\"type\":\"bar\"},{\"alignmentgroup\":\"True\",\"hovertemplate\":\"Common_words=%{y}<br>count=%{x}<extra></extra>\",\"legendgroup\":\"financial\",\"marker\":{\"color\":\"#19d3f3\",\"pattern\":{\"shape\":\"\"}},\"name\":\"financial\",\"offsetgroup\":\"financial\",\"orientation\":\"h\",\"showlegend\":true,\"textposition\":\"auto\",\"x\":[196],\"xaxis\":\"x\",\"y\":[\"financial\"],\"yaxis\":\"y\",\"type\":\"bar\"},{\"alignmentgroup\":\"True\",\"hovertemplate\":\"Common_words=%{y}<br>count=%{x}<extra></extra>\",\"legendgroup\":\"conference\",\"marker\":{\"color\":\"#FF6692\",\"pattern\":{\"shape\":\"\"}},\"name\":\"conference\",\"offsetgroup\":\"conference\",\"orientation\":\"h\",\"showlegend\":true,\"textposition\":\"auto\",\"x\":[183],\"xaxis\":\"x\",\"y\":[\"conference\"],\"yaxis\":\"y\",\"type\":\"bar\"},{\"alignmentgroup\":\"True\",\"hovertemplate\":\"Common_words=%{y}<br>count=%{x}<extra></extra>\",\"legendgroup\":\"report\",\"marker\":{\"color\":\"#B6E880\",\"pattern\":{\"shape\":\"\"}},\"name\":\"report\",\"offsetgroup\":\"report\",\"orientation\":\"h\",\"showlegend\":true,\"textposition\":\"auto\",\"x\":[154],\"xaxis\":\"x\",\"y\":[\"report\"],\"yaxis\":\"y\",\"type\":\"bar\"},{\"alignmentgroup\":\"True\",\"hovertemplate\":\"Common_words=%{y}<br>count=%{x}<extra></extra>\",\"legendgroup\":\"inc\",\"marker\":{\"color\":\"#FF97FF\",\"pattern\":{\"shape\":\"\"}},\"name\":\"inc\",\"offsetgroup\":\"inc\",\"orientation\":\"h\",\"showlegend\":true,\"textposition\":\"auto\",\"x\":[146],\"xaxis\":\"x\",\"y\":[\"inc\"],\"yaxis\":\"y\",\"type\":\"bar\"},{\"alignmentgroup\":\"True\",\"hovertemplate\":\"Common_words=%{y}<br>count=%{x}<extra></extra>\",\"legendgroup\":\"announces\",\"marker\":{\"color\":\"#FECB52\",\"pattern\":{\"shape\":\"\"}},\"name\":\"announces\",\"offsetgroup\":\"announces\",\"orientation\":\"h\",\"showlegend\":true,\"textposition\":\"auto\",\"x\":[144],\"xaxis\":\"x\",\"y\":[\"announces\"],\"yaxis\":\"y\",\"type\":\"bar\"}],                        {\"template\":{\"data\":{\"bar\":[{\"error_x\":{\"color\":\"#2a3f5f\"},\"error_y\":{\"color\":\"#2a3f5f\"},\"marker\":{\"line\":{\"color\":\"#E5ECF6\",\"width\":0.5},\"pattern\":{\"fillmode\":\"overlay\",\"size\":10,\"solidity\":0.2}},\"type\":\"bar\"}],\"barpolar\":[{\"marker\":{\"line\":{\"color\":\"#E5ECF6\",\"width\":0.5},\"pattern\":{\"fillmode\":\"overlay\",\"size\":10,\"solidity\":0.2}},\"type\":\"barpolar\"}],\"carpet\":[{\"aaxis\":{\"endlinecolor\":\"#2a3f5f\",\"gridcolor\":\"white\",\"linecolor\":\"white\",\"minorgridcolor\":\"white\",\"startlinecolor\":\"#2a3f5f\"},\"baxis\":{\"endlinecolor\":\"#2a3f5f\",\"gridcolor\":\"white\",\"linecolor\":\"white\",\"minorgridcolor\":\"white\",\"startlinecolor\":\"#2a3f5f\"},\"type\":\"carpet\"}],\"choropleth\":[{\"colorbar\":{\"outlinewidth\":0,\"ticks\":\"\"},\"type\":\"choropleth\"}],\"contour\":[{\"colorbar\":{\"outlinewidth\":0,\"ticks\":\"\"},\"colorscale\":[[0.0,\"#0d0887\"],[0.1111111111111111,\"#46039f\"],[0.2222222222222222,\"#7201a8\"],[0.3333333333333333,\"#9c179e\"],[0.4444444444444444,\"#bd3786\"],[0.5555555555555556,\"#d8576b\"],[0.6666666666666666,\"#ed7953\"],[0.7777777777777778,\"#fb9f3a\"],[0.8888888888888888,\"#fdca26\"],[1.0,\"#f0f921\"]],\"type\":\"contour\"}],\"contourcarpet\":[{\"colorbar\":{\"outlinewidth\":0,\"ticks\":\"\"},\"type\":\"contourcarpet\"}],\"heatmap\":[{\"colorbar\":{\"outlinewidth\":0,\"ticks\":\"\"},\"colorscale\":[[0.0,\"#0d0887\"],[0.1111111111111111,\"#46039f\"],[0.2222222222222222,\"#7201a8\"],[0.3333333333333333,\"#9c179e\"],[0.4444444444444444,\"#bd3786\"],[0.5555555555555556,\"#d8576b\"],[0.6666666666666666,\"#ed7953\"],[0.7777777777777778,\"#fb9f3a\"],[0.8888888888888888,\"#fdca26\"],[1.0,\"#f0f921\"]],\"type\":\"heatmap\"}],\"heatmapgl\":[{\"colorbar\":{\"outlinewidth\":0,\"ticks\":\"\"},\"colorscale\":[[0.0,\"#0d0887\"],[0.1111111111111111,\"#46039f\"],[0.2222222222222222,\"#7201a8\"],[0.3333333333333333,\"#9c179e\"],[0.4444444444444444,\"#bd3786\"],[0.5555555555555556,\"#d8576b\"],[0.6666666666666666,\"#ed7953\"],[0.7777777777777778,\"#fb9f3a\"],[0.8888888888888888,\"#fdca26\"],[1.0,\"#f0f921\"]],\"type\":\"heatmapgl\"}],\"histogram\":[{\"marker\":{\"pattern\":{\"fillmode\":\"overlay\",\"size\":10,\"solidity\":0.2}},\"type\":\"histogram\"}],\"histogram2d\":[{\"colorbar\":{\"outlinewidth\":0,\"ticks\":\"\"},\"colorscale\":[[0.0,\"#0d0887\"],[0.1111111111111111,\"#46039f\"],[0.2222222222222222,\"#7201a8\"],[0.3333333333333333,\"#9c179e\"],[0.4444444444444444,\"#bd3786\"],[0.5555555555555556,\"#d8576b\"],[0.6666666666666666,\"#ed7953\"],[0.7777777777777778,\"#fb9f3a\"],[0.8888888888888888,\"#fdca26\"],[1.0,\"#f0f921\"]],\"type\":\"histogram2d\"}],\"histogram2dcontour\":[{\"colorbar\":{\"outlinewidth\":0,\"ticks\":\"\"},\"colorscale\":[[0.0,\"#0d0887\"],[0.1111111111111111,\"#46039f\"],[0.2222222222222222,\"#7201a8\"],[0.3333333333333333,\"#9c179e\"],[0.4444444444444444,\"#bd3786\"],[0.5555555555555556,\"#d8576b\"],[0.6666666666666666,\"#ed7953\"],[0.7777777777777778,\"#fb9f3a\"],[0.8888888888888888,\"#fdca26\"],[1.0,\"#f0f921\"]],\"type\":\"histogram2dcontour\"}],\"mesh3d\":[{\"colorbar\":{\"outlinewidth\":0,\"ticks\":\"\"},\"type\":\"mesh3d\"}],\"parcoords\":[{\"line\":{\"colorbar\":{\"outlinewidth\":0,\"ticks\":\"\"}},\"type\":\"parcoords\"}],\"pie\":[{\"automargin\":true,\"type\":\"pie\"}],\"scatter\":[{\"marker\":{\"colorbar\":{\"outlinewidth\":0,\"ticks\":\"\"}},\"type\":\"scatter\"}],\"scatter3d\":[{\"line\":{\"colorbar\":{\"outlinewidth\":0,\"ticks\":\"\"}},\"marker\":{\"colorbar\":{\"outlinewidth\":0,\"ticks\":\"\"}},\"type\":\"scatter3d\"}],\"scattercarpet\":[{\"marker\":{\"colorbar\":{\"outlinewidth\":0,\"ticks\":\"\"}},\"type\":\"scattercarpet\"}],\"scattergeo\":[{\"marker\":{\"colorbar\":{\"outlinewidth\":0,\"ticks\":\"\"}},\"type\":\"scattergeo\"}],\"scattergl\":[{\"marker\":{\"colorbar\":{\"outlinewidth\":0,\"ticks\":\"\"}},\"type\":\"scattergl\"}],\"scattermapbox\":[{\"marker\":{\"colorbar\":{\"outlinewidth\":0,\"ticks\":\"\"}},\"type\":\"scattermapbox\"}],\"scatterpolar\":[{\"marker\":{\"colorbar\":{\"outlinewidth\":0,\"ticks\":\"\"}},\"type\":\"scatterpolar\"}],\"scatterpolargl\":[{\"marker\":{\"colorbar\":{\"outlinewidth\":0,\"ticks\":\"\"}},\"type\":\"scatterpolargl\"}],\"scatterternary\":[{\"marker\":{\"colorbar\":{\"outlinewidth\":0,\"ticks\":\"\"}},\"type\":\"scatterternary\"}],\"surface\":[{\"colorbar\":{\"outlinewidth\":0,\"ticks\":\"\"},\"colorscale\":[[0.0,\"#0d0887\"],[0.1111111111111111,\"#46039f\"],[0.2222222222222222,\"#7201a8\"],[0.3333333333333333,\"#9c179e\"],[0.4444444444444444,\"#bd3786\"],[0.5555555555555556,\"#d8576b\"],[0.6666666666666666,\"#ed7953\"],[0.7777777777777778,\"#fb9f3a\"],[0.8888888888888888,\"#fdca26\"],[1.0,\"#f0f921\"]],\"type\":\"surface\"}],\"table\":[{\"cells\":{\"fill\":{\"color\":\"#EBF0F8\"},\"line\":{\"color\":\"white\"}},\"header\":{\"fill\":{\"color\":\"#C8D4E3\"},\"line\":{\"color\":\"white\"}},\"type\":\"table\"}]},\"layout\":{\"annotationdefaults\":{\"arrowcolor\":\"#2a3f5f\",\"arrowhead\":0,\"arrowwidth\":1},\"autotypenumbers\":\"strict\",\"coloraxis\":{\"colorbar\":{\"outlinewidth\":0,\"ticks\":\"\"}},\"colorscale\":{\"diverging\":[[0,\"#8e0152\"],[0.1,\"#c51b7d\"],[0.2,\"#de77ae\"],[0.3,\"#f1b6da\"],[0.4,\"#fde0ef\"],[0.5,\"#f7f7f7\"],[0.6,\"#e6f5d0\"],[0.7,\"#b8e186\"],[0.8,\"#7fbc41\"],[0.9,\"#4d9221\"],[1,\"#276419\"]],\"sequential\":[[0.0,\"#0d0887\"],[0.1111111111111111,\"#46039f\"],[0.2222222222222222,\"#7201a8\"],[0.3333333333333333,\"#9c179e\"],[0.4444444444444444,\"#bd3786\"],[0.5555555555555556,\"#d8576b\"],[0.6666666666666666,\"#ed7953\"],[0.7777777777777778,\"#fb9f3a\"],[0.8888888888888888,\"#fdca26\"],[1.0,\"#f0f921\"]],\"sequentialminus\":[[0.0,\"#0d0887\"],[0.1111111111111111,\"#46039f\"],[0.2222222222222222,\"#7201a8\"],[0.3333333333333333,\"#9c179e\"],[0.4444444444444444,\"#bd3786\"],[0.5555555555555556,\"#d8576b\"],[0.6666666666666666,\"#ed7953\"],[0.7777777777777778,\"#fb9f3a\"],[0.8888888888888888,\"#fdca26\"],[1.0,\"#f0f921\"]]},\"colorway\":[\"#636efa\",\"#EF553B\",\"#00cc96\",\"#ab63fa\",\"#FFA15A\",\"#19d3f3\",\"#FF6692\",\"#B6E880\",\"#FF97FF\",\"#FECB52\"],\"font\":{\"color\":\"#2a3f5f\"},\"geo\":{\"bgcolor\":\"white\",\"lakecolor\":\"white\",\"landcolor\":\"#E5ECF6\",\"showlakes\":true,\"showland\":true,\"subunitcolor\":\"white\"},\"hoverlabel\":{\"align\":\"left\"},\"hovermode\":\"closest\",\"mapbox\":{\"style\":\"light\"},\"paper_bgcolor\":\"white\",\"plot_bgcolor\":\"#E5ECF6\",\"polar\":{\"angularaxis\":{\"gridcolor\":\"white\",\"linecolor\":\"white\",\"ticks\":\"\"},\"bgcolor\":\"#E5ECF6\",\"radialaxis\":{\"gridcolor\":\"white\",\"linecolor\":\"white\",\"ticks\":\"\"}},\"scene\":{\"xaxis\":{\"backgroundcolor\":\"#E5ECF6\",\"gridcolor\":\"white\",\"gridwidth\":2,\"linecolor\":\"white\",\"showbackground\":true,\"ticks\":\"\",\"zerolinecolor\":\"white\"},\"yaxis\":{\"backgroundcolor\":\"#E5ECF6\",\"gridcolor\":\"white\",\"gridwidth\":2,\"linecolor\":\"white\",\"showbackground\":true,\"ticks\":\"\",\"zerolinecolor\":\"white\"},\"zaxis\":{\"backgroundcolor\":\"#E5ECF6\",\"gridcolor\":\"white\",\"gridwidth\":2,\"linecolor\":\"white\",\"showbackground\":true,\"ticks\":\"\",\"zerolinecolor\":\"white\"}},\"shapedefaults\":{\"line\":{\"color\":\"#2a3f5f\"}},\"ternary\":{\"aaxis\":{\"gridcolor\":\"white\",\"linecolor\":\"white\",\"ticks\":\"\"},\"baxis\":{\"gridcolor\":\"white\",\"linecolor\":\"white\",\"ticks\":\"\"},\"bgcolor\":\"#E5ECF6\",\"caxis\":{\"gridcolor\":\"white\",\"linecolor\":\"white\",\"ticks\":\"\"}},\"title\":{\"x\":0.05},\"xaxis\":{\"automargin\":true,\"gridcolor\":\"white\",\"linecolor\":\"white\",\"ticks\":\"\",\"title\":{\"standoff\":15},\"zerolinecolor\":\"white\",\"zerolinewidth\":2},\"yaxis\":{\"automargin\":true,\"gridcolor\":\"white\",\"linecolor\":\"white\",\"ticks\":\"\",\"title\":{\"standoff\":15},\"zerolinecolor\":\"white\",\"zerolinewidth\":2}}},\"xaxis\":{\"anchor\":\"y\",\"domain\":[0.0,1.0],\"title\":{\"text\":\"count\"}},\"yaxis\":{\"anchor\":\"x\",\"domain\":[0.0,1.0],\"title\":{\"text\":\"Common_words\"},\"categoryorder\":\"array\",\"categoryarray\":[\"announces\",\"inc\",\"report\",\"conference\",\"financial\",\"second\",\"call\",\"quarter\",\"result\",\"earnings\"]},\"legend\":{\"title\":{\"text\":\"Common_words\"},\"tracegroupgap\":0},\"title\":{\"text\":\"Common Words in Label5\"},\"barmode\":\"relative\"},                        {\"responsive\": true}                    ).then(function(){\n",
              "                            \n",
              "var gd = document.getElementById('cf11be03-1bc2-454f-8dbb-49809268bbab');\n",
              "var x = new MutationObserver(function (mutations, observer) {{\n",
              "        var display = window.getComputedStyle(gd).display;\n",
              "        if (!display || display === 'none') {{\n",
              "            console.log([gd, 'removed!']);\n",
              "            Plotly.purge(gd);\n",
              "            observer.disconnect();\n",
              "        }}\n",
              "}});\n",
              "\n",
              "// Listen for the removal of the full notebook cells\n",
              "var notebookContainer = gd.closest('#notebook-container');\n",
              "if (notebookContainer) {{\n",
              "    x.observe(notebookContainer, {childList: true});\n",
              "}}\n",
              "\n",
              "// Listen for the clearing of the current output cell\n",
              "var outputEl = gd.closest('.output');\n",
              "if (outputEl) {{\n",
              "    x.observe(outputEl, {childList: true});\n",
              "}}\n",
              "\n",
              "                        })                };                            </script>        </div>\n",
              "</body>\n",
              "</html>"
            ]
          },
          "metadata": {},
          "output_type": "display_data"
        },
        {
          "name": "stderr",
          "output_type": "stream",
          "text": [
            "<ipython-input-25-ec3bb4c6d183>:3: SettingWithCopyWarning:\n",
            "\n",
            "\n",
            "A value is trying to be set on a copy of a slice from a DataFrame.\n",
            "Try using .loc[row_indexer,col_indexer] = value instead\n",
            "\n",
            "See the caveats in the documentation: https://pandas.pydata.org/pandas-docs/stable/user_guide/indexing.html#returning-a-view-versus-a-copy\n",
            "\n"
          ]
        },
        {
          "data": {
            "text/html": [
              "<html>\n",
              "<head><meta charset=\"utf-8\" /></head>\n",
              "<body>\n",
              "    <div>            <script src=\"https://cdnjs.cloudflare.com/ajax/libs/mathjax/2.7.5/MathJax.js?config=TeX-AMS-MML_SVG\"></script><script type=\"text/javascript\">if (window.MathJax) {MathJax.Hub.Config({SVG: {font: \"STIX-Web\"}});}</script>                <script type=\"text/javascript\">window.PlotlyConfig = {MathJaxConfig: 'local'};</script>\n",
              "        <script src=\"https://cdn.plot.ly/plotly-2.8.3.min.js\"></script>                <div id=\"88acd4ea-0e24-464a-88fb-302fc147c175\" class=\"plotly-graph-div\" style=\"height:525px; width:100%;\"></div>            <script type=\"text/javascript\">                                    window.PLOTLYENV=window.PLOTLYENV || {};                                    if (document.getElementById(\"88acd4ea-0e24-464a-88fb-302fc147c175\")) {                    Plotly.newPlot(                        \"88acd4ea-0e24-464a-88fb-302fc147c175\",                        [{\"alignmentgroup\":\"True\",\"hovertemplate\":\"Common_words=%{y}<br>count=%{x}<extra></extra>\",\"legendgroup\":\"oil\",\"marker\":{\"color\":\"#636efa\",\"pattern\":{\"shape\":\"\"}},\"name\":\"oil\",\"offsetgroup\":\"oil\",\"orientation\":\"h\",\"showlegend\":true,\"textposition\":\"auto\",\"x\":[262],\"xaxis\":\"x\",\"y\":[\"oil\"],\"yaxis\":\"y\",\"type\":\"bar\"},{\"alignmentgroup\":\"True\",\"hovertemplate\":\"Common_words=%{y}<br>count=%{x}<extra></extra>\",\"legendgroup\":\"price\",\"marker\":{\"color\":\"#EF553B\",\"pattern\":{\"shape\":\"\"}},\"name\":\"price\",\"offsetgroup\":\"price\",\"orientation\":\"h\",\"showlegend\":true,\"textposition\":\"auto\",\"x\":[160],\"xaxis\":\"x\",\"y\":[\"price\"],\"yaxis\":\"y\",\"type\":\"bar\"},{\"alignmentgroup\":\"True\",\"hovertemplate\":\"Common_words=%{y}<br>count=%{x}<extra></extra>\",\"legendgroup\":\"gas\",\"marker\":{\"color\":\"#00cc96\",\"pattern\":{\"shape\":\"\"}},\"name\":\"gas\",\"offsetgroup\":\"gas\",\"orientation\":\"h\",\"showlegend\":true,\"textposition\":\"auto\",\"x\":[142],\"xaxis\":\"x\",\"y\":[\"gas\"],\"yaxis\":\"y\",\"type\":\"bar\"},{\"alignmentgroup\":\"True\",\"hovertemplate\":\"Common_words=%{y}<br>count=%{x}<extra></extra>\",\"legendgroup\":\"u\",\"marker\":{\"color\":\"#ab63fa\",\"pattern\":{\"shape\":\"\"}},\"name\":\"u\",\"offsetgroup\":\"u\",\"orientation\":\"h\",\"showlegend\":true,\"textposition\":\"auto\",\"x\":[111],\"xaxis\":\"x\",\"y\":[\"u\"],\"yaxis\":\"y\",\"type\":\"bar\"},{\"alignmentgroup\":\"True\",\"hovertemplate\":\"Common_words=%{y}<br>count=%{x}<extra></extra>\",\"legendgroup\":\"crude\",\"marker\":{\"color\":\"#FFA15A\",\"pattern\":{\"shape\":\"\"}},\"name\":\"crude\",\"offsetgroup\":\"crude\",\"orientation\":\"h\",\"showlegend\":true,\"textposition\":\"auto\",\"x\":[109],\"xaxis\":\"x\",\"y\":[\"crude\"],\"yaxis\":\"y\",\"type\":\"bar\"},{\"alignmentgroup\":\"True\",\"hovertemplate\":\"Common_words=%{y}<br>count=%{x}<extra></extra>\",\"legendgroup\":\"energy\",\"marker\":{\"color\":\"#19d3f3\",\"pattern\":{\"shape\":\"\"}},\"name\":\"energy\",\"offsetgroup\":\"energy\",\"orientation\":\"h\",\"showlegend\":true,\"textposition\":\"auto\",\"x\":[87],\"xaxis\":\"x\",\"y\":[\"energy\"],\"yaxis\":\"y\",\"type\":\"bar\"},{\"alignmentgroup\":\"True\",\"hovertemplate\":\"Common_words=%{y}<br>count=%{x}<extra></extra>\",\"legendgroup\":\"supply\",\"marker\":{\"color\":\"#FF6692\",\"pattern\":{\"shape\":\"\"}},\"name\":\"supply\",\"offsetgroup\":\"supply\",\"orientation\":\"h\",\"showlegend\":true,\"textposition\":\"auto\",\"x\":[69],\"xaxis\":\"x\",\"y\":[\"supply\"],\"yaxis\":\"y\",\"type\":\"bar\"},{\"alignmentgroup\":\"True\",\"hovertemplate\":\"Common_words=%{y}<br>count=%{x}<extra></extra>\",\"legendgroup\":\"russia\",\"marker\":{\"color\":\"#B6E880\",\"pattern\":{\"shape\":\"\"}},\"name\":\"russia\",\"offsetgroup\":\"russia\",\"orientation\":\"h\",\"showlegend\":true,\"textposition\":\"auto\",\"x\":[68],\"xaxis\":\"x\",\"y\":[\"russia\"],\"yaxis\":\"y\",\"type\":\"bar\"},{\"alignmentgroup\":\"True\",\"hovertemplate\":\"Common_words=%{y}<br>count=%{x}<extra></extra>\",\"legendgroup\":\"market\",\"marker\":{\"color\":\"#FF97FF\",\"pattern\":{\"shape\":\"\"}},\"name\":\"market\",\"offsetgroup\":\"market\",\"orientation\":\"h\",\"showlegend\":true,\"textposition\":\"auto\",\"x\":[65],\"xaxis\":\"x\",\"y\":[\"market\"],\"yaxis\":\"y\",\"type\":\"bar\"},{\"alignmentgroup\":\"True\",\"hovertemplate\":\"Common_words=%{y}<br>count=%{x}<extra></extra>\",\"legendgroup\":\"russian\",\"marker\":{\"color\":\"#FECB52\",\"pattern\":{\"shape\":\"\"}},\"name\":\"russian\",\"offsetgroup\":\"russian\",\"orientation\":\"h\",\"showlegend\":true,\"textposition\":\"auto\",\"x\":[56],\"xaxis\":\"x\",\"y\":[\"russian\"],\"yaxis\":\"y\",\"type\":\"bar\"}],                        {\"template\":{\"data\":{\"bar\":[{\"error_x\":{\"color\":\"#2a3f5f\"},\"error_y\":{\"color\":\"#2a3f5f\"},\"marker\":{\"line\":{\"color\":\"#E5ECF6\",\"width\":0.5},\"pattern\":{\"fillmode\":\"overlay\",\"size\":10,\"solidity\":0.2}},\"type\":\"bar\"}],\"barpolar\":[{\"marker\":{\"line\":{\"color\":\"#E5ECF6\",\"width\":0.5},\"pattern\":{\"fillmode\":\"overlay\",\"size\":10,\"solidity\":0.2}},\"type\":\"barpolar\"}],\"carpet\":[{\"aaxis\":{\"endlinecolor\":\"#2a3f5f\",\"gridcolor\":\"white\",\"linecolor\":\"white\",\"minorgridcolor\":\"white\",\"startlinecolor\":\"#2a3f5f\"},\"baxis\":{\"endlinecolor\":\"#2a3f5f\",\"gridcolor\":\"white\",\"linecolor\":\"white\",\"minorgridcolor\":\"white\",\"startlinecolor\":\"#2a3f5f\"},\"type\":\"carpet\"}],\"choropleth\":[{\"colorbar\":{\"outlinewidth\":0,\"ticks\":\"\"},\"type\":\"choropleth\"}],\"contour\":[{\"colorbar\":{\"outlinewidth\":0,\"ticks\":\"\"},\"colorscale\":[[0.0,\"#0d0887\"],[0.1111111111111111,\"#46039f\"],[0.2222222222222222,\"#7201a8\"],[0.3333333333333333,\"#9c179e\"],[0.4444444444444444,\"#bd3786\"],[0.5555555555555556,\"#d8576b\"],[0.6666666666666666,\"#ed7953\"],[0.7777777777777778,\"#fb9f3a\"],[0.8888888888888888,\"#fdca26\"],[1.0,\"#f0f921\"]],\"type\":\"contour\"}],\"contourcarpet\":[{\"colorbar\":{\"outlinewidth\":0,\"ticks\":\"\"},\"type\":\"contourcarpet\"}],\"heatmap\":[{\"colorbar\":{\"outlinewidth\":0,\"ticks\":\"\"},\"colorscale\":[[0.0,\"#0d0887\"],[0.1111111111111111,\"#46039f\"],[0.2222222222222222,\"#7201a8\"],[0.3333333333333333,\"#9c179e\"],[0.4444444444444444,\"#bd3786\"],[0.5555555555555556,\"#d8576b\"],[0.6666666666666666,\"#ed7953\"],[0.7777777777777778,\"#fb9f3a\"],[0.8888888888888888,\"#fdca26\"],[1.0,\"#f0f921\"]],\"type\":\"heatmap\"}],\"heatmapgl\":[{\"colorbar\":{\"outlinewidth\":0,\"ticks\":\"\"},\"colorscale\":[[0.0,\"#0d0887\"],[0.1111111111111111,\"#46039f\"],[0.2222222222222222,\"#7201a8\"],[0.3333333333333333,\"#9c179e\"],[0.4444444444444444,\"#bd3786\"],[0.5555555555555556,\"#d8576b\"],[0.6666666666666666,\"#ed7953\"],[0.7777777777777778,\"#fb9f3a\"],[0.8888888888888888,\"#fdca26\"],[1.0,\"#f0f921\"]],\"type\":\"heatmapgl\"}],\"histogram\":[{\"marker\":{\"pattern\":{\"fillmode\":\"overlay\",\"size\":10,\"solidity\":0.2}},\"type\":\"histogram\"}],\"histogram2d\":[{\"colorbar\":{\"outlinewidth\":0,\"ticks\":\"\"},\"colorscale\":[[0.0,\"#0d0887\"],[0.1111111111111111,\"#46039f\"],[0.2222222222222222,\"#7201a8\"],[0.3333333333333333,\"#9c179e\"],[0.4444444444444444,\"#bd3786\"],[0.5555555555555556,\"#d8576b\"],[0.6666666666666666,\"#ed7953\"],[0.7777777777777778,\"#fb9f3a\"],[0.8888888888888888,\"#fdca26\"],[1.0,\"#f0f921\"]],\"type\":\"histogram2d\"}],\"histogram2dcontour\":[{\"colorbar\":{\"outlinewidth\":0,\"ticks\":\"\"},\"colorscale\":[[0.0,\"#0d0887\"],[0.1111111111111111,\"#46039f\"],[0.2222222222222222,\"#7201a8\"],[0.3333333333333333,\"#9c179e\"],[0.4444444444444444,\"#bd3786\"],[0.5555555555555556,\"#d8576b\"],[0.6666666666666666,\"#ed7953\"],[0.7777777777777778,\"#fb9f3a\"],[0.8888888888888888,\"#fdca26\"],[1.0,\"#f0f921\"]],\"type\":\"histogram2dcontour\"}],\"mesh3d\":[{\"colorbar\":{\"outlinewidth\":0,\"ticks\":\"\"},\"type\":\"mesh3d\"}],\"parcoords\":[{\"line\":{\"colorbar\":{\"outlinewidth\":0,\"ticks\":\"\"}},\"type\":\"parcoords\"}],\"pie\":[{\"automargin\":true,\"type\":\"pie\"}],\"scatter\":[{\"marker\":{\"colorbar\":{\"outlinewidth\":0,\"ticks\":\"\"}},\"type\":\"scatter\"}],\"scatter3d\":[{\"line\":{\"colorbar\":{\"outlinewidth\":0,\"ticks\":\"\"}},\"marker\":{\"colorbar\":{\"outlinewidth\":0,\"ticks\":\"\"}},\"type\":\"scatter3d\"}],\"scattercarpet\":[{\"marker\":{\"colorbar\":{\"outlinewidth\":0,\"ticks\":\"\"}},\"type\":\"scattercarpet\"}],\"scattergeo\":[{\"marker\":{\"colorbar\":{\"outlinewidth\":0,\"ticks\":\"\"}},\"type\":\"scattergeo\"}],\"scattergl\":[{\"marker\":{\"colorbar\":{\"outlinewidth\":0,\"ticks\":\"\"}},\"type\":\"scattergl\"}],\"scattermapbox\":[{\"marker\":{\"colorbar\":{\"outlinewidth\":0,\"ticks\":\"\"}},\"type\":\"scattermapbox\"}],\"scatterpolar\":[{\"marker\":{\"colorbar\":{\"outlinewidth\":0,\"ticks\":\"\"}},\"type\":\"scatterpolar\"}],\"scatterpolargl\":[{\"marker\":{\"colorbar\":{\"outlinewidth\":0,\"ticks\":\"\"}},\"type\":\"scatterpolargl\"}],\"scatterternary\":[{\"marker\":{\"colorbar\":{\"outlinewidth\":0,\"ticks\":\"\"}},\"type\":\"scatterternary\"}],\"surface\":[{\"colorbar\":{\"outlinewidth\":0,\"ticks\":\"\"},\"colorscale\":[[0.0,\"#0d0887\"],[0.1111111111111111,\"#46039f\"],[0.2222222222222222,\"#7201a8\"],[0.3333333333333333,\"#9c179e\"],[0.4444444444444444,\"#bd3786\"],[0.5555555555555556,\"#d8576b\"],[0.6666666666666666,\"#ed7953\"],[0.7777777777777778,\"#fb9f3a\"],[0.8888888888888888,\"#fdca26\"],[1.0,\"#f0f921\"]],\"type\":\"surface\"}],\"table\":[{\"cells\":{\"fill\":{\"color\":\"#EBF0F8\"},\"line\":{\"color\":\"white\"}},\"header\":{\"fill\":{\"color\":\"#C8D4E3\"},\"line\":{\"color\":\"white\"}},\"type\":\"table\"}]},\"layout\":{\"annotationdefaults\":{\"arrowcolor\":\"#2a3f5f\",\"arrowhead\":0,\"arrowwidth\":1},\"autotypenumbers\":\"strict\",\"coloraxis\":{\"colorbar\":{\"outlinewidth\":0,\"ticks\":\"\"}},\"colorscale\":{\"diverging\":[[0,\"#8e0152\"],[0.1,\"#c51b7d\"],[0.2,\"#de77ae\"],[0.3,\"#f1b6da\"],[0.4,\"#fde0ef\"],[0.5,\"#f7f7f7\"],[0.6,\"#e6f5d0\"],[0.7,\"#b8e186\"],[0.8,\"#7fbc41\"],[0.9,\"#4d9221\"],[1,\"#276419\"]],\"sequential\":[[0.0,\"#0d0887\"],[0.1111111111111111,\"#46039f\"],[0.2222222222222222,\"#7201a8\"],[0.3333333333333333,\"#9c179e\"],[0.4444444444444444,\"#bd3786\"],[0.5555555555555556,\"#d8576b\"],[0.6666666666666666,\"#ed7953\"],[0.7777777777777778,\"#fb9f3a\"],[0.8888888888888888,\"#fdca26\"],[1.0,\"#f0f921\"]],\"sequentialminus\":[[0.0,\"#0d0887\"],[0.1111111111111111,\"#46039f\"],[0.2222222222222222,\"#7201a8\"],[0.3333333333333333,\"#9c179e\"],[0.4444444444444444,\"#bd3786\"],[0.5555555555555556,\"#d8576b\"],[0.6666666666666666,\"#ed7953\"],[0.7777777777777778,\"#fb9f3a\"],[0.8888888888888888,\"#fdca26\"],[1.0,\"#f0f921\"]]},\"colorway\":[\"#636efa\",\"#EF553B\",\"#00cc96\",\"#ab63fa\",\"#FFA15A\",\"#19d3f3\",\"#FF6692\",\"#B6E880\",\"#FF97FF\",\"#FECB52\"],\"font\":{\"color\":\"#2a3f5f\"},\"geo\":{\"bgcolor\":\"white\",\"lakecolor\":\"white\",\"landcolor\":\"#E5ECF6\",\"showlakes\":true,\"showland\":true,\"subunitcolor\":\"white\"},\"hoverlabel\":{\"align\":\"left\"},\"hovermode\":\"closest\",\"mapbox\":{\"style\":\"light\"},\"paper_bgcolor\":\"white\",\"plot_bgcolor\":\"#E5ECF6\",\"polar\":{\"angularaxis\":{\"gridcolor\":\"white\",\"linecolor\":\"white\",\"ticks\":\"\"},\"bgcolor\":\"#E5ECF6\",\"radialaxis\":{\"gridcolor\":\"white\",\"linecolor\":\"white\",\"ticks\":\"\"}},\"scene\":{\"xaxis\":{\"backgroundcolor\":\"#E5ECF6\",\"gridcolor\":\"white\",\"gridwidth\":2,\"linecolor\":\"white\",\"showbackground\":true,\"ticks\":\"\",\"zerolinecolor\":\"white\"},\"yaxis\":{\"backgroundcolor\":\"#E5ECF6\",\"gridcolor\":\"white\",\"gridwidth\":2,\"linecolor\":\"white\",\"showbackground\":true,\"ticks\":\"\",\"zerolinecolor\":\"white\"},\"zaxis\":{\"backgroundcolor\":\"#E5ECF6\",\"gridcolor\":\"white\",\"gridwidth\":2,\"linecolor\":\"white\",\"showbackground\":true,\"ticks\":\"\",\"zerolinecolor\":\"white\"}},\"shapedefaults\":{\"line\":{\"color\":\"#2a3f5f\"}},\"ternary\":{\"aaxis\":{\"gridcolor\":\"white\",\"linecolor\":\"white\",\"ticks\":\"\"},\"baxis\":{\"gridcolor\":\"white\",\"linecolor\":\"white\",\"ticks\":\"\"},\"bgcolor\":\"#E5ECF6\",\"caxis\":{\"gridcolor\":\"white\",\"linecolor\":\"white\",\"ticks\":\"\"}},\"title\":{\"x\":0.05},\"xaxis\":{\"automargin\":true,\"gridcolor\":\"white\",\"linecolor\":\"white\",\"ticks\":\"\",\"title\":{\"standoff\":15},\"zerolinecolor\":\"white\",\"zerolinewidth\":2},\"yaxis\":{\"automargin\":true,\"gridcolor\":\"white\",\"linecolor\":\"white\",\"ticks\":\"\",\"title\":{\"standoff\":15},\"zerolinecolor\":\"white\",\"zerolinewidth\":2}}},\"xaxis\":{\"anchor\":\"y\",\"domain\":[0.0,1.0],\"title\":{\"text\":\"count\"}},\"yaxis\":{\"anchor\":\"x\",\"domain\":[0.0,1.0],\"title\":{\"text\":\"Common_words\"},\"categoryorder\":\"array\",\"categoryarray\":[\"russian\",\"market\",\"russia\",\"supply\",\"energy\",\"crude\",\"u\",\"gas\",\"price\",\"oil\"]},\"legend\":{\"title\":{\"text\":\"Common_words\"},\"tracegroupgap\":0},\"title\":{\"text\":\"Common Words in Label6\"},\"barmode\":\"relative\"},                        {\"responsive\": true}                    ).then(function(){\n",
              "                            \n",
              "var gd = document.getElementById('88acd4ea-0e24-464a-88fb-302fc147c175');\n",
              "var x = new MutationObserver(function (mutations, observer) {{\n",
              "        var display = window.getComputedStyle(gd).display;\n",
              "        if (!display || display === 'none') {{\n",
              "            console.log([gd, 'removed!']);\n",
              "            Plotly.purge(gd);\n",
              "            observer.disconnect();\n",
              "        }}\n",
              "}});\n",
              "\n",
              "// Listen for the removal of the full notebook cells\n",
              "var notebookContainer = gd.closest('#notebook-container');\n",
              "if (notebookContainer) {{\n",
              "    x.observe(notebookContainer, {childList: true});\n",
              "}}\n",
              "\n",
              "// Listen for the clearing of the current output cell\n",
              "var outputEl = gd.closest('.output');\n",
              "if (outputEl) {{\n",
              "    x.observe(outputEl, {childList: true});\n",
              "}}\n",
              "\n",
              "                        })                };                            </script>        </div>\n",
              "</body>\n",
              "</html>"
            ]
          },
          "metadata": {},
          "output_type": "display_data"
        },
        {
          "name": "stderr",
          "output_type": "stream",
          "text": [
            "<ipython-input-25-ec3bb4c6d183>:3: SettingWithCopyWarning:\n",
            "\n",
            "\n",
            "A value is trying to be set on a copy of a slice from a DataFrame.\n",
            "Try using .loc[row_indexer,col_indexer] = value instead\n",
            "\n",
            "See the caveats in the documentation: https://pandas.pydata.org/pandas-docs/stable/user_guide/indexing.html#returning-a-view-versus-a-copy\n",
            "\n"
          ]
        },
        {
          "data": {
            "text/html": [
              "<html>\n",
              "<head><meta charset=\"utf-8\" /></head>\n",
              "<body>\n",
              "    <div>            <script src=\"https://cdnjs.cloudflare.com/ajax/libs/mathjax/2.7.5/MathJax.js?config=TeX-AMS-MML_SVG\"></script><script type=\"text/javascript\">if (window.MathJax) {MathJax.Hub.Config({SVG: {font: \"STIX-Web\"}});}</script>                <script type=\"text/javascript\">window.PlotlyConfig = {MathJaxConfig: 'local'};</script>\n",
              "        <script src=\"https://cdn.plot.ly/plotly-2.8.3.min.js\"></script>                <div id=\"efe14fc4-c2f2-4be8-93bd-dc7f14e6998f\" class=\"plotly-graph-div\" style=\"height:525px; width:100%;\"></div>            <script type=\"text/javascript\">                                    window.PLOTLYENV=window.PLOTLYENV || {};                                    if (document.getElementById(\"efe14fc4-c2f2-4be8-93bd-dc7f14e6998f\")) {                    Plotly.newPlot(                        \"efe14fc4-c2f2-4be8-93bd-dc7f14e6998f\",                        [{\"alignmentgroup\":\"True\",\"hovertemplate\":\"Common_words=%{y}<br>count=%{x}<extra></extra>\",\"legendgroup\":\"beat\",\"marker\":{\"color\":\"#636efa\",\"pattern\":{\"shape\":\"\"}},\"name\":\"beat\",\"offsetgroup\":\"beat\",\"orientation\":\"h\",\"showlegend\":true,\"textposition\":\"auto\",\"x\":[290],\"xaxis\":\"x\",\"y\":[\"beat\"],\"yaxis\":\"y\",\"type\":\"bar\"},{\"alignmentgroup\":\"True\",\"hovertemplate\":\"Common_words=%{y}<br>count=%{x}<extra></extra>\",\"legendgroup\":\"revenue\",\"marker\":{\"color\":\"#EF553B\",\"pattern\":{\"shape\":\"\"}},\"name\":\"revenue\",\"offsetgroup\":\"revenue\",\"orientation\":\"h\",\"showlegend\":true,\"textposition\":\"auto\",\"x\":[274],\"xaxis\":\"x\",\"y\":[\"revenue\"],\"yaxis\":\"y\",\"type\":\"bar\"},{\"alignmentgroup\":\"True\",\"hovertemplate\":\"Common_words=%{y}<br>count=%{x}<extra></extra>\",\"legendgroup\":\"eps\",\"marker\":{\"color\":\"#00cc96\",\"pattern\":{\"shape\":\"\"}},\"name\":\"eps\",\"offsetgroup\":\"eps\",\"orientation\":\"h\",\"showlegend\":true,\"textposition\":\"auto\",\"x\":[219],\"xaxis\":\"x\",\"y\":[\"eps\"],\"yaxis\":\"y\",\"type\":\"bar\"},{\"alignmentgroup\":\"True\",\"hovertemplate\":\"Common_words=%{y}<br>count=%{x}<extra></extra>\",\"legendgroup\":\"gaap\",\"marker\":{\"color\":\"#ab63fa\",\"pattern\":{\"shape\":\"\"}},\"name\":\"gaap\",\"offsetgroup\":\"gaap\",\"orientation\":\"h\",\"showlegend\":true,\"textposition\":\"auto\",\"x\":[123],\"xaxis\":\"x\",\"y\":[\"gaap\"],\"yaxis\":\"y\",\"type\":\"bar\"},{\"alignmentgroup\":\"True\",\"hovertemplate\":\"Common_words=%{y}<br>count=%{x}<extra></extra>\",\"legendgroup\":\"miss\",\"marker\":{\"color\":\"#FFA15A\",\"pattern\":{\"shape\":\"\"}},\"name\":\"miss\",\"offsetgroup\":\"miss\",\"orientation\":\"h\",\"showlegend\":true,\"textposition\":\"auto\",\"x\":[120],\"xaxis\":\"x\",\"y\":[\"miss\"],\"yaxis\":\"y\",\"type\":\"bar\"},{\"alignmentgroup\":\"True\",\"hovertemplate\":\"Common_words=%{y}<br>count=%{x}<extra></extra>\",\"legendgroup\":\"rev\",\"marker\":{\"color\":\"#19d3f3\",\"pattern\":{\"shape\":\"\"}},\"name\":\"rev\",\"offsetgroup\":\"rev\",\"orientation\":\"h\",\"showlegend\":true,\"textposition\":\"auto\",\"x\":[106],\"xaxis\":\"x\",\"y\":[\"rev\"],\"yaxis\":\"y\",\"type\":\"bar\"},{\"alignmentgroup\":\"True\",\"hovertemplate\":\"Common_words=%{y}<br>count=%{x}<extra></extra>\",\"legendgroup\":\"profit\",\"marker\":{\"color\":\"#FF6692\",\"pattern\":{\"shape\":\"\"}},\"name\":\"profit\",\"offsetgroup\":\"profit\",\"orientation\":\"h\",\"showlegend\":true,\"textposition\":\"auto\",\"x\":[88],\"xaxis\":\"x\",\"y\":[\"profit\"],\"yaxis\":\"y\",\"type\":\"bar\"},{\"alignmentgroup\":\"True\",\"hovertemplate\":\"Common_words=%{y}<br>count=%{x}<extra></extra>\",\"legendgroup\":\"report\",\"marker\":{\"color\":\"#B6E880\",\"pattern\":{\"shape\":\"\"}},\"name\":\"report\",\"offsetgroup\":\"report\",\"orientation\":\"h\",\"showlegend\":true,\"textposition\":\"auto\",\"x\":[88],\"xaxis\":\"x\",\"y\":[\"report\"],\"yaxis\":\"y\",\"type\":\"bar\"},{\"alignmentgroup\":\"True\",\"hovertemplate\":\"Common_words=%{y}<br>count=%{x}<extra></extra>\",\"legendgroup\":\"guidance\",\"marker\":{\"color\":\"#FF97FF\",\"pattern\":{\"shape\":\"\"}},\"name\":\"guidance\",\"offsetgroup\":\"guidance\",\"orientation\":\"h\",\"showlegend\":true,\"textposition\":\"auto\",\"x\":[72],\"xaxis\":\"x\",\"y\":[\"guidance\"],\"yaxis\":\"y\",\"type\":\"bar\"},{\"alignmentgroup\":\"True\",\"hovertemplate\":\"Common_words=%{y}<br>count=%{x}<extra></extra>\",\"legendgroup\":\"earnings\",\"marker\":{\"color\":\"#FECB52\",\"pattern\":{\"shape\":\"\"}},\"name\":\"earnings\",\"offsetgroup\":\"earnings\",\"orientation\":\"h\",\"showlegend\":true,\"textposition\":\"auto\",\"x\":[66],\"xaxis\":\"x\",\"y\":[\"earnings\"],\"yaxis\":\"y\",\"type\":\"bar\"}],                        {\"template\":{\"data\":{\"bar\":[{\"error_x\":{\"color\":\"#2a3f5f\"},\"error_y\":{\"color\":\"#2a3f5f\"},\"marker\":{\"line\":{\"color\":\"#E5ECF6\",\"width\":0.5},\"pattern\":{\"fillmode\":\"overlay\",\"size\":10,\"solidity\":0.2}},\"type\":\"bar\"}],\"barpolar\":[{\"marker\":{\"line\":{\"color\":\"#E5ECF6\",\"width\":0.5},\"pattern\":{\"fillmode\":\"overlay\",\"size\":10,\"solidity\":0.2}},\"type\":\"barpolar\"}],\"carpet\":[{\"aaxis\":{\"endlinecolor\":\"#2a3f5f\",\"gridcolor\":\"white\",\"linecolor\":\"white\",\"minorgridcolor\":\"white\",\"startlinecolor\":\"#2a3f5f\"},\"baxis\":{\"endlinecolor\":\"#2a3f5f\",\"gridcolor\":\"white\",\"linecolor\":\"white\",\"minorgridcolor\":\"white\",\"startlinecolor\":\"#2a3f5f\"},\"type\":\"carpet\"}],\"choropleth\":[{\"colorbar\":{\"outlinewidth\":0,\"ticks\":\"\"},\"type\":\"choropleth\"}],\"contour\":[{\"colorbar\":{\"outlinewidth\":0,\"ticks\":\"\"},\"colorscale\":[[0.0,\"#0d0887\"],[0.1111111111111111,\"#46039f\"],[0.2222222222222222,\"#7201a8\"],[0.3333333333333333,\"#9c179e\"],[0.4444444444444444,\"#bd3786\"],[0.5555555555555556,\"#d8576b\"],[0.6666666666666666,\"#ed7953\"],[0.7777777777777778,\"#fb9f3a\"],[0.8888888888888888,\"#fdca26\"],[1.0,\"#f0f921\"]],\"type\":\"contour\"}],\"contourcarpet\":[{\"colorbar\":{\"outlinewidth\":0,\"ticks\":\"\"},\"type\":\"contourcarpet\"}],\"heatmap\":[{\"colorbar\":{\"outlinewidth\":0,\"ticks\":\"\"},\"colorscale\":[[0.0,\"#0d0887\"],[0.1111111111111111,\"#46039f\"],[0.2222222222222222,\"#7201a8\"],[0.3333333333333333,\"#9c179e\"],[0.4444444444444444,\"#bd3786\"],[0.5555555555555556,\"#d8576b\"],[0.6666666666666666,\"#ed7953\"],[0.7777777777777778,\"#fb9f3a\"],[0.8888888888888888,\"#fdca26\"],[1.0,\"#f0f921\"]],\"type\":\"heatmap\"}],\"heatmapgl\":[{\"colorbar\":{\"outlinewidth\":0,\"ticks\":\"\"},\"colorscale\":[[0.0,\"#0d0887\"],[0.1111111111111111,\"#46039f\"],[0.2222222222222222,\"#7201a8\"],[0.3333333333333333,\"#9c179e\"],[0.4444444444444444,\"#bd3786\"],[0.5555555555555556,\"#d8576b\"],[0.6666666666666666,\"#ed7953\"],[0.7777777777777778,\"#fb9f3a\"],[0.8888888888888888,\"#fdca26\"],[1.0,\"#f0f921\"]],\"type\":\"heatmapgl\"}],\"histogram\":[{\"marker\":{\"pattern\":{\"fillmode\":\"overlay\",\"size\":10,\"solidity\":0.2}},\"type\":\"histogram\"}],\"histogram2d\":[{\"colorbar\":{\"outlinewidth\":0,\"ticks\":\"\"},\"colorscale\":[[0.0,\"#0d0887\"],[0.1111111111111111,\"#46039f\"],[0.2222222222222222,\"#7201a8\"],[0.3333333333333333,\"#9c179e\"],[0.4444444444444444,\"#bd3786\"],[0.5555555555555556,\"#d8576b\"],[0.6666666666666666,\"#ed7953\"],[0.7777777777777778,\"#fb9f3a\"],[0.8888888888888888,\"#fdca26\"],[1.0,\"#f0f921\"]],\"type\":\"histogram2d\"}],\"histogram2dcontour\":[{\"colorbar\":{\"outlinewidth\":0,\"ticks\":\"\"},\"colorscale\":[[0.0,\"#0d0887\"],[0.1111111111111111,\"#46039f\"],[0.2222222222222222,\"#7201a8\"],[0.3333333333333333,\"#9c179e\"],[0.4444444444444444,\"#bd3786\"],[0.5555555555555556,\"#d8576b\"],[0.6666666666666666,\"#ed7953\"],[0.7777777777777778,\"#fb9f3a\"],[0.8888888888888888,\"#fdca26\"],[1.0,\"#f0f921\"]],\"type\":\"histogram2dcontour\"}],\"mesh3d\":[{\"colorbar\":{\"outlinewidth\":0,\"ticks\":\"\"},\"type\":\"mesh3d\"}],\"parcoords\":[{\"line\":{\"colorbar\":{\"outlinewidth\":0,\"ticks\":\"\"}},\"type\":\"parcoords\"}],\"pie\":[{\"automargin\":true,\"type\":\"pie\"}],\"scatter\":[{\"marker\":{\"colorbar\":{\"outlinewidth\":0,\"ticks\":\"\"}},\"type\":\"scatter\"}],\"scatter3d\":[{\"line\":{\"colorbar\":{\"outlinewidth\":0,\"ticks\":\"\"}},\"marker\":{\"colorbar\":{\"outlinewidth\":0,\"ticks\":\"\"}},\"type\":\"scatter3d\"}],\"scattercarpet\":[{\"marker\":{\"colorbar\":{\"outlinewidth\":0,\"ticks\":\"\"}},\"type\":\"scattercarpet\"}],\"scattergeo\":[{\"marker\":{\"colorbar\":{\"outlinewidth\":0,\"ticks\":\"\"}},\"type\":\"scattergeo\"}],\"scattergl\":[{\"marker\":{\"colorbar\":{\"outlinewidth\":0,\"ticks\":\"\"}},\"type\":\"scattergl\"}],\"scattermapbox\":[{\"marker\":{\"colorbar\":{\"outlinewidth\":0,\"ticks\":\"\"}},\"type\":\"scattermapbox\"}],\"scatterpolar\":[{\"marker\":{\"colorbar\":{\"outlinewidth\":0,\"ticks\":\"\"}},\"type\":\"scatterpolar\"}],\"scatterpolargl\":[{\"marker\":{\"colorbar\":{\"outlinewidth\":0,\"ticks\":\"\"}},\"type\":\"scatterpolargl\"}],\"scatterternary\":[{\"marker\":{\"colorbar\":{\"outlinewidth\":0,\"ticks\":\"\"}},\"type\":\"scatterternary\"}],\"surface\":[{\"colorbar\":{\"outlinewidth\":0,\"ticks\":\"\"},\"colorscale\":[[0.0,\"#0d0887\"],[0.1111111111111111,\"#46039f\"],[0.2222222222222222,\"#7201a8\"],[0.3333333333333333,\"#9c179e\"],[0.4444444444444444,\"#bd3786\"],[0.5555555555555556,\"#d8576b\"],[0.6666666666666666,\"#ed7953\"],[0.7777777777777778,\"#fb9f3a\"],[0.8888888888888888,\"#fdca26\"],[1.0,\"#f0f921\"]],\"type\":\"surface\"}],\"table\":[{\"cells\":{\"fill\":{\"color\":\"#EBF0F8\"},\"line\":{\"color\":\"white\"}},\"header\":{\"fill\":{\"color\":\"#C8D4E3\"},\"line\":{\"color\":\"white\"}},\"type\":\"table\"}]},\"layout\":{\"annotationdefaults\":{\"arrowcolor\":\"#2a3f5f\",\"arrowhead\":0,\"arrowwidth\":1},\"autotypenumbers\":\"strict\",\"coloraxis\":{\"colorbar\":{\"outlinewidth\":0,\"ticks\":\"\"}},\"colorscale\":{\"diverging\":[[0,\"#8e0152\"],[0.1,\"#c51b7d\"],[0.2,\"#de77ae\"],[0.3,\"#f1b6da\"],[0.4,\"#fde0ef\"],[0.5,\"#f7f7f7\"],[0.6,\"#e6f5d0\"],[0.7,\"#b8e186\"],[0.8,\"#7fbc41\"],[0.9,\"#4d9221\"],[1,\"#276419\"]],\"sequential\":[[0.0,\"#0d0887\"],[0.1111111111111111,\"#46039f\"],[0.2222222222222222,\"#7201a8\"],[0.3333333333333333,\"#9c179e\"],[0.4444444444444444,\"#bd3786\"],[0.5555555555555556,\"#d8576b\"],[0.6666666666666666,\"#ed7953\"],[0.7777777777777778,\"#fb9f3a\"],[0.8888888888888888,\"#fdca26\"],[1.0,\"#f0f921\"]],\"sequentialminus\":[[0.0,\"#0d0887\"],[0.1111111111111111,\"#46039f\"],[0.2222222222222222,\"#7201a8\"],[0.3333333333333333,\"#9c179e\"],[0.4444444444444444,\"#bd3786\"],[0.5555555555555556,\"#d8576b\"],[0.6666666666666666,\"#ed7953\"],[0.7777777777777778,\"#fb9f3a\"],[0.8888888888888888,\"#fdca26\"],[1.0,\"#f0f921\"]]},\"colorway\":[\"#636efa\",\"#EF553B\",\"#00cc96\",\"#ab63fa\",\"#FFA15A\",\"#19d3f3\",\"#FF6692\",\"#B6E880\",\"#FF97FF\",\"#FECB52\"],\"font\":{\"color\":\"#2a3f5f\"},\"geo\":{\"bgcolor\":\"white\",\"lakecolor\":\"white\",\"landcolor\":\"#E5ECF6\",\"showlakes\":true,\"showland\":true,\"subunitcolor\":\"white\"},\"hoverlabel\":{\"align\":\"left\"},\"hovermode\":\"closest\",\"mapbox\":{\"style\":\"light\"},\"paper_bgcolor\":\"white\",\"plot_bgcolor\":\"#E5ECF6\",\"polar\":{\"angularaxis\":{\"gridcolor\":\"white\",\"linecolor\":\"white\",\"ticks\":\"\"},\"bgcolor\":\"#E5ECF6\",\"radialaxis\":{\"gridcolor\":\"white\",\"linecolor\":\"white\",\"ticks\":\"\"}},\"scene\":{\"xaxis\":{\"backgroundcolor\":\"#E5ECF6\",\"gridcolor\":\"white\",\"gridwidth\":2,\"linecolor\":\"white\",\"showbackground\":true,\"ticks\":\"\",\"zerolinecolor\":\"white\"},\"yaxis\":{\"backgroundcolor\":\"#E5ECF6\",\"gridcolor\":\"white\",\"gridwidth\":2,\"linecolor\":\"white\",\"showbackground\":true,\"ticks\":\"\",\"zerolinecolor\":\"white\"},\"zaxis\":{\"backgroundcolor\":\"#E5ECF6\",\"gridcolor\":\"white\",\"gridwidth\":2,\"linecolor\":\"white\",\"showbackground\":true,\"ticks\":\"\",\"zerolinecolor\":\"white\"}},\"shapedefaults\":{\"line\":{\"color\":\"#2a3f5f\"}},\"ternary\":{\"aaxis\":{\"gridcolor\":\"white\",\"linecolor\":\"white\",\"ticks\":\"\"},\"baxis\":{\"gridcolor\":\"white\",\"linecolor\":\"white\",\"ticks\":\"\"},\"bgcolor\":\"#E5ECF6\",\"caxis\":{\"gridcolor\":\"white\",\"linecolor\":\"white\",\"ticks\":\"\"}},\"title\":{\"x\":0.05},\"xaxis\":{\"automargin\":true,\"gridcolor\":\"white\",\"linecolor\":\"white\",\"ticks\":\"\",\"title\":{\"standoff\":15},\"zerolinecolor\":\"white\",\"zerolinewidth\":2},\"yaxis\":{\"automargin\":true,\"gridcolor\":\"white\",\"linecolor\":\"white\",\"ticks\":\"\",\"title\":{\"standoff\":15},\"zerolinecolor\":\"white\",\"zerolinewidth\":2}}},\"xaxis\":{\"anchor\":\"y\",\"domain\":[0.0,1.0],\"title\":{\"text\":\"count\"}},\"yaxis\":{\"anchor\":\"x\",\"domain\":[0.0,1.0],\"title\":{\"text\":\"Common_words\"},\"categoryorder\":\"array\",\"categoryarray\":[\"earnings\",\"guidance\",\"report\",\"profit\",\"rev\",\"miss\",\"gaap\",\"eps\",\"revenue\",\"beat\"]},\"legend\":{\"title\":{\"text\":\"Common_words\"},\"tracegroupgap\":0},\"title\":{\"text\":\"Common Words in Label7\"},\"barmode\":\"relative\"},                        {\"responsive\": true}                    ).then(function(){\n",
              "                            \n",
              "var gd = document.getElementById('efe14fc4-c2f2-4be8-93bd-dc7f14e6998f');\n",
              "var x = new MutationObserver(function (mutations, observer) {{\n",
              "        var display = window.getComputedStyle(gd).display;\n",
              "        if (!display || display === 'none') {{\n",
              "            console.log([gd, 'removed!']);\n",
              "            Plotly.purge(gd);\n",
              "            observer.disconnect();\n",
              "        }}\n",
              "}});\n",
              "\n",
              "// Listen for the removal of the full notebook cells\n",
              "var notebookContainer = gd.closest('#notebook-container');\n",
              "if (notebookContainer) {{\n",
              "    x.observe(notebookContainer, {childList: true});\n",
              "}}\n",
              "\n",
              "// Listen for the clearing of the current output cell\n",
              "var outputEl = gd.closest('.output');\n",
              "if (outputEl) {{\n",
              "    x.observe(outputEl, {childList: true});\n",
              "}}\n",
              "\n",
              "                        })                };                            </script>        </div>\n",
              "</body>\n",
              "</html>"
            ]
          },
          "metadata": {},
          "output_type": "display_data"
        },
        {
          "name": "stderr",
          "output_type": "stream",
          "text": [
            "<ipython-input-25-ec3bb4c6d183>:3: SettingWithCopyWarning:\n",
            "\n",
            "\n",
            "A value is trying to be set on a copy of a slice from a DataFrame.\n",
            "Try using .loc[row_indexer,col_indexer] = value instead\n",
            "\n",
            "See the caveats in the documentation: https://pandas.pydata.org/pandas-docs/stable/user_guide/indexing.html#returning-a-view-versus-a-copy\n",
            "\n"
          ]
        },
        {
          "data": {
            "text/html": [
              "<html>\n",
              "<head><meta charset=\"utf-8\" /></head>\n",
              "<body>\n",
              "    <div>            <script src=\"https://cdnjs.cloudflare.com/ajax/libs/mathjax/2.7.5/MathJax.js?config=TeX-AMS-MML_SVG\"></script><script type=\"text/javascript\">if (window.MathJax) {MathJax.Hub.Config({SVG: {font: \"STIX-Web\"}});}</script>                <script type=\"text/javascript\">window.PlotlyConfig = {MathJaxConfig: 'local'};</script>\n",
              "        <script src=\"https://cdn.plot.ly/plotly-2.8.3.min.js\"></script>                <div id=\"68c04b98-a792-4774-b2cf-3fbb0cdc9546\" class=\"plotly-graph-div\" style=\"height:525px; width:100%;\"></div>            <script type=\"text/javascript\">                                    window.PLOTLYENV=window.PLOTLYENV || {};                                    if (document.getElementById(\"68c04b98-a792-4774-b2cf-3fbb0cdc9546\")) {                    Plotly.newPlot(                        \"68c04b98-a792-4774-b2cf-3fbb0cdc9546\",                        [{\"alignmentgroup\":\"True\",\"hovertemplate\":\"Common_words=%{y}<br>count=%{x}<extra></extra>\",\"legendgroup\":\"dollar\",\"marker\":{\"color\":\"#636efa\",\"pattern\":{\"shape\":\"\"}},\"name\":\"dollar\",\"offsetgroup\":\"dollar\",\"orientation\":\"h\",\"showlegend\":true,\"textposition\":\"auto\",\"x\":[99],\"xaxis\":\"x\",\"y\":[\"dollar\"],\"yaxis\":\"y\",\"type\":\"bar\"},{\"alignmentgroup\":\"True\",\"hovertemplate\":\"Common_words=%{y}<br>count=%{x}<extra></extra>\",\"legendgroup\":\"euro\",\"marker\":{\"color\":\"#EF553B\",\"pattern\":{\"shape\":\"\"}},\"name\":\"euro\",\"offsetgroup\":\"euro\",\"orientation\":\"h\",\"showlegend\":true,\"textposition\":\"auto\",\"x\":[79],\"xaxis\":\"x\",\"y\":[\"euro\"],\"yaxis\":\"y\",\"type\":\"bar\"},{\"alignmentgroup\":\"True\",\"hovertemplate\":\"Common_words=%{y}<br>count=%{x}<extra></extra>\",\"legendgroup\":\"u\",\"marker\":{\"color\":\"#00cc96\",\"pattern\":{\"shape\":\"\"}},\"name\":\"u\",\"offsetgroup\":\"u\",\"orientation\":\"h\",\"showlegend\":true,\"textposition\":\"auto\",\"x\":[53],\"xaxis\":\"x\",\"y\":[\"u\"],\"yaxis\":\"y\",\"type\":\"bar\"},{\"alignmentgroup\":\"True\",\"hovertemplate\":\"Common_words=%{y}<br>count=%{x}<extra></extra>\",\"legendgroup\":\"parity\",\"marker\":{\"color\":\"#ab63fa\",\"pattern\":{\"shape\":\"\"}},\"name\":\"parity\",\"offsetgroup\":\"parity\",\"orientation\":\"h\",\"showlegend\":true,\"textposition\":\"auto\",\"x\":[44],\"xaxis\":\"x\",\"y\":[\"parity\"],\"yaxis\":\"y\",\"type\":\"bar\"},{\"alignmentgroup\":\"True\",\"hovertemplate\":\"Common_words=%{y}<br>count=%{x}<extra></extra>\",\"legendgroup\":\"first\",\"marker\":{\"color\":\"#FFA15A\",\"pattern\":{\"shape\":\"\"}},\"name\":\"first\",\"offsetgroup\":\"first\",\"orientation\":\"h\",\"showlegend\":true,\"textposition\":\"auto\",\"x\":[22],\"xaxis\":\"x\",\"y\":[\"first\"],\"yaxis\":\"y\",\"type\":\"bar\"},{\"alignmentgroup\":\"True\",\"hovertemplate\":\"Common_words=%{y}<br>count=%{x}<extra></extra>\",\"legendgroup\":\"time\",\"marker\":{\"color\":\"#19d3f3\",\"pattern\":{\"shape\":\"\"}},\"name\":\"time\",\"offsetgroup\":\"time\",\"orientation\":\"h\",\"showlegend\":true,\"textposition\":\"auto\",\"x\":[22],\"xaxis\":\"x\",\"y\":[\"time\"],\"yaxis\":\"y\",\"type\":\"bar\"},{\"alignmentgroup\":\"True\",\"hovertemplate\":\"Common_words=%{y}<br>count=%{x}<extra></extra>\",\"legendgroup\":\"currency\",\"marker\":{\"color\":\"#FF6692\",\"pattern\":{\"shape\":\"\"}},\"name\":\"currency\",\"offsetgroup\":\"currency\",\"orientation\":\"h\",\"showlegend\":true,\"textposition\":\"auto\",\"x\":[19],\"xaxis\":\"x\",\"y\":[\"currency\"],\"yaxis\":\"y\",\"type\":\"bar\"},{\"alignmentgroup\":\"True\",\"hovertemplate\":\"Common_words=%{y}<br>count=%{x}<extra></extra>\",\"legendgroup\":\"year\",\"marker\":{\"color\":\"#B6E880\",\"pattern\":{\"shape\":\"\"}},\"name\":\"year\",\"offsetgroup\":\"year\",\"orientation\":\"h\",\"showlegend\":true,\"textposition\":\"auto\",\"x\":[17],\"xaxis\":\"x\",\"y\":[\"year\"],\"yaxis\":\"y\",\"type\":\"bar\"},{\"alignmentgroup\":\"True\",\"hovertemplate\":\"Common_words=%{y}<br>count=%{x}<extra></extra>\",\"legendgroup\":\"stock\",\"marker\":{\"color\":\"#FF97FF\",\"pattern\":{\"shape\":\"\"}},\"name\":\"stock\",\"offsetgroup\":\"stock\",\"orientation\":\"h\",\"showlegend\":true,\"textposition\":\"auto\",\"x\":[15],\"xaxis\":\"x\",\"y\":[\"stock\"],\"yaxis\":\"y\",\"type\":\"bar\"},{\"alignmentgroup\":\"True\",\"hovertemplate\":\"Common_words=%{y}<br>count=%{x}<extra></extra>\",\"legendgroup\":\"market\",\"marker\":{\"color\":\"#FECB52\",\"pattern\":{\"shape\":\"\"}},\"name\":\"market\",\"offsetgroup\":\"market\",\"orientation\":\"h\",\"showlegend\":true,\"textposition\":\"auto\",\"x\":[15],\"xaxis\":\"x\",\"y\":[\"market\"],\"yaxis\":\"y\",\"type\":\"bar\"}],                        {\"template\":{\"data\":{\"bar\":[{\"error_x\":{\"color\":\"#2a3f5f\"},\"error_y\":{\"color\":\"#2a3f5f\"},\"marker\":{\"line\":{\"color\":\"#E5ECF6\",\"width\":0.5},\"pattern\":{\"fillmode\":\"overlay\",\"size\":10,\"solidity\":0.2}},\"type\":\"bar\"}],\"barpolar\":[{\"marker\":{\"line\":{\"color\":\"#E5ECF6\",\"width\":0.5},\"pattern\":{\"fillmode\":\"overlay\",\"size\":10,\"solidity\":0.2}},\"type\":\"barpolar\"}],\"carpet\":[{\"aaxis\":{\"endlinecolor\":\"#2a3f5f\",\"gridcolor\":\"white\",\"linecolor\":\"white\",\"minorgridcolor\":\"white\",\"startlinecolor\":\"#2a3f5f\"},\"baxis\":{\"endlinecolor\":\"#2a3f5f\",\"gridcolor\":\"white\",\"linecolor\":\"white\",\"minorgridcolor\":\"white\",\"startlinecolor\":\"#2a3f5f\"},\"type\":\"carpet\"}],\"choropleth\":[{\"colorbar\":{\"outlinewidth\":0,\"ticks\":\"\"},\"type\":\"choropleth\"}],\"contour\":[{\"colorbar\":{\"outlinewidth\":0,\"ticks\":\"\"},\"colorscale\":[[0.0,\"#0d0887\"],[0.1111111111111111,\"#46039f\"],[0.2222222222222222,\"#7201a8\"],[0.3333333333333333,\"#9c179e\"],[0.4444444444444444,\"#bd3786\"],[0.5555555555555556,\"#d8576b\"],[0.6666666666666666,\"#ed7953\"],[0.7777777777777778,\"#fb9f3a\"],[0.8888888888888888,\"#fdca26\"],[1.0,\"#f0f921\"]],\"type\":\"contour\"}],\"contourcarpet\":[{\"colorbar\":{\"outlinewidth\":0,\"ticks\":\"\"},\"type\":\"contourcarpet\"}],\"heatmap\":[{\"colorbar\":{\"outlinewidth\":0,\"ticks\":\"\"},\"colorscale\":[[0.0,\"#0d0887\"],[0.1111111111111111,\"#46039f\"],[0.2222222222222222,\"#7201a8\"],[0.3333333333333333,\"#9c179e\"],[0.4444444444444444,\"#bd3786\"],[0.5555555555555556,\"#d8576b\"],[0.6666666666666666,\"#ed7953\"],[0.7777777777777778,\"#fb9f3a\"],[0.8888888888888888,\"#fdca26\"],[1.0,\"#f0f921\"]],\"type\":\"heatmap\"}],\"heatmapgl\":[{\"colorbar\":{\"outlinewidth\":0,\"ticks\":\"\"},\"colorscale\":[[0.0,\"#0d0887\"],[0.1111111111111111,\"#46039f\"],[0.2222222222222222,\"#7201a8\"],[0.3333333333333333,\"#9c179e\"],[0.4444444444444444,\"#bd3786\"],[0.5555555555555556,\"#d8576b\"],[0.6666666666666666,\"#ed7953\"],[0.7777777777777778,\"#fb9f3a\"],[0.8888888888888888,\"#fdca26\"],[1.0,\"#f0f921\"]],\"type\":\"heatmapgl\"}],\"histogram\":[{\"marker\":{\"pattern\":{\"fillmode\":\"overlay\",\"size\":10,\"solidity\":0.2}},\"type\":\"histogram\"}],\"histogram2d\":[{\"colorbar\":{\"outlinewidth\":0,\"ticks\":\"\"},\"colorscale\":[[0.0,\"#0d0887\"],[0.1111111111111111,\"#46039f\"],[0.2222222222222222,\"#7201a8\"],[0.3333333333333333,\"#9c179e\"],[0.4444444444444444,\"#bd3786\"],[0.5555555555555556,\"#d8576b\"],[0.6666666666666666,\"#ed7953\"],[0.7777777777777778,\"#fb9f3a\"],[0.8888888888888888,\"#fdca26\"],[1.0,\"#f0f921\"]],\"type\":\"histogram2d\"}],\"histogram2dcontour\":[{\"colorbar\":{\"outlinewidth\":0,\"ticks\":\"\"},\"colorscale\":[[0.0,\"#0d0887\"],[0.1111111111111111,\"#46039f\"],[0.2222222222222222,\"#7201a8\"],[0.3333333333333333,\"#9c179e\"],[0.4444444444444444,\"#bd3786\"],[0.5555555555555556,\"#d8576b\"],[0.6666666666666666,\"#ed7953\"],[0.7777777777777778,\"#fb9f3a\"],[0.8888888888888888,\"#fdca26\"],[1.0,\"#f0f921\"]],\"type\":\"histogram2dcontour\"}],\"mesh3d\":[{\"colorbar\":{\"outlinewidth\":0,\"ticks\":\"\"},\"type\":\"mesh3d\"}],\"parcoords\":[{\"line\":{\"colorbar\":{\"outlinewidth\":0,\"ticks\":\"\"}},\"type\":\"parcoords\"}],\"pie\":[{\"automargin\":true,\"type\":\"pie\"}],\"scatter\":[{\"marker\":{\"colorbar\":{\"outlinewidth\":0,\"ticks\":\"\"}},\"type\":\"scatter\"}],\"scatter3d\":[{\"line\":{\"colorbar\":{\"outlinewidth\":0,\"ticks\":\"\"}},\"marker\":{\"colorbar\":{\"outlinewidth\":0,\"ticks\":\"\"}},\"type\":\"scatter3d\"}],\"scattercarpet\":[{\"marker\":{\"colorbar\":{\"outlinewidth\":0,\"ticks\":\"\"}},\"type\":\"scattercarpet\"}],\"scattergeo\":[{\"marker\":{\"colorbar\":{\"outlinewidth\":0,\"ticks\":\"\"}},\"type\":\"scattergeo\"}],\"scattergl\":[{\"marker\":{\"colorbar\":{\"outlinewidth\":0,\"ticks\":\"\"}},\"type\":\"scattergl\"}],\"scattermapbox\":[{\"marker\":{\"colorbar\":{\"outlinewidth\":0,\"ticks\":\"\"}},\"type\":\"scattermapbox\"}],\"scatterpolar\":[{\"marker\":{\"colorbar\":{\"outlinewidth\":0,\"ticks\":\"\"}},\"type\":\"scatterpolar\"}],\"scatterpolargl\":[{\"marker\":{\"colorbar\":{\"outlinewidth\":0,\"ticks\":\"\"}},\"type\":\"scatterpolargl\"}],\"scatterternary\":[{\"marker\":{\"colorbar\":{\"outlinewidth\":0,\"ticks\":\"\"}},\"type\":\"scatterternary\"}],\"surface\":[{\"colorbar\":{\"outlinewidth\":0,\"ticks\":\"\"},\"colorscale\":[[0.0,\"#0d0887\"],[0.1111111111111111,\"#46039f\"],[0.2222222222222222,\"#7201a8\"],[0.3333333333333333,\"#9c179e\"],[0.4444444444444444,\"#bd3786\"],[0.5555555555555556,\"#d8576b\"],[0.6666666666666666,\"#ed7953\"],[0.7777777777777778,\"#fb9f3a\"],[0.8888888888888888,\"#fdca26\"],[1.0,\"#f0f921\"]],\"type\":\"surface\"}],\"table\":[{\"cells\":{\"fill\":{\"color\":\"#EBF0F8\"},\"line\":{\"color\":\"white\"}},\"header\":{\"fill\":{\"color\":\"#C8D4E3\"},\"line\":{\"color\":\"white\"}},\"type\":\"table\"}]},\"layout\":{\"annotationdefaults\":{\"arrowcolor\":\"#2a3f5f\",\"arrowhead\":0,\"arrowwidth\":1},\"autotypenumbers\":\"strict\",\"coloraxis\":{\"colorbar\":{\"outlinewidth\":0,\"ticks\":\"\"}},\"colorscale\":{\"diverging\":[[0,\"#8e0152\"],[0.1,\"#c51b7d\"],[0.2,\"#de77ae\"],[0.3,\"#f1b6da\"],[0.4,\"#fde0ef\"],[0.5,\"#f7f7f7\"],[0.6,\"#e6f5d0\"],[0.7,\"#b8e186\"],[0.8,\"#7fbc41\"],[0.9,\"#4d9221\"],[1,\"#276419\"]],\"sequential\":[[0.0,\"#0d0887\"],[0.1111111111111111,\"#46039f\"],[0.2222222222222222,\"#7201a8\"],[0.3333333333333333,\"#9c179e\"],[0.4444444444444444,\"#bd3786\"],[0.5555555555555556,\"#d8576b\"],[0.6666666666666666,\"#ed7953\"],[0.7777777777777778,\"#fb9f3a\"],[0.8888888888888888,\"#fdca26\"],[1.0,\"#f0f921\"]],\"sequentialminus\":[[0.0,\"#0d0887\"],[0.1111111111111111,\"#46039f\"],[0.2222222222222222,\"#7201a8\"],[0.3333333333333333,\"#9c179e\"],[0.4444444444444444,\"#bd3786\"],[0.5555555555555556,\"#d8576b\"],[0.6666666666666666,\"#ed7953\"],[0.7777777777777778,\"#fb9f3a\"],[0.8888888888888888,\"#fdca26\"],[1.0,\"#f0f921\"]]},\"colorway\":[\"#636efa\",\"#EF553B\",\"#00cc96\",\"#ab63fa\",\"#FFA15A\",\"#19d3f3\",\"#FF6692\",\"#B6E880\",\"#FF97FF\",\"#FECB52\"],\"font\":{\"color\":\"#2a3f5f\"},\"geo\":{\"bgcolor\":\"white\",\"lakecolor\":\"white\",\"landcolor\":\"#E5ECF6\",\"showlakes\":true,\"showland\":true,\"subunitcolor\":\"white\"},\"hoverlabel\":{\"align\":\"left\"},\"hovermode\":\"closest\",\"mapbox\":{\"style\":\"light\"},\"paper_bgcolor\":\"white\",\"plot_bgcolor\":\"#E5ECF6\",\"polar\":{\"angularaxis\":{\"gridcolor\":\"white\",\"linecolor\":\"white\",\"ticks\":\"\"},\"bgcolor\":\"#E5ECF6\",\"radialaxis\":{\"gridcolor\":\"white\",\"linecolor\":\"white\",\"ticks\":\"\"}},\"scene\":{\"xaxis\":{\"backgroundcolor\":\"#E5ECF6\",\"gridcolor\":\"white\",\"gridwidth\":2,\"linecolor\":\"white\",\"showbackground\":true,\"ticks\":\"\",\"zerolinecolor\":\"white\"},\"yaxis\":{\"backgroundcolor\":\"#E5ECF6\",\"gridcolor\":\"white\",\"gridwidth\":2,\"linecolor\":\"white\",\"showbackground\":true,\"ticks\":\"\",\"zerolinecolor\":\"white\"},\"zaxis\":{\"backgroundcolor\":\"#E5ECF6\",\"gridcolor\":\"white\",\"gridwidth\":2,\"linecolor\":\"white\",\"showbackground\":true,\"ticks\":\"\",\"zerolinecolor\":\"white\"}},\"shapedefaults\":{\"line\":{\"color\":\"#2a3f5f\"}},\"ternary\":{\"aaxis\":{\"gridcolor\":\"white\",\"linecolor\":\"white\",\"ticks\":\"\"},\"baxis\":{\"gridcolor\":\"white\",\"linecolor\":\"white\",\"ticks\":\"\"},\"bgcolor\":\"#E5ECF6\",\"caxis\":{\"gridcolor\":\"white\",\"linecolor\":\"white\",\"ticks\":\"\"}},\"title\":{\"x\":0.05},\"xaxis\":{\"automargin\":true,\"gridcolor\":\"white\",\"linecolor\":\"white\",\"ticks\":\"\",\"title\":{\"standoff\":15},\"zerolinecolor\":\"white\",\"zerolinewidth\":2},\"yaxis\":{\"automargin\":true,\"gridcolor\":\"white\",\"linecolor\":\"white\",\"ticks\":\"\",\"title\":{\"standoff\":15},\"zerolinecolor\":\"white\",\"zerolinewidth\":2}}},\"xaxis\":{\"anchor\":\"y\",\"domain\":[0.0,1.0],\"title\":{\"text\":\"count\"}},\"yaxis\":{\"anchor\":\"x\",\"domain\":[0.0,1.0],\"title\":{\"text\":\"Common_words\"},\"categoryorder\":\"array\",\"categoryarray\":[\"market\",\"stock\",\"year\",\"currency\",\"time\",\"first\",\"parity\",\"u\",\"euro\",\"dollar\"]},\"legend\":{\"title\":{\"text\":\"Common_words\"},\"tracegroupgap\":0},\"title\":{\"text\":\"Common Words in Label8\"},\"barmode\":\"relative\"},                        {\"responsive\": true}                    ).then(function(){\n",
              "                            \n",
              "var gd = document.getElementById('68c04b98-a792-4774-b2cf-3fbb0cdc9546');\n",
              "var x = new MutationObserver(function (mutations, observer) {{\n",
              "        var display = window.getComputedStyle(gd).display;\n",
              "        if (!display || display === 'none') {{\n",
              "            console.log([gd, 'removed!']);\n",
              "            Plotly.purge(gd);\n",
              "            observer.disconnect();\n",
              "        }}\n",
              "}});\n",
              "\n",
              "// Listen for the removal of the full notebook cells\n",
              "var notebookContainer = gd.closest('#notebook-container');\n",
              "if (notebookContainer) {{\n",
              "    x.observe(notebookContainer, {childList: true});\n",
              "}}\n",
              "\n",
              "// Listen for the clearing of the current output cell\n",
              "var outputEl = gd.closest('.output');\n",
              "if (outputEl) {{\n",
              "    x.observe(outputEl, {childList: true});\n",
              "}}\n",
              "\n",
              "                        })                };                            </script>        </div>\n",
              "</body>\n",
              "</html>"
            ]
          },
          "metadata": {},
          "output_type": "display_data"
        },
        {
          "name": "stderr",
          "output_type": "stream",
          "text": [
            "<ipython-input-25-ec3bb4c6d183>:3: SettingWithCopyWarning:\n",
            "\n",
            "\n",
            "A value is trying to be set on a copy of a slice from a DataFrame.\n",
            "Try using .loc[row_indexer,col_indexer] = value instead\n",
            "\n",
            "See the caveats in the documentation: https://pandas.pydata.org/pandas-docs/stable/user_guide/indexing.html#returning-a-view-versus-a-copy\n",
            "\n"
          ]
        },
        {
          "data": {
            "text/html": [
              "<html>\n",
              "<head><meta charset=\"utf-8\" /></head>\n",
              "<body>\n",
              "    <div>            <script src=\"https://cdnjs.cloudflare.com/ajax/libs/mathjax/2.7.5/MathJax.js?config=TeX-AMS-MML_SVG\"></script><script type=\"text/javascript\">if (window.MathJax) {MathJax.Hub.Config({SVG: {font: \"STIX-Web\"}});}</script>                <script type=\"text/javascript\">window.PlotlyConfig = {MathJaxConfig: 'local'};</script>\n",
              "        <script src=\"https://cdn.plot.ly/plotly-2.8.3.min.js\"></script>                <div id=\"14e467cb-bef2-4430-ac02-f1a44b974a72\" class=\"plotly-graph-div\" style=\"height:525px; width:100%;\"></div>            <script type=\"text/javascript\">                                    window.PLOTLYENV=window.PLOTLYENV || {};                                    if (document.getElementById(\"14e467cb-bef2-4430-ac02-f1a44b974a72\")) {                    Plotly.newPlot(                        \"14e467cb-bef2-4430-ac02-f1a44b974a72\",                        [{\"alignmentgroup\":\"True\",\"hovertemplate\":\"Common_words=%{y}<br>count=%{x}<extra></extra>\",\"legendgroup\":\"via\",\"marker\":{\"color\":\"#636efa\",\"pattern\":{\"shape\":\"\"}},\"name\":\"via\",\"offsetgroup\":\"via\",\"orientation\":\"h\",\"showlegend\":true,\"textposition\":\"auto\",\"x\":[152],\"xaxis\":\"x\",\"y\":[\"via\"],\"yaxis\":\"y\",\"type\":\"bar\"},{\"alignmentgroup\":\"True\",\"hovertemplate\":\"Common_words=%{y}<br>count=%{x}<extra></extra>\",\"legendgroup\":\"new\",\"marker\":{\"color\":\"#EF553B\",\"pattern\":{\"shape\":\"\"}},\"name\":\"new\",\"offsetgroup\":\"new\",\"orientation\":\"h\",\"showlegend\":true,\"textposition\":\"auto\",\"x\":[147],\"xaxis\":\"x\",\"y\":[\"new\"],\"yaxis\":\"y\",\"type\":\"bar\"},{\"alignmentgroup\":\"True\",\"hovertemplate\":\"Common_words=%{y}<br>count=%{x}<extra></extra>\",\"legendgroup\":\"say\",\"marker\":{\"color\":\"#00cc96\",\"pattern\":{\"shape\":\"\"}},\"name\":\"say\",\"offsetgroup\":\"say\",\"orientation\":\"h\",\"showlegend\":true,\"textposition\":\"auto\",\"x\":[121],\"xaxis\":\"x\",\"y\":[\"say\"],\"yaxis\":\"y\",\"type\":\"bar\"},{\"alignmentgroup\":\"True\",\"hovertemplate\":\"Common_words=%{y}<br>count=%{x}<extra></extra>\",\"legendgroup\":\"u\",\"marker\":{\"color\":\"#ab63fa\",\"pattern\":{\"shape\":\"\"}},\"name\":\"u\",\"offsetgroup\":\"u\",\"orientation\":\"h\",\"showlegend\":true,\"textposition\":\"auto\",\"x\":[110],\"xaxis\":\"x\",\"y\":[\"u\"],\"yaxis\":\"y\",\"type\":\"bar\"},{\"alignmentgroup\":\"True\",\"hovertemplate\":\"Common_words=%{y}<br>count=%{x}<extra></extra>\",\"legendgroup\":\"big\",\"marker\":{\"color\":\"#FFA15A\",\"pattern\":{\"shape\":\"\"}},\"name\":\"big\",\"offsetgroup\":\"big\",\"orientation\":\"h\",\"showlegend\":true,\"textposition\":\"auto\",\"x\":[102],\"xaxis\":\"x\",\"y\":[\"big\"],\"yaxis\":\"y\",\"type\":\"bar\"},{\"alignmentgroup\":\"True\",\"hovertemplate\":\"Common_words=%{y}<br>count=%{x}<extra></extra>\",\"legendgroup\":\"market\",\"marker\":{\"color\":\"#19d3f3\",\"pattern\":{\"shape\":\"\"}},\"name\":\"market\",\"offsetgroup\":\"market\",\"orientation\":\"h\",\"showlegend\":true,\"textposition\":\"auto\",\"x\":[101],\"xaxis\":\"x\",\"y\":[\"market\"],\"yaxis\":\"y\",\"type\":\"bar\"},{\"alignmentgroup\":\"True\",\"hovertemplate\":\"Common_words=%{y}<br>count=%{x}<extra></extra>\",\"legendgroup\":\"year\",\"marker\":{\"color\":\"#FF6692\",\"pattern\":{\"shape\":\"\"}},\"name\":\"year\",\"offsetgroup\":\"year\",\"orientation\":\"h\",\"showlegend\":true,\"textposition\":\"auto\",\"x\":[101],\"xaxis\":\"x\",\"y\":[\"year\"],\"yaxis\":\"y\",\"type\":\"bar\"},{\"alignmentgroup\":\"True\",\"hovertemplate\":\"Common_words=%{y}<br>count=%{x}<extra></extra>\",\"legendgroup\":\"people\",\"marker\":{\"color\":\"#B6E880\",\"pattern\":{\"shape\":\"\"}},\"name\":\"people\",\"offsetgroup\":\"people\",\"orientation\":\"h\",\"showlegend\":true,\"textposition\":\"auto\",\"x\":[80],\"xaxis\":\"x\",\"y\":[\"people\"],\"yaxis\":\"y\",\"type\":\"bar\"},{\"alignmentgroup\":\"True\",\"hovertemplate\":\"Common_words=%{y}<br>count=%{x}<extra></extra>\",\"legendgroup\":\"take\",\"marker\":{\"color\":\"#FF97FF\",\"pattern\":{\"shape\":\"\"}},\"name\":\"take\",\"offsetgroup\":\"take\",\"orientation\":\"h\",\"showlegend\":true,\"textposition\":\"auto\",\"x\":[78],\"xaxis\":\"x\",\"y\":[\"take\"],\"yaxis\":\"y\",\"type\":\"bar\"},{\"alignmentgroup\":\"True\",\"hovertemplate\":\"Common_words=%{y}<br>count=%{x}<extra></extra>\",\"legendgroup\":\"time\",\"marker\":{\"color\":\"#FECB52\",\"pattern\":{\"shape\":\"\"}},\"name\":\"time\",\"offsetgroup\":\"time\",\"orientation\":\"h\",\"showlegend\":true,\"textposition\":\"auto\",\"x\":[74],\"xaxis\":\"x\",\"y\":[\"time\"],\"yaxis\":\"y\",\"type\":\"bar\"}],                        {\"template\":{\"data\":{\"bar\":[{\"error_x\":{\"color\":\"#2a3f5f\"},\"error_y\":{\"color\":\"#2a3f5f\"},\"marker\":{\"line\":{\"color\":\"#E5ECF6\",\"width\":0.5},\"pattern\":{\"fillmode\":\"overlay\",\"size\":10,\"solidity\":0.2}},\"type\":\"bar\"}],\"barpolar\":[{\"marker\":{\"line\":{\"color\":\"#E5ECF6\",\"width\":0.5},\"pattern\":{\"fillmode\":\"overlay\",\"size\":10,\"solidity\":0.2}},\"type\":\"barpolar\"}],\"carpet\":[{\"aaxis\":{\"endlinecolor\":\"#2a3f5f\",\"gridcolor\":\"white\",\"linecolor\":\"white\",\"minorgridcolor\":\"white\",\"startlinecolor\":\"#2a3f5f\"},\"baxis\":{\"endlinecolor\":\"#2a3f5f\",\"gridcolor\":\"white\",\"linecolor\":\"white\",\"minorgridcolor\":\"white\",\"startlinecolor\":\"#2a3f5f\"},\"type\":\"carpet\"}],\"choropleth\":[{\"colorbar\":{\"outlinewidth\":0,\"ticks\":\"\"},\"type\":\"choropleth\"}],\"contour\":[{\"colorbar\":{\"outlinewidth\":0,\"ticks\":\"\"},\"colorscale\":[[0.0,\"#0d0887\"],[0.1111111111111111,\"#46039f\"],[0.2222222222222222,\"#7201a8\"],[0.3333333333333333,\"#9c179e\"],[0.4444444444444444,\"#bd3786\"],[0.5555555555555556,\"#d8576b\"],[0.6666666666666666,\"#ed7953\"],[0.7777777777777778,\"#fb9f3a\"],[0.8888888888888888,\"#fdca26\"],[1.0,\"#f0f921\"]],\"type\":\"contour\"}],\"contourcarpet\":[{\"colorbar\":{\"outlinewidth\":0,\"ticks\":\"\"},\"type\":\"contourcarpet\"}],\"heatmap\":[{\"colorbar\":{\"outlinewidth\":0,\"ticks\":\"\"},\"colorscale\":[[0.0,\"#0d0887\"],[0.1111111111111111,\"#46039f\"],[0.2222222222222222,\"#7201a8\"],[0.3333333333333333,\"#9c179e\"],[0.4444444444444444,\"#bd3786\"],[0.5555555555555556,\"#d8576b\"],[0.6666666666666666,\"#ed7953\"],[0.7777777777777778,\"#fb9f3a\"],[0.8888888888888888,\"#fdca26\"],[1.0,\"#f0f921\"]],\"type\":\"heatmap\"}],\"heatmapgl\":[{\"colorbar\":{\"outlinewidth\":0,\"ticks\":\"\"},\"colorscale\":[[0.0,\"#0d0887\"],[0.1111111111111111,\"#46039f\"],[0.2222222222222222,\"#7201a8\"],[0.3333333333333333,\"#9c179e\"],[0.4444444444444444,\"#bd3786\"],[0.5555555555555556,\"#d8576b\"],[0.6666666666666666,\"#ed7953\"],[0.7777777777777778,\"#fb9f3a\"],[0.8888888888888888,\"#fdca26\"],[1.0,\"#f0f921\"]],\"type\":\"heatmapgl\"}],\"histogram\":[{\"marker\":{\"pattern\":{\"fillmode\":\"overlay\",\"size\":10,\"solidity\":0.2}},\"type\":\"histogram\"}],\"histogram2d\":[{\"colorbar\":{\"outlinewidth\":0,\"ticks\":\"\"},\"colorscale\":[[0.0,\"#0d0887\"],[0.1111111111111111,\"#46039f\"],[0.2222222222222222,\"#7201a8\"],[0.3333333333333333,\"#9c179e\"],[0.4444444444444444,\"#bd3786\"],[0.5555555555555556,\"#d8576b\"],[0.6666666666666666,\"#ed7953\"],[0.7777777777777778,\"#fb9f3a\"],[0.8888888888888888,\"#fdca26\"],[1.0,\"#f0f921\"]],\"type\":\"histogram2d\"}],\"histogram2dcontour\":[{\"colorbar\":{\"outlinewidth\":0,\"ticks\":\"\"},\"colorscale\":[[0.0,\"#0d0887\"],[0.1111111111111111,\"#46039f\"],[0.2222222222222222,\"#7201a8\"],[0.3333333333333333,\"#9c179e\"],[0.4444444444444444,\"#bd3786\"],[0.5555555555555556,\"#d8576b\"],[0.6666666666666666,\"#ed7953\"],[0.7777777777777778,\"#fb9f3a\"],[0.8888888888888888,\"#fdca26\"],[1.0,\"#f0f921\"]],\"type\":\"histogram2dcontour\"}],\"mesh3d\":[{\"colorbar\":{\"outlinewidth\":0,\"ticks\":\"\"},\"type\":\"mesh3d\"}],\"parcoords\":[{\"line\":{\"colorbar\":{\"outlinewidth\":0,\"ticks\":\"\"}},\"type\":\"parcoords\"}],\"pie\":[{\"automargin\":true,\"type\":\"pie\"}],\"scatter\":[{\"marker\":{\"colorbar\":{\"outlinewidth\":0,\"ticks\":\"\"}},\"type\":\"scatter\"}],\"scatter3d\":[{\"line\":{\"colorbar\":{\"outlinewidth\":0,\"ticks\":\"\"}},\"marker\":{\"colorbar\":{\"outlinewidth\":0,\"ticks\":\"\"}},\"type\":\"scatter3d\"}],\"scattercarpet\":[{\"marker\":{\"colorbar\":{\"outlinewidth\":0,\"ticks\":\"\"}},\"type\":\"scattercarpet\"}],\"scattergeo\":[{\"marker\":{\"colorbar\":{\"outlinewidth\":0,\"ticks\":\"\"}},\"type\":\"scattergeo\"}],\"scattergl\":[{\"marker\":{\"colorbar\":{\"outlinewidth\":0,\"ticks\":\"\"}},\"type\":\"scattergl\"}],\"scattermapbox\":[{\"marker\":{\"colorbar\":{\"outlinewidth\":0,\"ticks\":\"\"}},\"type\":\"scattermapbox\"}],\"scatterpolar\":[{\"marker\":{\"colorbar\":{\"outlinewidth\":0,\"ticks\":\"\"}},\"type\":\"scatterpolar\"}],\"scatterpolargl\":[{\"marker\":{\"colorbar\":{\"outlinewidth\":0,\"ticks\":\"\"}},\"type\":\"scatterpolargl\"}],\"scatterternary\":[{\"marker\":{\"colorbar\":{\"outlinewidth\":0,\"ticks\":\"\"}},\"type\":\"scatterternary\"}],\"surface\":[{\"colorbar\":{\"outlinewidth\":0,\"ticks\":\"\"},\"colorscale\":[[0.0,\"#0d0887\"],[0.1111111111111111,\"#46039f\"],[0.2222222222222222,\"#7201a8\"],[0.3333333333333333,\"#9c179e\"],[0.4444444444444444,\"#bd3786\"],[0.5555555555555556,\"#d8576b\"],[0.6666666666666666,\"#ed7953\"],[0.7777777777777778,\"#fb9f3a\"],[0.8888888888888888,\"#fdca26\"],[1.0,\"#f0f921\"]],\"type\":\"surface\"}],\"table\":[{\"cells\":{\"fill\":{\"color\":\"#EBF0F8\"},\"line\":{\"color\":\"white\"}},\"header\":{\"fill\":{\"color\":\"#C8D4E3\"},\"line\":{\"color\":\"white\"}},\"type\":\"table\"}]},\"layout\":{\"annotationdefaults\":{\"arrowcolor\":\"#2a3f5f\",\"arrowhead\":0,\"arrowwidth\":1},\"autotypenumbers\":\"strict\",\"coloraxis\":{\"colorbar\":{\"outlinewidth\":0,\"ticks\":\"\"}},\"colorscale\":{\"diverging\":[[0,\"#8e0152\"],[0.1,\"#c51b7d\"],[0.2,\"#de77ae\"],[0.3,\"#f1b6da\"],[0.4,\"#fde0ef\"],[0.5,\"#f7f7f7\"],[0.6,\"#e6f5d0\"],[0.7,\"#b8e186\"],[0.8,\"#7fbc41\"],[0.9,\"#4d9221\"],[1,\"#276419\"]],\"sequential\":[[0.0,\"#0d0887\"],[0.1111111111111111,\"#46039f\"],[0.2222222222222222,\"#7201a8\"],[0.3333333333333333,\"#9c179e\"],[0.4444444444444444,\"#bd3786\"],[0.5555555555555556,\"#d8576b\"],[0.6666666666666666,\"#ed7953\"],[0.7777777777777778,\"#fb9f3a\"],[0.8888888888888888,\"#fdca26\"],[1.0,\"#f0f921\"]],\"sequentialminus\":[[0.0,\"#0d0887\"],[0.1111111111111111,\"#46039f\"],[0.2222222222222222,\"#7201a8\"],[0.3333333333333333,\"#9c179e\"],[0.4444444444444444,\"#bd3786\"],[0.5555555555555556,\"#d8576b\"],[0.6666666666666666,\"#ed7953\"],[0.7777777777777778,\"#fb9f3a\"],[0.8888888888888888,\"#fdca26\"],[1.0,\"#f0f921\"]]},\"colorway\":[\"#636efa\",\"#EF553B\",\"#00cc96\",\"#ab63fa\",\"#FFA15A\",\"#19d3f3\",\"#FF6692\",\"#B6E880\",\"#FF97FF\",\"#FECB52\"],\"font\":{\"color\":\"#2a3f5f\"},\"geo\":{\"bgcolor\":\"white\",\"lakecolor\":\"white\",\"landcolor\":\"#E5ECF6\",\"showlakes\":true,\"showland\":true,\"subunitcolor\":\"white\"},\"hoverlabel\":{\"align\":\"left\"},\"hovermode\":\"closest\",\"mapbox\":{\"style\":\"light\"},\"paper_bgcolor\":\"white\",\"plot_bgcolor\":\"#E5ECF6\",\"polar\":{\"angularaxis\":{\"gridcolor\":\"white\",\"linecolor\":\"white\",\"ticks\":\"\"},\"bgcolor\":\"#E5ECF6\",\"radialaxis\":{\"gridcolor\":\"white\",\"linecolor\":\"white\",\"ticks\":\"\"}},\"scene\":{\"xaxis\":{\"backgroundcolor\":\"#E5ECF6\",\"gridcolor\":\"white\",\"gridwidth\":2,\"linecolor\":\"white\",\"showbackground\":true,\"ticks\":\"\",\"zerolinecolor\":\"white\"},\"yaxis\":{\"backgroundcolor\":\"#E5ECF6\",\"gridcolor\":\"white\",\"gridwidth\":2,\"linecolor\":\"white\",\"showbackground\":true,\"ticks\":\"\",\"zerolinecolor\":\"white\"},\"zaxis\":{\"backgroundcolor\":\"#E5ECF6\",\"gridcolor\":\"white\",\"gridwidth\":2,\"linecolor\":\"white\",\"showbackground\":true,\"ticks\":\"\",\"zerolinecolor\":\"white\"}},\"shapedefaults\":{\"line\":{\"color\":\"#2a3f5f\"}},\"ternary\":{\"aaxis\":{\"gridcolor\":\"white\",\"linecolor\":\"white\",\"ticks\":\"\"},\"baxis\":{\"gridcolor\":\"white\",\"linecolor\":\"white\",\"ticks\":\"\"},\"bgcolor\":\"#E5ECF6\",\"caxis\":{\"gridcolor\":\"white\",\"linecolor\":\"white\",\"ticks\":\"\"}},\"title\":{\"x\":0.05},\"xaxis\":{\"automargin\":true,\"gridcolor\":\"white\",\"linecolor\":\"white\",\"ticks\":\"\",\"title\":{\"standoff\":15},\"zerolinecolor\":\"white\",\"zerolinewidth\":2},\"yaxis\":{\"automargin\":true,\"gridcolor\":\"white\",\"linecolor\":\"white\",\"ticks\":\"\",\"title\":{\"standoff\":15},\"zerolinecolor\":\"white\",\"zerolinewidth\":2}}},\"xaxis\":{\"anchor\":\"y\",\"domain\":[0.0,1.0],\"title\":{\"text\":\"count\"}},\"yaxis\":{\"anchor\":\"x\",\"domain\":[0.0,1.0],\"title\":{\"text\":\"Common_words\"},\"categoryorder\":\"array\",\"categoryarray\":[\"time\",\"take\",\"people\",\"year\",\"market\",\"big\",\"u\",\"say\",\"new\",\"via\"]},\"legend\":{\"title\":{\"text\":\"Common_words\"},\"tracegroupgap\":0},\"title\":{\"text\":\"Common Words in Label9\"},\"barmode\":\"relative\"},                        {\"responsive\": true}                    ).then(function(){\n",
              "                            \n",
              "var gd = document.getElementById('14e467cb-bef2-4430-ac02-f1a44b974a72');\n",
              "var x = new MutationObserver(function (mutations, observer) {{\n",
              "        var display = window.getComputedStyle(gd).display;\n",
              "        if (!display || display === 'none') {{\n",
              "            console.log([gd, 'removed!']);\n",
              "            Plotly.purge(gd);\n",
              "            observer.disconnect();\n",
              "        }}\n",
              "}});\n",
              "\n",
              "// Listen for the removal of the full notebook cells\n",
              "var notebookContainer = gd.closest('#notebook-container');\n",
              "if (notebookContainer) {{\n",
              "    x.observe(notebookContainer, {childList: true});\n",
              "}}\n",
              "\n",
              "// Listen for the clearing of the current output cell\n",
              "var outputEl = gd.closest('.output');\n",
              "if (outputEl) {{\n",
              "    x.observe(outputEl, {childList: true});\n",
              "}}\n",
              "\n",
              "                        })                };                            </script>        </div>\n",
              "</body>\n",
              "</html>"
            ]
          },
          "metadata": {},
          "output_type": "display_data"
        },
        {
          "name": "stderr",
          "output_type": "stream",
          "text": [
            "<ipython-input-25-ec3bb4c6d183>:3: SettingWithCopyWarning:\n",
            "\n",
            "\n",
            "A value is trying to be set on a copy of a slice from a DataFrame.\n",
            "Try using .loc[row_indexer,col_indexer] = value instead\n",
            "\n",
            "See the caveats in the documentation: https://pandas.pydata.org/pandas-docs/stable/user_guide/indexing.html#returning-a-view-versus-a-copy\n",
            "\n"
          ]
        },
        {
          "data": {
            "text/html": [
              "<html>\n",
              "<head><meta charset=\"utf-8\" /></head>\n",
              "<body>\n",
              "    <div>            <script src=\"https://cdnjs.cloudflare.com/ajax/libs/mathjax/2.7.5/MathJax.js?config=TeX-AMS-MML_SVG\"></script><script type=\"text/javascript\">if (window.MathJax) {MathJax.Hub.Config({SVG: {font: \"STIX-Web\"}});}</script>                <script type=\"text/javascript\">window.PlotlyConfig = {MathJaxConfig: 'local'};</script>\n",
              "        <script src=\"https://cdn.plot.ly/plotly-2.8.3.min.js\"></script>                <div id=\"5837e06e-294d-4397-b727-f2ad63670822\" class=\"plotly-graph-div\" style=\"height:525px; width:100%;\"></div>            <script type=\"text/javascript\">                                    window.PLOTLYENV=window.PLOTLYENV || {};                                    if (document.getElementById(\"5837e06e-294d-4397-b727-f2ad63670822\")) {                    Plotly.newPlot(                        \"5837e06e-294d-4397-b727-f2ad63670822\",                        [{\"alignmentgroup\":\"True\",\"hovertemplate\":\"Common_words=%{y}<br>count=%{x}<extra></extra>\",\"legendgroup\":\"gold\",\"marker\":{\"color\":\"#636efa\",\"pattern\":{\"shape\":\"\"}},\"name\":\"gold\",\"offsetgroup\":\"gold\",\"orientation\":\"h\",\"showlegend\":true,\"textposition\":\"auto\",\"x\":[47],\"xaxis\":\"x\",\"y\":[\"gold\"],\"yaxis\":\"y\",\"type\":\"bar\"},{\"alignmentgroup\":\"True\",\"hovertemplate\":\"Common_words=%{y}<br>count=%{x}<extra></extra>\",\"legendgroup\":\"dollar\",\"marker\":{\"color\":\"#EF553B\",\"pattern\":{\"shape\":\"\"}},\"name\":\"dollar\",\"offsetgroup\":\"dollar\",\"orientation\":\"h\",\"showlegend\":true,\"textposition\":\"auto\",\"x\":[13],\"xaxis\":\"x\",\"y\":[\"dollar\"],\"yaxis\":\"y\",\"type\":\"bar\"},{\"alignmentgroup\":\"True\",\"hovertemplate\":\"Common_words=%{y}<br>count=%{x}<extra></extra>\",\"legendgroup\":\"metal\",\"marker\":{\"color\":\"#00cc96\",\"pattern\":{\"shape\":\"\"}},\"name\":\"metal\",\"offsetgroup\":\"metal\",\"orientation\":\"h\",\"showlegend\":true,\"textposition\":\"auto\",\"x\":[12],\"xaxis\":\"x\",\"y\":[\"metal\"],\"yaxis\":\"y\",\"type\":\"bar\"},{\"alignmentgroup\":\"True\",\"hovertemplate\":\"Common_words=%{y}<br>count=%{x}<extra></extra>\",\"legendgroup\":\"year\",\"marker\":{\"color\":\"#ab63fa\",\"pattern\":{\"shape\":\"\"}},\"name\":\"year\",\"offsetgroup\":\"year\",\"orientation\":\"h\",\"showlegend\":true,\"textposition\":\"auto\",\"x\":[12],\"xaxis\":\"x\",\"y\":[\"year\"],\"yaxis\":\"y\",\"type\":\"bar\"},{\"alignmentgroup\":\"True\",\"hovertemplate\":\"Common_words=%{y}<br>count=%{x}<extra></extra>\",\"legendgroup\":\"global\",\"marker\":{\"color\":\"#FFA15A\",\"pattern\":{\"shape\":\"\"}},\"name\":\"global\",\"offsetgroup\":\"global\",\"orientation\":\"h\",\"showlegend\":true,\"textposition\":\"auto\",\"x\":[12],\"xaxis\":\"x\",\"y\":[\"global\"],\"yaxis\":\"y\",\"type\":\"bar\"},{\"alignmentgroup\":\"True\",\"hovertemplate\":\"Common_words=%{y}<br>count=%{x}<extra></extra>\",\"legendgroup\":\"price\",\"marker\":{\"color\":\"#19d3f3\",\"pattern\":{\"shape\":\"\"}},\"name\":\"price\",\"offsetgroup\":\"price\",\"orientation\":\"h\",\"showlegend\":true,\"textposition\":\"auto\",\"x\":[9],\"xaxis\":\"x\",\"y\":[\"price\"],\"yaxis\":\"y\",\"type\":\"bar\"},{\"alignmentgroup\":\"True\",\"hovertemplate\":\"Common_words=%{y}<br>count=%{x}<extra></extra>\",\"legendgroup\":\"low\",\"marker\":{\"color\":\"#FF6692\",\"pattern\":{\"shape\":\"\"}},\"name\":\"low\",\"offsetgroup\":\"low\",\"orientation\":\"h\",\"showlegend\":true,\"textposition\":\"auto\",\"x\":[9],\"xaxis\":\"x\",\"y\":[\"low\"],\"yaxis\":\"y\",\"type\":\"bar\"},{\"alignmentgroup\":\"True\",\"hovertemplate\":\"Common_words=%{y}<br>count=%{x}<extra></extra>\",\"legendgroup\":\"holding\",\"marker\":{\"color\":\"#B6E880\",\"pattern\":{\"shape\":\"\"}},\"name\":\"holding\",\"offsetgroup\":\"holding\",\"orientation\":\"h\",\"showlegend\":true,\"textposition\":\"auto\",\"x\":[9],\"xaxis\":\"x\",\"y\":[\"holding\"],\"yaxis\":\"y\",\"type\":\"bar\"},{\"alignmentgroup\":\"True\",\"hovertemplate\":\"Common_words=%{y}<br>count=%{x}<extra></extra>\",\"legendgroup\":\"copper\",\"marker\":{\"color\":\"#FF97FF\",\"pattern\":{\"shape\":\"\"}},\"name\":\"copper\",\"offsetgroup\":\"copper\",\"orientation\":\"h\",\"showlegend\":true,\"textposition\":\"auto\",\"x\":[8],\"xaxis\":\"x\",\"y\":[\"copper\"],\"yaxis\":\"y\",\"type\":\"bar\"},{\"alignmentgroup\":\"True\",\"hovertemplate\":\"Common_words=%{y}<br>count=%{x}<extra></extra>\",\"legendgroup\":\"investor\",\"marker\":{\"color\":\"#FECB52\",\"pattern\":{\"shape\":\"\"}},\"name\":\"investor\",\"offsetgroup\":\"investor\",\"orientation\":\"h\",\"showlegend\":true,\"textposition\":\"auto\",\"x\":[8],\"xaxis\":\"x\",\"y\":[\"investor\"],\"yaxis\":\"y\",\"type\":\"bar\"}],                        {\"template\":{\"data\":{\"bar\":[{\"error_x\":{\"color\":\"#2a3f5f\"},\"error_y\":{\"color\":\"#2a3f5f\"},\"marker\":{\"line\":{\"color\":\"#E5ECF6\",\"width\":0.5},\"pattern\":{\"fillmode\":\"overlay\",\"size\":10,\"solidity\":0.2}},\"type\":\"bar\"}],\"barpolar\":[{\"marker\":{\"line\":{\"color\":\"#E5ECF6\",\"width\":0.5},\"pattern\":{\"fillmode\":\"overlay\",\"size\":10,\"solidity\":0.2}},\"type\":\"barpolar\"}],\"carpet\":[{\"aaxis\":{\"endlinecolor\":\"#2a3f5f\",\"gridcolor\":\"white\",\"linecolor\":\"white\",\"minorgridcolor\":\"white\",\"startlinecolor\":\"#2a3f5f\"},\"baxis\":{\"endlinecolor\":\"#2a3f5f\",\"gridcolor\":\"white\",\"linecolor\":\"white\",\"minorgridcolor\":\"white\",\"startlinecolor\":\"#2a3f5f\"},\"type\":\"carpet\"}],\"choropleth\":[{\"colorbar\":{\"outlinewidth\":0,\"ticks\":\"\"},\"type\":\"choropleth\"}],\"contour\":[{\"colorbar\":{\"outlinewidth\":0,\"ticks\":\"\"},\"colorscale\":[[0.0,\"#0d0887\"],[0.1111111111111111,\"#46039f\"],[0.2222222222222222,\"#7201a8\"],[0.3333333333333333,\"#9c179e\"],[0.4444444444444444,\"#bd3786\"],[0.5555555555555556,\"#d8576b\"],[0.6666666666666666,\"#ed7953\"],[0.7777777777777778,\"#fb9f3a\"],[0.8888888888888888,\"#fdca26\"],[1.0,\"#f0f921\"]],\"type\":\"contour\"}],\"contourcarpet\":[{\"colorbar\":{\"outlinewidth\":0,\"ticks\":\"\"},\"type\":\"contourcarpet\"}],\"heatmap\":[{\"colorbar\":{\"outlinewidth\":0,\"ticks\":\"\"},\"colorscale\":[[0.0,\"#0d0887\"],[0.1111111111111111,\"#46039f\"],[0.2222222222222222,\"#7201a8\"],[0.3333333333333333,\"#9c179e\"],[0.4444444444444444,\"#bd3786\"],[0.5555555555555556,\"#d8576b\"],[0.6666666666666666,\"#ed7953\"],[0.7777777777777778,\"#fb9f3a\"],[0.8888888888888888,\"#fdca26\"],[1.0,\"#f0f921\"]],\"type\":\"heatmap\"}],\"heatmapgl\":[{\"colorbar\":{\"outlinewidth\":0,\"ticks\":\"\"},\"colorscale\":[[0.0,\"#0d0887\"],[0.1111111111111111,\"#46039f\"],[0.2222222222222222,\"#7201a8\"],[0.3333333333333333,\"#9c179e\"],[0.4444444444444444,\"#bd3786\"],[0.5555555555555556,\"#d8576b\"],[0.6666666666666666,\"#ed7953\"],[0.7777777777777778,\"#fb9f3a\"],[0.8888888888888888,\"#fdca26\"],[1.0,\"#f0f921\"]],\"type\":\"heatmapgl\"}],\"histogram\":[{\"marker\":{\"pattern\":{\"fillmode\":\"overlay\",\"size\":10,\"solidity\":0.2}},\"type\":\"histogram\"}],\"histogram2d\":[{\"colorbar\":{\"outlinewidth\":0,\"ticks\":\"\"},\"colorscale\":[[0.0,\"#0d0887\"],[0.1111111111111111,\"#46039f\"],[0.2222222222222222,\"#7201a8\"],[0.3333333333333333,\"#9c179e\"],[0.4444444444444444,\"#bd3786\"],[0.5555555555555556,\"#d8576b\"],[0.6666666666666666,\"#ed7953\"],[0.7777777777777778,\"#fb9f3a\"],[0.8888888888888888,\"#fdca26\"],[1.0,\"#f0f921\"]],\"type\":\"histogram2d\"}],\"histogram2dcontour\":[{\"colorbar\":{\"outlinewidth\":0,\"ticks\":\"\"},\"colorscale\":[[0.0,\"#0d0887\"],[0.1111111111111111,\"#46039f\"],[0.2222222222222222,\"#7201a8\"],[0.3333333333333333,\"#9c179e\"],[0.4444444444444444,\"#bd3786\"],[0.5555555555555556,\"#d8576b\"],[0.6666666666666666,\"#ed7953\"],[0.7777777777777778,\"#fb9f3a\"],[0.8888888888888888,\"#fdca26\"],[1.0,\"#f0f921\"]],\"type\":\"histogram2dcontour\"}],\"mesh3d\":[{\"colorbar\":{\"outlinewidth\":0,\"ticks\":\"\"},\"type\":\"mesh3d\"}],\"parcoords\":[{\"line\":{\"colorbar\":{\"outlinewidth\":0,\"ticks\":\"\"}},\"type\":\"parcoords\"}],\"pie\":[{\"automargin\":true,\"type\":\"pie\"}],\"scatter\":[{\"marker\":{\"colorbar\":{\"outlinewidth\":0,\"ticks\":\"\"}},\"type\":\"scatter\"}],\"scatter3d\":[{\"line\":{\"colorbar\":{\"outlinewidth\":0,\"ticks\":\"\"}},\"marker\":{\"colorbar\":{\"outlinewidth\":0,\"ticks\":\"\"}},\"type\":\"scatter3d\"}],\"scattercarpet\":[{\"marker\":{\"colorbar\":{\"outlinewidth\":0,\"ticks\":\"\"}},\"type\":\"scattercarpet\"}],\"scattergeo\":[{\"marker\":{\"colorbar\":{\"outlinewidth\":0,\"ticks\":\"\"}},\"type\":\"scattergeo\"}],\"scattergl\":[{\"marker\":{\"colorbar\":{\"outlinewidth\":0,\"ticks\":\"\"}},\"type\":\"scattergl\"}],\"scattermapbox\":[{\"marker\":{\"colorbar\":{\"outlinewidth\":0,\"ticks\":\"\"}},\"type\":\"scattermapbox\"}],\"scatterpolar\":[{\"marker\":{\"colorbar\":{\"outlinewidth\":0,\"ticks\":\"\"}},\"type\":\"scatterpolar\"}],\"scatterpolargl\":[{\"marker\":{\"colorbar\":{\"outlinewidth\":0,\"ticks\":\"\"}},\"type\":\"scatterpolargl\"}],\"scatterternary\":[{\"marker\":{\"colorbar\":{\"outlinewidth\":0,\"ticks\":\"\"}},\"type\":\"scatterternary\"}],\"surface\":[{\"colorbar\":{\"outlinewidth\":0,\"ticks\":\"\"},\"colorscale\":[[0.0,\"#0d0887\"],[0.1111111111111111,\"#46039f\"],[0.2222222222222222,\"#7201a8\"],[0.3333333333333333,\"#9c179e\"],[0.4444444444444444,\"#bd3786\"],[0.5555555555555556,\"#d8576b\"],[0.6666666666666666,\"#ed7953\"],[0.7777777777777778,\"#fb9f3a\"],[0.8888888888888888,\"#fdca26\"],[1.0,\"#f0f921\"]],\"type\":\"surface\"}],\"table\":[{\"cells\":{\"fill\":{\"color\":\"#EBF0F8\"},\"line\":{\"color\":\"white\"}},\"header\":{\"fill\":{\"color\":\"#C8D4E3\"},\"line\":{\"color\":\"white\"}},\"type\":\"table\"}]},\"layout\":{\"annotationdefaults\":{\"arrowcolor\":\"#2a3f5f\",\"arrowhead\":0,\"arrowwidth\":1},\"autotypenumbers\":\"strict\",\"coloraxis\":{\"colorbar\":{\"outlinewidth\":0,\"ticks\":\"\"}},\"colorscale\":{\"diverging\":[[0,\"#8e0152\"],[0.1,\"#c51b7d\"],[0.2,\"#de77ae\"],[0.3,\"#f1b6da\"],[0.4,\"#fde0ef\"],[0.5,\"#f7f7f7\"],[0.6,\"#e6f5d0\"],[0.7,\"#b8e186\"],[0.8,\"#7fbc41\"],[0.9,\"#4d9221\"],[1,\"#276419\"]],\"sequential\":[[0.0,\"#0d0887\"],[0.1111111111111111,\"#46039f\"],[0.2222222222222222,\"#7201a8\"],[0.3333333333333333,\"#9c179e\"],[0.4444444444444444,\"#bd3786\"],[0.5555555555555556,\"#d8576b\"],[0.6666666666666666,\"#ed7953\"],[0.7777777777777778,\"#fb9f3a\"],[0.8888888888888888,\"#fdca26\"],[1.0,\"#f0f921\"]],\"sequentialminus\":[[0.0,\"#0d0887\"],[0.1111111111111111,\"#46039f\"],[0.2222222222222222,\"#7201a8\"],[0.3333333333333333,\"#9c179e\"],[0.4444444444444444,\"#bd3786\"],[0.5555555555555556,\"#d8576b\"],[0.6666666666666666,\"#ed7953\"],[0.7777777777777778,\"#fb9f3a\"],[0.8888888888888888,\"#fdca26\"],[1.0,\"#f0f921\"]]},\"colorway\":[\"#636efa\",\"#EF553B\",\"#00cc96\",\"#ab63fa\",\"#FFA15A\",\"#19d3f3\",\"#FF6692\",\"#B6E880\",\"#FF97FF\",\"#FECB52\"],\"font\":{\"color\":\"#2a3f5f\"},\"geo\":{\"bgcolor\":\"white\",\"lakecolor\":\"white\",\"landcolor\":\"#E5ECF6\",\"showlakes\":true,\"showland\":true,\"subunitcolor\":\"white\"},\"hoverlabel\":{\"align\":\"left\"},\"hovermode\":\"closest\",\"mapbox\":{\"style\":\"light\"},\"paper_bgcolor\":\"white\",\"plot_bgcolor\":\"#E5ECF6\",\"polar\":{\"angularaxis\":{\"gridcolor\":\"white\",\"linecolor\":\"white\",\"ticks\":\"\"},\"bgcolor\":\"#E5ECF6\",\"radialaxis\":{\"gridcolor\":\"white\",\"linecolor\":\"white\",\"ticks\":\"\"}},\"scene\":{\"xaxis\":{\"backgroundcolor\":\"#E5ECF6\",\"gridcolor\":\"white\",\"gridwidth\":2,\"linecolor\":\"white\",\"showbackground\":true,\"ticks\":\"\",\"zerolinecolor\":\"white\"},\"yaxis\":{\"backgroundcolor\":\"#E5ECF6\",\"gridcolor\":\"white\",\"gridwidth\":2,\"linecolor\":\"white\",\"showbackground\":true,\"ticks\":\"\",\"zerolinecolor\":\"white\"},\"zaxis\":{\"backgroundcolor\":\"#E5ECF6\",\"gridcolor\":\"white\",\"gridwidth\":2,\"linecolor\":\"white\",\"showbackground\":true,\"ticks\":\"\",\"zerolinecolor\":\"white\"}},\"shapedefaults\":{\"line\":{\"color\":\"#2a3f5f\"}},\"ternary\":{\"aaxis\":{\"gridcolor\":\"white\",\"linecolor\":\"white\",\"ticks\":\"\"},\"baxis\":{\"gridcolor\":\"white\",\"linecolor\":\"white\",\"ticks\":\"\"},\"bgcolor\":\"#E5ECF6\",\"caxis\":{\"gridcolor\":\"white\",\"linecolor\":\"white\",\"ticks\":\"\"}},\"title\":{\"x\":0.05},\"xaxis\":{\"automargin\":true,\"gridcolor\":\"white\",\"linecolor\":\"white\",\"ticks\":\"\",\"title\":{\"standoff\":15},\"zerolinecolor\":\"white\",\"zerolinewidth\":2},\"yaxis\":{\"automargin\":true,\"gridcolor\":\"white\",\"linecolor\":\"white\",\"ticks\":\"\",\"title\":{\"standoff\":15},\"zerolinecolor\":\"white\",\"zerolinewidth\":2}}},\"xaxis\":{\"anchor\":\"y\",\"domain\":[0.0,1.0],\"title\":{\"text\":\"count\"}},\"yaxis\":{\"anchor\":\"x\",\"domain\":[0.0,1.0],\"title\":{\"text\":\"Common_words\"},\"categoryorder\":\"array\",\"categoryarray\":[\"investor\",\"copper\",\"holding\",\"low\",\"price\",\"global\",\"year\",\"metal\",\"dollar\",\"gold\"]},\"legend\":{\"title\":{\"text\":\"Common_words\"},\"tracegroupgap\":0},\"title\":{\"text\":\"Common Words in Label10\"},\"barmode\":\"relative\"},                        {\"responsive\": true}                    ).then(function(){\n",
              "                            \n",
              "var gd = document.getElementById('5837e06e-294d-4397-b727-f2ad63670822');\n",
              "var x = new MutationObserver(function (mutations, observer) {{\n",
              "        var display = window.getComputedStyle(gd).display;\n",
              "        if (!display || display === 'none') {{\n",
              "            console.log([gd, 'removed!']);\n",
              "            Plotly.purge(gd);\n",
              "            observer.disconnect();\n",
              "        }}\n",
              "}});\n",
              "\n",
              "// Listen for the removal of the full notebook cells\n",
              "var notebookContainer = gd.closest('#notebook-container');\n",
              "if (notebookContainer) {{\n",
              "    x.observe(notebookContainer, {childList: true});\n",
              "}}\n",
              "\n",
              "// Listen for the clearing of the current output cell\n",
              "var outputEl = gd.closest('.output');\n",
              "if (outputEl) {{\n",
              "    x.observe(outputEl, {childList: true});\n",
              "}}\n",
              "\n",
              "                        })                };                            </script>        </div>\n",
              "</body>\n",
              "</html>"
            ]
          },
          "metadata": {},
          "output_type": "display_data"
        },
        {
          "name": "stderr",
          "output_type": "stream",
          "text": [
            "<ipython-input-25-ec3bb4c6d183>:3: SettingWithCopyWarning:\n",
            "\n",
            "\n",
            "A value is trying to be set on a copy of a slice from a DataFrame.\n",
            "Try using .loc[row_indexer,col_indexer] = value instead\n",
            "\n",
            "See the caveats in the documentation: https://pandas.pydata.org/pandas-docs/stable/user_guide/indexing.html#returning-a-view-versus-a-copy\n",
            "\n"
          ]
        },
        {
          "data": {
            "text/html": [
              "<html>\n",
              "<head><meta charset=\"utf-8\" /></head>\n",
              "<body>\n",
              "    <div>            <script src=\"https://cdnjs.cloudflare.com/ajax/libs/mathjax/2.7.5/MathJax.js?config=TeX-AMS-MML_SVG\"></script><script type=\"text/javascript\">if (window.MathJax) {MathJax.Hub.Config({SVG: {font: \"STIX-Web\"}});}</script>                <script type=\"text/javascript\">window.PlotlyConfig = {MathJaxConfig: 'local'};</script>\n",
              "        <script src=\"https://cdn.plot.ly/plotly-2.8.3.min.js\"></script>                <div id=\"e75cdd16-f45e-4afc-b15b-576282f534e6\" class=\"plotly-graph-div\" style=\"height:525px; width:100%;\"></div>            <script type=\"text/javascript\">                                    window.PLOTLYENV=window.PLOTLYENV || {};                                    if (document.getElementById(\"e75cdd16-f45e-4afc-b15b-576282f534e6\")) {                    Plotly.newPlot(                        \"e75cdd16-f45e-4afc-b15b-576282f534e6\",                        [{\"alignmentgroup\":\"True\",\"hovertemplate\":\"Common_words=%{y}<br>count=%{x}<extra></extra>\",\"legendgroup\":\"ipo\",\"marker\":{\"color\":\"#636efa\",\"pattern\":{\"shape\":\"\"}},\"name\":\"ipo\",\"offsetgroup\":\"ipo\",\"orientation\":\"h\",\"showlegend\":true,\"textposition\":\"auto\",\"x\":[40],\"xaxis\":\"x\",\"y\":[\"ipo\"],\"yaxis\":\"y\",\"type\":\"bar\"},{\"alignmentgroup\":\"True\",\"hovertemplate\":\"Common_words=%{y}<br>count=%{x}<extra></extra>\",\"legendgroup\":\"say\",\"marker\":{\"color\":\"#EF553B\",\"pattern\":{\"shape\":\"\"}},\"name\":\"say\",\"offsetgroup\":\"say\",\"orientation\":\"h\",\"showlegend\":true,\"textposition\":\"auto\",\"x\":[9],\"xaxis\":\"x\",\"y\":[\"say\"],\"yaxis\":\"y\",\"type\":\"bar\"},{\"alignmentgroup\":\"True\",\"hovertemplate\":\"Common_words=%{y}<br>count=%{x}<extra></extra>\",\"legendgroup\":\"share\",\"marker\":{\"color\":\"#00cc96\",\"pattern\":{\"shape\":\"\"}},\"name\":\"share\",\"offsetgroup\":\"share\",\"orientation\":\"h\",\"showlegend\":true,\"textposition\":\"auto\",\"x\":[9],\"xaxis\":\"x\",\"y\":[\"share\"],\"yaxis\":\"y\",\"type\":\"bar\"},{\"alignmentgroup\":\"True\",\"hovertemplate\":\"Common_words=%{y}<br>count=%{x}<extra></extra>\",\"legendgroup\":\"market\",\"marker\":{\"color\":\"#ab63fa\",\"pattern\":{\"shape\":\"\"}},\"name\":\"market\",\"offsetgroup\":\"market\",\"orientation\":\"h\",\"showlegend\":true,\"textposition\":\"auto\",\"x\":[8],\"xaxis\":\"x\",\"y\":[\"market\"],\"yaxis\":\"y\",\"type\":\"bar\"},{\"alignmentgroup\":\"True\",\"hovertemplate\":\"Common_words=%{y}<br>count=%{x}<extra></extra>\",\"legendgroup\":\"year\",\"marker\":{\"color\":\"#FFA15A\",\"pattern\":{\"shape\":\"\"}},\"name\":\"year\",\"offsetgroup\":\"year\",\"orientation\":\"h\",\"showlegend\":true,\"textposition\":\"auto\",\"x\":[8],\"xaxis\":\"x\",\"y\":[\"year\"],\"yaxis\":\"y\",\"type\":\"bar\"},{\"alignmentgroup\":\"True\",\"hovertemplate\":\"Common_words=%{y}<br>count=%{x}<extra></extra>\",\"legendgroup\":\"company\",\"marker\":{\"color\":\"#19d3f3\",\"pattern\":{\"shape\":\"\"}},\"name\":\"company\",\"offsetgroup\":\"company\",\"orientation\":\"h\",\"showlegend\":true,\"textposition\":\"auto\",\"x\":[6],\"xaxis\":\"x\",\"y\":[\"company\"],\"yaxis\":\"y\",\"type\":\"bar\"},{\"alignmentgroup\":\"True\",\"hovertemplate\":\"Common_words=%{y}<br>count=%{x}<extra></extra>\",\"legendgroup\":\"hong\",\"marker\":{\"color\":\"#FF6692\",\"pattern\":{\"shape\":\"\"}},\"name\":\"hong\",\"offsetgroup\":\"hong\",\"orientation\":\"h\",\"showlegend\":true,\"textposition\":\"auto\",\"x\":[6],\"xaxis\":\"x\",\"y\":[\"hong\"],\"yaxis\":\"y\",\"type\":\"bar\"},{\"alignmentgroup\":\"True\",\"hovertemplate\":\"Common_words=%{y}<br>count=%{x}<extra></extra>\",\"legendgroup\":\"kong\",\"marker\":{\"color\":\"#B6E880\",\"pattern\":{\"shape\":\"\"}},\"name\":\"kong\",\"offsetgroup\":\"kong\",\"orientation\":\"h\",\"showlegend\":true,\"textposition\":\"auto\",\"x\":[6],\"xaxis\":\"x\",\"y\":[\"kong\"],\"yaxis\":\"y\",\"type\":\"bar\"},{\"alignmentgroup\":\"True\",\"hovertemplate\":\"Common_words=%{y}<br>count=%{x}<extra></extra>\",\"legendgroup\":\"listing\",\"marker\":{\"color\":\"#FF97FF\",\"pattern\":{\"shape\":\"\"}},\"name\":\"listing\",\"offsetgroup\":\"listing\",\"orientation\":\"h\",\"showlegend\":true,\"textposition\":\"auto\",\"x\":[6],\"xaxis\":\"x\",\"y\":[\"listing\"],\"yaxis\":\"y\",\"type\":\"bar\"},{\"alignmentgroup\":\"True\",\"hovertemplate\":\"Common_words=%{y}<br>count=%{x}<extra></extra>\",\"legendgroup\":\"public\",\"marker\":{\"color\":\"#FECB52\",\"pattern\":{\"shape\":\"\"}},\"name\":\"public\",\"offsetgroup\":\"public\",\"orientation\":\"h\",\"showlegend\":true,\"textposition\":\"auto\",\"x\":[6],\"xaxis\":\"x\",\"y\":[\"public\"],\"yaxis\":\"y\",\"type\":\"bar\"}],                        {\"template\":{\"data\":{\"bar\":[{\"error_x\":{\"color\":\"#2a3f5f\"},\"error_y\":{\"color\":\"#2a3f5f\"},\"marker\":{\"line\":{\"color\":\"#E5ECF6\",\"width\":0.5},\"pattern\":{\"fillmode\":\"overlay\",\"size\":10,\"solidity\":0.2}},\"type\":\"bar\"}],\"barpolar\":[{\"marker\":{\"line\":{\"color\":\"#E5ECF6\",\"width\":0.5},\"pattern\":{\"fillmode\":\"overlay\",\"size\":10,\"solidity\":0.2}},\"type\":\"barpolar\"}],\"carpet\":[{\"aaxis\":{\"endlinecolor\":\"#2a3f5f\",\"gridcolor\":\"white\",\"linecolor\":\"white\",\"minorgridcolor\":\"white\",\"startlinecolor\":\"#2a3f5f\"},\"baxis\":{\"endlinecolor\":\"#2a3f5f\",\"gridcolor\":\"white\",\"linecolor\":\"white\",\"minorgridcolor\":\"white\",\"startlinecolor\":\"#2a3f5f\"},\"type\":\"carpet\"}],\"choropleth\":[{\"colorbar\":{\"outlinewidth\":0,\"ticks\":\"\"},\"type\":\"choropleth\"}],\"contour\":[{\"colorbar\":{\"outlinewidth\":0,\"ticks\":\"\"},\"colorscale\":[[0.0,\"#0d0887\"],[0.1111111111111111,\"#46039f\"],[0.2222222222222222,\"#7201a8\"],[0.3333333333333333,\"#9c179e\"],[0.4444444444444444,\"#bd3786\"],[0.5555555555555556,\"#d8576b\"],[0.6666666666666666,\"#ed7953\"],[0.7777777777777778,\"#fb9f3a\"],[0.8888888888888888,\"#fdca26\"],[1.0,\"#f0f921\"]],\"type\":\"contour\"}],\"contourcarpet\":[{\"colorbar\":{\"outlinewidth\":0,\"ticks\":\"\"},\"type\":\"contourcarpet\"}],\"heatmap\":[{\"colorbar\":{\"outlinewidth\":0,\"ticks\":\"\"},\"colorscale\":[[0.0,\"#0d0887\"],[0.1111111111111111,\"#46039f\"],[0.2222222222222222,\"#7201a8\"],[0.3333333333333333,\"#9c179e\"],[0.4444444444444444,\"#bd3786\"],[0.5555555555555556,\"#d8576b\"],[0.6666666666666666,\"#ed7953\"],[0.7777777777777778,\"#fb9f3a\"],[0.8888888888888888,\"#fdca26\"],[1.0,\"#f0f921\"]],\"type\":\"heatmap\"}],\"heatmapgl\":[{\"colorbar\":{\"outlinewidth\":0,\"ticks\":\"\"},\"colorscale\":[[0.0,\"#0d0887\"],[0.1111111111111111,\"#46039f\"],[0.2222222222222222,\"#7201a8\"],[0.3333333333333333,\"#9c179e\"],[0.4444444444444444,\"#bd3786\"],[0.5555555555555556,\"#d8576b\"],[0.6666666666666666,\"#ed7953\"],[0.7777777777777778,\"#fb9f3a\"],[0.8888888888888888,\"#fdca26\"],[1.0,\"#f0f921\"]],\"type\":\"heatmapgl\"}],\"histogram\":[{\"marker\":{\"pattern\":{\"fillmode\":\"overlay\",\"size\":10,\"solidity\":0.2}},\"type\":\"histogram\"}],\"histogram2d\":[{\"colorbar\":{\"outlinewidth\":0,\"ticks\":\"\"},\"colorscale\":[[0.0,\"#0d0887\"],[0.1111111111111111,\"#46039f\"],[0.2222222222222222,\"#7201a8\"],[0.3333333333333333,\"#9c179e\"],[0.4444444444444444,\"#bd3786\"],[0.5555555555555556,\"#d8576b\"],[0.6666666666666666,\"#ed7953\"],[0.7777777777777778,\"#fb9f3a\"],[0.8888888888888888,\"#fdca26\"],[1.0,\"#f0f921\"]],\"type\":\"histogram2d\"}],\"histogram2dcontour\":[{\"colorbar\":{\"outlinewidth\":0,\"ticks\":\"\"},\"colorscale\":[[0.0,\"#0d0887\"],[0.1111111111111111,\"#46039f\"],[0.2222222222222222,\"#7201a8\"],[0.3333333333333333,\"#9c179e\"],[0.4444444444444444,\"#bd3786\"],[0.5555555555555556,\"#d8576b\"],[0.6666666666666666,\"#ed7953\"],[0.7777777777777778,\"#fb9f3a\"],[0.8888888888888888,\"#fdca26\"],[1.0,\"#f0f921\"]],\"type\":\"histogram2dcontour\"}],\"mesh3d\":[{\"colorbar\":{\"outlinewidth\":0,\"ticks\":\"\"},\"type\":\"mesh3d\"}],\"parcoords\":[{\"line\":{\"colorbar\":{\"outlinewidth\":0,\"ticks\":\"\"}},\"type\":\"parcoords\"}],\"pie\":[{\"automargin\":true,\"type\":\"pie\"}],\"scatter\":[{\"marker\":{\"colorbar\":{\"outlinewidth\":0,\"ticks\":\"\"}},\"type\":\"scatter\"}],\"scatter3d\":[{\"line\":{\"colorbar\":{\"outlinewidth\":0,\"ticks\":\"\"}},\"marker\":{\"colorbar\":{\"outlinewidth\":0,\"ticks\":\"\"}},\"type\":\"scatter3d\"}],\"scattercarpet\":[{\"marker\":{\"colorbar\":{\"outlinewidth\":0,\"ticks\":\"\"}},\"type\":\"scattercarpet\"}],\"scattergeo\":[{\"marker\":{\"colorbar\":{\"outlinewidth\":0,\"ticks\":\"\"}},\"type\":\"scattergeo\"}],\"scattergl\":[{\"marker\":{\"colorbar\":{\"outlinewidth\":0,\"ticks\":\"\"}},\"type\":\"scattergl\"}],\"scattermapbox\":[{\"marker\":{\"colorbar\":{\"outlinewidth\":0,\"ticks\":\"\"}},\"type\":\"scattermapbox\"}],\"scatterpolar\":[{\"marker\":{\"colorbar\":{\"outlinewidth\":0,\"ticks\":\"\"}},\"type\":\"scatterpolar\"}],\"scatterpolargl\":[{\"marker\":{\"colorbar\":{\"outlinewidth\":0,\"ticks\":\"\"}},\"type\":\"scatterpolargl\"}],\"scatterternary\":[{\"marker\":{\"colorbar\":{\"outlinewidth\":0,\"ticks\":\"\"}},\"type\":\"scatterternary\"}],\"surface\":[{\"colorbar\":{\"outlinewidth\":0,\"ticks\":\"\"},\"colorscale\":[[0.0,\"#0d0887\"],[0.1111111111111111,\"#46039f\"],[0.2222222222222222,\"#7201a8\"],[0.3333333333333333,\"#9c179e\"],[0.4444444444444444,\"#bd3786\"],[0.5555555555555556,\"#d8576b\"],[0.6666666666666666,\"#ed7953\"],[0.7777777777777778,\"#fb9f3a\"],[0.8888888888888888,\"#fdca26\"],[1.0,\"#f0f921\"]],\"type\":\"surface\"}],\"table\":[{\"cells\":{\"fill\":{\"color\":\"#EBF0F8\"},\"line\":{\"color\":\"white\"}},\"header\":{\"fill\":{\"color\":\"#C8D4E3\"},\"line\":{\"color\":\"white\"}},\"type\":\"table\"}]},\"layout\":{\"annotationdefaults\":{\"arrowcolor\":\"#2a3f5f\",\"arrowhead\":0,\"arrowwidth\":1},\"autotypenumbers\":\"strict\",\"coloraxis\":{\"colorbar\":{\"outlinewidth\":0,\"ticks\":\"\"}},\"colorscale\":{\"diverging\":[[0,\"#8e0152\"],[0.1,\"#c51b7d\"],[0.2,\"#de77ae\"],[0.3,\"#f1b6da\"],[0.4,\"#fde0ef\"],[0.5,\"#f7f7f7\"],[0.6,\"#e6f5d0\"],[0.7,\"#b8e186\"],[0.8,\"#7fbc41\"],[0.9,\"#4d9221\"],[1,\"#276419\"]],\"sequential\":[[0.0,\"#0d0887\"],[0.1111111111111111,\"#46039f\"],[0.2222222222222222,\"#7201a8\"],[0.3333333333333333,\"#9c179e\"],[0.4444444444444444,\"#bd3786\"],[0.5555555555555556,\"#d8576b\"],[0.6666666666666666,\"#ed7953\"],[0.7777777777777778,\"#fb9f3a\"],[0.8888888888888888,\"#fdca26\"],[1.0,\"#f0f921\"]],\"sequentialminus\":[[0.0,\"#0d0887\"],[0.1111111111111111,\"#46039f\"],[0.2222222222222222,\"#7201a8\"],[0.3333333333333333,\"#9c179e\"],[0.4444444444444444,\"#bd3786\"],[0.5555555555555556,\"#d8576b\"],[0.6666666666666666,\"#ed7953\"],[0.7777777777777778,\"#fb9f3a\"],[0.8888888888888888,\"#fdca26\"],[1.0,\"#f0f921\"]]},\"colorway\":[\"#636efa\",\"#EF553B\",\"#00cc96\",\"#ab63fa\",\"#FFA15A\",\"#19d3f3\",\"#FF6692\",\"#B6E880\",\"#FF97FF\",\"#FECB52\"],\"font\":{\"color\":\"#2a3f5f\"},\"geo\":{\"bgcolor\":\"white\",\"lakecolor\":\"white\",\"landcolor\":\"#E5ECF6\",\"showlakes\":true,\"showland\":true,\"subunitcolor\":\"white\"},\"hoverlabel\":{\"align\":\"left\"},\"hovermode\":\"closest\",\"mapbox\":{\"style\":\"light\"},\"paper_bgcolor\":\"white\",\"plot_bgcolor\":\"#E5ECF6\",\"polar\":{\"angularaxis\":{\"gridcolor\":\"white\",\"linecolor\":\"white\",\"ticks\":\"\"},\"bgcolor\":\"#E5ECF6\",\"radialaxis\":{\"gridcolor\":\"white\",\"linecolor\":\"white\",\"ticks\":\"\"}},\"scene\":{\"xaxis\":{\"backgroundcolor\":\"#E5ECF6\",\"gridcolor\":\"white\",\"gridwidth\":2,\"linecolor\":\"white\",\"showbackground\":true,\"ticks\":\"\",\"zerolinecolor\":\"white\"},\"yaxis\":{\"backgroundcolor\":\"#E5ECF6\",\"gridcolor\":\"white\",\"gridwidth\":2,\"linecolor\":\"white\",\"showbackground\":true,\"ticks\":\"\",\"zerolinecolor\":\"white\"},\"zaxis\":{\"backgroundcolor\":\"#E5ECF6\",\"gridcolor\":\"white\",\"gridwidth\":2,\"linecolor\":\"white\",\"showbackground\":true,\"ticks\":\"\",\"zerolinecolor\":\"white\"}},\"shapedefaults\":{\"line\":{\"color\":\"#2a3f5f\"}},\"ternary\":{\"aaxis\":{\"gridcolor\":\"white\",\"linecolor\":\"white\",\"ticks\":\"\"},\"baxis\":{\"gridcolor\":\"white\",\"linecolor\":\"white\",\"ticks\":\"\"},\"bgcolor\":\"#E5ECF6\",\"caxis\":{\"gridcolor\":\"white\",\"linecolor\":\"white\",\"ticks\":\"\"}},\"title\":{\"x\":0.05},\"xaxis\":{\"automargin\":true,\"gridcolor\":\"white\",\"linecolor\":\"white\",\"ticks\":\"\",\"title\":{\"standoff\":15},\"zerolinecolor\":\"white\",\"zerolinewidth\":2},\"yaxis\":{\"automargin\":true,\"gridcolor\":\"white\",\"linecolor\":\"white\",\"ticks\":\"\",\"title\":{\"standoff\":15},\"zerolinecolor\":\"white\",\"zerolinewidth\":2}}},\"xaxis\":{\"anchor\":\"y\",\"domain\":[0.0,1.0],\"title\":{\"text\":\"count\"}},\"yaxis\":{\"anchor\":\"x\",\"domain\":[0.0,1.0],\"title\":{\"text\":\"Common_words\"},\"categoryorder\":\"array\",\"categoryarray\":[\"public\",\"listing\",\"kong\",\"hong\",\"company\",\"year\",\"market\",\"share\",\"say\",\"ipo\"]},\"legend\":{\"title\":{\"text\":\"Common_words\"},\"tracegroupgap\":0},\"title\":{\"text\":\"Common Words in Label11\"},\"barmode\":\"relative\"},                        {\"responsive\": true}                    ).then(function(){\n",
              "                            \n",
              "var gd = document.getElementById('e75cdd16-f45e-4afc-b15b-576282f534e6');\n",
              "var x = new MutationObserver(function (mutations, observer) {{\n",
              "        var display = window.getComputedStyle(gd).display;\n",
              "        if (!display || display === 'none') {{\n",
              "            console.log([gd, 'removed!']);\n",
              "            Plotly.purge(gd);\n",
              "            observer.disconnect();\n",
              "        }}\n",
              "}});\n",
              "\n",
              "// Listen for the removal of the full notebook cells\n",
              "var notebookContainer = gd.closest('#notebook-container');\n",
              "if (notebookContainer) {{\n",
              "    x.observe(notebookContainer, {childList: true});\n",
              "}}\n",
              "\n",
              "// Listen for the clearing of the current output cell\n",
              "var outputEl = gd.closest('.output');\n",
              "if (outputEl) {{\n",
              "    x.observe(outputEl, {childList: true});\n",
              "}}\n",
              "\n",
              "                        })                };                            </script>        </div>\n",
              "</body>\n",
              "</html>"
            ]
          },
          "metadata": {},
          "output_type": "display_data"
        },
        {
          "name": "stderr",
          "output_type": "stream",
          "text": [
            "<ipython-input-25-ec3bb4c6d183>:3: SettingWithCopyWarning:\n",
            "\n",
            "\n",
            "A value is trying to be set on a copy of a slice from a DataFrame.\n",
            "Try using .loc[row_indexer,col_indexer] = value instead\n",
            "\n",
            "See the caveats in the documentation: https://pandas.pydata.org/pandas-docs/stable/user_guide/indexing.html#returning-a-view-versus-a-copy\n",
            "\n"
          ]
        },
        {
          "data": {
            "text/html": [
              "<html>\n",
              "<head><meta charset=\"utf-8\" /></head>\n",
              "<body>\n",
              "    <div>            <script src=\"https://cdnjs.cloudflare.com/ajax/libs/mathjax/2.7.5/MathJax.js?config=TeX-AMS-MML_SVG\"></script><script type=\"text/javascript\">if (window.MathJax) {MathJax.Hub.Config({SVG: {font: \"STIX-Web\"}});}</script>                <script type=\"text/javascript\">window.PlotlyConfig = {MathJaxConfig: 'local'};</script>\n",
              "        <script src=\"https://cdn.plot.ly/plotly-2.8.3.min.js\"></script>                <div id=\"11e86fb4-017c-4120-9283-b519ec363294\" class=\"plotly-graph-div\" style=\"height:525px; width:100%;\"></div>            <script type=\"text/javascript\">                                    window.PLOTLYENV=window.PLOTLYENV || {};                                    if (document.getElementById(\"11e86fb4-017c-4120-9283-b519ec363294\")) {                    Plotly.newPlot(                        \"11e86fb4-017c-4120-9283-b519ec363294\",                        [{\"alignmentgroup\":\"True\",\"hovertemplate\":\"Common_words=%{y}<br>count=%{x}<extra></extra>\",\"legendgroup\":\"investor\",\"marker\":{\"color\":\"#636efa\",\"pattern\":{\"shape\":\"\"}},\"name\":\"investor\",\"offsetgroup\":\"investor\",\"orientation\":\"h\",\"showlegend\":true,\"textposition\":\"auto\",\"x\":[131],\"xaxis\":\"x\",\"y\":[\"investor\"],\"yaxis\":\"y\",\"type\":\"bar\"},{\"alignmentgroup\":\"True\",\"hovertemplate\":\"Common_words=%{y}<br>count=%{x}<extra></extra>\",\"legendgroup\":\"company\",\"marker\":{\"color\":\"#EF553B\",\"pattern\":{\"shape\":\"\"}},\"name\":\"company\",\"offsetgroup\":\"company\",\"orientation\":\"h\",\"showlegend\":true,\"textposition\":\"auto\",\"x\":[116],\"xaxis\":\"x\",\"y\":[\"company\"],\"yaxis\":\"y\",\"type\":\"bar\"},{\"alignmentgroup\":\"True\",\"hovertemplate\":\"Common_words=%{y}<br>count=%{x}<extra></extra>\",\"legendgroup\":\"firm\",\"marker\":{\"color\":\"#00cc96\",\"pattern\":{\"shape\":\"\"}},\"name\":\"firm\",\"offsetgroup\":\"firm\",\"orientation\":\"h\",\"showlegend\":true,\"textposition\":\"auto\",\"x\":[108],\"xaxis\":\"x\",\"y\":[\"firm\"],\"yaxis\":\"y\",\"type\":\"bar\"},{\"alignmentgroup\":\"True\",\"hovertemplate\":\"Common_words=%{y}<br>count=%{x}<extra></extra>\",\"legendgroup\":\"musk\",\"marker\":{\"color\":\"#ab63fa\",\"pattern\":{\"shape\":\"\"}},\"name\":\"musk\",\"offsetgroup\":\"musk\",\"orientation\":\"h\",\"showlegend\":true,\"textposition\":\"auto\",\"x\":[93],\"xaxis\":\"x\",\"y\":[\"musk\"],\"yaxis\":\"y\",\"type\":\"bar\"},{\"alignmentgroup\":\"True\",\"hovertemplate\":\"Common_words=%{y}<br>count=%{x}<extra></extra>\",\"legendgroup\":\"elon\",\"marker\":{\"color\":\"#FFA15A\",\"pattern\":{\"shape\":\"\"}},\"name\":\"elon\",\"offsetgroup\":\"elon\",\"orientation\":\"h\",\"showlegend\":true,\"textposition\":\"auto\",\"x\":[85],\"xaxis\":\"x\",\"y\":[\"elon\"],\"yaxis\":\"y\",\"type\":\"bar\"},{\"alignmentgroup\":\"True\",\"hovertemplate\":\"Common_words=%{y}<br>count=%{x}<extra></extra>\",\"legendgroup\":\"lawsuit\",\"marker\":{\"color\":\"#19d3f3\",\"pattern\":{\"shape\":\"\"}},\"name\":\"lawsuit\",\"offsetgroup\":\"lawsuit\",\"orientation\":\"h\",\"showlegend\":true,\"textposition\":\"auto\",\"x\":[85],\"xaxis\":\"x\",\"y\":[\"lawsuit\"],\"yaxis\":\"y\",\"type\":\"bar\"},{\"alignmentgroup\":\"True\",\"hovertemplate\":\"Common_words=%{y}<br>count=%{x}<extra></extra>\",\"legendgroup\":\"law\",\"marker\":{\"color\":\"#FF6692\",\"pattern\":{\"shape\":\"\"}},\"name\":\"law\",\"offsetgroup\":\"law\",\"orientation\":\"h\",\"showlegend\":true,\"textposition\":\"auto\",\"x\":[83],\"xaxis\":\"x\",\"y\":[\"law\"],\"yaxis\":\"y\",\"type\":\"bar\"},{\"alignmentgroup\":\"True\",\"hovertemplate\":\"Common_words=%{y}<br>count=%{x}<extra></extra>\",\"legendgroup\":\"inc\",\"marker\":{\"color\":\"#B6E880\",\"pattern\":{\"shape\":\"\"}},\"name\":\"inc\",\"offsetgroup\":\"inc\",\"orientation\":\"h\",\"showlegend\":true,\"textposition\":\"auto\",\"x\":[80],\"xaxis\":\"x\",\"y\":[\"inc\"],\"yaxis\":\"y\",\"type\":\"bar\"},{\"alignmentgroup\":\"True\",\"hovertemplate\":\"Common_words=%{y}<br>count=%{x}<extra></extra>\",\"legendgroup\":\"alert\",\"marker\":{\"color\":\"#FF97FF\",\"pattern\":{\"shape\":\"\"}},\"name\":\"alert\",\"offsetgroup\":\"alert\",\"orientation\":\"h\",\"showlegend\":true,\"textposition\":\"auto\",\"x\":[73],\"xaxis\":\"x\",\"y\":[\"alert\"],\"yaxis\":\"y\",\"type\":\"bar\"},{\"alignmentgroup\":\"True\",\"hovertemplate\":\"Common_words=%{y}<br>count=%{x}<extra></extra>\",\"legendgroup\":\"billion\",\"marker\":{\"color\":\"#FECB52\",\"pattern\":{\"shape\":\"\"}},\"name\":\"billion\",\"offsetgroup\":\"billion\",\"orientation\":\"h\",\"showlegend\":true,\"textposition\":\"auto\",\"x\":[67],\"xaxis\":\"x\",\"y\":[\"billion\"],\"yaxis\":\"y\",\"type\":\"bar\"}],                        {\"template\":{\"data\":{\"bar\":[{\"error_x\":{\"color\":\"#2a3f5f\"},\"error_y\":{\"color\":\"#2a3f5f\"},\"marker\":{\"line\":{\"color\":\"#E5ECF6\",\"width\":0.5},\"pattern\":{\"fillmode\":\"overlay\",\"size\":10,\"solidity\":0.2}},\"type\":\"bar\"}],\"barpolar\":[{\"marker\":{\"line\":{\"color\":\"#E5ECF6\",\"width\":0.5},\"pattern\":{\"fillmode\":\"overlay\",\"size\":10,\"solidity\":0.2}},\"type\":\"barpolar\"}],\"carpet\":[{\"aaxis\":{\"endlinecolor\":\"#2a3f5f\",\"gridcolor\":\"white\",\"linecolor\":\"white\",\"minorgridcolor\":\"white\",\"startlinecolor\":\"#2a3f5f\"},\"baxis\":{\"endlinecolor\":\"#2a3f5f\",\"gridcolor\":\"white\",\"linecolor\":\"white\",\"minorgridcolor\":\"white\",\"startlinecolor\":\"#2a3f5f\"},\"type\":\"carpet\"}],\"choropleth\":[{\"colorbar\":{\"outlinewidth\":0,\"ticks\":\"\"},\"type\":\"choropleth\"}],\"contour\":[{\"colorbar\":{\"outlinewidth\":0,\"ticks\":\"\"},\"colorscale\":[[0.0,\"#0d0887\"],[0.1111111111111111,\"#46039f\"],[0.2222222222222222,\"#7201a8\"],[0.3333333333333333,\"#9c179e\"],[0.4444444444444444,\"#bd3786\"],[0.5555555555555556,\"#d8576b\"],[0.6666666666666666,\"#ed7953\"],[0.7777777777777778,\"#fb9f3a\"],[0.8888888888888888,\"#fdca26\"],[1.0,\"#f0f921\"]],\"type\":\"contour\"}],\"contourcarpet\":[{\"colorbar\":{\"outlinewidth\":0,\"ticks\":\"\"},\"type\":\"contourcarpet\"}],\"heatmap\":[{\"colorbar\":{\"outlinewidth\":0,\"ticks\":\"\"},\"colorscale\":[[0.0,\"#0d0887\"],[0.1111111111111111,\"#46039f\"],[0.2222222222222222,\"#7201a8\"],[0.3333333333333333,\"#9c179e\"],[0.4444444444444444,\"#bd3786\"],[0.5555555555555556,\"#d8576b\"],[0.6666666666666666,\"#ed7953\"],[0.7777777777777778,\"#fb9f3a\"],[0.8888888888888888,\"#fdca26\"],[1.0,\"#f0f921\"]],\"type\":\"heatmap\"}],\"heatmapgl\":[{\"colorbar\":{\"outlinewidth\":0,\"ticks\":\"\"},\"colorscale\":[[0.0,\"#0d0887\"],[0.1111111111111111,\"#46039f\"],[0.2222222222222222,\"#7201a8\"],[0.3333333333333333,\"#9c179e\"],[0.4444444444444444,\"#bd3786\"],[0.5555555555555556,\"#d8576b\"],[0.6666666666666666,\"#ed7953\"],[0.7777777777777778,\"#fb9f3a\"],[0.8888888888888888,\"#fdca26\"],[1.0,\"#f0f921\"]],\"type\":\"heatmapgl\"}],\"histogram\":[{\"marker\":{\"pattern\":{\"fillmode\":\"overlay\",\"size\":10,\"solidity\":0.2}},\"type\":\"histogram\"}],\"histogram2d\":[{\"colorbar\":{\"outlinewidth\":0,\"ticks\":\"\"},\"colorscale\":[[0.0,\"#0d0887\"],[0.1111111111111111,\"#46039f\"],[0.2222222222222222,\"#7201a8\"],[0.3333333333333333,\"#9c179e\"],[0.4444444444444444,\"#bd3786\"],[0.5555555555555556,\"#d8576b\"],[0.6666666666666666,\"#ed7953\"],[0.7777777777777778,\"#fb9f3a\"],[0.8888888888888888,\"#fdca26\"],[1.0,\"#f0f921\"]],\"type\":\"histogram2d\"}],\"histogram2dcontour\":[{\"colorbar\":{\"outlinewidth\":0,\"ticks\":\"\"},\"colorscale\":[[0.0,\"#0d0887\"],[0.1111111111111111,\"#46039f\"],[0.2222222222222222,\"#7201a8\"],[0.3333333333333333,\"#9c179e\"],[0.4444444444444444,\"#bd3786\"],[0.5555555555555556,\"#d8576b\"],[0.6666666666666666,\"#ed7953\"],[0.7777777777777778,\"#fb9f3a\"],[0.8888888888888888,\"#fdca26\"],[1.0,\"#f0f921\"]],\"type\":\"histogram2dcontour\"}],\"mesh3d\":[{\"colorbar\":{\"outlinewidth\":0,\"ticks\":\"\"},\"type\":\"mesh3d\"}],\"parcoords\":[{\"line\":{\"colorbar\":{\"outlinewidth\":0,\"ticks\":\"\"}},\"type\":\"parcoords\"}],\"pie\":[{\"automargin\":true,\"type\":\"pie\"}],\"scatter\":[{\"marker\":{\"colorbar\":{\"outlinewidth\":0,\"ticks\":\"\"}},\"type\":\"scatter\"}],\"scatter3d\":[{\"line\":{\"colorbar\":{\"outlinewidth\":0,\"ticks\":\"\"}},\"marker\":{\"colorbar\":{\"outlinewidth\":0,\"ticks\":\"\"}},\"type\":\"scatter3d\"}],\"scattercarpet\":[{\"marker\":{\"colorbar\":{\"outlinewidth\":0,\"ticks\":\"\"}},\"type\":\"scattercarpet\"}],\"scattergeo\":[{\"marker\":{\"colorbar\":{\"outlinewidth\":0,\"ticks\":\"\"}},\"type\":\"scattergeo\"}],\"scattergl\":[{\"marker\":{\"colorbar\":{\"outlinewidth\":0,\"ticks\":\"\"}},\"type\":\"scattergl\"}],\"scattermapbox\":[{\"marker\":{\"colorbar\":{\"outlinewidth\":0,\"ticks\":\"\"}},\"type\":\"scattermapbox\"}],\"scatterpolar\":[{\"marker\":{\"colorbar\":{\"outlinewidth\":0,\"ticks\":\"\"}},\"type\":\"scatterpolar\"}],\"scatterpolargl\":[{\"marker\":{\"colorbar\":{\"outlinewidth\":0,\"ticks\":\"\"}},\"type\":\"scatterpolargl\"}],\"scatterternary\":[{\"marker\":{\"colorbar\":{\"outlinewidth\":0,\"ticks\":\"\"}},\"type\":\"scatterternary\"}],\"surface\":[{\"colorbar\":{\"outlinewidth\":0,\"ticks\":\"\"},\"colorscale\":[[0.0,\"#0d0887\"],[0.1111111111111111,\"#46039f\"],[0.2222222222222222,\"#7201a8\"],[0.3333333333333333,\"#9c179e\"],[0.4444444444444444,\"#bd3786\"],[0.5555555555555556,\"#d8576b\"],[0.6666666666666666,\"#ed7953\"],[0.7777777777777778,\"#fb9f3a\"],[0.8888888888888888,\"#fdca26\"],[1.0,\"#f0f921\"]],\"type\":\"surface\"}],\"table\":[{\"cells\":{\"fill\":{\"color\":\"#EBF0F8\"},\"line\":{\"color\":\"white\"}},\"header\":{\"fill\":{\"color\":\"#C8D4E3\"},\"line\":{\"color\":\"white\"}},\"type\":\"table\"}]},\"layout\":{\"annotationdefaults\":{\"arrowcolor\":\"#2a3f5f\",\"arrowhead\":0,\"arrowwidth\":1},\"autotypenumbers\":\"strict\",\"coloraxis\":{\"colorbar\":{\"outlinewidth\":0,\"ticks\":\"\"}},\"colorscale\":{\"diverging\":[[0,\"#8e0152\"],[0.1,\"#c51b7d\"],[0.2,\"#de77ae\"],[0.3,\"#f1b6da\"],[0.4,\"#fde0ef\"],[0.5,\"#f7f7f7\"],[0.6,\"#e6f5d0\"],[0.7,\"#b8e186\"],[0.8,\"#7fbc41\"],[0.9,\"#4d9221\"],[1,\"#276419\"]],\"sequential\":[[0.0,\"#0d0887\"],[0.1111111111111111,\"#46039f\"],[0.2222222222222222,\"#7201a8\"],[0.3333333333333333,\"#9c179e\"],[0.4444444444444444,\"#bd3786\"],[0.5555555555555556,\"#d8576b\"],[0.6666666666666666,\"#ed7953\"],[0.7777777777777778,\"#fb9f3a\"],[0.8888888888888888,\"#fdca26\"],[1.0,\"#f0f921\"]],\"sequentialminus\":[[0.0,\"#0d0887\"],[0.1111111111111111,\"#46039f\"],[0.2222222222222222,\"#7201a8\"],[0.3333333333333333,\"#9c179e\"],[0.4444444444444444,\"#bd3786\"],[0.5555555555555556,\"#d8576b\"],[0.6666666666666666,\"#ed7953\"],[0.7777777777777778,\"#fb9f3a\"],[0.8888888888888888,\"#fdca26\"],[1.0,\"#f0f921\"]]},\"colorway\":[\"#636efa\",\"#EF553B\",\"#00cc96\",\"#ab63fa\",\"#FFA15A\",\"#19d3f3\",\"#FF6692\",\"#B6E880\",\"#FF97FF\",\"#FECB52\"],\"font\":{\"color\":\"#2a3f5f\"},\"geo\":{\"bgcolor\":\"white\",\"lakecolor\":\"white\",\"landcolor\":\"#E5ECF6\",\"showlakes\":true,\"showland\":true,\"subunitcolor\":\"white\"},\"hoverlabel\":{\"align\":\"left\"},\"hovermode\":\"closest\",\"mapbox\":{\"style\":\"light\"},\"paper_bgcolor\":\"white\",\"plot_bgcolor\":\"#E5ECF6\",\"polar\":{\"angularaxis\":{\"gridcolor\":\"white\",\"linecolor\":\"white\",\"ticks\":\"\"},\"bgcolor\":\"#E5ECF6\",\"radialaxis\":{\"gridcolor\":\"white\",\"linecolor\":\"white\",\"ticks\":\"\"}},\"scene\":{\"xaxis\":{\"backgroundcolor\":\"#E5ECF6\",\"gridcolor\":\"white\",\"gridwidth\":2,\"linecolor\":\"white\",\"showbackground\":true,\"ticks\":\"\",\"zerolinecolor\":\"white\"},\"yaxis\":{\"backgroundcolor\":\"#E5ECF6\",\"gridcolor\":\"white\",\"gridwidth\":2,\"linecolor\":\"white\",\"showbackground\":true,\"ticks\":\"\",\"zerolinecolor\":\"white\"},\"zaxis\":{\"backgroundcolor\":\"#E5ECF6\",\"gridcolor\":\"white\",\"gridwidth\":2,\"linecolor\":\"white\",\"showbackground\":true,\"ticks\":\"\",\"zerolinecolor\":\"white\"}},\"shapedefaults\":{\"line\":{\"color\":\"#2a3f5f\"}},\"ternary\":{\"aaxis\":{\"gridcolor\":\"white\",\"linecolor\":\"white\",\"ticks\":\"\"},\"baxis\":{\"gridcolor\":\"white\",\"linecolor\":\"white\",\"ticks\":\"\"},\"bgcolor\":\"#E5ECF6\",\"caxis\":{\"gridcolor\":\"white\",\"linecolor\":\"white\",\"ticks\":\"\"}},\"title\":{\"x\":0.05},\"xaxis\":{\"automargin\":true,\"gridcolor\":\"white\",\"linecolor\":\"white\",\"ticks\":\"\",\"title\":{\"standoff\":15},\"zerolinecolor\":\"white\",\"zerolinewidth\":2},\"yaxis\":{\"automargin\":true,\"gridcolor\":\"white\",\"linecolor\":\"white\",\"ticks\":\"\",\"title\":{\"standoff\":15},\"zerolinecolor\":\"white\",\"zerolinewidth\":2}}},\"xaxis\":{\"anchor\":\"y\",\"domain\":[0.0,1.0],\"title\":{\"text\":\"count\"}},\"yaxis\":{\"anchor\":\"x\",\"domain\":[0.0,1.0],\"title\":{\"text\":\"Common_words\"},\"categoryorder\":\"array\",\"categoryarray\":[\"billion\",\"alert\",\"inc\",\"law\",\"lawsuit\",\"elon\",\"musk\",\"firm\",\"company\",\"investor\"]},\"legend\":{\"title\":{\"text\":\"Common_words\"},\"tracegroupgap\":0},\"title\":{\"text\":\"Common Words in Label12\"},\"barmode\":\"relative\"},                        {\"responsive\": true}                    ).then(function(){\n",
              "                            \n",
              "var gd = document.getElementById('11e86fb4-017c-4120-9283-b519ec363294');\n",
              "var x = new MutationObserver(function (mutations, observer) {{\n",
              "        var display = window.getComputedStyle(gd).display;\n",
              "        if (!display || display === 'none') {{\n",
              "            console.log([gd, 'removed!']);\n",
              "            Plotly.purge(gd);\n",
              "            observer.disconnect();\n",
              "        }}\n",
              "}});\n",
              "\n",
              "// Listen for the removal of the full notebook cells\n",
              "var notebookContainer = gd.closest('#notebook-container');\n",
              "if (notebookContainer) {{\n",
              "    x.observe(notebookContainer, {childList: true});\n",
              "}}\n",
              "\n",
              "// Listen for the clearing of the current output cell\n",
              "var outputEl = gd.closest('.output');\n",
              "if (outputEl) {{\n",
              "    x.observe(outputEl, {childList: true});\n",
              "}}\n",
              "\n",
              "                        })                };                            </script>        </div>\n",
              "</body>\n",
              "</html>"
            ]
          },
          "metadata": {},
          "output_type": "display_data"
        },
        {
          "name": "stderr",
          "output_type": "stream",
          "text": [
            "<ipython-input-25-ec3bb4c6d183>:3: SettingWithCopyWarning:\n",
            "\n",
            "\n",
            "A value is trying to be set on a copy of a slice from a DataFrame.\n",
            "Try using .loc[row_indexer,col_indexer] = value instead\n",
            "\n",
            "See the caveats in the documentation: https://pandas.pydata.org/pandas-docs/stable/user_guide/indexing.html#returning-a-view-versus-a-copy\n",
            "\n"
          ]
        },
        {
          "data": {
            "text/html": [
              "<html>\n",
              "<head><meta charset=\"utf-8\" /></head>\n",
              "<body>\n",
              "    <div>            <script src=\"https://cdnjs.cloudflare.com/ajax/libs/mathjax/2.7.5/MathJax.js?config=TeX-AMS-MML_SVG\"></script><script type=\"text/javascript\">if (window.MathJax) {MathJax.Hub.Config({SVG: {font: \"STIX-Web\"}});}</script>                <script type=\"text/javascript\">window.PlotlyConfig = {MathJaxConfig: 'local'};</script>\n",
              "        <script src=\"https://cdn.plot.ly/plotly-2.8.3.min.js\"></script>                <div id=\"2960a3aa-44dd-4957-a7d4-9ddff0e7dd7c\" class=\"plotly-graph-div\" style=\"height:525px; width:100%;\"></div>            <script type=\"text/javascript\">                                    window.PLOTLYENV=window.PLOTLYENV || {};                                    if (document.getElementById(\"2960a3aa-44dd-4957-a7d4-9ddff0e7dd7c\")) {                    Plotly.newPlot(                        \"2960a3aa-44dd-4957-a7d4-9ddff0e7dd7c\",                        [{\"alignmentgroup\":\"True\",\"hovertemplate\":\"Common_words=%{y}<br>count=%{x}<extra></extra>\",\"legendgroup\":\"acquisition\",\"marker\":{\"color\":\"#636efa\",\"pattern\":{\"shape\":\"\"}},\"name\":\"acquisition\",\"offsetgroup\":\"acquisition\",\"orientation\":\"h\",\"showlegend\":true,\"textposition\":\"auto\",\"x\":[93],\"xaxis\":\"x\",\"y\":[\"acquisition\"],\"yaxis\":\"y\",\"type\":\"bar\"},{\"alignmentgroup\":\"True\",\"hovertemplate\":\"Common_words=%{y}<br>count=%{x}<extra></extra>\",\"legendgroup\":\"acquires\",\"marker\":{\"color\":\"#EF553B\",\"pattern\":{\"shape\":\"\"}},\"name\":\"acquires\",\"offsetgroup\":\"acquires\",\"orientation\":\"h\",\"showlegend\":true,\"textposition\":\"auto\",\"x\":[69],\"xaxis\":\"x\",\"y\":[\"acquires\"],\"yaxis\":\"y\",\"type\":\"bar\"},{\"alignmentgroup\":\"True\",\"hovertemplate\":\"Common_words=%{y}<br>count=%{x}<extra></extra>\",\"legendgroup\":\"business\",\"marker\":{\"color\":\"#00cc96\",\"pattern\":{\"shape\":\"\"}},\"name\":\"business\",\"offsetgroup\":\"business\",\"orientation\":\"h\",\"showlegend\":true,\"textposition\":\"auto\",\"x\":[60],\"xaxis\":\"x\",\"y\":[\"business\"],\"yaxis\":\"y\",\"type\":\"bar\"},{\"alignmentgroup\":\"True\",\"hovertemplate\":\"Common_words=%{y}<br>count=%{x}<extra></extra>\",\"legendgroup\":\"acquire\",\"marker\":{\"color\":\"#ab63fa\",\"pattern\":{\"shape\":\"\"}},\"name\":\"acquire\",\"offsetgroup\":\"acquire\",\"orientation\":\"h\",\"showlegend\":true,\"textposition\":\"auto\",\"x\":[52],\"xaxis\":\"x\",\"y\":[\"acquire\"],\"yaxis\":\"y\",\"type\":\"bar\"},{\"alignmentgroup\":\"True\",\"hovertemplate\":\"Common_words=%{y}<br>count=%{x}<extra></extra>\",\"legendgroup\":\"company\",\"marker\":{\"color\":\"#FFA15A\",\"pattern\":{\"shape\":\"\"}},\"name\":\"company\",\"offsetgroup\":\"company\",\"orientation\":\"h\",\"showlegend\":true,\"textposition\":\"auto\",\"x\":[51],\"xaxis\":\"x\",\"y\":[\"company\"],\"yaxis\":\"y\",\"type\":\"bar\"},{\"alignmentgroup\":\"True\",\"hovertemplate\":\"Common_words=%{y}<br>count=%{x}<extra></extra>\",\"legendgroup\":\"deal\",\"marker\":{\"color\":\"#19d3f3\",\"pattern\":{\"shape\":\"\"}},\"name\":\"deal\",\"offsetgroup\":\"deal\",\"orientation\":\"h\",\"showlegend\":true,\"textposition\":\"auto\",\"x\":[39],\"xaxis\":\"x\",\"y\":[\"deal\"],\"yaxis\":\"y\",\"type\":\"bar\"},{\"alignmentgroup\":\"True\",\"hovertemplate\":\"Common_words=%{y}<br>count=%{x}<extra></extra>\",\"legendgroup\":\"stake\",\"marker\":{\"color\":\"#FF6692\",\"pattern\":{\"shape\":\"\"}},\"name\":\"stake\",\"offsetgroup\":\"stake\",\"orientation\":\"h\",\"showlegend\":true,\"textposition\":\"auto\",\"x\":[37],\"xaxis\":\"x\",\"y\":[\"stake\"],\"yaxis\":\"y\",\"type\":\"bar\"},{\"alignmentgroup\":\"True\",\"hovertemplate\":\"Common_words=%{y}<br>count=%{x}<extra></extra>\",\"legendgroup\":\"announces\",\"marker\":{\"color\":\"#B6E880\",\"pattern\":{\"shape\":\"\"}},\"name\":\"announces\",\"offsetgroup\":\"announces\",\"orientation\":\"h\",\"showlegend\":true,\"textposition\":\"auto\",\"x\":[36],\"xaxis\":\"x\",\"y\":[\"announces\"],\"yaxis\":\"y\",\"type\":\"bar\"},{\"alignmentgroup\":\"True\",\"hovertemplate\":\"Common_words=%{y}<br>count=%{x}<extra></extra>\",\"legendgroup\":\"firm\",\"marker\":{\"color\":\"#FF97FF\",\"pattern\":{\"shape\":\"\"}},\"name\":\"firm\",\"offsetgroup\":\"firm\",\"orientation\":\"h\",\"showlegend\":true,\"textposition\":\"auto\",\"x\":[35],\"xaxis\":\"x\",\"y\":[\"firm\"],\"yaxis\":\"y\",\"type\":\"bar\"},{\"alignmentgroup\":\"True\",\"hovertemplate\":\"Common_words=%{y}<br>count=%{x}<extra></extra>\",\"legendgroup\":\"group\",\"marker\":{\"color\":\"#FECB52\",\"pattern\":{\"shape\":\"\"}},\"name\":\"group\",\"offsetgroup\":\"group\",\"orientation\":\"h\",\"showlegend\":true,\"textposition\":\"auto\",\"x\":[35],\"xaxis\":\"x\",\"y\":[\"group\"],\"yaxis\":\"y\",\"type\":\"bar\"}],                        {\"template\":{\"data\":{\"bar\":[{\"error_x\":{\"color\":\"#2a3f5f\"},\"error_y\":{\"color\":\"#2a3f5f\"},\"marker\":{\"line\":{\"color\":\"#E5ECF6\",\"width\":0.5},\"pattern\":{\"fillmode\":\"overlay\",\"size\":10,\"solidity\":0.2}},\"type\":\"bar\"}],\"barpolar\":[{\"marker\":{\"line\":{\"color\":\"#E5ECF6\",\"width\":0.5},\"pattern\":{\"fillmode\":\"overlay\",\"size\":10,\"solidity\":0.2}},\"type\":\"barpolar\"}],\"carpet\":[{\"aaxis\":{\"endlinecolor\":\"#2a3f5f\",\"gridcolor\":\"white\",\"linecolor\":\"white\",\"minorgridcolor\":\"white\",\"startlinecolor\":\"#2a3f5f\"},\"baxis\":{\"endlinecolor\":\"#2a3f5f\",\"gridcolor\":\"white\",\"linecolor\":\"white\",\"minorgridcolor\":\"white\",\"startlinecolor\":\"#2a3f5f\"},\"type\":\"carpet\"}],\"choropleth\":[{\"colorbar\":{\"outlinewidth\":0,\"ticks\":\"\"},\"type\":\"choropleth\"}],\"contour\":[{\"colorbar\":{\"outlinewidth\":0,\"ticks\":\"\"},\"colorscale\":[[0.0,\"#0d0887\"],[0.1111111111111111,\"#46039f\"],[0.2222222222222222,\"#7201a8\"],[0.3333333333333333,\"#9c179e\"],[0.4444444444444444,\"#bd3786\"],[0.5555555555555556,\"#d8576b\"],[0.6666666666666666,\"#ed7953\"],[0.7777777777777778,\"#fb9f3a\"],[0.8888888888888888,\"#fdca26\"],[1.0,\"#f0f921\"]],\"type\":\"contour\"}],\"contourcarpet\":[{\"colorbar\":{\"outlinewidth\":0,\"ticks\":\"\"},\"type\":\"contourcarpet\"}],\"heatmap\":[{\"colorbar\":{\"outlinewidth\":0,\"ticks\":\"\"},\"colorscale\":[[0.0,\"#0d0887\"],[0.1111111111111111,\"#46039f\"],[0.2222222222222222,\"#7201a8\"],[0.3333333333333333,\"#9c179e\"],[0.4444444444444444,\"#bd3786\"],[0.5555555555555556,\"#d8576b\"],[0.6666666666666666,\"#ed7953\"],[0.7777777777777778,\"#fb9f3a\"],[0.8888888888888888,\"#fdca26\"],[1.0,\"#f0f921\"]],\"type\":\"heatmap\"}],\"heatmapgl\":[{\"colorbar\":{\"outlinewidth\":0,\"ticks\":\"\"},\"colorscale\":[[0.0,\"#0d0887\"],[0.1111111111111111,\"#46039f\"],[0.2222222222222222,\"#7201a8\"],[0.3333333333333333,\"#9c179e\"],[0.4444444444444444,\"#bd3786\"],[0.5555555555555556,\"#d8576b\"],[0.6666666666666666,\"#ed7953\"],[0.7777777777777778,\"#fb9f3a\"],[0.8888888888888888,\"#fdca26\"],[1.0,\"#f0f921\"]],\"type\":\"heatmapgl\"}],\"histogram\":[{\"marker\":{\"pattern\":{\"fillmode\":\"overlay\",\"size\":10,\"solidity\":0.2}},\"type\":\"histogram\"}],\"histogram2d\":[{\"colorbar\":{\"outlinewidth\":0,\"ticks\":\"\"},\"colorscale\":[[0.0,\"#0d0887\"],[0.1111111111111111,\"#46039f\"],[0.2222222222222222,\"#7201a8\"],[0.3333333333333333,\"#9c179e\"],[0.4444444444444444,\"#bd3786\"],[0.5555555555555556,\"#d8576b\"],[0.6666666666666666,\"#ed7953\"],[0.7777777777777778,\"#fb9f3a\"],[0.8888888888888888,\"#fdca26\"],[1.0,\"#f0f921\"]],\"type\":\"histogram2d\"}],\"histogram2dcontour\":[{\"colorbar\":{\"outlinewidth\":0,\"ticks\":\"\"},\"colorscale\":[[0.0,\"#0d0887\"],[0.1111111111111111,\"#46039f\"],[0.2222222222222222,\"#7201a8\"],[0.3333333333333333,\"#9c179e\"],[0.4444444444444444,\"#bd3786\"],[0.5555555555555556,\"#d8576b\"],[0.6666666666666666,\"#ed7953\"],[0.7777777777777778,\"#fb9f3a\"],[0.8888888888888888,\"#fdca26\"],[1.0,\"#f0f921\"]],\"type\":\"histogram2dcontour\"}],\"mesh3d\":[{\"colorbar\":{\"outlinewidth\":0,\"ticks\":\"\"},\"type\":\"mesh3d\"}],\"parcoords\":[{\"line\":{\"colorbar\":{\"outlinewidth\":0,\"ticks\":\"\"}},\"type\":\"parcoords\"}],\"pie\":[{\"automargin\":true,\"type\":\"pie\"}],\"scatter\":[{\"marker\":{\"colorbar\":{\"outlinewidth\":0,\"ticks\":\"\"}},\"type\":\"scatter\"}],\"scatter3d\":[{\"line\":{\"colorbar\":{\"outlinewidth\":0,\"ticks\":\"\"}},\"marker\":{\"colorbar\":{\"outlinewidth\":0,\"ticks\":\"\"}},\"type\":\"scatter3d\"}],\"scattercarpet\":[{\"marker\":{\"colorbar\":{\"outlinewidth\":0,\"ticks\":\"\"}},\"type\":\"scattercarpet\"}],\"scattergeo\":[{\"marker\":{\"colorbar\":{\"outlinewidth\":0,\"ticks\":\"\"}},\"type\":\"scattergeo\"}],\"scattergl\":[{\"marker\":{\"colorbar\":{\"outlinewidth\":0,\"ticks\":\"\"}},\"type\":\"scattergl\"}],\"scattermapbox\":[{\"marker\":{\"colorbar\":{\"outlinewidth\":0,\"ticks\":\"\"}},\"type\":\"scattermapbox\"}],\"scatterpolar\":[{\"marker\":{\"colorbar\":{\"outlinewidth\":0,\"ticks\":\"\"}},\"type\":\"scatterpolar\"}],\"scatterpolargl\":[{\"marker\":{\"colorbar\":{\"outlinewidth\":0,\"ticks\":\"\"}},\"type\":\"scatterpolargl\"}],\"scatterternary\":[{\"marker\":{\"colorbar\":{\"outlinewidth\":0,\"ticks\":\"\"}},\"type\":\"scatterternary\"}],\"surface\":[{\"colorbar\":{\"outlinewidth\":0,\"ticks\":\"\"},\"colorscale\":[[0.0,\"#0d0887\"],[0.1111111111111111,\"#46039f\"],[0.2222222222222222,\"#7201a8\"],[0.3333333333333333,\"#9c179e\"],[0.4444444444444444,\"#bd3786\"],[0.5555555555555556,\"#d8576b\"],[0.6666666666666666,\"#ed7953\"],[0.7777777777777778,\"#fb9f3a\"],[0.8888888888888888,\"#fdca26\"],[1.0,\"#f0f921\"]],\"type\":\"surface\"}],\"table\":[{\"cells\":{\"fill\":{\"color\":\"#EBF0F8\"},\"line\":{\"color\":\"white\"}},\"header\":{\"fill\":{\"color\":\"#C8D4E3\"},\"line\":{\"color\":\"white\"}},\"type\":\"table\"}]},\"layout\":{\"annotationdefaults\":{\"arrowcolor\":\"#2a3f5f\",\"arrowhead\":0,\"arrowwidth\":1},\"autotypenumbers\":\"strict\",\"coloraxis\":{\"colorbar\":{\"outlinewidth\":0,\"ticks\":\"\"}},\"colorscale\":{\"diverging\":[[0,\"#8e0152\"],[0.1,\"#c51b7d\"],[0.2,\"#de77ae\"],[0.3,\"#f1b6da\"],[0.4,\"#fde0ef\"],[0.5,\"#f7f7f7\"],[0.6,\"#e6f5d0\"],[0.7,\"#b8e186\"],[0.8,\"#7fbc41\"],[0.9,\"#4d9221\"],[1,\"#276419\"]],\"sequential\":[[0.0,\"#0d0887\"],[0.1111111111111111,\"#46039f\"],[0.2222222222222222,\"#7201a8\"],[0.3333333333333333,\"#9c179e\"],[0.4444444444444444,\"#bd3786\"],[0.5555555555555556,\"#d8576b\"],[0.6666666666666666,\"#ed7953\"],[0.7777777777777778,\"#fb9f3a\"],[0.8888888888888888,\"#fdca26\"],[1.0,\"#f0f921\"]],\"sequentialminus\":[[0.0,\"#0d0887\"],[0.1111111111111111,\"#46039f\"],[0.2222222222222222,\"#7201a8\"],[0.3333333333333333,\"#9c179e\"],[0.4444444444444444,\"#bd3786\"],[0.5555555555555556,\"#d8576b\"],[0.6666666666666666,\"#ed7953\"],[0.7777777777777778,\"#fb9f3a\"],[0.8888888888888888,\"#fdca26\"],[1.0,\"#f0f921\"]]},\"colorway\":[\"#636efa\",\"#EF553B\",\"#00cc96\",\"#ab63fa\",\"#FFA15A\",\"#19d3f3\",\"#FF6692\",\"#B6E880\",\"#FF97FF\",\"#FECB52\"],\"font\":{\"color\":\"#2a3f5f\"},\"geo\":{\"bgcolor\":\"white\",\"lakecolor\":\"white\",\"landcolor\":\"#E5ECF6\",\"showlakes\":true,\"showland\":true,\"subunitcolor\":\"white\"},\"hoverlabel\":{\"align\":\"left\"},\"hovermode\":\"closest\",\"mapbox\":{\"style\":\"light\"},\"paper_bgcolor\":\"white\",\"plot_bgcolor\":\"#E5ECF6\",\"polar\":{\"angularaxis\":{\"gridcolor\":\"white\",\"linecolor\":\"white\",\"ticks\":\"\"},\"bgcolor\":\"#E5ECF6\",\"radialaxis\":{\"gridcolor\":\"white\",\"linecolor\":\"white\",\"ticks\":\"\"}},\"scene\":{\"xaxis\":{\"backgroundcolor\":\"#E5ECF6\",\"gridcolor\":\"white\",\"gridwidth\":2,\"linecolor\":\"white\",\"showbackground\":true,\"ticks\":\"\",\"zerolinecolor\":\"white\"},\"yaxis\":{\"backgroundcolor\":\"#E5ECF6\",\"gridcolor\":\"white\",\"gridwidth\":2,\"linecolor\":\"white\",\"showbackground\":true,\"ticks\":\"\",\"zerolinecolor\":\"white\"},\"zaxis\":{\"backgroundcolor\":\"#E5ECF6\",\"gridcolor\":\"white\",\"gridwidth\":2,\"linecolor\":\"white\",\"showbackground\":true,\"ticks\":\"\",\"zerolinecolor\":\"white\"}},\"shapedefaults\":{\"line\":{\"color\":\"#2a3f5f\"}},\"ternary\":{\"aaxis\":{\"gridcolor\":\"white\",\"linecolor\":\"white\",\"ticks\":\"\"},\"baxis\":{\"gridcolor\":\"white\",\"linecolor\":\"white\",\"ticks\":\"\"},\"bgcolor\":\"#E5ECF6\",\"caxis\":{\"gridcolor\":\"white\",\"linecolor\":\"white\",\"ticks\":\"\"}},\"title\":{\"x\":0.05},\"xaxis\":{\"automargin\":true,\"gridcolor\":\"white\",\"linecolor\":\"white\",\"ticks\":\"\",\"title\":{\"standoff\":15},\"zerolinecolor\":\"white\",\"zerolinewidth\":2},\"yaxis\":{\"automargin\":true,\"gridcolor\":\"white\",\"linecolor\":\"white\",\"ticks\":\"\",\"title\":{\"standoff\":15},\"zerolinecolor\":\"white\",\"zerolinewidth\":2}}},\"xaxis\":{\"anchor\":\"y\",\"domain\":[0.0,1.0],\"title\":{\"text\":\"count\"}},\"yaxis\":{\"anchor\":\"x\",\"domain\":[0.0,1.0],\"title\":{\"text\":\"Common_words\"},\"categoryorder\":\"array\",\"categoryarray\":[\"group\",\"firm\",\"announces\",\"stake\",\"deal\",\"company\",\"acquire\",\"business\",\"acquires\",\"acquisition\"]},\"legend\":{\"title\":{\"text\":\"Common_words\"},\"tracegroupgap\":0},\"title\":{\"text\":\"Common Words in Label13\"},\"barmode\":\"relative\"},                        {\"responsive\": true}                    ).then(function(){\n",
              "                            \n",
              "var gd = document.getElementById('2960a3aa-44dd-4957-a7d4-9ddff0e7dd7c');\n",
              "var x = new MutationObserver(function (mutations, observer) {{\n",
              "        var display = window.getComputedStyle(gd).display;\n",
              "        if (!display || display === 'none') {{\n",
              "            console.log([gd, 'removed!']);\n",
              "            Plotly.purge(gd);\n",
              "            observer.disconnect();\n",
              "        }}\n",
              "}});\n",
              "\n",
              "// Listen for the removal of the full notebook cells\n",
              "var notebookContainer = gd.closest('#notebook-container');\n",
              "if (notebookContainer) {{\n",
              "    x.observe(notebookContainer, {childList: true});\n",
              "}}\n",
              "\n",
              "// Listen for the clearing of the current output cell\n",
              "var outputEl = gd.closest('.output');\n",
              "if (outputEl) {{\n",
              "    x.observe(outputEl, {childList: true});\n",
              "}}\n",
              "\n",
              "                        })                };                            </script>        </div>\n",
              "</body>\n",
              "</html>"
            ]
          },
          "metadata": {},
          "output_type": "display_data"
        },
        {
          "name": "stderr",
          "output_type": "stream",
          "text": [
            "<ipython-input-25-ec3bb4c6d183>:3: SettingWithCopyWarning:\n",
            "\n",
            "\n",
            "A value is trying to be set on a copy of a slice from a DataFrame.\n",
            "Try using .loc[row_indexer,col_indexer] = value instead\n",
            "\n",
            "See the caveats in the documentation: https://pandas.pydata.org/pandas-docs/stable/user_guide/indexing.html#returning-a-view-versus-a-copy\n",
            "\n"
          ]
        },
        {
          "data": {
            "text/html": [
              "<html>\n",
              "<head><meta charset=\"utf-8\" /></head>\n",
              "<body>\n",
              "    <div>            <script src=\"https://cdnjs.cloudflare.com/ajax/libs/mathjax/2.7.5/MathJax.js?config=TeX-AMS-MML_SVG\"></script><script type=\"text/javascript\">if (window.MathJax) {MathJax.Hub.Config({SVG: {font: \"STIX-Web\"}});}</script>                <script type=\"text/javascript\">window.PlotlyConfig = {MathJaxConfig: 'local'};</script>\n",
              "        <script src=\"https://cdn.plot.ly/plotly-2.8.3.min.js\"></script>                <div id=\"379096eb-587f-455b-b5a5-4770acfb69a8\" class=\"plotly-graph-div\" style=\"height:525px; width:100%;\"></div>            <script type=\"text/javascript\">                                    window.PLOTLYENV=window.PLOTLYENV || {};                                    if (document.getElementById(\"379096eb-587f-455b-b5a5-4770acfb69a8\")) {                    Plotly.newPlot(                        \"379096eb-587f-455b-b5a5-4770acfb69a8\",                        [{\"alignmentgroup\":\"True\",\"hovertemplate\":\"Common_words=%{y}<br>count=%{x}<extra></extra>\",\"legendgroup\":\"u\",\"marker\":{\"color\":\"#636efa\",\"pattern\":{\"shape\":\"\"}},\"name\":\"u\",\"offsetgroup\":\"u\",\"orientation\":\"h\",\"showlegend\":true,\"textposition\":\"auto\",\"x\":[381],\"xaxis\":\"x\",\"y\":[\"u\"],\"yaxis\":\"y\",\"type\":\"bar\"},{\"alignmentgroup\":\"True\",\"hovertemplate\":\"Common_words=%{y}<br>count=%{x}<extra></extra>\",\"legendgroup\":\"inflation\",\"marker\":{\"color\":\"#EF553B\",\"pattern\":{\"shape\":\"\"}},\"name\":\"inflation\",\"offsetgroup\":\"inflation\",\"orientation\":\"h\",\"showlegend\":true,\"textposition\":\"auto\",\"x\":[354],\"xaxis\":\"x\",\"y\":[\"inflation\"],\"yaxis\":\"y\",\"type\":\"bar\"},{\"alignmentgroup\":\"True\",\"hovertemplate\":\"Common_words=%{y}<br>count=%{x}<extra></extra>\",\"legendgroup\":\"price\",\"marker\":{\"color\":\"#00cc96\",\"pattern\":{\"shape\":\"\"}},\"name\":\"price\",\"offsetgroup\":\"price\",\"orientation\":\"h\",\"showlegend\":true,\"textposition\":\"auto\",\"x\":[279],\"xaxis\":\"x\",\"y\":[\"price\"],\"yaxis\":\"y\",\"type\":\"bar\"},{\"alignmentgroup\":\"True\",\"hovertemplate\":\"Common_words=%{y}<br>count=%{x}<extra></extra>\",\"legendgroup\":\"june\",\"marker\":{\"color\":\"#ab63fa\",\"pattern\":{\"shape\":\"\"}},\"name\":\"june\",\"offsetgroup\":\"june\",\"orientation\":\"h\",\"showlegend\":true,\"textposition\":\"auto\",\"x\":[234],\"xaxis\":\"x\",\"y\":[\"june\"],\"yaxis\":\"y\",\"type\":\"bar\"},{\"alignmentgroup\":\"True\",\"hovertemplate\":\"Common_words=%{y}<br>count=%{x}<extra></extra>\",\"legendgroup\":\"year\",\"marker\":{\"color\":\"#FFA15A\",\"pattern\":{\"shape\":\"\"}},\"name\":\"year\",\"offsetgroup\":\"year\",\"orientation\":\"h\",\"showlegend\":true,\"textposition\":\"auto\",\"x\":[215],\"xaxis\":\"x\",\"y\":[\"year\"],\"yaxis\":\"y\",\"type\":\"bar\"},{\"alignmentgroup\":\"True\",\"hovertemplate\":\"Common_words=%{y}<br>count=%{x}<extra></extra>\",\"legendgroup\":\"est\",\"marker\":{\"color\":\"#19d3f3\",\"pattern\":{\"shape\":\"\"}},\"name\":\"est\",\"offsetgroup\":\"est\",\"orientation\":\"h\",\"showlegend\":true,\"textposition\":\"auto\",\"x\":[170],\"xaxis\":\"x\",\"y\":[\"est\"],\"yaxis\":\"y\",\"type\":\"bar\"},{\"alignmentgroup\":\"True\",\"hovertemplate\":\"Common_words=%{y}<br>count=%{x}<extra></extra>\",\"legendgroup\":\"economy\",\"marker\":{\"color\":\"#FF6692\",\"pattern\":{\"shape\":\"\"}},\"name\":\"economy\",\"offsetgroup\":\"economy\",\"orientation\":\"h\",\"showlegend\":true,\"textposition\":\"auto\",\"x\":[169],\"xaxis\":\"x\",\"y\":[\"economy\"],\"yaxis\":\"y\",\"type\":\"bar\"},{\"alignmentgroup\":\"True\",\"hovertemplate\":\"Common_words=%{y}<br>count=%{x}<extra></extra>\",\"legendgroup\":\"say\",\"marker\":{\"color\":\"#B6E880\",\"pattern\":{\"shape\":\"\"}},\"name\":\"say\",\"offsetgroup\":\"say\",\"orientation\":\"h\",\"showlegend\":true,\"textposition\":\"auto\",\"x\":[157],\"xaxis\":\"x\",\"y\":[\"say\"],\"yaxis\":\"y\",\"type\":\"bar\"},{\"alignmentgroup\":\"True\",\"hovertemplate\":\"Common_words=%{y}<br>count=%{x}<extra></extra>\",\"legendgroup\":\"may\",\"marker\":{\"color\":\"#FF97FF\",\"pattern\":{\"shape\":\"\"}},\"name\":\"may\",\"offsetgroup\":\"may\",\"orientation\":\"h\",\"showlegend\":true,\"textposition\":\"auto\",\"x\":[155],\"xaxis\":\"x\",\"y\":[\"may\"],\"yaxis\":\"y\",\"type\":\"bar\"},{\"alignmentgroup\":\"True\",\"hovertemplate\":\"Common_words=%{y}<br>count=%{x}<extra></extra>\",\"legendgroup\":\"jun\",\"marker\":{\"color\":\"#FECB52\",\"pattern\":{\"shape\":\"\"}},\"name\":\"jun\",\"offsetgroup\":\"jun\",\"orientation\":\"h\",\"showlegend\":true,\"textposition\":\"auto\",\"x\":[147],\"xaxis\":\"x\",\"y\":[\"jun\"],\"yaxis\":\"y\",\"type\":\"bar\"}],                        {\"template\":{\"data\":{\"bar\":[{\"error_x\":{\"color\":\"#2a3f5f\"},\"error_y\":{\"color\":\"#2a3f5f\"},\"marker\":{\"line\":{\"color\":\"#E5ECF6\",\"width\":0.5},\"pattern\":{\"fillmode\":\"overlay\",\"size\":10,\"solidity\":0.2}},\"type\":\"bar\"}],\"barpolar\":[{\"marker\":{\"line\":{\"color\":\"#E5ECF6\",\"width\":0.5},\"pattern\":{\"fillmode\":\"overlay\",\"size\":10,\"solidity\":0.2}},\"type\":\"barpolar\"}],\"carpet\":[{\"aaxis\":{\"endlinecolor\":\"#2a3f5f\",\"gridcolor\":\"white\",\"linecolor\":\"white\",\"minorgridcolor\":\"white\",\"startlinecolor\":\"#2a3f5f\"},\"baxis\":{\"endlinecolor\":\"#2a3f5f\",\"gridcolor\":\"white\",\"linecolor\":\"white\",\"minorgridcolor\":\"white\",\"startlinecolor\":\"#2a3f5f\"},\"type\":\"carpet\"}],\"choropleth\":[{\"colorbar\":{\"outlinewidth\":0,\"ticks\":\"\"},\"type\":\"choropleth\"}],\"contour\":[{\"colorbar\":{\"outlinewidth\":0,\"ticks\":\"\"},\"colorscale\":[[0.0,\"#0d0887\"],[0.1111111111111111,\"#46039f\"],[0.2222222222222222,\"#7201a8\"],[0.3333333333333333,\"#9c179e\"],[0.4444444444444444,\"#bd3786\"],[0.5555555555555556,\"#d8576b\"],[0.6666666666666666,\"#ed7953\"],[0.7777777777777778,\"#fb9f3a\"],[0.8888888888888888,\"#fdca26\"],[1.0,\"#f0f921\"]],\"type\":\"contour\"}],\"contourcarpet\":[{\"colorbar\":{\"outlinewidth\":0,\"ticks\":\"\"},\"type\":\"contourcarpet\"}],\"heatmap\":[{\"colorbar\":{\"outlinewidth\":0,\"ticks\":\"\"},\"colorscale\":[[0.0,\"#0d0887\"],[0.1111111111111111,\"#46039f\"],[0.2222222222222222,\"#7201a8\"],[0.3333333333333333,\"#9c179e\"],[0.4444444444444444,\"#bd3786\"],[0.5555555555555556,\"#d8576b\"],[0.6666666666666666,\"#ed7953\"],[0.7777777777777778,\"#fb9f3a\"],[0.8888888888888888,\"#fdca26\"],[1.0,\"#f0f921\"]],\"type\":\"heatmap\"}],\"heatmapgl\":[{\"colorbar\":{\"outlinewidth\":0,\"ticks\":\"\"},\"colorscale\":[[0.0,\"#0d0887\"],[0.1111111111111111,\"#46039f\"],[0.2222222222222222,\"#7201a8\"],[0.3333333333333333,\"#9c179e\"],[0.4444444444444444,\"#bd3786\"],[0.5555555555555556,\"#d8576b\"],[0.6666666666666666,\"#ed7953\"],[0.7777777777777778,\"#fb9f3a\"],[0.8888888888888888,\"#fdca26\"],[1.0,\"#f0f921\"]],\"type\":\"heatmapgl\"}],\"histogram\":[{\"marker\":{\"pattern\":{\"fillmode\":\"overlay\",\"size\":10,\"solidity\":0.2}},\"type\":\"histogram\"}],\"histogram2d\":[{\"colorbar\":{\"outlinewidth\":0,\"ticks\":\"\"},\"colorscale\":[[0.0,\"#0d0887\"],[0.1111111111111111,\"#46039f\"],[0.2222222222222222,\"#7201a8\"],[0.3333333333333333,\"#9c179e\"],[0.4444444444444444,\"#bd3786\"],[0.5555555555555556,\"#d8576b\"],[0.6666666666666666,\"#ed7953\"],[0.7777777777777778,\"#fb9f3a\"],[0.8888888888888888,\"#fdca26\"],[1.0,\"#f0f921\"]],\"type\":\"histogram2d\"}],\"histogram2dcontour\":[{\"colorbar\":{\"outlinewidth\":0,\"ticks\":\"\"},\"colorscale\":[[0.0,\"#0d0887\"],[0.1111111111111111,\"#46039f\"],[0.2222222222222222,\"#7201a8\"],[0.3333333333333333,\"#9c179e\"],[0.4444444444444444,\"#bd3786\"],[0.5555555555555556,\"#d8576b\"],[0.6666666666666666,\"#ed7953\"],[0.7777777777777778,\"#fb9f3a\"],[0.8888888888888888,\"#fdca26\"],[1.0,\"#f0f921\"]],\"type\":\"histogram2dcontour\"}],\"mesh3d\":[{\"colorbar\":{\"outlinewidth\":0,\"ticks\":\"\"},\"type\":\"mesh3d\"}],\"parcoords\":[{\"line\":{\"colorbar\":{\"outlinewidth\":0,\"ticks\":\"\"}},\"type\":\"parcoords\"}],\"pie\":[{\"automargin\":true,\"type\":\"pie\"}],\"scatter\":[{\"marker\":{\"colorbar\":{\"outlinewidth\":0,\"ticks\":\"\"}},\"type\":\"scatter\"}],\"scatter3d\":[{\"line\":{\"colorbar\":{\"outlinewidth\":0,\"ticks\":\"\"}},\"marker\":{\"colorbar\":{\"outlinewidth\":0,\"ticks\":\"\"}},\"type\":\"scatter3d\"}],\"scattercarpet\":[{\"marker\":{\"colorbar\":{\"outlinewidth\":0,\"ticks\":\"\"}},\"type\":\"scattercarpet\"}],\"scattergeo\":[{\"marker\":{\"colorbar\":{\"outlinewidth\":0,\"ticks\":\"\"}},\"type\":\"scattergeo\"}],\"scattergl\":[{\"marker\":{\"colorbar\":{\"outlinewidth\":0,\"ticks\":\"\"}},\"type\":\"scattergl\"}],\"scattermapbox\":[{\"marker\":{\"colorbar\":{\"outlinewidth\":0,\"ticks\":\"\"}},\"type\":\"scattermapbox\"}],\"scatterpolar\":[{\"marker\":{\"colorbar\":{\"outlinewidth\":0,\"ticks\":\"\"}},\"type\":\"scatterpolar\"}],\"scatterpolargl\":[{\"marker\":{\"colorbar\":{\"outlinewidth\":0,\"ticks\":\"\"}},\"type\":\"scatterpolargl\"}],\"scatterternary\":[{\"marker\":{\"colorbar\":{\"outlinewidth\":0,\"ticks\":\"\"}},\"type\":\"scatterternary\"}],\"surface\":[{\"colorbar\":{\"outlinewidth\":0,\"ticks\":\"\"},\"colorscale\":[[0.0,\"#0d0887\"],[0.1111111111111111,\"#46039f\"],[0.2222222222222222,\"#7201a8\"],[0.3333333333333333,\"#9c179e\"],[0.4444444444444444,\"#bd3786\"],[0.5555555555555556,\"#d8576b\"],[0.6666666666666666,\"#ed7953\"],[0.7777777777777778,\"#fb9f3a\"],[0.8888888888888888,\"#fdca26\"],[1.0,\"#f0f921\"]],\"type\":\"surface\"}],\"table\":[{\"cells\":{\"fill\":{\"color\":\"#EBF0F8\"},\"line\":{\"color\":\"white\"}},\"header\":{\"fill\":{\"color\":\"#C8D4E3\"},\"line\":{\"color\":\"white\"}},\"type\":\"table\"}]},\"layout\":{\"annotationdefaults\":{\"arrowcolor\":\"#2a3f5f\",\"arrowhead\":0,\"arrowwidth\":1},\"autotypenumbers\":\"strict\",\"coloraxis\":{\"colorbar\":{\"outlinewidth\":0,\"ticks\":\"\"}},\"colorscale\":{\"diverging\":[[0,\"#8e0152\"],[0.1,\"#c51b7d\"],[0.2,\"#de77ae\"],[0.3,\"#f1b6da\"],[0.4,\"#fde0ef\"],[0.5,\"#f7f7f7\"],[0.6,\"#e6f5d0\"],[0.7,\"#b8e186\"],[0.8,\"#7fbc41\"],[0.9,\"#4d9221\"],[1,\"#276419\"]],\"sequential\":[[0.0,\"#0d0887\"],[0.1111111111111111,\"#46039f\"],[0.2222222222222222,\"#7201a8\"],[0.3333333333333333,\"#9c179e\"],[0.4444444444444444,\"#bd3786\"],[0.5555555555555556,\"#d8576b\"],[0.6666666666666666,\"#ed7953\"],[0.7777777777777778,\"#fb9f3a\"],[0.8888888888888888,\"#fdca26\"],[1.0,\"#f0f921\"]],\"sequentialminus\":[[0.0,\"#0d0887\"],[0.1111111111111111,\"#46039f\"],[0.2222222222222222,\"#7201a8\"],[0.3333333333333333,\"#9c179e\"],[0.4444444444444444,\"#bd3786\"],[0.5555555555555556,\"#d8576b\"],[0.6666666666666666,\"#ed7953\"],[0.7777777777777778,\"#fb9f3a\"],[0.8888888888888888,\"#fdca26\"],[1.0,\"#f0f921\"]]},\"colorway\":[\"#636efa\",\"#EF553B\",\"#00cc96\",\"#ab63fa\",\"#FFA15A\",\"#19d3f3\",\"#FF6692\",\"#B6E880\",\"#FF97FF\",\"#FECB52\"],\"font\":{\"color\":\"#2a3f5f\"},\"geo\":{\"bgcolor\":\"white\",\"lakecolor\":\"white\",\"landcolor\":\"#E5ECF6\",\"showlakes\":true,\"showland\":true,\"subunitcolor\":\"white\"},\"hoverlabel\":{\"align\":\"left\"},\"hovermode\":\"closest\",\"mapbox\":{\"style\":\"light\"},\"paper_bgcolor\":\"white\",\"plot_bgcolor\":\"#E5ECF6\",\"polar\":{\"angularaxis\":{\"gridcolor\":\"white\",\"linecolor\":\"white\",\"ticks\":\"\"},\"bgcolor\":\"#E5ECF6\",\"radialaxis\":{\"gridcolor\":\"white\",\"linecolor\":\"white\",\"ticks\":\"\"}},\"scene\":{\"xaxis\":{\"backgroundcolor\":\"#E5ECF6\",\"gridcolor\":\"white\",\"gridwidth\":2,\"linecolor\":\"white\",\"showbackground\":true,\"ticks\":\"\",\"zerolinecolor\":\"white\"},\"yaxis\":{\"backgroundcolor\":\"#E5ECF6\",\"gridcolor\":\"white\",\"gridwidth\":2,\"linecolor\":\"white\",\"showbackground\":true,\"ticks\":\"\",\"zerolinecolor\":\"white\"},\"zaxis\":{\"backgroundcolor\":\"#E5ECF6\",\"gridcolor\":\"white\",\"gridwidth\":2,\"linecolor\":\"white\",\"showbackground\":true,\"ticks\":\"\",\"zerolinecolor\":\"white\"}},\"shapedefaults\":{\"line\":{\"color\":\"#2a3f5f\"}},\"ternary\":{\"aaxis\":{\"gridcolor\":\"white\",\"linecolor\":\"white\",\"ticks\":\"\"},\"baxis\":{\"gridcolor\":\"white\",\"linecolor\":\"white\",\"ticks\":\"\"},\"bgcolor\":\"#E5ECF6\",\"caxis\":{\"gridcolor\":\"white\",\"linecolor\":\"white\",\"ticks\":\"\"}},\"title\":{\"x\":0.05},\"xaxis\":{\"automargin\":true,\"gridcolor\":\"white\",\"linecolor\":\"white\",\"ticks\":\"\",\"title\":{\"standoff\":15},\"zerolinecolor\":\"white\",\"zerolinewidth\":2},\"yaxis\":{\"automargin\":true,\"gridcolor\":\"white\",\"linecolor\":\"white\",\"ticks\":\"\",\"title\":{\"standoff\":15},\"zerolinecolor\":\"white\",\"zerolinewidth\":2}}},\"xaxis\":{\"anchor\":\"y\",\"domain\":[0.0,1.0],\"title\":{\"text\":\"count\"}},\"yaxis\":{\"anchor\":\"x\",\"domain\":[0.0,1.0],\"title\":{\"text\":\"Common_words\"},\"categoryorder\":\"array\",\"categoryarray\":[\"jun\",\"may\",\"say\",\"economy\",\"est\",\"year\",\"june\",\"price\",\"inflation\",\"u\"]},\"legend\":{\"title\":{\"text\":\"Common_words\"},\"tracegroupgap\":0},\"title\":{\"text\":\"Common Words in Label14\"},\"barmode\":\"relative\"},                        {\"responsive\": true}                    ).then(function(){\n",
              "                            \n",
              "var gd = document.getElementById('379096eb-587f-455b-b5a5-4770acfb69a8');\n",
              "var x = new MutationObserver(function (mutations, observer) {{\n",
              "        var display = window.getComputedStyle(gd).display;\n",
              "        if (!display || display === 'none') {{\n",
              "            console.log([gd, 'removed!']);\n",
              "            Plotly.purge(gd);\n",
              "            observer.disconnect();\n",
              "        }}\n",
              "}});\n",
              "\n",
              "// Listen for the removal of the full notebook cells\n",
              "var notebookContainer = gd.closest('#notebook-container');\n",
              "if (notebookContainer) {{\n",
              "    x.observe(notebookContainer, {childList: true});\n",
              "}}\n",
              "\n",
              "// Listen for the clearing of the current output cell\n",
              "var outputEl = gd.closest('.output');\n",
              "if (outputEl) {{\n",
              "    x.observe(outputEl, {childList: true});\n",
              "}}\n",
              "\n",
              "                        })                };                            </script>        </div>\n",
              "</body>\n",
              "</html>"
            ]
          },
          "metadata": {},
          "output_type": "display_data"
        },
        {
          "name": "stderr",
          "output_type": "stream",
          "text": [
            "<ipython-input-25-ec3bb4c6d183>:3: SettingWithCopyWarning:\n",
            "\n",
            "\n",
            "A value is trying to be set on a copy of a slice from a DataFrame.\n",
            "Try using .loc[row_indexer,col_indexer] = value instead\n",
            "\n",
            "See the caveats in the documentation: https://pandas.pydata.org/pandas-docs/stable/user_guide/indexing.html#returning-a-view-versus-a-copy\n",
            "\n"
          ]
        },
        {
          "data": {
            "text/html": [
              "<html>\n",
              "<head><meta charset=\"utf-8\" /></head>\n",
              "<body>\n",
              "    <div>            <script src=\"https://cdnjs.cloudflare.com/ajax/libs/mathjax/2.7.5/MathJax.js?config=TeX-AMS-MML_SVG\"></script><script type=\"text/javascript\">if (window.MathJax) {MathJax.Hub.Config({SVG: {font: \"STIX-Web\"}});}</script>                <script type=\"text/javascript\">window.PlotlyConfig = {MathJaxConfig: 'local'};</script>\n",
              "        <script src=\"https://cdn.plot.ly/plotly-2.8.3.min.js\"></script>                <div id=\"5005bf2c-4d7b-4953-978f-0a7afb73afd0\" class=\"plotly-graph-div\" style=\"height:525px; width:100%;\"></div>            <script type=\"text/javascript\">                                    window.PLOTLYENV=window.PLOTLYENV || {};                                    if (document.getElementById(\"5005bf2c-4d7b-4953-978f-0a7afb73afd0\")) {                    Plotly.newPlot(                        \"5005bf2c-4d7b-4953-978f-0a7afb73afd0\",                        [{\"alignmentgroup\":\"True\",\"hovertemplate\":\"Common_words=%{y}<br>count=%{x}<extra></extra>\",\"legendgroup\":\"stock\",\"marker\":{\"color\":\"#636efa\",\"pattern\":{\"shape\":\"\"}},\"name\":\"stock\",\"offsetgroup\":\"stock\",\"orientation\":\"h\",\"showlegend\":true,\"textposition\":\"auto\",\"x\":[219],\"xaxis\":\"x\",\"y\":[\"stock\"],\"yaxis\":\"y\",\"type\":\"bar\"},{\"alignmentgroup\":\"True\",\"hovertemplate\":\"Common_words=%{y}<br>count=%{x}<extra></extra>\",\"legendgroup\":\"market\",\"marker\":{\"color\":\"#EF553B\",\"pattern\":{\"shape\":\"\"}},\"name\":\"market\",\"offsetgroup\":\"market\",\"orientation\":\"h\",\"showlegend\":true,\"textposition\":\"auto\",\"x\":[156],\"xaxis\":\"x\",\"y\":[\"market\"],\"yaxis\":\"y\",\"type\":\"bar\"},{\"alignmentgroup\":\"True\",\"hovertemplate\":\"Common_words=%{y}<br>count=%{x}<extra></extra>\",\"legendgroup\":\"u\",\"marker\":{\"color\":\"#00cc96\",\"pattern\":{\"shape\":\"\"}},\"name\":\"u\",\"offsetgroup\":\"u\",\"orientation\":\"h\",\"showlegend\":true,\"textposition\":\"auto\",\"x\":[107],\"xaxis\":\"x\",\"y\":[\"u\"],\"yaxis\":\"y\",\"type\":\"bar\"},{\"alignmentgroup\":\"True\",\"hovertemplate\":\"Common_words=%{y}<br>count=%{x}<extra></extra>\",\"legendgroup\":\"point\",\"marker\":{\"color\":\"#ab63fa\",\"pattern\":{\"shape\":\"\"}},\"name\":\"point\",\"offsetgroup\":\"point\",\"orientation\":\"h\",\"showlegend\":true,\"textposition\":\"auto\",\"x\":[93],\"xaxis\":\"x\",\"y\":[\"point\"],\"yaxis\":\"y\",\"type\":\"bar\"},{\"alignmentgroup\":\"True\",\"hovertemplate\":\"Common_words=%{y}<br>count=%{x}<extra></extra>\",\"legendgroup\":\"earnings\",\"marker\":{\"color\":\"#FFA15A\",\"pattern\":{\"shape\":\"\"}},\"name\":\"earnings\",\"offsetgroup\":\"earnings\",\"orientation\":\"h\",\"showlegend\":true,\"textposition\":\"auto\",\"x\":[82],\"xaxis\":\"x\",\"y\":[\"earnings\"],\"yaxis\":\"y\",\"type\":\"bar\"},{\"alignmentgroup\":\"True\",\"hovertemplate\":\"Common_words=%{y}<br>count=%{x}<extra></extra>\",\"legendgroup\":\"dow\",\"marker\":{\"color\":\"#19d3f3\",\"pattern\":{\"shape\":\"\"}},\"name\":\"dow\",\"offsetgroup\":\"dow\",\"orientation\":\"h\",\"showlegend\":true,\"textposition\":\"auto\",\"x\":[77],\"xaxis\":\"x\",\"y\":[\"dow\"],\"yaxis\":\"y\",\"type\":\"bar\"},{\"alignmentgroup\":\"True\",\"hovertemplate\":\"Common_words=%{y}<br>count=%{x}<extra></extra>\",\"legendgroup\":\"sampp\",\"marker\":{\"color\":\"#FF6692\",\"pattern\":{\"shape\":\"\"}},\"name\":\"sampp\",\"offsetgroup\":\"sampp\",\"orientation\":\"h\",\"showlegend\":true,\"textposition\":\"auto\",\"x\":[72],\"xaxis\":\"x\",\"y\":[\"sampp\"],\"yaxis\":\"y\",\"type\":\"bar\"},{\"alignmentgroup\":\"True\",\"hovertemplate\":\"Common_words=%{y}<br>count=%{x}<extra></extra>\",\"legendgroup\":\"future\",\"marker\":{\"color\":\"#B6E880\",\"pattern\":{\"shape\":\"\"}},\"name\":\"future\",\"offsetgroup\":\"future\",\"orientation\":\"h\",\"showlegend\":true,\"textposition\":\"auto\",\"x\":[62],\"xaxis\":\"x\",\"y\":[\"future\"],\"yaxis\":\"y\",\"type\":\"bar\"},{\"alignmentgroup\":\"True\",\"hovertemplate\":\"Common_words=%{y}<br>count=%{x}<extra></extra>\",\"legendgroup\":\"open\",\"marker\":{\"color\":\"#FF97FF\",\"pattern\":{\"shape\":\"\"}},\"name\":\"open\",\"offsetgroup\":\"open\",\"orientation\":\"h\",\"showlegend\":true,\"textposition\":\"auto\",\"x\":[57],\"xaxis\":\"x\",\"y\":[\"open\"],\"yaxis\":\"y\",\"type\":\"bar\"},{\"alignmentgroup\":\"True\",\"hovertemplate\":\"Common_words=%{y}<br>count=%{x}<extra></extra>\",\"legendgroup\":\"nasdaq\",\"marker\":{\"color\":\"#FECB52\",\"pattern\":{\"shape\":\"\"}},\"name\":\"nasdaq\",\"offsetgroup\":\"nasdaq\",\"orientation\":\"h\",\"showlegend\":true,\"textposition\":\"auto\",\"x\":[56],\"xaxis\":\"x\",\"y\":[\"nasdaq\"],\"yaxis\":\"y\",\"type\":\"bar\"}],                        {\"template\":{\"data\":{\"bar\":[{\"error_x\":{\"color\":\"#2a3f5f\"},\"error_y\":{\"color\":\"#2a3f5f\"},\"marker\":{\"line\":{\"color\":\"#E5ECF6\",\"width\":0.5},\"pattern\":{\"fillmode\":\"overlay\",\"size\":10,\"solidity\":0.2}},\"type\":\"bar\"}],\"barpolar\":[{\"marker\":{\"line\":{\"color\":\"#E5ECF6\",\"width\":0.5},\"pattern\":{\"fillmode\":\"overlay\",\"size\":10,\"solidity\":0.2}},\"type\":\"barpolar\"}],\"carpet\":[{\"aaxis\":{\"endlinecolor\":\"#2a3f5f\",\"gridcolor\":\"white\",\"linecolor\":\"white\",\"minorgridcolor\":\"white\",\"startlinecolor\":\"#2a3f5f\"},\"baxis\":{\"endlinecolor\":\"#2a3f5f\",\"gridcolor\":\"white\",\"linecolor\":\"white\",\"minorgridcolor\":\"white\",\"startlinecolor\":\"#2a3f5f\"},\"type\":\"carpet\"}],\"choropleth\":[{\"colorbar\":{\"outlinewidth\":0,\"ticks\":\"\"},\"type\":\"choropleth\"}],\"contour\":[{\"colorbar\":{\"outlinewidth\":0,\"ticks\":\"\"},\"colorscale\":[[0.0,\"#0d0887\"],[0.1111111111111111,\"#46039f\"],[0.2222222222222222,\"#7201a8\"],[0.3333333333333333,\"#9c179e\"],[0.4444444444444444,\"#bd3786\"],[0.5555555555555556,\"#d8576b\"],[0.6666666666666666,\"#ed7953\"],[0.7777777777777778,\"#fb9f3a\"],[0.8888888888888888,\"#fdca26\"],[1.0,\"#f0f921\"]],\"type\":\"contour\"}],\"contourcarpet\":[{\"colorbar\":{\"outlinewidth\":0,\"ticks\":\"\"},\"type\":\"contourcarpet\"}],\"heatmap\":[{\"colorbar\":{\"outlinewidth\":0,\"ticks\":\"\"},\"colorscale\":[[0.0,\"#0d0887\"],[0.1111111111111111,\"#46039f\"],[0.2222222222222222,\"#7201a8\"],[0.3333333333333333,\"#9c179e\"],[0.4444444444444444,\"#bd3786\"],[0.5555555555555556,\"#d8576b\"],[0.6666666666666666,\"#ed7953\"],[0.7777777777777778,\"#fb9f3a\"],[0.8888888888888888,\"#fdca26\"],[1.0,\"#f0f921\"]],\"type\":\"heatmap\"}],\"heatmapgl\":[{\"colorbar\":{\"outlinewidth\":0,\"ticks\":\"\"},\"colorscale\":[[0.0,\"#0d0887\"],[0.1111111111111111,\"#46039f\"],[0.2222222222222222,\"#7201a8\"],[0.3333333333333333,\"#9c179e\"],[0.4444444444444444,\"#bd3786\"],[0.5555555555555556,\"#d8576b\"],[0.6666666666666666,\"#ed7953\"],[0.7777777777777778,\"#fb9f3a\"],[0.8888888888888888,\"#fdca26\"],[1.0,\"#f0f921\"]],\"type\":\"heatmapgl\"}],\"histogram\":[{\"marker\":{\"pattern\":{\"fillmode\":\"overlay\",\"size\":10,\"solidity\":0.2}},\"type\":\"histogram\"}],\"histogram2d\":[{\"colorbar\":{\"outlinewidth\":0,\"ticks\":\"\"},\"colorscale\":[[0.0,\"#0d0887\"],[0.1111111111111111,\"#46039f\"],[0.2222222222222222,\"#7201a8\"],[0.3333333333333333,\"#9c179e\"],[0.4444444444444444,\"#bd3786\"],[0.5555555555555556,\"#d8576b\"],[0.6666666666666666,\"#ed7953\"],[0.7777777777777778,\"#fb9f3a\"],[0.8888888888888888,\"#fdca26\"],[1.0,\"#f0f921\"]],\"type\":\"histogram2d\"}],\"histogram2dcontour\":[{\"colorbar\":{\"outlinewidth\":0,\"ticks\":\"\"},\"colorscale\":[[0.0,\"#0d0887\"],[0.1111111111111111,\"#46039f\"],[0.2222222222222222,\"#7201a8\"],[0.3333333333333333,\"#9c179e\"],[0.4444444444444444,\"#bd3786\"],[0.5555555555555556,\"#d8576b\"],[0.6666666666666666,\"#ed7953\"],[0.7777777777777778,\"#fb9f3a\"],[0.8888888888888888,\"#fdca26\"],[1.0,\"#f0f921\"]],\"type\":\"histogram2dcontour\"}],\"mesh3d\":[{\"colorbar\":{\"outlinewidth\":0,\"ticks\":\"\"},\"type\":\"mesh3d\"}],\"parcoords\":[{\"line\":{\"colorbar\":{\"outlinewidth\":0,\"ticks\":\"\"}},\"type\":\"parcoords\"}],\"pie\":[{\"automargin\":true,\"type\":\"pie\"}],\"scatter\":[{\"marker\":{\"colorbar\":{\"outlinewidth\":0,\"ticks\":\"\"}},\"type\":\"scatter\"}],\"scatter3d\":[{\"line\":{\"colorbar\":{\"outlinewidth\":0,\"ticks\":\"\"}},\"marker\":{\"colorbar\":{\"outlinewidth\":0,\"ticks\":\"\"}},\"type\":\"scatter3d\"}],\"scattercarpet\":[{\"marker\":{\"colorbar\":{\"outlinewidth\":0,\"ticks\":\"\"}},\"type\":\"scattercarpet\"}],\"scattergeo\":[{\"marker\":{\"colorbar\":{\"outlinewidth\":0,\"ticks\":\"\"}},\"type\":\"scattergeo\"}],\"scattergl\":[{\"marker\":{\"colorbar\":{\"outlinewidth\":0,\"ticks\":\"\"}},\"type\":\"scattergl\"}],\"scattermapbox\":[{\"marker\":{\"colorbar\":{\"outlinewidth\":0,\"ticks\":\"\"}},\"type\":\"scattermapbox\"}],\"scatterpolar\":[{\"marker\":{\"colorbar\":{\"outlinewidth\":0,\"ticks\":\"\"}},\"type\":\"scatterpolar\"}],\"scatterpolargl\":[{\"marker\":{\"colorbar\":{\"outlinewidth\":0,\"ticks\":\"\"}},\"type\":\"scatterpolargl\"}],\"scatterternary\":[{\"marker\":{\"colorbar\":{\"outlinewidth\":0,\"ticks\":\"\"}},\"type\":\"scatterternary\"}],\"surface\":[{\"colorbar\":{\"outlinewidth\":0,\"ticks\":\"\"},\"colorscale\":[[0.0,\"#0d0887\"],[0.1111111111111111,\"#46039f\"],[0.2222222222222222,\"#7201a8\"],[0.3333333333333333,\"#9c179e\"],[0.4444444444444444,\"#bd3786\"],[0.5555555555555556,\"#d8576b\"],[0.6666666666666666,\"#ed7953\"],[0.7777777777777778,\"#fb9f3a\"],[0.8888888888888888,\"#fdca26\"],[1.0,\"#f0f921\"]],\"type\":\"surface\"}],\"table\":[{\"cells\":{\"fill\":{\"color\":\"#EBF0F8\"},\"line\":{\"color\":\"white\"}},\"header\":{\"fill\":{\"color\":\"#C8D4E3\"},\"line\":{\"color\":\"white\"}},\"type\":\"table\"}]},\"layout\":{\"annotationdefaults\":{\"arrowcolor\":\"#2a3f5f\",\"arrowhead\":0,\"arrowwidth\":1},\"autotypenumbers\":\"strict\",\"coloraxis\":{\"colorbar\":{\"outlinewidth\":0,\"ticks\":\"\"}},\"colorscale\":{\"diverging\":[[0,\"#8e0152\"],[0.1,\"#c51b7d\"],[0.2,\"#de77ae\"],[0.3,\"#f1b6da\"],[0.4,\"#fde0ef\"],[0.5,\"#f7f7f7\"],[0.6,\"#e6f5d0\"],[0.7,\"#b8e186\"],[0.8,\"#7fbc41\"],[0.9,\"#4d9221\"],[1,\"#276419\"]],\"sequential\":[[0.0,\"#0d0887\"],[0.1111111111111111,\"#46039f\"],[0.2222222222222222,\"#7201a8\"],[0.3333333333333333,\"#9c179e\"],[0.4444444444444444,\"#bd3786\"],[0.5555555555555556,\"#d8576b\"],[0.6666666666666666,\"#ed7953\"],[0.7777777777777778,\"#fb9f3a\"],[0.8888888888888888,\"#fdca26\"],[1.0,\"#f0f921\"]],\"sequentialminus\":[[0.0,\"#0d0887\"],[0.1111111111111111,\"#46039f\"],[0.2222222222222222,\"#7201a8\"],[0.3333333333333333,\"#9c179e\"],[0.4444444444444444,\"#bd3786\"],[0.5555555555555556,\"#d8576b\"],[0.6666666666666666,\"#ed7953\"],[0.7777777777777778,\"#fb9f3a\"],[0.8888888888888888,\"#fdca26\"],[1.0,\"#f0f921\"]]},\"colorway\":[\"#636efa\",\"#EF553B\",\"#00cc96\",\"#ab63fa\",\"#FFA15A\",\"#19d3f3\",\"#FF6692\",\"#B6E880\",\"#FF97FF\",\"#FECB52\"],\"font\":{\"color\":\"#2a3f5f\"},\"geo\":{\"bgcolor\":\"white\",\"lakecolor\":\"white\",\"landcolor\":\"#E5ECF6\",\"showlakes\":true,\"showland\":true,\"subunitcolor\":\"white\"},\"hoverlabel\":{\"align\":\"left\"},\"hovermode\":\"closest\",\"mapbox\":{\"style\":\"light\"},\"paper_bgcolor\":\"white\",\"plot_bgcolor\":\"#E5ECF6\",\"polar\":{\"angularaxis\":{\"gridcolor\":\"white\",\"linecolor\":\"white\",\"ticks\":\"\"},\"bgcolor\":\"#E5ECF6\",\"radialaxis\":{\"gridcolor\":\"white\",\"linecolor\":\"white\",\"ticks\":\"\"}},\"scene\":{\"xaxis\":{\"backgroundcolor\":\"#E5ECF6\",\"gridcolor\":\"white\",\"gridwidth\":2,\"linecolor\":\"white\",\"showbackground\":true,\"ticks\":\"\",\"zerolinecolor\":\"white\"},\"yaxis\":{\"backgroundcolor\":\"#E5ECF6\",\"gridcolor\":\"white\",\"gridwidth\":2,\"linecolor\":\"white\",\"showbackground\":true,\"ticks\":\"\",\"zerolinecolor\":\"white\"},\"zaxis\":{\"backgroundcolor\":\"#E5ECF6\",\"gridcolor\":\"white\",\"gridwidth\":2,\"linecolor\":\"white\",\"showbackground\":true,\"ticks\":\"\",\"zerolinecolor\":\"white\"}},\"shapedefaults\":{\"line\":{\"color\":\"#2a3f5f\"}},\"ternary\":{\"aaxis\":{\"gridcolor\":\"white\",\"linecolor\":\"white\",\"ticks\":\"\"},\"baxis\":{\"gridcolor\":\"white\",\"linecolor\":\"white\",\"ticks\":\"\"},\"bgcolor\":\"#E5ECF6\",\"caxis\":{\"gridcolor\":\"white\",\"linecolor\":\"white\",\"ticks\":\"\"}},\"title\":{\"x\":0.05},\"xaxis\":{\"automargin\":true,\"gridcolor\":\"white\",\"linecolor\":\"white\",\"ticks\":\"\",\"title\":{\"standoff\":15},\"zerolinecolor\":\"white\",\"zerolinewidth\":2},\"yaxis\":{\"automargin\":true,\"gridcolor\":\"white\",\"linecolor\":\"white\",\"ticks\":\"\",\"title\":{\"standoff\":15},\"zerolinecolor\":\"white\",\"zerolinewidth\":2}}},\"xaxis\":{\"anchor\":\"y\",\"domain\":[0.0,1.0],\"title\":{\"text\":\"count\"}},\"yaxis\":{\"anchor\":\"x\",\"domain\":[0.0,1.0],\"title\":{\"text\":\"Common_words\"},\"categoryorder\":\"array\",\"categoryarray\":[\"nasdaq\",\"open\",\"future\",\"sampp\",\"dow\",\"earnings\",\"point\",\"u\",\"market\",\"stock\"]},\"legend\":{\"title\":{\"text\":\"Common_words\"},\"tracegroupgap\":0},\"title\":{\"text\":\"Common Words in Label15\"},\"barmode\":\"relative\"},                        {\"responsive\": true}                    ).then(function(){\n",
              "                            \n",
              "var gd = document.getElementById('5005bf2c-4d7b-4953-978f-0a7afb73afd0');\n",
              "var x = new MutationObserver(function (mutations, observer) {{\n",
              "        var display = window.getComputedStyle(gd).display;\n",
              "        if (!display || display === 'none') {{\n",
              "            console.log([gd, 'removed!']);\n",
              "            Plotly.purge(gd);\n",
              "            observer.disconnect();\n",
              "        }}\n",
              "}});\n",
              "\n",
              "// Listen for the removal of the full notebook cells\n",
              "var notebookContainer = gd.closest('#notebook-container');\n",
              "if (notebookContainer) {{\n",
              "    x.observe(notebookContainer, {childList: true});\n",
              "}}\n",
              "\n",
              "// Listen for the clearing of the current output cell\n",
              "var outputEl = gd.closest('.output');\n",
              "if (outputEl) {{\n",
              "    x.observe(outputEl, {childList: true});\n",
              "}}\n",
              "\n",
              "                        })                };                            </script>        </div>\n",
              "</body>\n",
              "</html>"
            ]
          },
          "metadata": {},
          "output_type": "display_data"
        },
        {
          "name": "stderr",
          "output_type": "stream",
          "text": [
            "<ipython-input-25-ec3bb4c6d183>:3: SettingWithCopyWarning:\n",
            "\n",
            "\n",
            "A value is trying to be set on a copy of a slice from a DataFrame.\n",
            "Try using .loc[row_indexer,col_indexer] = value instead\n",
            "\n",
            "See the caveats in the documentation: https://pandas.pydata.org/pandas-docs/stable/user_guide/indexing.html#returning-a-view-versus-a-copy\n",
            "\n"
          ]
        },
        {
          "data": {
            "text/html": [
              "<html>\n",
              "<head><meta charset=\"utf-8\" /></head>\n",
              "<body>\n",
              "    <div>            <script src=\"https://cdnjs.cloudflare.com/ajax/libs/mathjax/2.7.5/MathJax.js?config=TeX-AMS-MML_SVG\"></script><script type=\"text/javascript\">if (window.MathJax) {MathJax.Hub.Config({SVG: {font: \"STIX-Web\"}});}</script>                <script type=\"text/javascript\">window.PlotlyConfig = {MathJaxConfig: 'local'};</script>\n",
              "        <script src=\"https://cdn.plot.ly/plotly-2.8.3.min.js\"></script>                <div id=\"51eaa97a-ea66-462f-aa1b-114186266b4b\" class=\"plotly-graph-div\" style=\"height:525px; width:100%;\"></div>            <script type=\"text/javascript\">                                    window.PLOTLYENV=window.PLOTLYENV || {};                                    if (document.getElementById(\"51eaa97a-ea66-462f-aa1b-114186266b4b\")) {                    Plotly.newPlot(                        \"51eaa97a-ea66-462f-aa1b-114186266b4b\",                        [{\"alignmentgroup\":\"True\",\"hovertemplate\":\"Common_words=%{y}<br>count=%{x}<extra></extra>\",\"legendgroup\":\"president\",\"marker\":{\"color\":\"#636efa\",\"pattern\":{\"shape\":\"\"}},\"name\":\"president\",\"offsetgroup\":\"president\",\"orientation\":\"h\",\"showlegend\":true,\"textposition\":\"auto\",\"x\":[223],\"xaxis\":\"x\",\"y\":[\"president\"],\"yaxis\":\"y\",\"type\":\"bar\"},{\"alignmentgroup\":\"True\",\"hovertemplate\":\"Common_words=%{y}<br>count=%{x}<extra></extra>\",\"legendgroup\":\"biden\",\"marker\":{\"color\":\"#EF553B\",\"pattern\":{\"shape\":\"\"}},\"name\":\"biden\",\"offsetgroup\":\"biden\",\"orientation\":\"h\",\"showlegend\":true,\"textposition\":\"auto\",\"x\":[164],\"xaxis\":\"x\",\"y\":[\"biden\"],\"yaxis\":\"y\",\"type\":\"bar\"},{\"alignmentgroup\":\"True\",\"hovertemplate\":\"Common_words=%{y}<br>count=%{x}<extra></extra>\",\"legendgroup\":\"minister\",\"marker\":{\"color\":\"#00cc96\",\"pattern\":{\"shape\":\"\"}},\"name\":\"minister\",\"offsetgroup\":\"minister\",\"orientation\":\"h\",\"showlegend\":true,\"textposition\":\"auto\",\"x\":[158],\"xaxis\":\"x\",\"y\":[\"minister\"],\"yaxis\":\"y\",\"type\":\"bar\"},{\"alignmentgroup\":\"True\",\"hovertemplate\":\"Common_words=%{y}<br>count=%{x}<extra></extra>\",\"legendgroup\":\"prime\",\"marker\":{\"color\":\"#ab63fa\",\"pattern\":{\"shape\":\"\"}},\"name\":\"prime\",\"offsetgroup\":\"prime\",\"orientation\":\"h\",\"showlegend\":true,\"textposition\":\"auto\",\"x\":[148],\"xaxis\":\"x\",\"y\":[\"prime\"],\"yaxis\":\"y\",\"type\":\"bar\"},{\"alignmentgroup\":\"True\",\"hovertemplate\":\"Common_words=%{y}<br>count=%{x}<extra></extra>\",\"legendgroup\":\"u\",\"marker\":{\"color\":\"#FFA15A\",\"pattern\":{\"shape\":\"\"}},\"name\":\"u\",\"offsetgroup\":\"u\",\"orientation\":\"h\",\"showlegend\":true,\"textposition\":\"auto\",\"x\":[121],\"xaxis\":\"x\",\"y\":[\"u\"],\"yaxis\":\"y\",\"type\":\"bar\"},{\"alignmentgroup\":\"True\",\"hovertemplate\":\"Common_words=%{y}<br>count=%{x}<extra></extra>\",\"legendgroup\":\"uk\",\"marker\":{\"color\":\"#19d3f3\",\"pattern\":{\"shape\":\"\"}},\"name\":\"uk\",\"offsetgroup\":\"uk\",\"orientation\":\"h\",\"showlegend\":true,\"textposition\":\"auto\",\"x\":[121],\"xaxis\":\"x\",\"y\":[\"uk\"],\"yaxis\":\"y\",\"type\":\"bar\"},{\"alignmentgroup\":\"True\",\"hovertemplate\":\"Common_words=%{y}<br>count=%{x}<extra></extra>\",\"legendgroup\":\"trump\",\"marker\":{\"color\":\"#FF6692\",\"pattern\":{\"shape\":\"\"}},\"name\":\"trump\",\"offsetgroup\":\"trump\",\"orientation\":\"h\",\"showlegend\":true,\"textposition\":\"auto\",\"x\":[114],\"xaxis\":\"x\",\"y\":[\"trump\"],\"yaxis\":\"y\",\"type\":\"bar\"},{\"alignmentgroup\":\"True\",\"hovertemplate\":\"Common_words=%{y}<br>count=%{x}<extra></extra>\",\"legendgroup\":\"say\",\"marker\":{\"color\":\"#B6E880\",\"pattern\":{\"shape\":\"\"}},\"name\":\"say\",\"offsetgroup\":\"say\",\"orientation\":\"h\",\"showlegend\":true,\"textposition\":\"auto\",\"x\":[107],\"xaxis\":\"x\",\"y\":[\"say\"],\"yaxis\":\"y\",\"type\":\"bar\"},{\"alignmentgroup\":\"True\",\"hovertemplate\":\"Common_words=%{y}<br>count=%{x}<extra></extra>\",\"legendgroup\":\"house\",\"marker\":{\"color\":\"#FF97FF\",\"pattern\":{\"shape\":\"\"}},\"name\":\"house\",\"offsetgroup\":\"house\",\"orientation\":\"h\",\"showlegend\":true,\"textposition\":\"auto\",\"x\":[97],\"xaxis\":\"x\",\"y\":[\"house\"],\"yaxis\":\"y\",\"type\":\"bar\"},{\"alignmentgroup\":\"True\",\"hovertemplate\":\"Common_words=%{y}<br>count=%{x}<extra></extra>\",\"legendgroup\":\"leadership\",\"marker\":{\"color\":\"#FECB52\",\"pattern\":{\"shape\":\"\"}},\"name\":\"leadership\",\"offsetgroup\":\"leadership\",\"orientation\":\"h\",\"showlegend\":true,\"textposition\":\"auto\",\"x\":[88],\"xaxis\":\"x\",\"y\":[\"leadership\"],\"yaxis\":\"y\",\"type\":\"bar\"}],                        {\"template\":{\"data\":{\"bar\":[{\"error_x\":{\"color\":\"#2a3f5f\"},\"error_y\":{\"color\":\"#2a3f5f\"},\"marker\":{\"line\":{\"color\":\"#E5ECF6\",\"width\":0.5},\"pattern\":{\"fillmode\":\"overlay\",\"size\":10,\"solidity\":0.2}},\"type\":\"bar\"}],\"barpolar\":[{\"marker\":{\"line\":{\"color\":\"#E5ECF6\",\"width\":0.5},\"pattern\":{\"fillmode\":\"overlay\",\"size\":10,\"solidity\":0.2}},\"type\":\"barpolar\"}],\"carpet\":[{\"aaxis\":{\"endlinecolor\":\"#2a3f5f\",\"gridcolor\":\"white\",\"linecolor\":\"white\",\"minorgridcolor\":\"white\",\"startlinecolor\":\"#2a3f5f\"},\"baxis\":{\"endlinecolor\":\"#2a3f5f\",\"gridcolor\":\"white\",\"linecolor\":\"white\",\"minorgridcolor\":\"white\",\"startlinecolor\":\"#2a3f5f\"},\"type\":\"carpet\"}],\"choropleth\":[{\"colorbar\":{\"outlinewidth\":0,\"ticks\":\"\"},\"type\":\"choropleth\"}],\"contour\":[{\"colorbar\":{\"outlinewidth\":0,\"ticks\":\"\"},\"colorscale\":[[0.0,\"#0d0887\"],[0.1111111111111111,\"#46039f\"],[0.2222222222222222,\"#7201a8\"],[0.3333333333333333,\"#9c179e\"],[0.4444444444444444,\"#bd3786\"],[0.5555555555555556,\"#d8576b\"],[0.6666666666666666,\"#ed7953\"],[0.7777777777777778,\"#fb9f3a\"],[0.8888888888888888,\"#fdca26\"],[1.0,\"#f0f921\"]],\"type\":\"contour\"}],\"contourcarpet\":[{\"colorbar\":{\"outlinewidth\":0,\"ticks\":\"\"},\"type\":\"contourcarpet\"}],\"heatmap\":[{\"colorbar\":{\"outlinewidth\":0,\"ticks\":\"\"},\"colorscale\":[[0.0,\"#0d0887\"],[0.1111111111111111,\"#46039f\"],[0.2222222222222222,\"#7201a8\"],[0.3333333333333333,\"#9c179e\"],[0.4444444444444444,\"#bd3786\"],[0.5555555555555556,\"#d8576b\"],[0.6666666666666666,\"#ed7953\"],[0.7777777777777778,\"#fb9f3a\"],[0.8888888888888888,\"#fdca26\"],[1.0,\"#f0f921\"]],\"type\":\"heatmap\"}],\"heatmapgl\":[{\"colorbar\":{\"outlinewidth\":0,\"ticks\":\"\"},\"colorscale\":[[0.0,\"#0d0887\"],[0.1111111111111111,\"#46039f\"],[0.2222222222222222,\"#7201a8\"],[0.3333333333333333,\"#9c179e\"],[0.4444444444444444,\"#bd3786\"],[0.5555555555555556,\"#d8576b\"],[0.6666666666666666,\"#ed7953\"],[0.7777777777777778,\"#fb9f3a\"],[0.8888888888888888,\"#fdca26\"],[1.0,\"#f0f921\"]],\"type\":\"heatmapgl\"}],\"histogram\":[{\"marker\":{\"pattern\":{\"fillmode\":\"overlay\",\"size\":10,\"solidity\":0.2}},\"type\":\"histogram\"}],\"histogram2d\":[{\"colorbar\":{\"outlinewidth\":0,\"ticks\":\"\"},\"colorscale\":[[0.0,\"#0d0887\"],[0.1111111111111111,\"#46039f\"],[0.2222222222222222,\"#7201a8\"],[0.3333333333333333,\"#9c179e\"],[0.4444444444444444,\"#bd3786\"],[0.5555555555555556,\"#d8576b\"],[0.6666666666666666,\"#ed7953\"],[0.7777777777777778,\"#fb9f3a\"],[0.8888888888888888,\"#fdca26\"],[1.0,\"#f0f921\"]],\"type\":\"histogram2d\"}],\"histogram2dcontour\":[{\"colorbar\":{\"outlinewidth\":0,\"ticks\":\"\"},\"colorscale\":[[0.0,\"#0d0887\"],[0.1111111111111111,\"#46039f\"],[0.2222222222222222,\"#7201a8\"],[0.3333333333333333,\"#9c179e\"],[0.4444444444444444,\"#bd3786\"],[0.5555555555555556,\"#d8576b\"],[0.6666666666666666,\"#ed7953\"],[0.7777777777777778,\"#fb9f3a\"],[0.8888888888888888,\"#fdca26\"],[1.0,\"#f0f921\"]],\"type\":\"histogram2dcontour\"}],\"mesh3d\":[{\"colorbar\":{\"outlinewidth\":0,\"ticks\":\"\"},\"type\":\"mesh3d\"}],\"parcoords\":[{\"line\":{\"colorbar\":{\"outlinewidth\":0,\"ticks\":\"\"}},\"type\":\"parcoords\"}],\"pie\":[{\"automargin\":true,\"type\":\"pie\"}],\"scatter\":[{\"marker\":{\"colorbar\":{\"outlinewidth\":0,\"ticks\":\"\"}},\"type\":\"scatter\"}],\"scatter3d\":[{\"line\":{\"colorbar\":{\"outlinewidth\":0,\"ticks\":\"\"}},\"marker\":{\"colorbar\":{\"outlinewidth\":0,\"ticks\":\"\"}},\"type\":\"scatter3d\"}],\"scattercarpet\":[{\"marker\":{\"colorbar\":{\"outlinewidth\":0,\"ticks\":\"\"}},\"type\":\"scattercarpet\"}],\"scattergeo\":[{\"marker\":{\"colorbar\":{\"outlinewidth\":0,\"ticks\":\"\"}},\"type\":\"scattergeo\"}],\"scattergl\":[{\"marker\":{\"colorbar\":{\"outlinewidth\":0,\"ticks\":\"\"}},\"type\":\"scattergl\"}],\"scattermapbox\":[{\"marker\":{\"colorbar\":{\"outlinewidth\":0,\"ticks\":\"\"}},\"type\":\"scattermapbox\"}],\"scatterpolar\":[{\"marker\":{\"colorbar\":{\"outlinewidth\":0,\"ticks\":\"\"}},\"type\":\"scatterpolar\"}],\"scatterpolargl\":[{\"marker\":{\"colorbar\":{\"outlinewidth\":0,\"ticks\":\"\"}},\"type\":\"scatterpolargl\"}],\"scatterternary\":[{\"marker\":{\"colorbar\":{\"outlinewidth\":0,\"ticks\":\"\"}},\"type\":\"scatterternary\"}],\"surface\":[{\"colorbar\":{\"outlinewidth\":0,\"ticks\":\"\"},\"colorscale\":[[0.0,\"#0d0887\"],[0.1111111111111111,\"#46039f\"],[0.2222222222222222,\"#7201a8\"],[0.3333333333333333,\"#9c179e\"],[0.4444444444444444,\"#bd3786\"],[0.5555555555555556,\"#d8576b\"],[0.6666666666666666,\"#ed7953\"],[0.7777777777777778,\"#fb9f3a\"],[0.8888888888888888,\"#fdca26\"],[1.0,\"#f0f921\"]],\"type\":\"surface\"}],\"table\":[{\"cells\":{\"fill\":{\"color\":\"#EBF0F8\"},\"line\":{\"color\":\"white\"}},\"header\":{\"fill\":{\"color\":\"#C8D4E3\"},\"line\":{\"color\":\"white\"}},\"type\":\"table\"}]},\"layout\":{\"annotationdefaults\":{\"arrowcolor\":\"#2a3f5f\",\"arrowhead\":0,\"arrowwidth\":1},\"autotypenumbers\":\"strict\",\"coloraxis\":{\"colorbar\":{\"outlinewidth\":0,\"ticks\":\"\"}},\"colorscale\":{\"diverging\":[[0,\"#8e0152\"],[0.1,\"#c51b7d\"],[0.2,\"#de77ae\"],[0.3,\"#f1b6da\"],[0.4,\"#fde0ef\"],[0.5,\"#f7f7f7\"],[0.6,\"#e6f5d0\"],[0.7,\"#b8e186\"],[0.8,\"#7fbc41\"],[0.9,\"#4d9221\"],[1,\"#276419\"]],\"sequential\":[[0.0,\"#0d0887\"],[0.1111111111111111,\"#46039f\"],[0.2222222222222222,\"#7201a8\"],[0.3333333333333333,\"#9c179e\"],[0.4444444444444444,\"#bd3786\"],[0.5555555555555556,\"#d8576b\"],[0.6666666666666666,\"#ed7953\"],[0.7777777777777778,\"#fb9f3a\"],[0.8888888888888888,\"#fdca26\"],[1.0,\"#f0f921\"]],\"sequentialminus\":[[0.0,\"#0d0887\"],[0.1111111111111111,\"#46039f\"],[0.2222222222222222,\"#7201a8\"],[0.3333333333333333,\"#9c179e\"],[0.4444444444444444,\"#bd3786\"],[0.5555555555555556,\"#d8576b\"],[0.6666666666666666,\"#ed7953\"],[0.7777777777777778,\"#fb9f3a\"],[0.8888888888888888,\"#fdca26\"],[1.0,\"#f0f921\"]]},\"colorway\":[\"#636efa\",\"#EF553B\",\"#00cc96\",\"#ab63fa\",\"#FFA15A\",\"#19d3f3\",\"#FF6692\",\"#B6E880\",\"#FF97FF\",\"#FECB52\"],\"font\":{\"color\":\"#2a3f5f\"},\"geo\":{\"bgcolor\":\"white\",\"lakecolor\":\"white\",\"landcolor\":\"#E5ECF6\",\"showlakes\":true,\"showland\":true,\"subunitcolor\":\"white\"},\"hoverlabel\":{\"align\":\"left\"},\"hovermode\":\"closest\",\"mapbox\":{\"style\":\"light\"},\"paper_bgcolor\":\"white\",\"plot_bgcolor\":\"#E5ECF6\",\"polar\":{\"angularaxis\":{\"gridcolor\":\"white\",\"linecolor\":\"white\",\"ticks\":\"\"},\"bgcolor\":\"#E5ECF6\",\"radialaxis\":{\"gridcolor\":\"white\",\"linecolor\":\"white\",\"ticks\":\"\"}},\"scene\":{\"xaxis\":{\"backgroundcolor\":\"#E5ECF6\",\"gridcolor\":\"white\",\"gridwidth\":2,\"linecolor\":\"white\",\"showbackground\":true,\"ticks\":\"\",\"zerolinecolor\":\"white\"},\"yaxis\":{\"backgroundcolor\":\"#E5ECF6\",\"gridcolor\":\"white\",\"gridwidth\":2,\"linecolor\":\"white\",\"showbackground\":true,\"ticks\":\"\",\"zerolinecolor\":\"white\"},\"zaxis\":{\"backgroundcolor\":\"#E5ECF6\",\"gridcolor\":\"white\",\"gridwidth\":2,\"linecolor\":\"white\",\"showbackground\":true,\"ticks\":\"\",\"zerolinecolor\":\"white\"}},\"shapedefaults\":{\"line\":{\"color\":\"#2a3f5f\"}},\"ternary\":{\"aaxis\":{\"gridcolor\":\"white\",\"linecolor\":\"white\",\"ticks\":\"\"},\"baxis\":{\"gridcolor\":\"white\",\"linecolor\":\"white\",\"ticks\":\"\"},\"bgcolor\":\"#E5ECF6\",\"caxis\":{\"gridcolor\":\"white\",\"linecolor\":\"white\",\"ticks\":\"\"}},\"title\":{\"x\":0.05},\"xaxis\":{\"automargin\":true,\"gridcolor\":\"white\",\"linecolor\":\"white\",\"ticks\":\"\",\"title\":{\"standoff\":15},\"zerolinecolor\":\"white\",\"zerolinewidth\":2},\"yaxis\":{\"automargin\":true,\"gridcolor\":\"white\",\"linecolor\":\"white\",\"ticks\":\"\",\"title\":{\"standoff\":15},\"zerolinecolor\":\"white\",\"zerolinewidth\":2}}},\"xaxis\":{\"anchor\":\"y\",\"domain\":[0.0,1.0],\"title\":{\"text\":\"count\"}},\"yaxis\":{\"anchor\":\"x\",\"domain\":[0.0,1.0],\"title\":{\"text\":\"Common_words\"},\"categoryorder\":\"array\",\"categoryarray\":[\"leadership\",\"house\",\"say\",\"trump\",\"uk\",\"u\",\"prime\",\"minister\",\"biden\",\"president\"]},\"legend\":{\"title\":{\"text\":\"Common_words\"},\"tracegroupgap\":0},\"title\":{\"text\":\"Common Words in Label16\"},\"barmode\":\"relative\"},                        {\"responsive\": true}                    ).then(function(){\n",
              "                            \n",
              "var gd = document.getElementById('51eaa97a-ea66-462f-aa1b-114186266b4b');\n",
              "var x = new MutationObserver(function (mutations, observer) {{\n",
              "        var display = window.getComputedStyle(gd).display;\n",
              "        if (!display || display === 'none') {{\n",
              "            console.log([gd, 'removed!']);\n",
              "            Plotly.purge(gd);\n",
              "            observer.disconnect();\n",
              "        }}\n",
              "}});\n",
              "\n",
              "// Listen for the removal of the full notebook cells\n",
              "var notebookContainer = gd.closest('#notebook-container');\n",
              "if (notebookContainer) {{\n",
              "    x.observe(notebookContainer, {childList: true});\n",
              "}}\n",
              "\n",
              "// Listen for the clearing of the current output cell\n",
              "var outputEl = gd.closest('.output');\n",
              "if (outputEl) {{\n",
              "    x.observe(outputEl, {childList: true});\n",
              "}}\n",
              "\n",
              "                        })                };                            </script>        </div>\n",
              "</body>\n",
              "</html>"
            ]
          },
          "metadata": {},
          "output_type": "display_data"
        },
        {
          "name": "stderr",
          "output_type": "stream",
          "text": [
            "<ipython-input-25-ec3bb4c6d183>:3: SettingWithCopyWarning:\n",
            "\n",
            "\n",
            "A value is trying to be set on a copy of a slice from a DataFrame.\n",
            "Try using .loc[row_indexer,col_indexer] = value instead\n",
            "\n",
            "See the caveats in the documentation: https://pandas.pydata.org/pandas-docs/stable/user_guide/indexing.html#returning-a-view-versus-a-copy\n",
            "\n"
          ]
        },
        {
          "data": {
            "text/html": [
              "<html>\n",
              "<head><meta charset=\"utf-8\" /></head>\n",
              "<body>\n",
              "    <div>            <script src=\"https://cdnjs.cloudflare.com/ajax/libs/mathjax/2.7.5/MathJax.js?config=TeX-AMS-MML_SVG\"></script><script type=\"text/javascript\">if (window.MathJax) {MathJax.Hub.Config({SVG: {font: \"STIX-Web\"}});}</script>                <script type=\"text/javascript\">window.PlotlyConfig = {MathJaxConfig: 'local'};</script>\n",
              "        <script src=\"https://cdn.plot.ly/plotly-2.8.3.min.js\"></script>                <div id=\"59330c53-3450-49fc-b647-0b8efe4cb06b\" class=\"plotly-graph-div\" style=\"height:525px; width:100%;\"></div>            <script type=\"text/javascript\">                                    window.PLOTLYENV=window.PLOTLYENV || {};                                    if (document.getElementById(\"59330c53-3450-49fc-b647-0b8efe4cb06b\")) {                    Plotly.newPlot(                        \"59330c53-3450-49fc-b647-0b8efe4cb06b\",                        [{\"alignmentgroup\":\"True\",\"hovertemplate\":\"Common_words=%{y}<br>count=%{x}<extra></extra>\",\"legendgroup\":\"chief\",\"marker\":{\"color\":\"#636efa\",\"pattern\":{\"shape\":\"\"}},\"name\":\"chief\",\"offsetgroup\":\"chief\",\"orientation\":\"h\",\"showlegend\":true,\"textposition\":\"auto\",\"x\":[120],\"xaxis\":\"x\",\"y\":[\"chief\"],\"yaxis\":\"y\",\"type\":\"bar\"},{\"alignmentgroup\":\"True\",\"hovertemplate\":\"Common_words=%{y}<br>count=%{x}<extra></extra>\",\"legendgroup\":\"appoints\",\"marker\":{\"color\":\"#EF553B\",\"pattern\":{\"shape\":\"\"}},\"name\":\"appoints\",\"offsetgroup\":\"appoints\",\"orientation\":\"h\",\"showlegend\":true,\"textposition\":\"auto\",\"x\":[105],\"xaxis\":\"x\",\"y\":[\"appoints\"],\"yaxis\":\"y\",\"type\":\"bar\"},{\"alignmentgroup\":\"True\",\"hovertemplate\":\"Common_words=%{y}<br>count=%{x}<extra></extra>\",\"legendgroup\":\"officer\",\"marker\":{\"color\":\"#00cc96\",\"pattern\":{\"shape\":\"\"}},\"name\":\"officer\",\"offsetgroup\":\"officer\",\"orientation\":\"h\",\"showlegend\":true,\"textposition\":\"auto\",\"x\":[103],\"xaxis\":\"x\",\"y\":[\"officer\"],\"yaxis\":\"y\",\"type\":\"bar\"},{\"alignmentgroup\":\"True\",\"hovertemplate\":\"Common_words=%{y}<br>count=%{x}<extra></extra>\",\"legendgroup\":\"new\",\"marker\":{\"color\":\"#ab63fa\",\"pattern\":{\"shape\":\"\"}},\"name\":\"new\",\"offsetgroup\":\"new\",\"orientation\":\"h\",\"showlegend\":true,\"textposition\":\"auto\",\"x\":[80],\"xaxis\":\"x\",\"y\":[\"new\"],\"yaxis\":\"y\",\"type\":\"bar\"},{\"alignmentgroup\":\"True\",\"hovertemplate\":\"Common_words=%{y}<br>count=%{x}<extra></extra>\",\"legendgroup\":\"ceo\",\"marker\":{\"color\":\"#FFA15A\",\"pattern\":{\"shape\":\"\"}},\"name\":\"ceo\",\"offsetgroup\":\"ceo\",\"orientation\":\"h\",\"showlegend\":true,\"textposition\":\"auto\",\"x\":[77],\"xaxis\":\"x\",\"y\":[\"ceo\"],\"yaxis\":\"y\",\"type\":\"bar\"},{\"alignmentgroup\":\"True\",\"hovertemplate\":\"Common_words=%{y}<br>count=%{x}<extra></extra>\",\"legendgroup\":\"board\",\"marker\":{\"color\":\"#19d3f3\",\"pattern\":{\"shape\":\"\"}},\"name\":\"board\",\"offsetgroup\":\"board\",\"orientation\":\"h\",\"showlegend\":true,\"textposition\":\"auto\",\"x\":[68],\"xaxis\":\"x\",\"y\":[\"board\"],\"yaxis\":\"y\",\"type\":\"bar\"},{\"alignmentgroup\":\"True\",\"hovertemplate\":\"Common_words=%{y}<br>count=%{x}<extra></extra>\",\"legendgroup\":\"name\",\"marker\":{\"color\":\"#FF6692\",\"pattern\":{\"shape\":\"\"}},\"name\":\"name\",\"offsetgroup\":\"name\",\"orientation\":\"h\",\"showlegend\":true,\"textposition\":\"auto\",\"x\":[67],\"xaxis\":\"x\",\"y\":[\"name\"],\"yaxis\":\"y\",\"type\":\"bar\"},{\"alignmentgroup\":\"True\",\"hovertemplate\":\"Common_words=%{y}<br>count=%{x}<extra></extra>\",\"legendgroup\":\"director\",\"marker\":{\"color\":\"#B6E880\",\"pattern\":{\"shape\":\"\"}},\"name\":\"director\",\"offsetgroup\":\"director\",\"orientation\":\"h\",\"showlegend\":true,\"textposition\":\"auto\",\"x\":[64],\"xaxis\":\"x\",\"y\":[\"director\"],\"yaxis\":\"y\",\"type\":\"bar\"},{\"alignmentgroup\":\"True\",\"hovertemplate\":\"Common_words=%{y}<br>count=%{x}<extra></extra>\",\"legendgroup\":\"executive\",\"marker\":{\"color\":\"#FF97FF\",\"pattern\":{\"shape\":\"\"}},\"name\":\"executive\",\"offsetgroup\":\"executive\",\"orientation\":\"h\",\"showlegend\":true,\"textposition\":\"auto\",\"x\":[63],\"xaxis\":\"x\",\"y\":[\"executive\"],\"yaxis\":\"y\",\"type\":\"bar\"},{\"alignmentgroup\":\"True\",\"hovertemplate\":\"Common_words=%{y}<br>count=%{x}<extra></extra>\",\"legendgroup\":\"president\",\"marker\":{\"color\":\"#FECB52\",\"pattern\":{\"shape\":\"\"}},\"name\":\"president\",\"offsetgroup\":\"president\",\"orientation\":\"h\",\"showlegend\":true,\"textposition\":\"auto\",\"x\":[62],\"xaxis\":\"x\",\"y\":[\"president\"],\"yaxis\":\"y\",\"type\":\"bar\"}],                        {\"template\":{\"data\":{\"bar\":[{\"error_x\":{\"color\":\"#2a3f5f\"},\"error_y\":{\"color\":\"#2a3f5f\"},\"marker\":{\"line\":{\"color\":\"#E5ECF6\",\"width\":0.5},\"pattern\":{\"fillmode\":\"overlay\",\"size\":10,\"solidity\":0.2}},\"type\":\"bar\"}],\"barpolar\":[{\"marker\":{\"line\":{\"color\":\"#E5ECF6\",\"width\":0.5},\"pattern\":{\"fillmode\":\"overlay\",\"size\":10,\"solidity\":0.2}},\"type\":\"barpolar\"}],\"carpet\":[{\"aaxis\":{\"endlinecolor\":\"#2a3f5f\",\"gridcolor\":\"white\",\"linecolor\":\"white\",\"minorgridcolor\":\"white\",\"startlinecolor\":\"#2a3f5f\"},\"baxis\":{\"endlinecolor\":\"#2a3f5f\",\"gridcolor\":\"white\",\"linecolor\":\"white\",\"minorgridcolor\":\"white\",\"startlinecolor\":\"#2a3f5f\"},\"type\":\"carpet\"}],\"choropleth\":[{\"colorbar\":{\"outlinewidth\":0,\"ticks\":\"\"},\"type\":\"choropleth\"}],\"contour\":[{\"colorbar\":{\"outlinewidth\":0,\"ticks\":\"\"},\"colorscale\":[[0.0,\"#0d0887\"],[0.1111111111111111,\"#46039f\"],[0.2222222222222222,\"#7201a8\"],[0.3333333333333333,\"#9c179e\"],[0.4444444444444444,\"#bd3786\"],[0.5555555555555556,\"#d8576b\"],[0.6666666666666666,\"#ed7953\"],[0.7777777777777778,\"#fb9f3a\"],[0.8888888888888888,\"#fdca26\"],[1.0,\"#f0f921\"]],\"type\":\"contour\"}],\"contourcarpet\":[{\"colorbar\":{\"outlinewidth\":0,\"ticks\":\"\"},\"type\":\"contourcarpet\"}],\"heatmap\":[{\"colorbar\":{\"outlinewidth\":0,\"ticks\":\"\"},\"colorscale\":[[0.0,\"#0d0887\"],[0.1111111111111111,\"#46039f\"],[0.2222222222222222,\"#7201a8\"],[0.3333333333333333,\"#9c179e\"],[0.4444444444444444,\"#bd3786\"],[0.5555555555555556,\"#d8576b\"],[0.6666666666666666,\"#ed7953\"],[0.7777777777777778,\"#fb9f3a\"],[0.8888888888888888,\"#fdca26\"],[1.0,\"#f0f921\"]],\"type\":\"heatmap\"}],\"heatmapgl\":[{\"colorbar\":{\"outlinewidth\":0,\"ticks\":\"\"},\"colorscale\":[[0.0,\"#0d0887\"],[0.1111111111111111,\"#46039f\"],[0.2222222222222222,\"#7201a8\"],[0.3333333333333333,\"#9c179e\"],[0.4444444444444444,\"#bd3786\"],[0.5555555555555556,\"#d8576b\"],[0.6666666666666666,\"#ed7953\"],[0.7777777777777778,\"#fb9f3a\"],[0.8888888888888888,\"#fdca26\"],[1.0,\"#f0f921\"]],\"type\":\"heatmapgl\"}],\"histogram\":[{\"marker\":{\"pattern\":{\"fillmode\":\"overlay\",\"size\":10,\"solidity\":0.2}},\"type\":\"histogram\"}],\"histogram2d\":[{\"colorbar\":{\"outlinewidth\":0,\"ticks\":\"\"},\"colorscale\":[[0.0,\"#0d0887\"],[0.1111111111111111,\"#46039f\"],[0.2222222222222222,\"#7201a8\"],[0.3333333333333333,\"#9c179e\"],[0.4444444444444444,\"#bd3786\"],[0.5555555555555556,\"#d8576b\"],[0.6666666666666666,\"#ed7953\"],[0.7777777777777778,\"#fb9f3a\"],[0.8888888888888888,\"#fdca26\"],[1.0,\"#f0f921\"]],\"type\":\"histogram2d\"}],\"histogram2dcontour\":[{\"colorbar\":{\"outlinewidth\":0,\"ticks\":\"\"},\"colorscale\":[[0.0,\"#0d0887\"],[0.1111111111111111,\"#46039f\"],[0.2222222222222222,\"#7201a8\"],[0.3333333333333333,\"#9c179e\"],[0.4444444444444444,\"#bd3786\"],[0.5555555555555556,\"#d8576b\"],[0.6666666666666666,\"#ed7953\"],[0.7777777777777778,\"#fb9f3a\"],[0.8888888888888888,\"#fdca26\"],[1.0,\"#f0f921\"]],\"type\":\"histogram2dcontour\"}],\"mesh3d\":[{\"colorbar\":{\"outlinewidth\":0,\"ticks\":\"\"},\"type\":\"mesh3d\"}],\"parcoords\":[{\"line\":{\"colorbar\":{\"outlinewidth\":0,\"ticks\":\"\"}},\"type\":\"parcoords\"}],\"pie\":[{\"automargin\":true,\"type\":\"pie\"}],\"scatter\":[{\"marker\":{\"colorbar\":{\"outlinewidth\":0,\"ticks\":\"\"}},\"type\":\"scatter\"}],\"scatter3d\":[{\"line\":{\"colorbar\":{\"outlinewidth\":0,\"ticks\":\"\"}},\"marker\":{\"colorbar\":{\"outlinewidth\":0,\"ticks\":\"\"}},\"type\":\"scatter3d\"}],\"scattercarpet\":[{\"marker\":{\"colorbar\":{\"outlinewidth\":0,\"ticks\":\"\"}},\"type\":\"scattercarpet\"}],\"scattergeo\":[{\"marker\":{\"colorbar\":{\"outlinewidth\":0,\"ticks\":\"\"}},\"type\":\"scattergeo\"}],\"scattergl\":[{\"marker\":{\"colorbar\":{\"outlinewidth\":0,\"ticks\":\"\"}},\"type\":\"scattergl\"}],\"scattermapbox\":[{\"marker\":{\"colorbar\":{\"outlinewidth\":0,\"ticks\":\"\"}},\"type\":\"scattermapbox\"}],\"scatterpolar\":[{\"marker\":{\"colorbar\":{\"outlinewidth\":0,\"ticks\":\"\"}},\"type\":\"scatterpolar\"}],\"scatterpolargl\":[{\"marker\":{\"colorbar\":{\"outlinewidth\":0,\"ticks\":\"\"}},\"type\":\"scatterpolargl\"}],\"scatterternary\":[{\"marker\":{\"colorbar\":{\"outlinewidth\":0,\"ticks\":\"\"}},\"type\":\"scatterternary\"}],\"surface\":[{\"colorbar\":{\"outlinewidth\":0,\"ticks\":\"\"},\"colorscale\":[[0.0,\"#0d0887\"],[0.1111111111111111,\"#46039f\"],[0.2222222222222222,\"#7201a8\"],[0.3333333333333333,\"#9c179e\"],[0.4444444444444444,\"#bd3786\"],[0.5555555555555556,\"#d8576b\"],[0.6666666666666666,\"#ed7953\"],[0.7777777777777778,\"#fb9f3a\"],[0.8888888888888888,\"#fdca26\"],[1.0,\"#f0f921\"]],\"type\":\"surface\"}],\"table\":[{\"cells\":{\"fill\":{\"color\":\"#EBF0F8\"},\"line\":{\"color\":\"white\"}},\"header\":{\"fill\":{\"color\":\"#C8D4E3\"},\"line\":{\"color\":\"white\"}},\"type\":\"table\"}]},\"layout\":{\"annotationdefaults\":{\"arrowcolor\":\"#2a3f5f\",\"arrowhead\":0,\"arrowwidth\":1},\"autotypenumbers\":\"strict\",\"coloraxis\":{\"colorbar\":{\"outlinewidth\":0,\"ticks\":\"\"}},\"colorscale\":{\"diverging\":[[0,\"#8e0152\"],[0.1,\"#c51b7d\"],[0.2,\"#de77ae\"],[0.3,\"#f1b6da\"],[0.4,\"#fde0ef\"],[0.5,\"#f7f7f7\"],[0.6,\"#e6f5d0\"],[0.7,\"#b8e186\"],[0.8,\"#7fbc41\"],[0.9,\"#4d9221\"],[1,\"#276419\"]],\"sequential\":[[0.0,\"#0d0887\"],[0.1111111111111111,\"#46039f\"],[0.2222222222222222,\"#7201a8\"],[0.3333333333333333,\"#9c179e\"],[0.4444444444444444,\"#bd3786\"],[0.5555555555555556,\"#d8576b\"],[0.6666666666666666,\"#ed7953\"],[0.7777777777777778,\"#fb9f3a\"],[0.8888888888888888,\"#fdca26\"],[1.0,\"#f0f921\"]],\"sequentialminus\":[[0.0,\"#0d0887\"],[0.1111111111111111,\"#46039f\"],[0.2222222222222222,\"#7201a8\"],[0.3333333333333333,\"#9c179e\"],[0.4444444444444444,\"#bd3786\"],[0.5555555555555556,\"#d8576b\"],[0.6666666666666666,\"#ed7953\"],[0.7777777777777778,\"#fb9f3a\"],[0.8888888888888888,\"#fdca26\"],[1.0,\"#f0f921\"]]},\"colorway\":[\"#636efa\",\"#EF553B\",\"#00cc96\",\"#ab63fa\",\"#FFA15A\",\"#19d3f3\",\"#FF6692\",\"#B6E880\",\"#FF97FF\",\"#FECB52\"],\"font\":{\"color\":\"#2a3f5f\"},\"geo\":{\"bgcolor\":\"white\",\"lakecolor\":\"white\",\"landcolor\":\"#E5ECF6\",\"showlakes\":true,\"showland\":true,\"subunitcolor\":\"white\"},\"hoverlabel\":{\"align\":\"left\"},\"hovermode\":\"closest\",\"mapbox\":{\"style\":\"light\"},\"paper_bgcolor\":\"white\",\"plot_bgcolor\":\"#E5ECF6\",\"polar\":{\"angularaxis\":{\"gridcolor\":\"white\",\"linecolor\":\"white\",\"ticks\":\"\"},\"bgcolor\":\"#E5ECF6\",\"radialaxis\":{\"gridcolor\":\"white\",\"linecolor\":\"white\",\"ticks\":\"\"}},\"scene\":{\"xaxis\":{\"backgroundcolor\":\"#E5ECF6\",\"gridcolor\":\"white\",\"gridwidth\":2,\"linecolor\":\"white\",\"showbackground\":true,\"ticks\":\"\",\"zerolinecolor\":\"white\"},\"yaxis\":{\"backgroundcolor\":\"#E5ECF6\",\"gridcolor\":\"white\",\"gridwidth\":2,\"linecolor\":\"white\",\"showbackground\":true,\"ticks\":\"\",\"zerolinecolor\":\"white\"},\"zaxis\":{\"backgroundcolor\":\"#E5ECF6\",\"gridcolor\":\"white\",\"gridwidth\":2,\"linecolor\":\"white\",\"showbackground\":true,\"ticks\":\"\",\"zerolinecolor\":\"white\"}},\"shapedefaults\":{\"line\":{\"color\":\"#2a3f5f\"}},\"ternary\":{\"aaxis\":{\"gridcolor\":\"white\",\"linecolor\":\"white\",\"ticks\":\"\"},\"baxis\":{\"gridcolor\":\"white\",\"linecolor\":\"white\",\"ticks\":\"\"},\"bgcolor\":\"#E5ECF6\",\"caxis\":{\"gridcolor\":\"white\",\"linecolor\":\"white\",\"ticks\":\"\"}},\"title\":{\"x\":0.05},\"xaxis\":{\"automargin\":true,\"gridcolor\":\"white\",\"linecolor\":\"white\",\"ticks\":\"\",\"title\":{\"standoff\":15},\"zerolinecolor\":\"white\",\"zerolinewidth\":2},\"yaxis\":{\"automargin\":true,\"gridcolor\":\"white\",\"linecolor\":\"white\",\"ticks\":\"\",\"title\":{\"standoff\":15},\"zerolinecolor\":\"white\",\"zerolinewidth\":2}}},\"xaxis\":{\"anchor\":\"y\",\"domain\":[0.0,1.0],\"title\":{\"text\":\"count\"}},\"yaxis\":{\"anchor\":\"x\",\"domain\":[0.0,1.0],\"title\":{\"text\":\"Common_words\"},\"categoryorder\":\"array\",\"categoryarray\":[\"president\",\"executive\",\"director\",\"name\",\"board\",\"ceo\",\"new\",\"officer\",\"appoints\",\"chief\"]},\"legend\":{\"title\":{\"text\":\"Common_words\"},\"tracegroupgap\":0},\"title\":{\"text\":\"Common Words in Label17\"},\"barmode\":\"relative\"},                        {\"responsive\": true}                    ).then(function(){\n",
              "                            \n",
              "var gd = document.getElementById('59330c53-3450-49fc-b647-0b8efe4cb06b');\n",
              "var x = new MutationObserver(function (mutations, observer) {{\n",
              "        var display = window.getComputedStyle(gd).display;\n",
              "        if (!display || display === 'none') {{\n",
              "            console.log([gd, 'removed!']);\n",
              "            Plotly.purge(gd);\n",
              "            observer.disconnect();\n",
              "        }}\n",
              "}});\n",
              "\n",
              "// Listen for the removal of the full notebook cells\n",
              "var notebookContainer = gd.closest('#notebook-container');\n",
              "if (notebookContainer) {{\n",
              "    x.observe(notebookContainer, {childList: true});\n",
              "}}\n",
              "\n",
              "// Listen for the clearing of the current output cell\n",
              "var outputEl = gd.closest('.output');\n",
              "if (outputEl) {{\n",
              "    x.observe(outputEl, {childList: true});\n",
              "}}\n",
              "\n",
              "                        })                };                            </script>        </div>\n",
              "</body>\n",
              "</html>"
            ]
          },
          "metadata": {},
          "output_type": "display_data"
        },
        {
          "name": "stderr",
          "output_type": "stream",
          "text": [
            "<ipython-input-25-ec3bb4c6d183>:3: SettingWithCopyWarning:\n",
            "\n",
            "\n",
            "A value is trying to be set on a copy of a slice from a DataFrame.\n",
            "Try using .loc[row_indexer,col_indexer] = value instead\n",
            "\n",
            "See the caveats in the documentation: https://pandas.pydata.org/pandas-docs/stable/user_guide/indexing.html#returning-a-view-versus-a-copy\n",
            "\n"
          ]
        },
        {
          "data": {
            "text/html": [
              "<html>\n",
              "<head><meta charset=\"utf-8\" /></head>\n",
              "<body>\n",
              "    <div>            <script src=\"https://cdnjs.cloudflare.com/ajax/libs/mathjax/2.7.5/MathJax.js?config=TeX-AMS-MML_SVG\"></script><script type=\"text/javascript\">if (window.MathJax) {MathJax.Hub.Config({SVG: {font: \"STIX-Web\"}});}</script>                <script type=\"text/javascript\">window.PlotlyConfig = {MathJaxConfig: 'local'};</script>\n",
              "        <script src=\"https://cdn.plot.ly/plotly-2.8.3.min.js\"></script>                <div id=\"e5319c95-cbc1-4872-ae5d-b8ba1f6d94f8\" class=\"plotly-graph-div\" style=\"height:525px; width:100%;\"></div>            <script type=\"text/javascript\">                                    window.PLOTLYENV=window.PLOTLYENV || {};                                    if (document.getElementById(\"e5319c95-cbc1-4872-ae5d-b8ba1f6d94f8\")) {                    Plotly.newPlot(                        \"e5319c95-cbc1-4872-ae5d-b8ba1f6d94f8\",                        [{\"alignmentgroup\":\"True\",\"hovertemplate\":\"Common_words=%{y}<br>count=%{x}<extra></extra>\",\"legendgroup\":\"stock\",\"marker\":{\"color\":\"#636efa\",\"pattern\":{\"shape\":\"\"}},\"name\":\"stock\",\"offsetgroup\":\"stock\",\"orientation\":\"h\",\"showlegend\":true,\"textposition\":\"auto\",\"x\":[496],\"xaxis\":\"x\",\"y\":[\"stock\"],\"yaxis\":\"y\",\"type\":\"bar\"},{\"alignmentgroup\":\"True\",\"hovertemplate\":\"Common_words=%{y}<br>count=%{x}<extra></extra>\",\"legendgroup\":\"trading\",\"marker\":{\"color\":\"#EF553B\",\"pattern\":{\"shape\":\"\"}},\"name\":\"trading\",\"offsetgroup\":\"trading\",\"orientation\":\"h\",\"showlegend\":true,\"textposition\":\"auto\",\"x\":[390],\"xaxis\":\"x\",\"y\":[\"trading\"],\"yaxis\":\"y\",\"type\":\"bar\"},{\"alignmentgroup\":\"True\",\"hovertemplate\":\"Common_words=%{y}<br>count=%{x}<extra></extra>\",\"legendgroup\":\"market\",\"marker\":{\"color\":\"#00cc96\",\"pattern\":{\"shape\":\"\"}},\"name\":\"market\",\"offsetgroup\":\"market\",\"orientation\":\"h\",\"showlegend\":true,\"textposition\":\"auto\",\"x\":[380],\"xaxis\":\"x\",\"y\":[\"market\"],\"yaxis\":\"y\",\"type\":\"bar\"},{\"alignmentgroup\":\"True\",\"hovertemplate\":\"Common_words=%{y}<br>count=%{x}<extra></extra>\",\"legendgroup\":\"finance\",\"marker\":{\"color\":\"#ab63fa\",\"pattern\":{\"shape\":\"\"}},\"name\":\"finance\",\"offsetgroup\":\"finance\",\"orientation\":\"h\",\"showlegend\":true,\"textposition\":\"auto\",\"x\":[326],\"xaxis\":\"x\",\"y\":[\"finance\"],\"yaxis\":\"y\",\"type\":\"bar\"},{\"alignmentgroup\":\"True\",\"hovertemplate\":\"Common_words=%{y}<br>count=%{x}<extra></extra>\",\"legendgroup\":\"economy\",\"marker\":{\"color\":\"#FFA15A\",\"pattern\":{\"shape\":\"\"}},\"name\":\"economy\",\"offsetgroup\":\"economy\",\"orientation\":\"h\",\"showlegend\":true,\"textposition\":\"auto\",\"x\":[312],\"xaxis\":\"x\",\"y\":[\"economy\"],\"yaxis\":\"y\",\"type\":\"bar\"},{\"alignmentgroup\":\"True\",\"hovertemplate\":\"Common_words=%{y}<br>count=%{x}<extra></extra>\",\"legendgroup\":\"investing\",\"marker\":{\"color\":\"#19d3f3\",\"pattern\":{\"shape\":\"\"}},\"name\":\"investing\",\"offsetgroup\":\"investing\",\"orientation\":\"h\",\"showlegend\":true,\"textposition\":\"auto\",\"x\":[312],\"xaxis\":\"x\",\"y\":[\"investing\"],\"yaxis\":\"y\",\"type\":\"bar\"},{\"alignmentgroup\":\"True\",\"hovertemplate\":\"Common_words=%{y}<br>count=%{x}<extra></extra>\",\"legendgroup\":\"business\",\"marker\":{\"color\":\"#FF6692\",\"pattern\":{\"shape\":\"\"}},\"name\":\"business\",\"offsetgroup\":\"business\",\"orientation\":\"h\",\"showlegend\":true,\"textposition\":\"auto\",\"x\":[309],\"xaxis\":\"x\",\"y\":[\"business\"],\"yaxis\":\"y\",\"type\":\"bar\"},{\"alignmentgroup\":\"True\",\"hovertemplate\":\"Common_words=%{y}<br>count=%{x}<extra></extra>\",\"legendgroup\":\"stockmarket\",\"marker\":{\"color\":\"#B6E880\",\"pattern\":{\"shape\":\"\"}},\"name\":\"stockmarket\",\"offsetgroup\":\"stockmarket\",\"orientation\":\"h\",\"showlegend\":true,\"textposition\":\"auto\",\"x\":[304],\"xaxis\":\"x\",\"y\":[\"stockmarket\"],\"yaxis\":\"y\",\"type\":\"bar\"},{\"alignmentgroup\":\"True\",\"hovertemplate\":\"Common_words=%{y}<br>count=%{x}<extra></extra>\",\"legendgroup\":\"spy\",\"marker\":{\"color\":\"#FF97FF\",\"pattern\":{\"shape\":\"\"}},\"name\":\"spy\",\"offsetgroup\":\"spy\",\"orientation\":\"h\",\"showlegend\":true,\"textposition\":\"auto\",\"x\":[181],\"xaxis\":\"x\",\"y\":[\"spy\"],\"yaxis\":\"y\",\"type\":\"bar\"},{\"alignmentgroup\":\"True\",\"hovertemplate\":\"Common_words=%{y}<br>count=%{x}<extra></extra>\",\"legendgroup\":\"wire\",\"marker\":{\"color\":\"#FECB52\",\"pattern\":{\"shape\":\"\"}},\"name\":\"wire\",\"offsetgroup\":\"wire\",\"orientation\":\"h\",\"showlegend\":true,\"textposition\":\"auto\",\"x\":[150],\"xaxis\":\"x\",\"y\":[\"wire\"],\"yaxis\":\"y\",\"type\":\"bar\"}],                        {\"template\":{\"data\":{\"bar\":[{\"error_x\":{\"color\":\"#2a3f5f\"},\"error_y\":{\"color\":\"#2a3f5f\"},\"marker\":{\"line\":{\"color\":\"#E5ECF6\",\"width\":0.5},\"pattern\":{\"fillmode\":\"overlay\",\"size\":10,\"solidity\":0.2}},\"type\":\"bar\"}],\"barpolar\":[{\"marker\":{\"line\":{\"color\":\"#E5ECF6\",\"width\":0.5},\"pattern\":{\"fillmode\":\"overlay\",\"size\":10,\"solidity\":0.2}},\"type\":\"barpolar\"}],\"carpet\":[{\"aaxis\":{\"endlinecolor\":\"#2a3f5f\",\"gridcolor\":\"white\",\"linecolor\":\"white\",\"minorgridcolor\":\"white\",\"startlinecolor\":\"#2a3f5f\"},\"baxis\":{\"endlinecolor\":\"#2a3f5f\",\"gridcolor\":\"white\",\"linecolor\":\"white\",\"minorgridcolor\":\"white\",\"startlinecolor\":\"#2a3f5f\"},\"type\":\"carpet\"}],\"choropleth\":[{\"colorbar\":{\"outlinewidth\":0,\"ticks\":\"\"},\"type\":\"choropleth\"}],\"contour\":[{\"colorbar\":{\"outlinewidth\":0,\"ticks\":\"\"},\"colorscale\":[[0.0,\"#0d0887\"],[0.1111111111111111,\"#46039f\"],[0.2222222222222222,\"#7201a8\"],[0.3333333333333333,\"#9c179e\"],[0.4444444444444444,\"#bd3786\"],[0.5555555555555556,\"#d8576b\"],[0.6666666666666666,\"#ed7953\"],[0.7777777777777778,\"#fb9f3a\"],[0.8888888888888888,\"#fdca26\"],[1.0,\"#f0f921\"]],\"type\":\"contour\"}],\"contourcarpet\":[{\"colorbar\":{\"outlinewidth\":0,\"ticks\":\"\"},\"type\":\"contourcarpet\"}],\"heatmap\":[{\"colorbar\":{\"outlinewidth\":0,\"ticks\":\"\"},\"colorscale\":[[0.0,\"#0d0887\"],[0.1111111111111111,\"#46039f\"],[0.2222222222222222,\"#7201a8\"],[0.3333333333333333,\"#9c179e\"],[0.4444444444444444,\"#bd3786\"],[0.5555555555555556,\"#d8576b\"],[0.6666666666666666,\"#ed7953\"],[0.7777777777777778,\"#fb9f3a\"],[0.8888888888888888,\"#fdca26\"],[1.0,\"#f0f921\"]],\"type\":\"heatmap\"}],\"heatmapgl\":[{\"colorbar\":{\"outlinewidth\":0,\"ticks\":\"\"},\"colorscale\":[[0.0,\"#0d0887\"],[0.1111111111111111,\"#46039f\"],[0.2222222222222222,\"#7201a8\"],[0.3333333333333333,\"#9c179e\"],[0.4444444444444444,\"#bd3786\"],[0.5555555555555556,\"#d8576b\"],[0.6666666666666666,\"#ed7953\"],[0.7777777777777778,\"#fb9f3a\"],[0.8888888888888888,\"#fdca26\"],[1.0,\"#f0f921\"]],\"type\":\"heatmapgl\"}],\"histogram\":[{\"marker\":{\"pattern\":{\"fillmode\":\"overlay\",\"size\":10,\"solidity\":0.2}},\"type\":\"histogram\"}],\"histogram2d\":[{\"colorbar\":{\"outlinewidth\":0,\"ticks\":\"\"},\"colorscale\":[[0.0,\"#0d0887\"],[0.1111111111111111,\"#46039f\"],[0.2222222222222222,\"#7201a8\"],[0.3333333333333333,\"#9c179e\"],[0.4444444444444444,\"#bd3786\"],[0.5555555555555556,\"#d8576b\"],[0.6666666666666666,\"#ed7953\"],[0.7777777777777778,\"#fb9f3a\"],[0.8888888888888888,\"#fdca26\"],[1.0,\"#f0f921\"]],\"type\":\"histogram2d\"}],\"histogram2dcontour\":[{\"colorbar\":{\"outlinewidth\":0,\"ticks\":\"\"},\"colorscale\":[[0.0,\"#0d0887\"],[0.1111111111111111,\"#46039f\"],[0.2222222222222222,\"#7201a8\"],[0.3333333333333333,\"#9c179e\"],[0.4444444444444444,\"#bd3786\"],[0.5555555555555556,\"#d8576b\"],[0.6666666666666666,\"#ed7953\"],[0.7777777777777778,\"#fb9f3a\"],[0.8888888888888888,\"#fdca26\"],[1.0,\"#f0f921\"]],\"type\":\"histogram2dcontour\"}],\"mesh3d\":[{\"colorbar\":{\"outlinewidth\":0,\"ticks\":\"\"},\"type\":\"mesh3d\"}],\"parcoords\":[{\"line\":{\"colorbar\":{\"outlinewidth\":0,\"ticks\":\"\"}},\"type\":\"parcoords\"}],\"pie\":[{\"automargin\":true,\"type\":\"pie\"}],\"scatter\":[{\"marker\":{\"colorbar\":{\"outlinewidth\":0,\"ticks\":\"\"}},\"type\":\"scatter\"}],\"scatter3d\":[{\"line\":{\"colorbar\":{\"outlinewidth\":0,\"ticks\":\"\"}},\"marker\":{\"colorbar\":{\"outlinewidth\":0,\"ticks\":\"\"}},\"type\":\"scatter3d\"}],\"scattercarpet\":[{\"marker\":{\"colorbar\":{\"outlinewidth\":0,\"ticks\":\"\"}},\"type\":\"scattercarpet\"}],\"scattergeo\":[{\"marker\":{\"colorbar\":{\"outlinewidth\":0,\"ticks\":\"\"}},\"type\":\"scattergeo\"}],\"scattergl\":[{\"marker\":{\"colorbar\":{\"outlinewidth\":0,\"ticks\":\"\"}},\"type\":\"scattergl\"}],\"scattermapbox\":[{\"marker\":{\"colorbar\":{\"outlinewidth\":0,\"ticks\":\"\"}},\"type\":\"scattermapbox\"}],\"scatterpolar\":[{\"marker\":{\"colorbar\":{\"outlinewidth\":0,\"ticks\":\"\"}},\"type\":\"scatterpolar\"}],\"scatterpolargl\":[{\"marker\":{\"colorbar\":{\"outlinewidth\":0,\"ticks\":\"\"}},\"type\":\"scatterpolargl\"}],\"scatterternary\":[{\"marker\":{\"colorbar\":{\"outlinewidth\":0,\"ticks\":\"\"}},\"type\":\"scatterternary\"}],\"surface\":[{\"colorbar\":{\"outlinewidth\":0,\"ticks\":\"\"},\"colorscale\":[[0.0,\"#0d0887\"],[0.1111111111111111,\"#46039f\"],[0.2222222222222222,\"#7201a8\"],[0.3333333333333333,\"#9c179e\"],[0.4444444444444444,\"#bd3786\"],[0.5555555555555556,\"#d8576b\"],[0.6666666666666666,\"#ed7953\"],[0.7777777777777778,\"#fb9f3a\"],[0.8888888888888888,\"#fdca26\"],[1.0,\"#f0f921\"]],\"type\":\"surface\"}],\"table\":[{\"cells\":{\"fill\":{\"color\":\"#EBF0F8\"},\"line\":{\"color\":\"white\"}},\"header\":{\"fill\":{\"color\":\"#C8D4E3\"},\"line\":{\"color\":\"white\"}},\"type\":\"table\"}]},\"layout\":{\"annotationdefaults\":{\"arrowcolor\":\"#2a3f5f\",\"arrowhead\":0,\"arrowwidth\":1},\"autotypenumbers\":\"strict\",\"coloraxis\":{\"colorbar\":{\"outlinewidth\":0,\"ticks\":\"\"}},\"colorscale\":{\"diverging\":[[0,\"#8e0152\"],[0.1,\"#c51b7d\"],[0.2,\"#de77ae\"],[0.3,\"#f1b6da\"],[0.4,\"#fde0ef\"],[0.5,\"#f7f7f7\"],[0.6,\"#e6f5d0\"],[0.7,\"#b8e186\"],[0.8,\"#7fbc41\"],[0.9,\"#4d9221\"],[1,\"#276419\"]],\"sequential\":[[0.0,\"#0d0887\"],[0.1111111111111111,\"#46039f\"],[0.2222222222222222,\"#7201a8\"],[0.3333333333333333,\"#9c179e\"],[0.4444444444444444,\"#bd3786\"],[0.5555555555555556,\"#d8576b\"],[0.6666666666666666,\"#ed7953\"],[0.7777777777777778,\"#fb9f3a\"],[0.8888888888888888,\"#fdca26\"],[1.0,\"#f0f921\"]],\"sequentialminus\":[[0.0,\"#0d0887\"],[0.1111111111111111,\"#46039f\"],[0.2222222222222222,\"#7201a8\"],[0.3333333333333333,\"#9c179e\"],[0.4444444444444444,\"#bd3786\"],[0.5555555555555556,\"#d8576b\"],[0.6666666666666666,\"#ed7953\"],[0.7777777777777778,\"#fb9f3a\"],[0.8888888888888888,\"#fdca26\"],[1.0,\"#f0f921\"]]},\"colorway\":[\"#636efa\",\"#EF553B\",\"#00cc96\",\"#ab63fa\",\"#FFA15A\",\"#19d3f3\",\"#FF6692\",\"#B6E880\",\"#FF97FF\",\"#FECB52\"],\"font\":{\"color\":\"#2a3f5f\"},\"geo\":{\"bgcolor\":\"white\",\"lakecolor\":\"white\",\"landcolor\":\"#E5ECF6\",\"showlakes\":true,\"showland\":true,\"subunitcolor\":\"white\"},\"hoverlabel\":{\"align\":\"left\"},\"hovermode\":\"closest\",\"mapbox\":{\"style\":\"light\"},\"paper_bgcolor\":\"white\",\"plot_bgcolor\":\"#E5ECF6\",\"polar\":{\"angularaxis\":{\"gridcolor\":\"white\",\"linecolor\":\"white\",\"ticks\":\"\"},\"bgcolor\":\"#E5ECF6\",\"radialaxis\":{\"gridcolor\":\"white\",\"linecolor\":\"white\",\"ticks\":\"\"}},\"scene\":{\"xaxis\":{\"backgroundcolor\":\"#E5ECF6\",\"gridcolor\":\"white\",\"gridwidth\":2,\"linecolor\":\"white\",\"showbackground\":true,\"ticks\":\"\",\"zerolinecolor\":\"white\"},\"yaxis\":{\"backgroundcolor\":\"#E5ECF6\",\"gridcolor\":\"white\",\"gridwidth\":2,\"linecolor\":\"white\",\"showbackground\":true,\"ticks\":\"\",\"zerolinecolor\":\"white\"},\"zaxis\":{\"backgroundcolor\":\"#E5ECF6\",\"gridcolor\":\"white\",\"gridwidth\":2,\"linecolor\":\"white\",\"showbackground\":true,\"ticks\":\"\",\"zerolinecolor\":\"white\"}},\"shapedefaults\":{\"line\":{\"color\":\"#2a3f5f\"}},\"ternary\":{\"aaxis\":{\"gridcolor\":\"white\",\"linecolor\":\"white\",\"ticks\":\"\"},\"baxis\":{\"gridcolor\":\"white\",\"linecolor\":\"white\",\"ticks\":\"\"},\"bgcolor\":\"#E5ECF6\",\"caxis\":{\"gridcolor\":\"white\",\"linecolor\":\"white\",\"ticks\":\"\"}},\"title\":{\"x\":0.05},\"xaxis\":{\"automargin\":true,\"gridcolor\":\"white\",\"linecolor\":\"white\",\"ticks\":\"\",\"title\":{\"standoff\":15},\"zerolinecolor\":\"white\",\"zerolinewidth\":2},\"yaxis\":{\"automargin\":true,\"gridcolor\":\"white\",\"linecolor\":\"white\",\"ticks\":\"\",\"title\":{\"standoff\":15},\"zerolinecolor\":\"white\",\"zerolinewidth\":2}}},\"xaxis\":{\"anchor\":\"y\",\"domain\":[0.0,1.0],\"title\":{\"text\":\"count\"}},\"yaxis\":{\"anchor\":\"x\",\"domain\":[0.0,1.0],\"title\":{\"text\":\"Common_words\"},\"categoryorder\":\"array\",\"categoryarray\":[\"wire\",\"spy\",\"stockmarket\",\"business\",\"investing\",\"economy\",\"finance\",\"market\",\"trading\",\"stock\"]},\"legend\":{\"title\":{\"text\":\"Common_words\"},\"tracegroupgap\":0},\"title\":{\"text\":\"Common Words in Label18\"},\"barmode\":\"relative\"},                        {\"responsive\": true}                    ).then(function(){\n",
              "                            \n",
              "var gd = document.getElementById('e5319c95-cbc1-4872-ae5d-b8ba1f6d94f8');\n",
              "var x = new MutationObserver(function (mutations, observer) {{\n",
              "        var display = window.getComputedStyle(gd).display;\n",
              "        if (!display || display === 'none') {{\n",
              "            console.log([gd, 'removed!']);\n",
              "            Plotly.purge(gd);\n",
              "            observer.disconnect();\n",
              "        }}\n",
              "}});\n",
              "\n",
              "// Listen for the removal of the full notebook cells\n",
              "var notebookContainer = gd.closest('#notebook-container');\n",
              "if (notebookContainer) {{\n",
              "    x.observe(notebookContainer, {childList: true});\n",
              "}}\n",
              "\n",
              "// Listen for the clearing of the current output cell\n",
              "var outputEl = gd.closest('.output');\n",
              "if (outputEl) {{\n",
              "    x.observe(outputEl, {childList: true});\n",
              "}}\n",
              "\n",
              "                        })                };                            </script>        </div>\n",
              "</body>\n",
              "</html>"
            ]
          },
          "metadata": {},
          "output_type": "display_data"
        },
        {
          "name": "stderr",
          "output_type": "stream",
          "text": [
            "<ipython-input-25-ec3bb4c6d183>:3: SettingWithCopyWarning:\n",
            "\n",
            "\n",
            "A value is trying to be set on a copy of a slice from a DataFrame.\n",
            "Try using .loc[row_indexer,col_indexer] = value instead\n",
            "\n",
            "See the caveats in the documentation: https://pandas.pydata.org/pandas-docs/stable/user_guide/indexing.html#returning-a-view-versus-a-copy\n",
            "\n"
          ]
        },
        {
          "data": {
            "text/html": [
              "<html>\n",
              "<head><meta charset=\"utf-8\" /></head>\n",
              "<body>\n",
              "    <div>            <script src=\"https://cdnjs.cloudflare.com/ajax/libs/mathjax/2.7.5/MathJax.js?config=TeX-AMS-MML_SVG\"></script><script type=\"text/javascript\">if (window.MathJax) {MathJax.Hub.Config({SVG: {font: \"STIX-Web\"}});}</script>                <script type=\"text/javascript\">window.PlotlyConfig = {MathJaxConfig: 'local'};</script>\n",
              "        <script src=\"https://cdn.plot.ly/plotly-2.8.3.min.js\"></script>                <div id=\"289da4cf-34e7-438d-9351-49b18d710537\" class=\"plotly-graph-div\" style=\"height:525px; width:100%;\"></div>            <script type=\"text/javascript\">                                    window.PLOTLYENV=window.PLOTLYENV || {};                                    if (document.getElementById(\"289da4cf-34e7-438d-9351-49b18d710537\")) {                    Plotly.newPlot(                        \"289da4cf-34e7-438d-9351-49b18d710537\",                        [{\"alignmentgroup\":\"True\",\"hovertemplate\":\"Common_words=%{y}<br>count=%{x}<extra></extra>\",\"legendgroup\":\"pre\",\"marker\":{\"color\":\"#636efa\",\"pattern\":{\"shape\":\"\"}},\"name\":\"pre\",\"offsetgroup\":\"pre\",\"orientation\":\"h\",\"showlegend\":true,\"textposition\":\"auto\",\"x\":[239],\"xaxis\":\"x\",\"y\":[\"pre\"],\"yaxis\":\"y\",\"type\":\"bar\"},{\"alignmentgroup\":\"True\",\"hovertemplate\":\"Common_words=%{y}<br>count=%{x}<extra></extra>\",\"legendgroup\":\"stock\",\"marker\":{\"color\":\"#EF553B\",\"pattern\":{\"shape\":\"\"}},\"name\":\"stock\",\"offsetgroup\":\"stock\",\"orientation\":\"h\",\"showlegend\":true,\"textposition\":\"auto\",\"x\":[190],\"xaxis\":\"x\",\"y\":[\"stock\"],\"yaxis\":\"y\",\"type\":\"bar\"},{\"alignmentgroup\":\"True\",\"hovertemplate\":\"Common_words=%{y}<br>count=%{x}<extra></extra>\",\"legendgroup\":\"share\",\"marker\":{\"color\":\"#00cc96\",\"pattern\":{\"shape\":\"\"}},\"name\":\"share\",\"offsetgroup\":\"share\",\"orientation\":\"h\",\"showlegend\":true,\"textposition\":\"auto\",\"x\":[169],\"xaxis\":\"x\",\"y\":[\"share\"],\"yaxis\":\"y\",\"type\":\"bar\"},{\"alignmentgroup\":\"True\",\"hovertemplate\":\"Common_words=%{y}<br>count=%{x}<extra></extra>\",\"legendgroup\":\"earnings\",\"marker\":{\"color\":\"#ab63fa\",\"pattern\":{\"shape\":\"\"}},\"name\":\"earnings\",\"offsetgroup\":\"earnings\",\"orientation\":\"h\",\"showlegend\":true,\"textposition\":\"auto\",\"x\":[86],\"xaxis\":\"x\",\"y\":[\"earnings\"],\"yaxis\":\"y\",\"type\":\"bar\"},{\"alignmentgroup\":\"True\",\"hovertemplate\":\"Common_words=%{y}<br>count=%{x}<extra></extra>\",\"legendgroup\":\"report\",\"marker\":{\"color\":\"#FFA15A\",\"pattern\":{\"shape\":\"\"}},\"name\":\"report\",\"offsetgroup\":\"report\",\"orientation\":\"h\",\"showlegend\":true,\"textposition\":\"auto\",\"x\":[72],\"xaxis\":\"x\",\"y\":[\"report\"],\"yaxis\":\"y\",\"type\":\"bar\"},{\"alignmentgroup\":\"True\",\"hovertemplate\":\"Common_words=%{y}<br>count=%{x}<extra></extra>\",\"legendgroup\":\"si\",\"marker\":{\"color\":\"#19d3f3\",\"pattern\":{\"shape\":\"\"}},\"name\":\"si\",\"offsetgroup\":\"si\",\"orientation\":\"h\",\"showlegend\":true,\"textposition\":\"auto\",\"x\":[65],\"xaxis\":\"x\",\"y\":[\"si\"],\"yaxis\":\"y\",\"type\":\"bar\"},{\"alignmentgroup\":\"True\",\"hovertemplate\":\"Common_words=%{y}<br>count=%{x}<extra></extra>\",\"legendgroup\":\"beat\",\"marker\":{\"color\":\"#FF6692\",\"pattern\":{\"shape\":\"\"}},\"name\":\"beat\",\"offsetgroup\":\"beat\",\"orientation\":\"h\",\"showlegend\":true,\"textposition\":\"auto\",\"x\":[51],\"xaxis\":\"x\",\"y\":[\"beat\"],\"yaxis\":\"y\",\"type\":\"bar\"},{\"alignmentgroup\":\"True\",\"hovertemplate\":\"Common_words=%{y}<br>count=%{x}<extra></extra>\",\"legendgroup\":\"gain\",\"marker\":{\"color\":\"#B6E880\",\"pattern\":{\"shape\":\"\"}},\"name\":\"gain\",\"offsetgroup\":\"gain\",\"orientation\":\"h\",\"showlegend\":true,\"textposition\":\"auto\",\"x\":[44],\"xaxis\":\"x\",\"y\":[\"gain\"],\"yaxis\":\"y\",\"type\":\"bar\"},{\"alignmentgroup\":\"True\",\"hovertemplate\":\"Common_words=%{y}<br>count=%{x}<extra></extra>\",\"legendgroup\":\"higher\",\"marker\":{\"color\":\"#FF97FF\",\"pattern\":{\"shape\":\"\"}},\"name\":\"higher\",\"offsetgroup\":\"higher\",\"orientation\":\"h\",\"showlegend\":true,\"textposition\":\"auto\",\"x\":[39],\"xaxis\":\"x\",\"y\":[\"higher\"],\"yaxis\":\"y\",\"type\":\"bar\"},{\"alignmentgroup\":\"True\",\"hovertemplate\":\"Common_words=%{y}<br>count=%{x}<extra></extra>\",\"legendgroup\":\"sa\",\"marker\":{\"color\":\"#FECB52\",\"pattern\":{\"shape\":\"\"}},\"name\":\"sa\",\"offsetgroup\":\"sa\",\"orientation\":\"h\",\"showlegend\":true,\"textposition\":\"auto\",\"x\":[38],\"xaxis\":\"x\",\"y\":[\"sa\"],\"yaxis\":\"y\",\"type\":\"bar\"}],                        {\"template\":{\"data\":{\"bar\":[{\"error_x\":{\"color\":\"#2a3f5f\"},\"error_y\":{\"color\":\"#2a3f5f\"},\"marker\":{\"line\":{\"color\":\"#E5ECF6\",\"width\":0.5},\"pattern\":{\"fillmode\":\"overlay\",\"size\":10,\"solidity\":0.2}},\"type\":\"bar\"}],\"barpolar\":[{\"marker\":{\"line\":{\"color\":\"#E5ECF6\",\"width\":0.5},\"pattern\":{\"fillmode\":\"overlay\",\"size\":10,\"solidity\":0.2}},\"type\":\"barpolar\"}],\"carpet\":[{\"aaxis\":{\"endlinecolor\":\"#2a3f5f\",\"gridcolor\":\"white\",\"linecolor\":\"white\",\"minorgridcolor\":\"white\",\"startlinecolor\":\"#2a3f5f\"},\"baxis\":{\"endlinecolor\":\"#2a3f5f\",\"gridcolor\":\"white\",\"linecolor\":\"white\",\"minorgridcolor\":\"white\",\"startlinecolor\":\"#2a3f5f\"},\"type\":\"carpet\"}],\"choropleth\":[{\"colorbar\":{\"outlinewidth\":0,\"ticks\":\"\"},\"type\":\"choropleth\"}],\"contour\":[{\"colorbar\":{\"outlinewidth\":0,\"ticks\":\"\"},\"colorscale\":[[0.0,\"#0d0887\"],[0.1111111111111111,\"#46039f\"],[0.2222222222222222,\"#7201a8\"],[0.3333333333333333,\"#9c179e\"],[0.4444444444444444,\"#bd3786\"],[0.5555555555555556,\"#d8576b\"],[0.6666666666666666,\"#ed7953\"],[0.7777777777777778,\"#fb9f3a\"],[0.8888888888888888,\"#fdca26\"],[1.0,\"#f0f921\"]],\"type\":\"contour\"}],\"contourcarpet\":[{\"colorbar\":{\"outlinewidth\":0,\"ticks\":\"\"},\"type\":\"contourcarpet\"}],\"heatmap\":[{\"colorbar\":{\"outlinewidth\":0,\"ticks\":\"\"},\"colorscale\":[[0.0,\"#0d0887\"],[0.1111111111111111,\"#46039f\"],[0.2222222222222222,\"#7201a8\"],[0.3333333333333333,\"#9c179e\"],[0.4444444444444444,\"#bd3786\"],[0.5555555555555556,\"#d8576b\"],[0.6666666666666666,\"#ed7953\"],[0.7777777777777778,\"#fb9f3a\"],[0.8888888888888888,\"#fdca26\"],[1.0,\"#f0f921\"]],\"type\":\"heatmap\"}],\"heatmapgl\":[{\"colorbar\":{\"outlinewidth\":0,\"ticks\":\"\"},\"colorscale\":[[0.0,\"#0d0887\"],[0.1111111111111111,\"#46039f\"],[0.2222222222222222,\"#7201a8\"],[0.3333333333333333,\"#9c179e\"],[0.4444444444444444,\"#bd3786\"],[0.5555555555555556,\"#d8576b\"],[0.6666666666666666,\"#ed7953\"],[0.7777777777777778,\"#fb9f3a\"],[0.8888888888888888,\"#fdca26\"],[1.0,\"#f0f921\"]],\"type\":\"heatmapgl\"}],\"histogram\":[{\"marker\":{\"pattern\":{\"fillmode\":\"overlay\",\"size\":10,\"solidity\":0.2}},\"type\":\"histogram\"}],\"histogram2d\":[{\"colorbar\":{\"outlinewidth\":0,\"ticks\":\"\"},\"colorscale\":[[0.0,\"#0d0887\"],[0.1111111111111111,\"#46039f\"],[0.2222222222222222,\"#7201a8\"],[0.3333333333333333,\"#9c179e\"],[0.4444444444444444,\"#bd3786\"],[0.5555555555555556,\"#d8576b\"],[0.6666666666666666,\"#ed7953\"],[0.7777777777777778,\"#fb9f3a\"],[0.8888888888888888,\"#fdca26\"],[1.0,\"#f0f921\"]],\"type\":\"histogram2d\"}],\"histogram2dcontour\":[{\"colorbar\":{\"outlinewidth\":0,\"ticks\":\"\"},\"colorscale\":[[0.0,\"#0d0887\"],[0.1111111111111111,\"#46039f\"],[0.2222222222222222,\"#7201a8\"],[0.3333333333333333,\"#9c179e\"],[0.4444444444444444,\"#bd3786\"],[0.5555555555555556,\"#d8576b\"],[0.6666666666666666,\"#ed7953\"],[0.7777777777777778,\"#fb9f3a\"],[0.8888888888888888,\"#fdca26\"],[1.0,\"#f0f921\"]],\"type\":\"histogram2dcontour\"}],\"mesh3d\":[{\"colorbar\":{\"outlinewidth\":0,\"ticks\":\"\"},\"type\":\"mesh3d\"}],\"parcoords\":[{\"line\":{\"colorbar\":{\"outlinewidth\":0,\"ticks\":\"\"}},\"type\":\"parcoords\"}],\"pie\":[{\"automargin\":true,\"type\":\"pie\"}],\"scatter\":[{\"marker\":{\"colorbar\":{\"outlinewidth\":0,\"ticks\":\"\"}},\"type\":\"scatter\"}],\"scatter3d\":[{\"line\":{\"colorbar\":{\"outlinewidth\":0,\"ticks\":\"\"}},\"marker\":{\"colorbar\":{\"outlinewidth\":0,\"ticks\":\"\"}},\"type\":\"scatter3d\"}],\"scattercarpet\":[{\"marker\":{\"colorbar\":{\"outlinewidth\":0,\"ticks\":\"\"}},\"type\":\"scattercarpet\"}],\"scattergeo\":[{\"marker\":{\"colorbar\":{\"outlinewidth\":0,\"ticks\":\"\"}},\"type\":\"scattergeo\"}],\"scattergl\":[{\"marker\":{\"colorbar\":{\"outlinewidth\":0,\"ticks\":\"\"}},\"type\":\"scattergl\"}],\"scattermapbox\":[{\"marker\":{\"colorbar\":{\"outlinewidth\":0,\"ticks\":\"\"}},\"type\":\"scattermapbox\"}],\"scatterpolar\":[{\"marker\":{\"colorbar\":{\"outlinewidth\":0,\"ticks\":\"\"}},\"type\":\"scatterpolar\"}],\"scatterpolargl\":[{\"marker\":{\"colorbar\":{\"outlinewidth\":0,\"ticks\":\"\"}},\"type\":\"scatterpolargl\"}],\"scatterternary\":[{\"marker\":{\"colorbar\":{\"outlinewidth\":0,\"ticks\":\"\"}},\"type\":\"scatterternary\"}],\"surface\":[{\"colorbar\":{\"outlinewidth\":0,\"ticks\":\"\"},\"colorscale\":[[0.0,\"#0d0887\"],[0.1111111111111111,\"#46039f\"],[0.2222222222222222,\"#7201a8\"],[0.3333333333333333,\"#9c179e\"],[0.4444444444444444,\"#bd3786\"],[0.5555555555555556,\"#d8576b\"],[0.6666666666666666,\"#ed7953\"],[0.7777777777777778,\"#fb9f3a\"],[0.8888888888888888,\"#fdca26\"],[1.0,\"#f0f921\"]],\"type\":\"surface\"}],\"table\":[{\"cells\":{\"fill\":{\"color\":\"#EBF0F8\"},\"line\":{\"color\":\"white\"}},\"header\":{\"fill\":{\"color\":\"#C8D4E3\"},\"line\":{\"color\":\"white\"}},\"type\":\"table\"}]},\"layout\":{\"annotationdefaults\":{\"arrowcolor\":\"#2a3f5f\",\"arrowhead\":0,\"arrowwidth\":1},\"autotypenumbers\":\"strict\",\"coloraxis\":{\"colorbar\":{\"outlinewidth\":0,\"ticks\":\"\"}},\"colorscale\":{\"diverging\":[[0,\"#8e0152\"],[0.1,\"#c51b7d\"],[0.2,\"#de77ae\"],[0.3,\"#f1b6da\"],[0.4,\"#fde0ef\"],[0.5,\"#f7f7f7\"],[0.6,\"#e6f5d0\"],[0.7,\"#b8e186\"],[0.8,\"#7fbc41\"],[0.9,\"#4d9221\"],[1,\"#276419\"]],\"sequential\":[[0.0,\"#0d0887\"],[0.1111111111111111,\"#46039f\"],[0.2222222222222222,\"#7201a8\"],[0.3333333333333333,\"#9c179e\"],[0.4444444444444444,\"#bd3786\"],[0.5555555555555556,\"#d8576b\"],[0.6666666666666666,\"#ed7953\"],[0.7777777777777778,\"#fb9f3a\"],[0.8888888888888888,\"#fdca26\"],[1.0,\"#f0f921\"]],\"sequentialminus\":[[0.0,\"#0d0887\"],[0.1111111111111111,\"#46039f\"],[0.2222222222222222,\"#7201a8\"],[0.3333333333333333,\"#9c179e\"],[0.4444444444444444,\"#bd3786\"],[0.5555555555555556,\"#d8576b\"],[0.6666666666666666,\"#ed7953\"],[0.7777777777777778,\"#fb9f3a\"],[0.8888888888888888,\"#fdca26\"],[1.0,\"#f0f921\"]]},\"colorway\":[\"#636efa\",\"#EF553B\",\"#00cc96\",\"#ab63fa\",\"#FFA15A\",\"#19d3f3\",\"#FF6692\",\"#B6E880\",\"#FF97FF\",\"#FECB52\"],\"font\":{\"color\":\"#2a3f5f\"},\"geo\":{\"bgcolor\":\"white\",\"lakecolor\":\"white\",\"landcolor\":\"#E5ECF6\",\"showlakes\":true,\"showland\":true,\"subunitcolor\":\"white\"},\"hoverlabel\":{\"align\":\"left\"},\"hovermode\":\"closest\",\"mapbox\":{\"style\":\"light\"},\"paper_bgcolor\":\"white\",\"plot_bgcolor\":\"#E5ECF6\",\"polar\":{\"angularaxis\":{\"gridcolor\":\"white\",\"linecolor\":\"white\",\"ticks\":\"\"},\"bgcolor\":\"#E5ECF6\",\"radialaxis\":{\"gridcolor\":\"white\",\"linecolor\":\"white\",\"ticks\":\"\"}},\"scene\":{\"xaxis\":{\"backgroundcolor\":\"#E5ECF6\",\"gridcolor\":\"white\",\"gridwidth\":2,\"linecolor\":\"white\",\"showbackground\":true,\"ticks\":\"\",\"zerolinecolor\":\"white\"},\"yaxis\":{\"backgroundcolor\":\"#E5ECF6\",\"gridcolor\":\"white\",\"gridwidth\":2,\"linecolor\":\"white\",\"showbackground\":true,\"ticks\":\"\",\"zerolinecolor\":\"white\"},\"zaxis\":{\"backgroundcolor\":\"#E5ECF6\",\"gridcolor\":\"white\",\"gridwidth\":2,\"linecolor\":\"white\",\"showbackground\":true,\"ticks\":\"\",\"zerolinecolor\":\"white\"}},\"shapedefaults\":{\"line\":{\"color\":\"#2a3f5f\"}},\"ternary\":{\"aaxis\":{\"gridcolor\":\"white\",\"linecolor\":\"white\",\"ticks\":\"\"},\"baxis\":{\"gridcolor\":\"white\",\"linecolor\":\"white\",\"ticks\":\"\"},\"bgcolor\":\"#E5ECF6\",\"caxis\":{\"gridcolor\":\"white\",\"linecolor\":\"white\",\"ticks\":\"\"}},\"title\":{\"x\":0.05},\"xaxis\":{\"automargin\":true,\"gridcolor\":\"white\",\"linecolor\":\"white\",\"ticks\":\"\",\"title\":{\"standoff\":15},\"zerolinecolor\":\"white\",\"zerolinewidth\":2},\"yaxis\":{\"automargin\":true,\"gridcolor\":\"white\",\"linecolor\":\"white\",\"ticks\":\"\",\"title\":{\"standoff\":15},\"zerolinecolor\":\"white\",\"zerolinewidth\":2}}},\"xaxis\":{\"anchor\":\"y\",\"domain\":[0.0,1.0],\"title\":{\"text\":\"count\"}},\"yaxis\":{\"anchor\":\"x\",\"domain\":[0.0,1.0],\"title\":{\"text\":\"Common_words\"},\"categoryorder\":\"array\",\"categoryarray\":[\"sa\",\"higher\",\"gain\",\"beat\",\"si\",\"report\",\"earnings\",\"share\",\"stock\",\"pre\"]},\"legend\":{\"title\":{\"text\":\"Common_words\"},\"tracegroupgap\":0},\"title\":{\"text\":\"Common Words in Label19\"},\"barmode\":\"relative\"},                        {\"responsive\": true}                    ).then(function(){\n",
              "                            \n",
              "var gd = document.getElementById('289da4cf-34e7-438d-9351-49b18d710537');\n",
              "var x = new MutationObserver(function (mutations, observer) {{\n",
              "        var display = window.getComputedStyle(gd).display;\n",
              "        if (!display || display === 'none') {{\n",
              "            console.log([gd, 'removed!']);\n",
              "            Plotly.purge(gd);\n",
              "            observer.disconnect();\n",
              "        }}\n",
              "}});\n",
              "\n",
              "// Listen for the removal of the full notebook cells\n",
              "var notebookContainer = gd.closest('#notebook-container');\n",
              "if (notebookContainer) {{\n",
              "    x.observe(notebookContainer, {childList: true});\n",
              "}}\n",
              "\n",
              "// Listen for the clearing of the current output cell\n",
              "var outputEl = gd.closest('.output');\n",
              "if (outputEl) {{\n",
              "    x.observe(outputEl, {childList: true});\n",
              "}}\n",
              "\n",
              "                        })                };                            </script>        </div>\n",
              "</body>\n",
              "</html>"
            ]
          },
          "metadata": {},
          "output_type": "display_data"
        }
      ],
      "source": [
        "\n",
        "for i in range(20):\n",
        "  label0=df[df['label']==i]\n",
        "  label0['lab'] = label0['text'].apply(lambda x:str(x).split())\n",
        "  top = Counter([item for sublist in label0['lab'] for item in sublist])\n",
        "  temp = pd.DataFrame(top.most_common(10))\n",
        "  temp.columns = ['Common_words','count']\n",
        "  fig = px.bar(temp,x=\"count\",y=\"Common_words\",title=\"Common Words in Label\"+str(i),color='Common_words')\n",
        "  \n",
        "  fig.show()"
      ]
    },
    {
      "cell_type": "markdown",
      "metadata": {
        "id": "kDDrdsKZ0pxQ"
      },
      "source": [
        "From the above graphs it is clear that:\n",
        "\n",
        "*   Most of the twitter financial news revolves around Companies and their new products followed by general stock discussion. This shows that people are not afraid to voice their opinions regarding stocks and trading views.\n",
        "\n",
        "*  People are also attentive to macro economics like inflation affecting their daily needs. \n",
        "\n",
        "\n",
        "*   We can also sense market shifts when policy changes are introduced by world leaders, such as the President and Prime Minister\n",
        "*  People often discuss the earnings of the company, quarter results,etc.\n",
        "\n",
        "\n",
        "\n"
      ]
    },
    {
      "cell_type": "markdown",
      "metadata": {
        "id": "KX5UqPjgv53w"
      },
      "source": [
        "**Wordcloud for all the words after cleaning the dataset:**"
      ]
    },
    {
      "cell_type": "code",
      "execution_count": null,
      "metadata": {
        "colab": {
          "base_uri": "https://localhost:8080/",
          "height": 198
        },
        "id": "av8Wl5wUubiW",
        "outputId": "b0de5fc9-a374-4559-d328-501397bef894"
      },
      "outputs": [
        {
          "data": {
            "image/png": "[encoded data removed]",
            "text/plain": [
              "<Figure size 432x288 with 1 Axes>"
            ]
          },
          "metadata": {},
          "output_type": "display_data"
        }
      ],
      "source": [
        "# Create stopword list:\n",
        "stpwords = set(stopwords.words('english'))\n",
        "\n",
        "# Generate a word cloud image\n",
        "wordcloud = WordCloud(stopwords=stpwords).generate(text)\n",
        "\n",
        "# Display the generated image:\n",
        "# the matplotlib way:\n",
        "plt.imshow(wordcloud, interpolation='bilinear')\n",
        "plt.axis(\"off\")\n",
        "plt.show()"
      ]
    },
    {
      "cell_type": "markdown",
      "metadata": {
        "id": "Xwmywj3MwGjw"
      },
      "source": [
        "### **CountVectorizer**"
      ]
    },
    {
      "cell_type": "code",
      "execution_count": null,
      "metadata": {
        "id": "ppXf0u3MONeY"
      },
      "outputs": [],
      "source": [
        "from sklearn.feature_extraction.text import CountVectorizer"
      ]
    },
    {
      "cell_type": "code",
      "execution_count": null,
      "metadata": {
        "colab": {
          "base_uri": "https://localhost:8080/"
        },
        "id": "l3eXmB1w-S1F",
        "outputId": "4051b08a-781d-4334-eaf2-c8093ad8b481"
      },
      "outputs": [
        {
          "data": {
            "text/plain": [
              "<16990x21152 sparse matrix of type '<class 'numpy.int64'>'\n",
              "\twith 189753 stored elements in Compressed Sparse Row format>"
            ]
          },
          "execution_count": 28,
          "metadata": {},
          "output_type": "execute_result"
        }
      ],
      "source": [
        "cv=CountVectorizer()\n",
        "X_cv=cv.fit_transform(df['text'])\n",
        "X_cv"
      ]
    },
    {
      "cell_type": "code",
      "execution_count": null,
      "metadata": {
        "colab": {
          "base_uri": "https://localhost:8080/"
        },
        "id": "XO6-_ONqBBb0",
        "outputId": "b2c6af46-3df4-40d5-d597-c2ff4a44bfc8"
      },
      "outputs": [
        {
          "data": {
            "text/plain": [
              "(16990, 21152)"
            ]
          },
          "execution_count": 29,
          "metadata": {},
          "output_type": "execute_result"
        }
      ],
      "source": [
        "X_cv.shape"
      ]
    },
    {
      "cell_type": "code",
      "execution_count": null,
      "metadata": {
        "colab": {
          "base_uri": "https://localhost:8080/"
        },
        "id": "HiZZye-f6cAz",
        "outputId": "eb24444d-4b87-4682-d2a7-d26775d5e562"
      },
      "outputs": [
        {
          "data": {
            "text/plain": [
              "0        0\n",
              "1        0\n",
              "2        0\n",
              "3        0\n",
              "4        0\n",
              "        ..\n",
              "16985    3\n",
              "16986    3\n",
              "16987    3\n",
              "16988    3\n",
              "16989    3\n",
              "Name: label, Length: 16990, dtype: int64"
            ]
          },
          "execution_count": 30,
          "metadata": {},
          "output_type": "execute_result"
        }
      ],
      "source": [
        "y = df[\"label\"]\n",
        "y"
      ]
    },
    {
      "cell_type": "markdown",
      "metadata": {
        "id": "cGdjnGasz1fc"
      },
      "source": [
        "### **TF-IDF**"
      ]
    },
    {
      "cell_type": "code",
      "execution_count": null,
      "metadata": {
        "id": "vVx_xYEVz5MT"
      },
      "outputs": [],
      "source": [
        "from sklearn.feature_extraction.text import TfidfTransformer, TfidfVectorizer"
      ]
    },
    {
      "cell_type": "code",
      "execution_count": null,
      "metadata": {
        "id": "ZGvgsgfSMCHA"
      },
      "outputs": [],
      "source": [
        "def vectorize(data,tfidf_vect_fit):\n",
        "    X_tfidf = tfidf_vect_fit.transform(data)\n",
        "    words = tfidf_vect_fit.get_feature_names_out()\n",
        "    X_tfidf_df = pd.DataFrame(X_tfidf.toarray())\n",
        "    X_tfidf_df.columns = words\n",
        "    return(X_tfidf_df)"
      ]
    },
    {
      "cell_type": "code",
      "execution_count": null,
      "metadata": {
        "colab": {
          "base_uri": "https://localhost:8080/",
          "height": 424
        },
        "id": "y1Duoy3dQetU",
        "outputId": "3046fc60-ceb8-4221-85de-d7172afe2cfa"
      },
      "outputs": [
        {
          "data": {
            "text/html": [
              "\n",
              "  <div id=\"df-b1d2199b-cdd0-4ae5-980f-b458c876db10\">\n",
              "    <div class=\"colab-df-container\">\n",
              "      <div>\n",
              "<style scoped>\n",
              "    .dataframe tbody tr th:only-of-type {\n",
              "        vertical-align: middle;\n",
              "    }\n",
              "\n",
              "    .dataframe tbody tr th {\n",
              "        vertical-align: top;\n",
              "    }\n",
              "\n",
              "    .dataframe thead th {\n",
              "        text-align: right;\n",
              "    }\n",
              "</style>\n",
              "<table border=\"1\" class=\"dataframe\">\n",
              "  <thead>\n",
              "    <tr style=\"text-align: right;\">\n",
              "      <th></th>\n",
              "      <th>aa</th>\n",
              "      <th>aad</th>\n",
              "      <th>aaic</th>\n",
              "      <th>aaii</th>\n",
              "      <th>aal</th>\n",
              "      <th>aalberts</th>\n",
              "      <th>aalbf</th>\n",
              "      <th>aam</th>\n",
              "      <th>aampp</th>\n",
              "      <th>aapl</th>\n",
              "      <th>...</th>\n",
              "      <th>zvia</th>\n",
              "      <th>zyme</th>\n",
              "      <th>zymeworks</th>\n",
              "      <th>zyne</th>\n",
              "      <th>zynerba</th>\n",
              "      <th>zynlonta</th>\n",
              "      <th>zynx</th>\n",
              "      <th>zyus</th>\n",
              "      <th>zyversa</th>\n",
              "      <th>åkerström</th>\n",
              "    </tr>\n",
              "  </thead>\n",
              "  <tbody>\n",
              "    <tr>\n",
              "      <th>0</th>\n",
              "      <td>0.0</td>\n",
              "      <td>0.0</td>\n",
              "      <td>0.0</td>\n",
              "      <td>0.0</td>\n",
              "      <td>0.0</td>\n",
              "      <td>0.0</td>\n",
              "      <td>0.0</td>\n",
              "      <td>0.0</td>\n",
              "      <td>0.0</td>\n",
              "      <td>0.0</td>\n",
              "      <td>...</td>\n",
              "      <td>0.0</td>\n",
              "      <td>0.0</td>\n",
              "      <td>0.0</td>\n",
              "      <td>0.0</td>\n",
              "      <td>0.0</td>\n",
              "      <td>0.0</td>\n",
              "      <td>0.0</td>\n",
              "      <td>0.0</td>\n",
              "      <td>0.0</td>\n",
              "      <td>0.0</td>\n",
              "    </tr>\n",
              "    <tr>\n",
              "      <th>1</th>\n",
              "      <td>0.0</td>\n",
              "      <td>0.0</td>\n",
              "      <td>0.0</td>\n",
              "      <td>0.0</td>\n",
              "      <td>0.0</td>\n",
              "      <td>0.0</td>\n",
              "      <td>0.0</td>\n",
              "      <td>0.0</td>\n",
              "      <td>0.0</td>\n",
              "      <td>0.0</td>\n",
              "      <td>...</td>\n",
              "      <td>0.0</td>\n",
              "      <td>0.0</td>\n",
              "      <td>0.0</td>\n",
              "      <td>0.0</td>\n",
              "      <td>0.0</td>\n",
              "      <td>0.0</td>\n",
              "      <td>0.0</td>\n",
              "      <td>0.0</td>\n",
              "      <td>0.0</td>\n",
              "      <td>0.0</td>\n",
              "    </tr>\n",
              "    <tr>\n",
              "      <th>2</th>\n",
              "      <td>0.0</td>\n",
              "      <td>0.0</td>\n",
              "      <td>0.0</td>\n",
              "      <td>0.0</td>\n",
              "      <td>0.0</td>\n",
              "      <td>0.0</td>\n",
              "      <td>0.0</td>\n",
              "      <td>0.0</td>\n",
              "      <td>0.0</td>\n",
              "      <td>0.0</td>\n",
              "      <td>...</td>\n",
              "      <td>0.0</td>\n",
              "      <td>0.0</td>\n",
              "      <td>0.0</td>\n",
              "      <td>0.0</td>\n",
              "      <td>0.0</td>\n",
              "      <td>0.0</td>\n",
              "      <td>0.0</td>\n",
              "      <td>0.0</td>\n",
              "      <td>0.0</td>\n",
              "      <td>0.0</td>\n",
              "    </tr>\n",
              "    <tr>\n",
              "      <th>3</th>\n",
              "      <td>0.0</td>\n",
              "      <td>0.0</td>\n",
              "      <td>0.0</td>\n",
              "      <td>0.0</td>\n",
              "      <td>0.0</td>\n",
              "      <td>0.0</td>\n",
              "      <td>0.0</td>\n",
              "      <td>0.0</td>\n",
              "      <td>0.0</td>\n",
              "      <td>0.0</td>\n",
              "      <td>...</td>\n",
              "      <td>0.0</td>\n",
              "      <td>0.0</td>\n",
              "      <td>0.0</td>\n",
              "      <td>0.0</td>\n",
              "      <td>0.0</td>\n",
              "      <td>0.0</td>\n",
              "      <td>0.0</td>\n",
              "      <td>0.0</td>\n",
              "      <td>0.0</td>\n",
              "      <td>0.0</td>\n",
              "    </tr>\n",
              "    <tr>\n",
              "      <th>4</th>\n",
              "      <td>0.0</td>\n",
              "      <td>0.0</td>\n",
              "      <td>0.0</td>\n",
              "      <td>0.0</td>\n",
              "      <td>0.0</td>\n",
              "      <td>0.0</td>\n",
              "      <td>0.0</td>\n",
              "      <td>0.0</td>\n",
              "      <td>0.0</td>\n",
              "      <td>0.0</td>\n",
              "      <td>...</td>\n",
              "      <td>0.0</td>\n",
              "      <td>0.0</td>\n",
              "      <td>0.0</td>\n",
              "      <td>0.0</td>\n",
              "      <td>0.0</td>\n",
              "      <td>0.0</td>\n",
              "      <td>0.0</td>\n",
              "      <td>0.0</td>\n",
              "      <td>0.0</td>\n",
              "      <td>0.0</td>\n",
              "    </tr>\n",
              "    <tr>\n",
              "      <th>...</th>\n",
              "      <td>...</td>\n",
              "      <td>...</td>\n",
              "      <td>...</td>\n",
              "      <td>...</td>\n",
              "      <td>...</td>\n",
              "      <td>...</td>\n",
              "      <td>...</td>\n",
              "      <td>...</td>\n",
              "      <td>...</td>\n",
              "      <td>...</td>\n",
              "      <td>...</td>\n",
              "      <td>...</td>\n",
              "      <td>...</td>\n",
              "      <td>...</td>\n",
              "      <td>...</td>\n",
              "      <td>...</td>\n",
              "      <td>...</td>\n",
              "      <td>...</td>\n",
              "      <td>...</td>\n",
              "      <td>...</td>\n",
              "      <td>...</td>\n",
              "    </tr>\n",
              "    <tr>\n",
              "      <th>16985</th>\n",
              "      <td>0.0</td>\n",
              "      <td>0.0</td>\n",
              "      <td>0.0</td>\n",
              "      <td>0.0</td>\n",
              "      <td>0.0</td>\n",
              "      <td>0.0</td>\n",
              "      <td>0.0</td>\n",
              "      <td>0.0</td>\n",
              "      <td>0.0</td>\n",
              "      <td>0.0</td>\n",
              "      <td>...</td>\n",
              "      <td>0.0</td>\n",
              "      <td>0.0</td>\n",
              "      <td>0.0</td>\n",
              "      <td>0.0</td>\n",
              "      <td>0.0</td>\n",
              "      <td>0.0</td>\n",
              "      <td>0.0</td>\n",
              "      <td>0.0</td>\n",
              "      <td>0.0</td>\n",
              "      <td>0.0</td>\n",
              "    </tr>\n",
              "    <tr>\n",
              "      <th>16986</th>\n",
              "      <td>0.0</td>\n",
              "      <td>0.0</td>\n",
              "      <td>0.0</td>\n",
              "      <td>0.0</td>\n",
              "      <td>0.0</td>\n",
              "      <td>0.0</td>\n",
              "      <td>0.0</td>\n",
              "      <td>0.0</td>\n",
              "      <td>0.0</td>\n",
              "      <td>0.0</td>\n",
              "      <td>...</td>\n",
              "      <td>0.0</td>\n",
              "      <td>0.0</td>\n",
              "      <td>0.0</td>\n",
              "      <td>0.0</td>\n",
              "      <td>0.0</td>\n",
              "      <td>0.0</td>\n",
              "      <td>0.0</td>\n",
              "      <td>0.0</td>\n",
              "      <td>0.0</td>\n",
              "      <td>0.0</td>\n",
              "    </tr>\n",
              "    <tr>\n",
              "      <th>16987</th>\n",
              "      <td>0.0</td>\n",
              "      <td>0.0</td>\n",
              "      <td>0.0</td>\n",
              "      <td>0.0</td>\n",
              "      <td>0.0</td>\n",
              "      <td>0.0</td>\n",
              "      <td>0.0</td>\n",
              "      <td>0.0</td>\n",
              "      <td>0.0</td>\n",
              "      <td>0.0</td>\n",
              "      <td>...</td>\n",
              "      <td>0.0</td>\n",
              "      <td>0.0</td>\n",
              "      <td>0.0</td>\n",
              "      <td>0.0</td>\n",
              "      <td>0.0</td>\n",
              "      <td>0.0</td>\n",
              "      <td>0.0</td>\n",
              "      <td>0.0</td>\n",
              "      <td>0.0</td>\n",
              "      <td>0.0</td>\n",
              "    </tr>\n",
              "    <tr>\n",
              "      <th>16988</th>\n",
              "      <td>0.0</td>\n",
              "      <td>0.0</td>\n",
              "      <td>0.0</td>\n",
              "      <td>0.0</td>\n",
              "      <td>0.0</td>\n",
              "      <td>0.0</td>\n",
              "      <td>0.0</td>\n",
              "      <td>0.0</td>\n",
              "      <td>0.0</td>\n",
              "      <td>0.0</td>\n",
              "      <td>...</td>\n",
              "      <td>0.0</td>\n",
              "      <td>0.0</td>\n",
              "      <td>0.0</td>\n",
              "      <td>0.0</td>\n",
              "      <td>0.0</td>\n",
              "      <td>0.0</td>\n",
              "      <td>0.0</td>\n",
              "      <td>0.0</td>\n",
              "      <td>0.0</td>\n",
              "      <td>0.0</td>\n",
              "    </tr>\n",
              "    <tr>\n",
              "      <th>16989</th>\n",
              "      <td>0.0</td>\n",
              "      <td>0.0</td>\n",
              "      <td>0.0</td>\n",
              "      <td>0.0</td>\n",
              "      <td>0.0</td>\n",
              "      <td>0.0</td>\n",
              "      <td>0.0</td>\n",
              "      <td>0.0</td>\n",
              "      <td>0.0</td>\n",
              "      <td>0.0</td>\n",
              "      <td>...</td>\n",
              "      <td>0.0</td>\n",
              "      <td>0.0</td>\n",
              "      <td>0.0</td>\n",
              "      <td>0.0</td>\n",
              "      <td>0.0</td>\n",
              "      <td>0.0</td>\n",
              "      <td>0.0</td>\n",
              "      <td>0.0</td>\n",
              "      <td>0.0</td>\n",
              "      <td>0.0</td>\n",
              "    </tr>\n",
              "  </tbody>\n",
              "</table>\n",
              "<p>16990 rows × 21152 columns</p>\n",
              "</div>\n",
              "      <button class=\"colab-df-convert\" onclick=\"convertToInteractive('df-b1d2199b-cdd0-4ae5-980f-b458c876db10')\"\n",
              "              title=\"Convert this dataframe to an interactive table.\"\n",
              "              style=\"display:none;\">\n",
              "        \n",
              "  <svg xmlns=\"http://www.w3.org/2000/svg\" height=\"24px\"viewBox=\"0 0 24 24\"\n",
              "       width=\"24px\">\n",
              "    <path d=\"M0 0h24v24H0V0z\" fill=\"none\"/>\n",
              "    <path d=\"M18.56 5.44l.94 2.06.94-2.06 2.06-.94-2.06-.94-.94-2.06-.94 2.06-2.06.94zm-11 1L8.5 8.5l.94-2.06 2.06-.94-2.06-.94L8.5 2.5l-.94 2.06-2.06.94zm10 10l.94 2.06.94-2.06 2.06-.94-2.06-.94-.94-2.06-.94 2.06-2.06.94z\"/><path d=\"M17.41 7.96l-1.37-1.37c-.4-.4-.92-.59-1.43-.59-.52 0-1.04.2-1.43.59L10.3 9.45l-7.72 7.72c-.78.78-.78 2.05 0 2.83L4 21.41c.39.39.9.59 1.41.59.51 0 1.02-.2 1.41-.59l7.78-7.78 2.81-2.81c.8-.78.8-2.07 0-2.86zM5.41 20L4 18.59l7.72-7.72 1.47 1.35L5.41 20z\"/>\n",
              "  </svg>\n",
              "      </button>\n",
              "      \n",
              "  <style>\n",
              "    .colab-df-container {\n",
              "      display:flex;\n",
              "      flex-wrap:wrap;\n",
              "      gap: 12px;\n",
              "    }\n",
              "\n",
              "    .colab-df-convert {\n",
              "      background-color: #E8F0FE;\n",
              "      border: none;\n",
              "      border-radius: 50%;\n",
              "      cursor: pointer;\n",
              "      display: none;\n",
              "      fill: #1967D2;\n",
              "      height: 32px;\n",
              "      padding: 0 0 0 0;\n",
              "      width: 32px;\n",
              "    }\n",
              "\n",
              "    .colab-df-convert:hover {\n",
              "      background-color: #E2EBFA;\n",
              "      box-shadow: 0px 1px 2px rgba(60, 64, 67, 0.3), 0px 1px 3px 1px rgba(60, 64, 67, 0.15);\n",
              "      fill: #174EA6;\n",
              "    }\n",
              "\n",
              "    [theme=dark] .colab-df-convert {\n",
              "      background-color: #3B4455;\n",
              "      fill: #D2E3FC;\n",
              "    }\n",
              "\n",
              "    [theme=dark] .colab-df-convert:hover {\n",
              "      background-color: #434B5C;\n",
              "      box-shadow: 0px 1px 3px 1px rgba(0, 0, 0, 0.15);\n",
              "      filter: drop-shadow(0px 1px 2px rgba(0, 0, 0, 0.3));\n",
              "      fill: #FFFFFF;\n",
              "    }\n",
              "  </style>\n",
              "\n",
              "      <script>\n",
              "        const buttonEl =\n",
              "          document.querySelector('#df-b1d2199b-cdd0-4ae5-980f-b458c876db10 button.colab-df-convert');\n",
              "        buttonEl.style.display =\n",
              "          google.colab.kernel.accessAllowed ? 'block' : 'none';\n",
              "\n",
              "        async function convertToInteractive(key) {\n",
              "          const element = document.querySelector('#df-b1d2199b-cdd0-4ae5-980f-b458c876db10');\n",
              "          const dataTable =\n",
              "            await google.colab.kernel.invokeFunction('convertToInteractive',\n",
              "                                                     [key], {});\n",
              "          if (!dataTable) return;\n",
              "\n",
              "          const docLinkHtml = 'Like what you see? Visit the ' +\n",
              "            '<a target=\"_blank\" href=https://colab.research.google.com/notebooks/data_table.ipynb>data table notebook</a>'\n",
              "            + ' to learn more about interactive tables.';\n",
              "          element.innerHTML = '';\n",
              "          dataTable['output_type'] = 'display_data';\n",
              "          await google.colab.output.renderOutput(dataTable, element);\n",
              "          const docLink = document.createElement('div');\n",
              "          docLink.innerHTML = docLinkHtml;\n",
              "          element.appendChild(docLink);\n",
              "        }\n",
              "      </script>\n",
              "    </div>\n",
              "  </div>\n",
              "  "
            ],
            "text/plain": [
              "        aa  aad  aaic  aaii  aal  aalberts  aalbf  aam  aampp  aapl  ...  \\\n",
              "0      0.0  0.0   0.0   0.0  0.0       0.0    0.0  0.0    0.0   0.0  ...   \n",
              "1      0.0  0.0   0.0   0.0  0.0       0.0    0.0  0.0    0.0   0.0  ...   \n",
              "2      0.0  0.0   0.0   0.0  0.0       0.0    0.0  0.0    0.0   0.0  ...   \n",
              "3      0.0  0.0   0.0   0.0  0.0       0.0    0.0  0.0    0.0   0.0  ...   \n",
              "4      0.0  0.0   0.0   0.0  0.0       0.0    0.0  0.0    0.0   0.0  ...   \n",
              "...    ...  ...   ...   ...  ...       ...    ...  ...    ...   ...  ...   \n",
              "16985  0.0  0.0   0.0   0.0  0.0       0.0    0.0  0.0    0.0   0.0  ...   \n",
              "16986  0.0  0.0   0.0   0.0  0.0       0.0    0.0  0.0    0.0   0.0  ...   \n",
              "16987  0.0  0.0   0.0   0.0  0.0       0.0    0.0  0.0    0.0   0.0  ...   \n",
              "16988  0.0  0.0   0.0   0.0  0.0       0.0    0.0  0.0    0.0   0.0  ...   \n",
              "16989  0.0  0.0   0.0   0.0  0.0       0.0    0.0  0.0    0.0   0.0  ...   \n",
              "\n",
              "       zvia  zyme  zymeworks  zyne  zynerba  zynlonta  zynx  zyus  zyversa  \\\n",
              "0       0.0   0.0        0.0   0.0      0.0       0.0   0.0   0.0      0.0   \n",
              "1       0.0   0.0        0.0   0.0      0.0       0.0   0.0   0.0      0.0   \n",
              "2       0.0   0.0        0.0   0.0      0.0       0.0   0.0   0.0      0.0   \n",
              "3       0.0   0.0        0.0   0.0      0.0       0.0   0.0   0.0      0.0   \n",
              "4       0.0   0.0        0.0   0.0      0.0       0.0   0.0   0.0      0.0   \n",
              "...     ...   ...        ...   ...      ...       ...   ...   ...      ...   \n",
              "16985   0.0   0.0        0.0   0.0      0.0       0.0   0.0   0.0      0.0   \n",
              "16986   0.0   0.0        0.0   0.0      0.0       0.0   0.0   0.0      0.0   \n",
              "16987   0.0   0.0        0.0   0.0      0.0       0.0   0.0   0.0      0.0   \n",
              "16988   0.0   0.0        0.0   0.0      0.0       0.0   0.0   0.0      0.0   \n",
              "16989   0.0   0.0        0.0   0.0      0.0       0.0   0.0   0.0      0.0   \n",
              "\n",
              "       åkerström  \n",
              "0            0.0  \n",
              "1            0.0  \n",
              "2            0.0  \n",
              "3            0.0  \n",
              "4            0.0  \n",
              "...          ...  \n",
              "16985        0.0  \n",
              "16986        0.0  \n",
              "16987        0.0  \n",
              "16988        0.0  \n",
              "16989        0.0  \n",
              "\n",
              "[16990 rows x 21152 columns]"
            ]
          },
          "execution_count": 33,
          "metadata": {},
          "output_type": "execute_result"
        }
      ],
      "source": [
        "X_tfidf = df['text']\n",
        "tfidf_vect = TfidfVectorizer()\n",
        "tfidf_vect_fit=tfidf_vect.fit(X_tfidf)\n",
        "X_tfidf=vectorize(X_tfidf,tfidf_vect_fit)\n",
        "X_tfidf"
      ]
    },
    {
      "cell_type": "markdown",
      "metadata": {
        "id": "qhoVP8q51PJT"
      },
      "source": [
        "## **Train-test split**\n",
        "\n",
        "---\n",
        "\n"
      ]
    },
    {
      "cell_type": "code",
      "execution_count": null,
      "metadata": {
        "id": "qji7d7Tw1cc7"
      },
      "outputs": [],
      "source": [
        "from sklearn.model_selection import train_test_split"
      ]
    },
    {
      "cell_type": "markdown",
      "metadata": {
        "id": "MFus9zIH1qve"
      },
      "source": [
        "### **Train-test split for CountVectorizer**\n",
        "\n"
      ]
    },
    {
      "cell_type": "code",
      "execution_count": null,
      "metadata": {
        "id": "scj1Zf7c81dA"
      },
      "outputs": [],
      "source": [
        "X,y = X_cv,df['label']\n",
        "X_train_cv, X_test_cv, y_train_cv, y_test_cv = train_test_split(X, y, test_size=0.3, random_state=42)"
      ]
    },
    {
      "cell_type": "markdown",
      "metadata": {
        "id": "mdNkJOol19By"
      },
      "source": [
        "### **Train-test split for TF-IDF**"
      ]
    },
    {
      "cell_type": "code",
      "execution_count": null,
      "metadata": {
        "id": "lTWZjg-A2NBT"
      },
      "outputs": [],
      "source": [
        "X,y = X_tfidf,df['label']\n",
        "X_train_tfidf, X_test_tfidf, y_train_tfidf, y_test_tfidf = train_test_split(X, y, test_size=0.3, random_state=42)"
      ]
    },
    {
      "cell_type": "markdown",
      "metadata": {
        "id": "4Qh8WD1ZS9vR"
      },
      "source": [
        "## **Fitting Models**\n",
        "---\n",
        "\n"
      ]
    },
    {
      "cell_type": "markdown",
      "metadata": {
        "id": "eHeVMXHs2Y7e"
      },
      "source": [
        "### **Random Forest Classifier**"
      ]
    },
    {
      "cell_type": "code",
      "execution_count": null,
      "metadata": {
        "id": "4M4rBG9Z-LBR"
      },
      "outputs": [],
      "source": [
        "from sklearn.ensemble import RandomForestClassifier\n",
        "from sklearn.metrics import accuracy_score, confusion_matrix, classification_report\n",
        "from sklearn.model_selection import RandomizedSearchCV, train_test_split\n",
        "from scipy.stats import randint"
      ]
    },
    {
      "cell_type": "markdown",
      "metadata": {
        "id": "zcFdqFs4RpgG"
      },
      "source": [
        "**Random Forest on training data that has been vectorized using CountVectorizer**"
      ]
    },
    {
      "cell_type": "code",
      "execution_count": null,
      "metadata": {
        "colab": {
          "base_uri": "https://localhost:8080/",
          "height": 75
        },
        "id": "MwP9Da24-bPg",
        "outputId": "05189a6c-45b8-4616-e6d2-04a36743449e"
      },
      "outputs": [
        {
          "data": {
            "text/html": [
              "<style>#sk-container-id-1 {color: black;background-color: white;}#sk-container-id-1 pre{padding: 0;}#sk-container-id-1 div.sk-toggleable {background-color: white;}#sk-container-id-1 label.sk-toggleable__label {cursor: pointer;display: block;width: 100%;margin-bottom: 0;padding: 0.3em;box-sizing: border-box;text-align: center;}#sk-container-id-1 label.sk-toggleable__label-arrow:before {content: \"▸\";float: left;margin-right: 0.25em;color: #696969;}#sk-container-id-1 label.sk-toggleable__label-arrow:hover:before {color: black;}#sk-container-id-1 div.sk-estimator:hover label.sk-toggleable__label-arrow:before {color: black;}#sk-container-id-1 div.sk-toggleable__content {max-height: 0;max-width: 0;overflow: hidden;text-align: left;background-color: #f0f8ff;}#sk-container-id-1 div.sk-toggleable__content pre {margin: 0.2em;color: black;border-radius: 0.25em;background-color: #f0f8ff;}#sk-container-id-1 input.sk-toggleable__control:checked~div.sk-toggleable__content {max-height: 200px;max-width: 100%;overflow: auto;}#sk-container-id-1 input.sk-toggleable__control:checked~label.sk-toggleable__label-arrow:before {content: \"▾\";}#sk-container-id-1 div.sk-estimator input.sk-toggleable__control:checked~label.sk-toggleable__label {background-color: #d4ebff;}#sk-container-id-1 div.sk-label input.sk-toggleable__control:checked~label.sk-toggleable__label {background-color: #d4ebff;}#sk-container-id-1 input.sk-hidden--visually {border: 0;clip: rect(1px 1px 1px 1px);clip: rect(1px, 1px, 1px, 1px);height: 1px;margin: -1px;overflow: hidden;padding: 0;position: absolute;width: 1px;}#sk-container-id-1 div.sk-estimator {font-family: monospace;background-color: #f0f8ff;border: 1px dotted black;border-radius: 0.25em;box-sizing: border-box;margin-bottom: 0.5em;}#sk-container-id-1 div.sk-estimator:hover {background-color: #d4ebff;}#sk-container-id-1 div.sk-parallel-item::after {content: \"\";width: 100%;border-bottom: 1px solid gray;flex-grow: 1;}#sk-container-id-1 div.sk-label:hover label.sk-toggleable__label {background-color: #d4ebff;}#sk-container-id-1 div.sk-serial::before {content: \"\";position: absolute;border-left: 1px solid gray;box-sizing: border-box;top: 0;bottom: 0;left: 50%;z-index: 0;}#sk-container-id-1 div.sk-serial {display: flex;flex-direction: column;align-items: center;background-color: white;padding-right: 0.2em;padding-left: 0.2em;position: relative;}#sk-container-id-1 div.sk-item {position: relative;z-index: 1;}#sk-container-id-1 div.sk-parallel {display: flex;align-items: stretch;justify-content: center;background-color: white;position: relative;}#sk-container-id-1 div.sk-item::before, #sk-container-id-1 div.sk-parallel-item::before {content: \"\";position: absolute;border-left: 1px solid gray;box-sizing: border-box;top: 0;bottom: 0;left: 50%;z-index: -1;}#sk-container-id-1 div.sk-parallel-item {display: flex;flex-direction: column;z-index: 1;position: relative;background-color: white;}#sk-container-id-1 div.sk-parallel-item:first-child::after {align-self: flex-end;width: 50%;}#sk-container-id-1 div.sk-parallel-item:last-child::after {align-self: flex-start;width: 50%;}#sk-container-id-1 div.sk-parallel-item:only-child::after {width: 0;}#sk-container-id-1 div.sk-dashed-wrapped {border: 1px dashed gray;margin: 0 0.4em 0.5em 0.4em;box-sizing: border-box;padding-bottom: 0.4em;background-color: white;}#sk-container-id-1 div.sk-label label {font-family: monospace;font-weight: bold;display: inline-block;line-height: 1.2em;}#sk-container-id-1 div.sk-label-container {text-align: center;}#sk-container-id-1 div.sk-container {/* jupyter's `normalize.less` sets `[hidden] { display: none; }` but bootstrap.min.css set `[hidden] { display: none !important; }` so we also need the `!important` here to be able to override the default hidden behavior on the sphinx rendered scikit-learn.org. See: https://github.com/scikit-learn/scikit-learn/issues/21755 */display: inline-block !important;position: relative;}#sk-container-id-1 div.sk-text-repr-fallback {display: none;}</style><div id=\"sk-container-id-1\" class=\"sk-top-container\"><div class=\"sk-text-repr-fallback\"><pre>RandomForestClassifier()</pre><b>In a Jupyter environment, please rerun this cell to show the HTML representation or trust the notebook. <br />On GitHub, the HTML representation is unable to render, please try loading this page with nbviewer.org.</b></div><div class=\"sk-container\" hidden><div class=\"sk-item\"><div class=\"sk-estimator sk-toggleable\"><input class=\"sk-toggleable__control sk-hidden--visually\" id=\"sk-estimator-id-1\" type=\"checkbox\" checked><label for=\"sk-estimator-id-1\" class=\"sk-toggleable__label sk-toggleable__label-arrow\">RandomForestClassifier</label><div class=\"sk-toggleable__content\"><pre>RandomForestClassifier()</pre></div></div></div></div></div>"
            ],
            "text/plain": [
              "RandomForestClassifier()"
            ]
          },
          "execution_count": 38,
          "metadata": {},
          "output_type": "execute_result"
        }
      ],
      "source": [
        "rf = RandomForestClassifier()\n",
        "rf.fit(X_train_cv, y_train_cv)"
      ]
    },
    {
      "cell_type": "code",
      "execution_count": null,
      "metadata": {
        "id": "9YyGq8td-tmX"
      },
      "outputs": [],
      "source": [
        "y_pred_cv = rf.predict(X_test_cv)"
      ]
    },
    {
      "cell_type": "code",
      "execution_count": null,
      "metadata": {
        "colab": {
          "base_uri": "https://localhost:8080/"
        },
        "id": "wpJuN8kK-z7K",
        "outputId": "564c8486-283e-497d-e625-d9d113256def"
      },
      "outputs": [
        {
          "name": "stdout",
          "output_type": "stream",
          "text": [
            "Accuracy: 0.7696684324112223\n",
            "Classification Report:\n",
            "              precision    recall  f1-score   support\n",
            "\n",
            "           0       0.81      0.37      0.50        79\n",
            "           1       0.87      0.83      0.85       266\n",
            "           2       0.75      0.81      0.78      1061\n",
            "           3       0.85      0.62      0.72       103\n",
            "           4       0.95      0.91      0.93       121\n",
            "           5       0.84      0.95      0.89       302\n",
            "           6       0.81      0.81      0.81       150\n",
            "           7       0.87      0.85      0.86       186\n",
            "           8       0.79      0.67      0.73        49\n",
            "           9       0.76      0.56      0.65       474\n",
            "          10       1.00      0.39      0.56        28\n",
            "          11       0.83      0.45      0.59        11\n",
            "          12       0.87      0.66      0.75       139\n",
            "          13       0.85      0.52      0.65       146\n",
            "          14       0.76      0.79      0.78       552\n",
            "          15       0.75      0.71      0.73       134\n",
            "          16       0.85      0.85      0.85       272\n",
            "          17       0.81      0.74      0.78       151\n",
            "          18       0.63      0.92      0.75       623\n",
            "          19       0.83      0.58      0.68       250\n",
            "\n",
            "    accuracy                           0.77      5097\n",
            "   macro avg       0.82      0.70      0.74      5097\n",
            "weighted avg       0.78      0.77      0.77      5097\n",
            "\n"
          ]
        }
      ],
      "source": [
        "cv_rf_train_accuracy = accuracy_score(y_test_cv, y_pred_cv)\n",
        "print(\"Accuracy:\", cv_rf_train_accuracy)\n",
        "print('Classification Report:')\n",
        "print(classification_report(y_test_cv,y_pred_cv))"
      ]
    },
    {
      "cell_type": "markdown",
      "metadata": {
        "id": "UTA_6Z2rl1i7"
      },
      "source": [
        "**Checking performance of RF using CV on Valid_data.csv**"
      ]
    },
    {
      "cell_type": "code",
      "execution_count": null,
      "metadata": {
        "id": "UoYmVBx9l6as"
      },
      "outputs": [],
      "source": [
        "valid_data = pd.read_csv(\"/content/train/valid_data.csv\")"
      ]
    },
    {
      "cell_type": "code",
      "execution_count": null,
      "metadata": {
        "colab": {
          "base_uri": "https://localhost:8080/"
        },
        "id": "3k9Rn_v1mISR",
        "outputId": "9c87fcd5-682f-4b84-c361-54a67e2c02e3"
      },
      "outputs": [
        {
          "data": {
            "text/plain": [
              "0       Analyst call of the day for @CNBCPro subscribe...\n",
              "1       Loop upgrades CSX to buy, says it's a good pla...\n",
              "2       BofA believes we're already in a recession — a...\n",
              "3       JPMorgan sees these derivative plays as best w...\n",
              "4       Morgan Stanley's Huberty sees Apple earnings m...\n",
              "                              ...                        \n",
              "4112    Dollar bonds of Chinese developers fall as str...\n",
              "4113    Longer maturity Treasury yields have scope to ...\n",
              "4114    Pimco buys €1bn of Apollo buyout loans from ba...\n",
              "4115    Analysis: Banks' snubbing of junk-rated loan f...\n",
              "4116    U.S. Treasury seeks information on digital ass...\n",
              "Name: text, Length: 4117, dtype: object"
            ]
          },
          "execution_count": 42,
          "metadata": {},
          "output_type": "execute_result"
        }
      ],
      "source": [
        "X_validation_data = valid_data['text']\n",
        "X_validation_data"
      ]
    },
    {
      "cell_type": "code",
      "execution_count": null,
      "metadata": {
        "colab": {
          "base_uri": "https://localhost:8080/"
        },
        "id": "5U1DN4HQmYNE",
        "outputId": "d8845fcf-caa2-4149-feb1-1ef2fc39276e"
      },
      "outputs": [
        {
          "data": {
            "text/plain": [
              "0       0\n",
              "1       0\n",
              "2       0\n",
              "3       0\n",
              "4       0\n",
              "       ..\n",
              "4112    3\n",
              "4113    3\n",
              "4114    3\n",
              "4115    3\n",
              "4116    3\n",
              "Name: label, Length: 4117, dtype: int64"
            ]
          },
          "execution_count": 43,
          "metadata": {},
          "output_type": "execute_result"
        }
      ],
      "source": [
        "Y_validation_data = valid_data['label']\n",
        "Y_validation_data"
      ]
    },
    {
      "cell_type": "code",
      "execution_count": null,
      "metadata": {
        "colab": {
          "base_uri": "https://localhost:8080/"
        },
        "id": "MSdOL9itmgGN",
        "outputId": "d9f85032-2574-4f30-a16a-96b375f65185"
      },
      "outputs": [
        {
          "data": {
            "text/plain": [
              "0       analyst call day cnbcpro subscriber goldman sa...\n",
              "1       loop upgrade csx buy say good place park money...\n",
              "2       bofa belief already recession — say stock take...\n",
              "3       jpmorgan see derivative play best way bet elec...\n",
              "4       morgan stanley huberty see apple earnings miss...\n",
              "                              ...                        \n",
              "4112    dollar bond chinese developer fall stress spre...\n",
              "4113    longer maturity treasury yield scope go higher...\n",
              "4114                pimco buy € apollo buyout loan bank  \n",
              "4115    analysis bank snubbing junkrated loan fund wor...\n",
              "4116    u treasury seek information digital asset risk...\n",
              "Name: text, Length: 4117, dtype: object"
            ]
          },
          "execution_count": 44,
          "metadata": {},
          "output_type": "execute_result"
        }
      ],
      "source": [
        "X_validation_data = X_validation_data.apply(clean)\n",
        "X_validation_data"
      ]
    },
    {
      "cell_type": "code",
      "execution_count": null,
      "metadata": {
        "colab": {
          "base_uri": "https://localhost:8080/",
          "height": 215
        },
        "id": "_aVf889z6JjD",
        "outputId": "b83ea946-5c9d-4dbc-aaa8-afc169384e56"
      },
      "outputs": [
        {
          "name": "stdout",
          "output_type": "stream",
          "text": [
            "1461631 words remain after cleaning the dataset\n"
          ]
        },
        {
          "data": {
            "image/png": "[encoded data removed]",
            "text/plain": [
              "<Figure size 432x288 with 1 Axes>"
            ]
          },
          "metadata": {},
          "output_type": "display_data"
        }
      ],
      "source": [
        "text_valid_data = \" \".join(txt for txt in X_validation_data)\n",
        "print (\"{} words remain after cleaning the dataset\".format(len(text)))\n",
        "wordcloud_valid_data = WordCloud(stopwords=stpwords).generate(text_valid_data)\n",
        "\n",
        "# Display the generated image:\n",
        "# the matplotlib way:\n",
        "plt.imshow(wordcloud_valid_data, interpolation='bilinear')\n",
        "plt.axis(\"off\")\n",
        "plt.show()"
      ]
    },
    {
      "cell_type": "code",
      "execution_count": null,
      "metadata": {
        "colab": {
          "base_uri": "https://localhost:8080/"
        },
        "id": "sjq5RgqSnKfw",
        "outputId": "4fe99553-757b-4c40-8388-5c5ec931057f"
      },
      "outputs": [
        {
          "data": {
            "text/plain": [
              "<4117x21152 sparse matrix of type '<class 'numpy.int64'>'\n",
              "\twith 43931 stored elements in Compressed Sparse Row format>"
            ]
          },
          "execution_count": 46,
          "metadata": {},
          "output_type": "execute_result"
        }
      ],
      "source": [
        "X_validation_data_cv=cv.transform(X_validation_data)\n",
        "X_validation_data_cv"
      ]
    },
    {
      "cell_type": "code",
      "execution_count": null,
      "metadata": {
        "id": "ha-Lxg-en1wx"
      },
      "outputs": [],
      "source": [
        "y_pred_validation_data_cv = rf.predict(X_validation_data_cv)"
      ]
    },
    {
      "cell_type": "code",
      "execution_count": null,
      "metadata": {
        "colab": {
          "base_uri": "https://localhost:8080/"
        },
        "id": "ZZT9FT5tuSNs",
        "outputId": "1fcb2319-2352-4011-ebea-57ad09c14ea2"
      },
      "outputs": [
        {
          "name": "stdout",
          "output_type": "stream",
          "text": [
            "Accuracy: 0.7696684324112223\n",
            "Classification Report:\n",
            "              precision    recall  f1-score   support\n",
            "\n",
            "           0       0.83      0.41      0.55        73\n",
            "           1       0.83      0.79      0.81       214\n",
            "           2       0.74      0.83      0.78       852\n",
            "           3       0.92      0.58      0.71        77\n",
            "           4       0.98      0.94      0.96        97\n",
            "           5       0.81      0.94      0.87       242\n",
            "           6       0.77      0.75      0.76       146\n",
            "           7       0.81      0.75      0.78       160\n",
            "           8       0.80      0.62      0.70        32\n",
            "           9       0.74      0.53      0.62       336\n",
            "          10       0.83      0.38      0.53        13\n",
            "          11       0.90      0.64      0.75        14\n",
            "          12       0.93      0.66      0.77       119\n",
            "          13       0.84      0.46      0.59       116\n",
            "          14       0.74      0.78      0.76       415\n",
            "          15       0.78      0.66      0.72       125\n",
            "          16       0.89      0.84      0.86       249\n",
            "          17       0.78      0.68      0.72       112\n",
            "          18       0.63      0.93      0.75       528\n",
            "          19       0.81      0.53      0.64       197\n",
            "\n",
            "    accuracy                           0.76      4117\n",
            "   macro avg       0.82      0.69      0.73      4117\n",
            "weighted avg       0.77      0.76      0.75      4117\n",
            "\n"
          ]
        }
      ],
      "source": [
        "cv_rf_test_accuracy = accuracy_score(Y_validation_data, y_pred_validation_data_cv)\n",
        "print(\"Accuracy:\", cv_rf_train_accuracy)\n",
        "print('Classification Report:')\n",
        "print(classification_report(Y_validation_data,y_pred_validation_data_cv))"
      ]
    },
    {
      "cell_type": "markdown",
      "metadata": {
        "id": "9yaVOfip6yc5"
      },
      "source": [
        "**Accuracy and performance of RandomForest Classifier on Validation Data(pre-processed using CountVectorizer) can be seen above**"
      ]
    },
    {
      "cell_type": "markdown",
      "metadata": {
        "id": "alA-WRU3SEZC"
      },
      "source": [
        "**Random Forest on training data that has been vectorized using TF-IDF**"
      ]
    },
    {
      "cell_type": "code",
      "execution_count": null,
      "metadata": {
        "colab": {
          "base_uri": "https://localhost:8080/",
          "height": 75
        },
        "id": "teT1i3aNR6yQ",
        "outputId": "408da123-0fbc-46e3-8e34-85326e07ffa7"
      },
      "outputs": [
        {
          "data": {
            "text/html": [
              "<style>#sk-container-id-2 {color: black;background-color: white;}#sk-container-id-2 pre{padding: 0;}#sk-container-id-2 div.sk-toggleable {background-color: white;}#sk-container-id-2 label.sk-toggleable__label {cursor: pointer;display: block;width: 100%;margin-bottom: 0;padding: 0.3em;box-sizing: border-box;text-align: center;}#sk-container-id-2 label.sk-toggleable__label-arrow:before {content: \"▸\";float: left;margin-right: 0.25em;color: #696969;}#sk-container-id-2 label.sk-toggleable__label-arrow:hover:before {color: black;}#sk-container-id-2 div.sk-estimator:hover label.sk-toggleable__label-arrow:before {color: black;}#sk-container-id-2 div.sk-toggleable__content {max-height: 0;max-width: 0;overflow: hidden;text-align: left;background-color: #f0f8ff;}#sk-container-id-2 div.sk-toggleable__content pre {margin: 0.2em;color: black;border-radius: 0.25em;background-color: #f0f8ff;}#sk-container-id-2 input.sk-toggleable__control:checked~div.sk-toggleable__content {max-height: 200px;max-width: 100%;overflow: auto;}#sk-container-id-2 input.sk-toggleable__control:checked~label.sk-toggleable__label-arrow:before {content: \"▾\";}#sk-container-id-2 div.sk-estimator input.sk-toggleable__control:checked~label.sk-toggleable__label {background-color: #d4ebff;}#sk-container-id-2 div.sk-label input.sk-toggleable__control:checked~label.sk-toggleable__label {background-color: #d4ebff;}#sk-container-id-2 input.sk-hidden--visually {border: 0;clip: rect(1px 1px 1px 1px);clip: rect(1px, 1px, 1px, 1px);height: 1px;margin: -1px;overflow: hidden;padding: 0;position: absolute;width: 1px;}#sk-container-id-2 div.sk-estimator {font-family: monospace;background-color: #f0f8ff;border: 1px dotted black;border-radius: 0.25em;box-sizing: border-box;margin-bottom: 0.5em;}#sk-container-id-2 div.sk-estimator:hover {background-color: #d4ebff;}#sk-container-id-2 div.sk-parallel-item::after {content: \"\";width: 100%;border-bottom: 1px solid gray;flex-grow: 1;}#sk-container-id-2 div.sk-label:hover label.sk-toggleable__label {background-color: #d4ebff;}#sk-container-id-2 div.sk-serial::before {content: \"\";position: absolute;border-left: 1px solid gray;box-sizing: border-box;top: 0;bottom: 0;left: 50%;z-index: 0;}#sk-container-id-2 div.sk-serial {display: flex;flex-direction: column;align-items: center;background-color: white;padding-right: 0.2em;padding-left: 0.2em;position: relative;}#sk-container-id-2 div.sk-item {position: relative;z-index: 1;}#sk-container-id-2 div.sk-parallel {display: flex;align-items: stretch;justify-content: center;background-color: white;position: relative;}#sk-container-id-2 div.sk-item::before, #sk-container-id-2 div.sk-parallel-item::before {content: \"\";position: absolute;border-left: 1px solid gray;box-sizing: border-box;top: 0;bottom: 0;left: 50%;z-index: -1;}#sk-container-id-2 div.sk-parallel-item {display: flex;flex-direction: column;z-index: 1;position: relative;background-color: white;}#sk-container-id-2 div.sk-parallel-item:first-child::after {align-self: flex-end;width: 50%;}#sk-container-id-2 div.sk-parallel-item:last-child::after {align-self: flex-start;width: 50%;}#sk-container-id-2 div.sk-parallel-item:only-child::after {width: 0;}#sk-container-id-2 div.sk-dashed-wrapped {border: 1px dashed gray;margin: 0 0.4em 0.5em 0.4em;box-sizing: border-box;padding-bottom: 0.4em;background-color: white;}#sk-container-id-2 div.sk-label label {font-family: monospace;font-weight: bold;display: inline-block;line-height: 1.2em;}#sk-container-id-2 div.sk-label-container {text-align: center;}#sk-container-id-2 div.sk-container {/* jupyter's `normalize.less` sets `[hidden] { display: none; }` but bootstrap.min.css set `[hidden] { display: none !important; }` so we also need the `!important` here to be able to override the default hidden behavior on the sphinx rendered scikit-learn.org. See: https://github.com/scikit-learn/scikit-learn/issues/21755 */display: inline-block !important;position: relative;}#sk-container-id-2 div.sk-text-repr-fallback {display: none;}</style><div id=\"sk-container-id-2\" class=\"sk-top-container\"><div class=\"sk-text-repr-fallback\"><pre>RandomForestClassifier()</pre><b>In a Jupyter environment, please rerun this cell to show the HTML representation or trust the notebook. <br />On GitHub, the HTML representation is unable to render, please try loading this page with nbviewer.org.</b></div><div class=\"sk-container\" hidden><div class=\"sk-item\"><div class=\"sk-estimator sk-toggleable\"><input class=\"sk-toggleable__control sk-hidden--visually\" id=\"sk-estimator-id-2\" type=\"checkbox\" checked><label for=\"sk-estimator-id-2\" class=\"sk-toggleable__label sk-toggleable__label-arrow\">RandomForestClassifier</label><div class=\"sk-toggleable__content\"><pre>RandomForestClassifier()</pre></div></div></div></div></div>"
            ],
            "text/plain": [
              "RandomForestClassifier()"
            ]
          },
          "execution_count": 49,
          "metadata": {},
          "output_type": "execute_result"
        }
      ],
      "source": [
        "rf = RandomForestClassifier()\n",
        "rf.fit(X_train_tfidf, y_train_tfidf)"
      ]
    },
    {
      "cell_type": "code",
      "execution_count": null,
      "metadata": {
        "id": "VDsUXhVpSMYJ"
      },
      "outputs": [],
      "source": [
        "y_pred_tfidf = rf.predict(X_test_tfidf)"
      ]
    },
    {
      "cell_type": "code",
      "execution_count": null,
      "metadata": {
        "colab": {
          "base_uri": "https://localhost:8080/"
        },
        "id": "jkXlMUx-SPSm",
        "outputId": "d41dce09-8a46-48b5-f866-34f7c7154fe8"
      },
      "outputs": [
        {
          "name": "stdout",
          "output_type": "stream",
          "text": [
            "Accuracy: 0.7726113400039238\n",
            "Classification Report:\n",
            "              precision    recall  f1-score   support\n",
            "\n",
            "           0       0.83      0.37      0.51        79\n",
            "           1       0.86      0.83      0.85       266\n",
            "           2       0.72      0.83      0.77      1061\n",
            "           3       0.87      0.66      0.75       103\n",
            "           4       0.96      0.91      0.93       121\n",
            "           5       0.84      0.95      0.90       302\n",
            "           6       0.87      0.79      0.83       150\n",
            "           7       0.91      0.83      0.87       186\n",
            "           8       0.94      0.69      0.80        49\n",
            "           9       0.76      0.57      0.65       474\n",
            "          10       1.00      0.39      0.56        28\n",
            "          11       0.83      0.45      0.59        11\n",
            "          12       0.85      0.70      0.77       139\n",
            "          13       0.87      0.51      0.64       146\n",
            "          14       0.78      0.80      0.79       552\n",
            "          15       0.80      0.68      0.73       134\n",
            "          16       0.84      0.86      0.85       272\n",
            "          17       0.85      0.70      0.77       151\n",
            "          18       0.63      0.91      0.75       623\n",
            "          19       0.82      0.58      0.68       250\n",
            "\n",
            "    accuracy                           0.77      5097\n",
            "   macro avg       0.84      0.70      0.75      5097\n",
            "weighted avg       0.79      0.77      0.77      5097\n",
            "\n"
          ]
        }
      ],
      "source": [
        "tfidf_rf_train_accuracy = accuracy_score(y_test_tfidf, y_pred_tfidf)\n",
        "print(\"Accuracy:\", tfidf_rf_train_accuracy)\n",
        "print('Classification Report:')\n",
        "print(classification_report(y_test_tfidf,y_pred_tfidf))"
      ]
    },
    {
      "cell_type": "code",
      "execution_count": null,
      "metadata": {
        "id": "u6Ddm3nlQy4k"
      },
      "outputs": [],
      "source": [
        "X_validation_data_tfidf = tfidf_vect.transform(X_validation_data)\n",
        "words = tfidf_vect_fit.get_feature_names_out()\n",
        "X_validation_data_tfidf = pd.DataFrame(X_validation_data_tfidf.toarray())\n",
        "X_validation_data_tfidf.columns = words"
      ]
    },
    {
      "cell_type": "code",
      "execution_count": null,
      "metadata": {
        "id": "DBM9WJwo9HWs"
      },
      "outputs": [],
      "source": [
        "y_validation_data_pred_tfidf = rf.predict(X_validation_data_tfidf)"
      ]
    },
    {
      "cell_type": "code",
      "execution_count": null,
      "metadata": {
        "colab": {
          "base_uri": "https://localhost:8080/"
        },
        "id": "HfrT-jWU9cCw",
        "outputId": "47e42b1f-e173-4482-cd64-ec1f7fac8508"
      },
      "outputs": [
        {
          "name": "stdout",
          "output_type": "stream",
          "text": [
            "Accuracy: 0.7651202331794996\n",
            "Classification Report:\n",
            "              precision    recall  f1-score   support\n",
            "\n",
            "           0       0.83      0.34      0.49        73\n",
            "           1       0.81      0.82      0.81       214\n",
            "           2       0.72      0.84      0.77       852\n",
            "           3       0.88      0.60      0.71        77\n",
            "           4       0.98      0.95      0.96        97\n",
            "           5       0.81      0.96      0.88       242\n",
            "           6       0.78      0.75      0.76       146\n",
            "           7       0.86      0.76      0.80       160\n",
            "           8       0.83      0.62      0.71        32\n",
            "           9       0.75      0.57      0.64       336\n",
            "          10       0.83      0.38      0.53        13\n",
            "          11       0.91      0.71      0.80        14\n",
            "          12       0.92      0.68      0.78       119\n",
            "          13       0.89      0.47      0.61       116\n",
            "          14       0.77      0.77      0.77       415\n",
            "          15       0.84      0.60      0.70       125\n",
            "          16       0.88      0.86      0.87       249\n",
            "          17       0.81      0.68      0.74       112\n",
            "          18       0.65      0.92      0.76       528\n",
            "          19       0.84      0.55      0.66       197\n",
            "\n",
            "    accuracy                           0.77      4117\n",
            "   macro avg       0.83      0.69      0.74      4117\n",
            "weighted avg       0.78      0.77      0.76      4117\n",
            "\n"
          ]
        }
      ],
      "source": [
        "tfidf_rf_test_accuracy = accuracy_score(Y_validation_data, y_validation_data_pred_tfidf)\n",
        "print(\"Accuracy:\", tfidf_rf_test_accuracy)\n",
        "print('Classification Report:')\n",
        "print(classification_report(Y_validation_data,y_validation_data_pred_tfidf))"
      ]
    },
    {
      "cell_type": "markdown",
      "metadata": {
        "id": "gcu65ini93BH"
      },
      "source": [
        "**Accuracy and performance of RandomForest Classifier on Validation Data(pre-processed using TF-IDF) can be seen above**"
      ]
    },
    {
      "cell_type": "markdown",
      "metadata": {
        "id": "jPWACK6uTm1q"
      },
      "source": [
        "### **XGBoost**\n",
        "\n",
        "\n"
      ]
    },
    {
      "cell_type": "code",
      "execution_count": null,
      "metadata": {
        "id": "0yc7UyrOTqnp"
      },
      "outputs": [],
      "source": [
        "from xgboost import XGBClassifier"
      ]
    },
    {
      "cell_type": "markdown",
      "metadata": {
        "id": "IU9PknawZdnN"
      },
      "source": [
        "**CountVectorizer**"
      ]
    },
    {
      "cell_type": "code",
      "execution_count": null,
      "metadata": {
        "colab": {
          "base_uri": "https://localhost:8080/"
        },
        "id": "ZU0FBAX9Tyad",
        "outputId": "e5429540-726f-4210-f9af-db138b714309"
      },
      "outputs": [
        {
          "name": "stdout",
          "output_type": "stream",
          "text": [
            "Accuracy:  0.7775161859917599\n",
            "Classification Report:\n",
            "              precision    recall  f1-score   support\n",
            "\n",
            "           0       0.71      0.58      0.64        79\n",
            "           1       0.88      0.86      0.87       266\n",
            "           2       0.66      0.87      0.75      1061\n",
            "           3       0.83      0.70      0.76       103\n",
            "           4       0.96      0.93      0.95       121\n",
            "           5       0.90      0.96      0.93       302\n",
            "           6       0.82      0.85      0.84       150\n",
            "           7       0.87      0.87      0.87       186\n",
            "           8       0.65      0.73      0.69        49\n",
            "           9       0.71      0.54      0.61       474\n",
            "          10       0.80      0.57      0.67        28\n",
            "          11       0.92      1.00      0.96        11\n",
            "          12       0.86      0.73      0.79       139\n",
            "          13       0.81      0.60      0.69       146\n",
            "          14       0.79      0.73      0.76       552\n",
            "          15       0.82      0.69      0.75       134\n",
            "          16       0.88      0.85      0.86       272\n",
            "          17       0.88      0.75      0.81       151\n",
            "          18       0.79      0.79      0.79       623\n",
            "          19       0.80      0.65      0.72       250\n",
            "\n",
            "    accuracy                           0.78      5097\n",
            "   macro avg       0.82      0.76      0.78      5097\n",
            "weighted avg       0.78      0.78      0.78      5097\n",
            "\n"
          ]
        }
      ],
      "source": [
        "model = XGBClassifier()\n",
        "model.fit(X_train_cv, y_train_cv)\n",
        "\n",
        "predictions = model.predict(X_test_cv)\n",
        "cv_xgb_train_accuracy = accuracy_score(y_test_cv, predictions)\n",
        "print('Accuracy: ', cv_xgb_train_accuracy)\n",
        "print('Classification Report:')\n",
        "print(classification_report(y_test_cv,predictions))"
      ]
    },
    {
      "cell_type": "code",
      "execution_count": null,
      "metadata": {
        "id": "m5xRhaDv_i49"
      },
      "outputs": [],
      "source": [
        "y_pred_validation_data_cv = model.predict(X_validation_data_cv)"
      ]
    },
    {
      "cell_type": "code",
      "execution_count": null,
      "metadata": {
        "colab": {
          "base_uri": "https://localhost:8080/"
        },
        "id": "flVzjXeP_qLo",
        "outputId": "e05e84b1-4f57-412b-d836-cfcdb098bfbf"
      },
      "outputs": [
        {
          "name": "stdout",
          "output_type": "stream",
          "text": [
            "Accuracy:  0.7694923487976683\n",
            "Classification Report:\n",
            "              precision    recall  f1-score   support\n",
            "\n",
            "           0       0.73      0.49      0.59        73\n",
            "           1       0.82      0.80      0.81       214\n",
            "           2       0.66      0.87      0.75       852\n",
            "           3       0.87      0.71      0.79        77\n",
            "           4       0.94      0.99      0.96        97\n",
            "           5       0.89      0.95      0.92       242\n",
            "           6       0.79      0.82      0.80       146\n",
            "           7       0.84      0.81      0.83       160\n",
            "           8       0.76      0.81      0.79        32\n",
            "           9       0.66      0.54      0.59       336\n",
            "          10       0.80      0.62      0.70        13\n",
            "          11       0.82      1.00      0.90        14\n",
            "          12       0.91      0.74      0.81       119\n",
            "          13       0.79      0.55      0.65       116\n",
            "          14       0.79      0.73      0.76       415\n",
            "          15       0.81      0.70      0.75       125\n",
            "          16       0.90      0.81      0.85       249\n",
            "          17       0.88      0.71      0.79       112\n",
            "          18       0.78      0.80      0.79       528\n",
            "          19       0.80      0.60      0.69       197\n",
            "\n",
            "    accuracy                           0.77      4117\n",
            "   macro avg       0.81      0.75      0.78      4117\n",
            "weighted avg       0.78      0.77      0.77      4117\n",
            "\n"
          ]
        }
      ],
      "source": [
        "cv_xgb_test_accuracy = accuracy_score(Y_validation_data, y_pred_validation_data_cv)\n",
        "print('Accuracy: ', cv_xgb_test_accuracy)\n",
        "print('Classification Report:')\n",
        "print(classification_report(Y_validation_data,y_pred_validation_data_cv))"
      ]
    },
    {
      "cell_type": "markdown",
      "metadata": {
        "id": "1V14V3xLZvU_"
      },
      "source": [
        "**TF-IDF**"
      ]
    },
    {
      "cell_type": "code",
      "execution_count": null,
      "metadata": {
        "colab": {
          "background_save": true
        },
        "id": "lmv9cje_ZtmI",
        "outputId": "2ed1afb3-caa1-4ee2-9033-63f37ae52b01"
      },
      "outputs": [
        {
          "name": "stdout",
          "output_type": "stream",
          "text": [
            "Accuracy:  0.7675103001765744\n",
            "Classification Report:\n",
            "              precision    recall  f1-score   support\n",
            "\n",
            "           0       0.65      0.52      0.58        79\n",
            "           1       0.85      0.85      0.85       266\n",
            "           2       0.65      0.88      0.74      1061\n",
            "           3       0.80      0.73      0.76       103\n",
            "           4       0.97      0.93      0.95       121\n",
            "           5       0.89      0.94      0.92       302\n",
            "           6       0.83      0.80      0.82       150\n",
            "           7       0.88      0.87      0.87       186\n",
            "           8       0.71      0.71      0.71        49\n",
            "           9       0.70      0.54      0.61       474\n",
            "          10       0.77      0.61      0.68        28\n",
            "          11       0.90      0.82      0.86        11\n",
            "          12       0.87      0.75      0.80       139\n",
            "          13       0.81      0.55      0.65       146\n",
            "          14       0.79      0.73      0.76       552\n",
            "          15       0.77      0.68      0.72       134\n",
            "          16       0.88      0.83      0.86       272\n",
            "          17       0.89      0.70      0.79       151\n",
            "          18       0.80      0.77      0.79       623\n",
            "          19       0.75      0.62      0.68       250\n",
            "\n",
            "    accuracy                           0.77      5097\n",
            "   macro avg       0.81      0.74      0.77      5097\n",
            "weighted avg       0.78      0.77      0.77      5097\n",
            "\n"
          ]
        }
      ],
      "source": [
        "model = XGBClassifier()\n",
        "model.fit(X_train_tfidf, y_train_tfidf)\n",
        "\n",
        "predictions = model.predict(X_test_tfidf)\n",
        "tfidf_xgb_train_accuracy = accuracy_score(y_test_tfidf, predictions)\n",
        "print('Accuracy: ', tfidf_xgb_train_accuracy)\n",
        "print('Classification Report:')\n",
        "print(classification_report(y_test_tfidf,predictions))"
      ]
    },
    {
      "cell_type": "code",
      "execution_count": null,
      "metadata": {
        "colab": {
          "background_save": true
        },
        "id": "kiKjCZgaANqa"
      },
      "outputs": [],
      "source": [
        "y_pred_validation_data_tfidf = model.predict(X_validation_data_tfidf)"
      ]
    },
    {
      "cell_type": "code",
      "execution_count": null,
      "metadata": {
        "colab": {
          "background_save": true
        },
        "id": "7HBvosMNAVgJ",
        "outputId": "bca81775-e0fc-4467-d3de-a8b909142812"
      },
      "outputs": [
        {
          "name": "stdout",
          "output_type": "stream",
          "text": [
            "Accuracy: 0.7694923487976683\n",
            "Classification Report:\n",
            "              precision    recall  f1-score   support\n",
            "\n",
            "           0       0.75      0.53      0.62        73\n",
            "           1       0.82      0.83      0.82       214\n",
            "           2       0.64      0.87      0.74       852\n",
            "           3       0.92      0.71      0.80        77\n",
            "           4       0.93      0.95      0.94        97\n",
            "           5       0.90      0.94      0.92       242\n",
            "           6       0.79      0.76      0.78       146\n",
            "           7       0.80      0.79      0.80       160\n",
            "           8       0.77      0.72      0.74        32\n",
            "           9       0.68      0.54      0.60       336\n",
            "          10       0.55      0.46      0.50        13\n",
            "          11       0.87      0.93      0.90        14\n",
            "          12       0.88      0.72      0.79       119\n",
            "          13       0.81      0.54      0.65       116\n",
            "          14       0.78      0.73      0.75       415\n",
            "          15       0.71      0.64      0.68       125\n",
            "          16       0.89      0.81      0.85       249\n",
            "          17       0.88      0.72      0.79       112\n",
            "          18       0.78      0.77      0.78       528\n",
            "          19       0.81      0.57      0.67       197\n",
            "\n",
            "    accuracy                           0.76      4117\n",
            "   macro avg       0.80      0.73      0.76      4117\n",
            "weighted avg       0.77      0.76      0.76      4117\n",
            "\n"
          ]
        }
      ],
      "source": [
        "tfidf_xgb_test_accuracy = accuracy_score(Y_validation_data, y_pred_validation_data_cv)\n",
        "print(\"Accuracy:\", tfidf_xgb_test_accuracy)\n",
        "print('Classification Report:')\n",
        "print(classification_report(Y_validation_data,y_pred_validation_data_tfidf))"
      ]
    },
    {
      "cell_type": "markdown",
      "metadata": {
        "id": "qvpAMcEkC-o5"
      },
      "source": [
        "**Model results summary**"
      ]
    },
    {
      "cell_type": "code",
      "execution_count": null,
      "metadata": {
        "colab": {
          "background_save": true
        },
        "id": "n-shVubaDHlk",
        "outputId": "a56d6380-1974-4e60-bec5-adbda74b3cb2"
      },
      "outputs": [
        {
          "ename": "OptionError",
          "evalue": "ignored",
          "output_type": "error",
          "traceback": [
            "\u001b[0;31m---------------------------------------------------------------------------\u001b[0m",
            "\u001b[0;31mOptionError\u001b[0m                               Traceback (most recent call last)",
            "\u001b[0;32m<ipython-input-62-30f89b181f8b>\u001b[0m in \u001b[0;36m<module>\u001b[0;34m\u001b[0m\n\u001b[1;32m     12\u001b[0m })\n\u001b[1;32m     13\u001b[0m \u001b[0;34m\u001b[0m\u001b[0m\n\u001b[0;32m---> 14\u001b[0;31m \u001b[0mpd\u001b[0m\u001b[0;34m.\u001b[0m\u001b[0mset_option\u001b[0m\u001b[0;34m(\u001b[0m\u001b[0;34m'precision'\u001b[0m\u001b[0;34m,\u001b[0m\u001b[0;36m3\u001b[0m\u001b[0;34m)\u001b[0m\u001b[0;34m\u001b[0m\u001b[0;34m\u001b[0m\u001b[0m\n\u001b[0m\u001b[1;32m     15\u001b[0m \u001b[0mmodels\u001b[0m\u001b[0;34m.\u001b[0m\u001b[0msort_values\u001b[0m\u001b[0;34m(\u001b[0m\u001b[0mby\u001b[0m\u001b[0;34m=\u001b[0m\u001b[0;34m'Model Accuracy Score'\u001b[0m\u001b[0;34m,\u001b[0m \u001b[0mascending\u001b[0m\u001b[0;34m=\u001b[0m\u001b[0;32mFalse\u001b[0m\u001b[0;34m)\u001b[0m\u001b[0;34m\u001b[0m\u001b[0;34m\u001b[0m\u001b[0m\n",
            "\u001b[0;32m/usr/local/lib/python3.9/dist-packages/pandas/_config/config.py\u001b[0m in \u001b[0;36m__call__\u001b[0;34m(self, *args, **kwds)\u001b[0m\n\u001b[1;32m    254\u001b[0m \u001b[0;34m\u001b[0m\u001b[0m\n\u001b[1;32m    255\u001b[0m     \u001b[0;32mdef\u001b[0m \u001b[0m__call__\u001b[0m\u001b[0;34m(\u001b[0m\u001b[0mself\u001b[0m\u001b[0;34m,\u001b[0m \u001b[0;34m*\u001b[0m\u001b[0margs\u001b[0m\u001b[0;34m,\u001b[0m \u001b[0;34m**\u001b[0m\u001b[0mkwds\u001b[0m\u001b[0;34m)\u001b[0m\u001b[0;34m:\u001b[0m\u001b[0;34m\u001b[0m\u001b[0;34m\u001b[0m\u001b[0m\n\u001b[0;32m--> 256\u001b[0;31m         \u001b[0;32mreturn\u001b[0m \u001b[0mself\u001b[0m\u001b[0;34m.\u001b[0m\u001b[0m__func__\u001b[0m\u001b[0;34m(\u001b[0m\u001b[0;34m*\u001b[0m\u001b[0margs\u001b[0m\u001b[0;34m,\u001b[0m \u001b[0;34m**\u001b[0m\u001b[0mkwds\u001b[0m\u001b[0;34m)\u001b[0m\u001b[0;34m\u001b[0m\u001b[0;34m\u001b[0m\u001b[0m\n\u001b[0m\u001b[1;32m    257\u001b[0m \u001b[0;34m\u001b[0m\u001b[0m\n\u001b[1;32m    258\u001b[0m     \u001b[0;34m@\u001b[0m\u001b[0mproperty\u001b[0m\u001b[0;34m\u001b[0m\u001b[0;34m\u001b[0m\u001b[0m\n",
            "\u001b[0;32m/usr/local/lib/python3.9/dist-packages/pandas/_config/config.py\u001b[0m in \u001b[0;36m_set_option\u001b[0;34m(*args, **kwargs)\u001b[0m\n\u001b[1;32m    147\u001b[0m \u001b[0;34m\u001b[0m\u001b[0m\n\u001b[1;32m    148\u001b[0m     \u001b[0;32mfor\u001b[0m \u001b[0mk\u001b[0m\u001b[0;34m,\u001b[0m \u001b[0mv\u001b[0m \u001b[0;32min\u001b[0m \u001b[0mzip\u001b[0m\u001b[0;34m(\u001b[0m\u001b[0margs\u001b[0m\u001b[0;34m[\u001b[0m\u001b[0;34m:\u001b[0m\u001b[0;34m:\u001b[0m\u001b[0;36m2\u001b[0m\u001b[0;34m]\u001b[0m\u001b[0;34m,\u001b[0m \u001b[0margs\u001b[0m\u001b[0;34m[\u001b[0m\u001b[0;36m1\u001b[0m\u001b[0;34m:\u001b[0m\u001b[0;34m:\u001b[0m\u001b[0;36m2\u001b[0m\u001b[0;34m]\u001b[0m\u001b[0;34m)\u001b[0m\u001b[0;34m:\u001b[0m\u001b[0;34m\u001b[0m\u001b[0;34m\u001b[0m\u001b[0m\n\u001b[0;32m--> 149\u001b[0;31m         \u001b[0mkey\u001b[0m \u001b[0;34m=\u001b[0m \u001b[0m_get_single_key\u001b[0m\u001b[0;34m(\u001b[0m\u001b[0mk\u001b[0m\u001b[0;34m,\u001b[0m \u001b[0msilent\u001b[0m\u001b[0;34m)\u001b[0m\u001b[0;34m\u001b[0m\u001b[0;34m\u001b[0m\u001b[0m\n\u001b[0m\u001b[1;32m    150\u001b[0m \u001b[0;34m\u001b[0m\u001b[0m\n\u001b[1;32m    151\u001b[0m         \u001b[0mo\u001b[0m \u001b[0;34m=\u001b[0m \u001b[0m_get_registered_option\u001b[0m\u001b[0;34m(\u001b[0m\u001b[0mkey\u001b[0m\u001b[0;34m)\u001b[0m\u001b[0;34m\u001b[0m\u001b[0;34m\u001b[0m\u001b[0m\n",
            "\u001b[0;32m/usr/local/lib/python3.9/dist-packages/pandas/_config/config.py\u001b[0m in \u001b[0;36m_get_single_key\u001b[0;34m(pat, silent)\u001b[0m\n\u001b[1;32m    114\u001b[0m         \u001b[0;32mraise\u001b[0m \u001b[0mOptionError\u001b[0m\u001b[0;34m(\u001b[0m\u001b[0;34mf\"No such keys(s): {repr(pat)}\"\u001b[0m\u001b[0;34m)\u001b[0m\u001b[0;34m\u001b[0m\u001b[0;34m\u001b[0m\u001b[0m\n\u001b[1;32m    115\u001b[0m     \u001b[0;32mif\u001b[0m \u001b[0mlen\u001b[0m\u001b[0;34m(\u001b[0m\u001b[0mkeys\u001b[0m\u001b[0;34m)\u001b[0m \u001b[0;34m>\u001b[0m \u001b[0;36m1\u001b[0m\u001b[0;34m:\u001b[0m\u001b[0;34m\u001b[0m\u001b[0;34m\u001b[0m\u001b[0m\n\u001b[0;32m--> 116\u001b[0;31m         \u001b[0;32mraise\u001b[0m \u001b[0mOptionError\u001b[0m\u001b[0;34m(\u001b[0m\u001b[0;34m\"Pattern matched multiple keys\"\u001b[0m\u001b[0;34m)\u001b[0m\u001b[0;34m\u001b[0m\u001b[0;34m\u001b[0m\u001b[0m\n\u001b[0m\u001b[1;32m    117\u001b[0m     \u001b[0mkey\u001b[0m \u001b[0;34m=\u001b[0m \u001b[0mkeys\u001b[0m\u001b[0;34m[\u001b[0m\u001b[0;36m0\u001b[0m\u001b[0;34m]\u001b[0m\u001b[0;34m\u001b[0m\u001b[0;34m\u001b[0m\u001b[0m\n\u001b[1;32m    118\u001b[0m \u001b[0;34m\u001b[0m\u001b[0m\n",
            "\u001b[0;31mOptionError\u001b[0m: 'Pattern matched multiple keys'"
          ]
        }
      ],
      "source": [
        "#conclusion on models\n",
        "models = pd.DataFrame({\n",
        "    'Model': \n",
        "    ['Random Forest for CountVectorizer','Random Forest for Tf-IDF',\n",
        "     'XGBoost for CountVectorizer','XGBoost for TF-IDF'],\n",
        "    \n",
        "    'Training Accuracy':\n",
        "    [cv_rf_train_accuracy, tfidf_rf_train_accuracy, cv_xgb_train_accuracy,tfidf_xgb_train_accuracy],\n",
        "    \n",
        "    'Model Accuracy Score': \n",
        "    [cv_rf_test_accuracy,tfidf_rf_test_accuracy,cv_xgb_test_accuracy, tfidf_xgb_test_accuracy]\n",
        "})\n",
        "\n",
        "pd.set_option('precision',3)\n",
        "models.sort_values(by='Model Accuracy Score', ascending=False)"
      ]
    }
  ],
  "metadata": {
    "colab": {
      "collapsed_sections": [
        "Xwmywj3MwGjw",
        "cGdjnGasz1fc",
        "qhoVP8q51PJT"
      ],
      "machine_shape": "hm",
      "toc_visible": true,
      "provenance": []
    },
    "gpuClass": "standard",
    "kernelspec": {
      "display_name": "Python 3",
      "name": "python3"
    },
    "language_info": {
      "name": "python"
    }
  },
  "nbformat": 4,
  "nbformat_minor": 0
}